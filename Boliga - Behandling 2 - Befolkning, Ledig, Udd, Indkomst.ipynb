{
 "cells": [
  {
   "cell_type": "markdown",
   "metadata": {},
   "source": [
    "# Behandling 2"
   ]
  },
  {
   "cell_type": "code",
   "execution_count": 1,
   "metadata": {},
   "outputs": [
    {
     "name": "stderr",
     "output_type": "stream",
     "text": [
      "/anaconda3/lib/python3.7/site-packages/IPython/core/interactiveshell.py:2728: DtypeWarning: Columns (0) have mixed types. Specify dtype option on import or set low_memory=False.\n",
      "  interactivity=interactivity, compiler=compiler, result=result)\n"
     ]
    }
   ],
   "source": [
    "import pandas as pd\n",
    "\n",
    "pd.options.display.max_columns = 100\n",
    "\n",
    "df = pd.read_csv('Boliga - Behandling 1 - Kom, Reg, Type.csv')\n",
    "\n",
    "df_befolkning = pd.read_csv('DST_Excel/Befolkning pr kommune.csv', sep = ';', encoding='latin-1', skiprows=1)\n",
    "COL = ['Kommune', 'Befolkning']\n",
    "df_befolkning.columns = COL"
   ]
  },
  {
   "cell_type": "code",
   "execution_count": 2,
   "metadata": {},
   "outputs": [],
   "source": [
    "#Merge befolkningsdata onto master\n",
    "df = df.merge(df_befolkning, how='left', left_on=['Kommune'],\n",
    "                           right_on=['Kommune'], validate = 'm:1')\n",
    "\n",
    "df = df[df.Befolkning.isnull() != True]\n"
   ]
  },
  {
   "cell_type": "code",
   "execution_count": 3,
   "metadata": {},
   "outputs": [],
   "source": [
    "#Load Relative unemplyment pr. capita data\n",
    "df_led = pd.read_excel('DST_Excel/Relativ Ledighed og Indbyggertal 30-59år .xlsx',  sep = ';', encoding='latin-1')"
   ]
  },
  {
   "cell_type": "code",
   "execution_count": 4,
   "metadata": {},
   "outputs": [],
   "source": [
    "#Merge unemploymentdata onto master\n",
    "df = df.merge(df_led, how='left', left_on=['Kommune'],\n",
    "                           right_on=['Kommuner'], validate = 'm:1')\n",
    "\n",
    "df = df.drop(columns = ['Kommuner', 'Indbygger'])\n",
    "df = df[df.Ledige.isnull() != True]"
   ]
  },
  {
   "cell_type": "code",
   "execution_count": 5,
   "metadata": {},
   "outputs": [],
   "source": [
    "#Load Relative education pr. capita data\n",
    "df_udd = pd.read_excel('DST_Excel/Relativ Uddannelse og Kommune 30-69år.xlsx',  sep = ';', encoding='latin-1')"
   ]
  },
  {
   "cell_type": "code",
   "execution_count": 6,
   "metadata": {},
   "outputs": [],
   "source": [
    "#Merge education data onto master \n",
    "df = df.merge(df_udd, how='left', left_on=['Kommune'],\n",
    "                           right_on=['Kommuner'], validate = 'm:1')\n",
    "\n",
    "df = df.drop(columns = ['Kommuner'])\n",
    "df = df[df.Grundskole.isnull() != True]\n"
   ]
  },
  {
   "cell_type": "code",
   "execution_count": 7,
   "metadata": {},
   "outputs": [],
   "source": [
    "df_in = pd.read_excel('DST_Excel/Indkomstdata.xlsx')"
   ]
  },
  {
   "cell_type": "code",
   "execution_count": 8,
   "metadata": {},
   "outputs": [],
   "source": [
    "df = df.merge(df_in, how='left', left_on=['Kommune'],\n",
    "                           right_on=['Kommune'], validate = 'm:1')\n",
    "\n"
   ]
  },
  {
   "cell_type": "code",
   "execution_count": 9,
   "metadata": {},
   "outputs": [],
   "source": [
    "df.to_csv('Boliga - Behandling 2, Ledig, Udd, Indbygger, indkomst.csv', index = False)"
   ]
  }
 ],
 "metadata": {
  "kernelspec": {
   "display_name": "Python 3",
   "language": "python",
   "name": "python3"
  },
  "language_info": {
   "codemirror_mode": {
    "name": "ipython",
    "version": 3
   },
   "file_extension": ".py",
   "mimetype": "text/x-python",
   "name": "python",
   "nbconvert_exporter": "python",
   "pygments_lexer": "ipython3",
   "version": "3.7.3"
  }
 },
 "nbformat": 4,
 "nbformat_minor": 2
}
