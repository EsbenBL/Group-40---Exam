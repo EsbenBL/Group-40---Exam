{
 "cells": [
  {
   "cell_type": "markdown",
   "metadata": {},
   "source": [
    "# The Ridge Model"
   ]
  },
  {
   "cell_type": "code",
   "execution_count": 1,
   "metadata": {},
   "outputs": [],
   "source": [
    "from sklearn.linear_model import Lasso, LinearRegression, Ridge, ElasticNet\n",
    "from sklearn.pipeline import make_pipeline\n",
    "from sklearn.preprocessing import StandardScaler, PolynomialFeatures\n",
    "from sklearn.datasets import fetch_california_housing\n",
    "from sklearn.metrics import mean_squared_error as mse\n",
    "from sklearn.metrics import mean_absolute_error as mae\n",
    "from sklearn.model_selection import train_test_split\n",
    "import statsmodels.api as sm\n",
    "import tqdm\n",
    "from math import sqrt\n",
    "\n",
    "import warnings\n",
    "from sklearn.exceptions import ConvergenceWarning\n",
    "warnings.filterwarnings(action='ignore', category=ConvergenceWarning)\n",
    "\n",
    "\n",
    "import matplotlib.pyplot as plt\n",
    "import numpy as np \n",
    "import pandas as pd \n",
    "import seaborn as sns\n",
    "\n",
    "df = pd.read_csv('Boliga - Final for training.csv')\n",
    "df = df.drop(columns = ['Kommune', 'lotSize', 'Relativ Ledighed', 'Total_reported',\n",
    "                        'Socioeconomic_index', 'expenses_per_school_student',\n",
    "                       'expenses_sport_and_other_cultural_activities', 'forest_distance',\n",
    "                       'coast_distance', 'isForeclosure', 'Ejerudgift','buildYear'])\n",
    "\n",
    "#df_sample = df.sample(500)\n",
    "pd.options.display.max_columns = None"
   ]
  },
  {
   "cell_type": "markdown",
   "metadata": {},
   "source": [
    "### Create dummies, and split X and Y"
   ]
  },
  {
   "cell_type": "code",
   "execution_count": 2,
   "metadata": {},
   "outputs": [],
   "source": [
    "df_dum = pd.get_dummies(df, drop_first = True, columns = ['Type'])\n",
    "X = df_dum.drop(columns = ['price'])\n",
    "y = df_dum['price']"
   ]
  },
  {
   "cell_type": "markdown",
   "metadata": {},
   "source": [
    "### Split into test, dev data"
   ]
  },
  {
   "cell_type": "code",
   "execution_count": 3,
   "metadata": {},
   "outputs": [],
   "source": [
    "from sklearn.model_selection import train_test_split\n",
    "\n",
    "X_dev, X_test, y_dev, y_test = train_test_split(X, y, test_size = 0.2, random_state = 1)"
   ]
  },
  {
   "cell_type": "markdown",
   "metadata": {},
   "source": [
    "## Train Lasso Regression (K-fold CV)\n",
    "\n",
    "Now we want to examine whether the a Lasso regression is more appropriate, and seeks to optimize the hyperparameter.\n",
    "We will train for an optimized hyperparameter on the validation set, to avoid data leakage and use k-fold crossvalidation to make sure that we have not split our dataset in a lucky or unlucky place. "
   ]
  },
  {
   "cell_type": "code",
   "execution_count": 4,
   "metadata": {},
   "outputs": [
    {
     "name": "stderr",
     "output_type": "stream",
     "text": [
      "100%|██████████| 15/15 [00:41<00:00,  2.72s/it]\n"
     ]
    }
   ],
   "source": [
    "from sklearn.model_selection import KFold\n",
    "\n",
    "#Split data into 5 folds\n",
    "kfolds = KFold(n_splits=5)\n",
    "folds = list(kfolds.split(X_dev, y_dev))\n",
    "\n",
    "#Create Lambda values\n",
    "lambdas = np.logspace(-1, 7, 15)\n",
    "# outer loop: lambdas\n",
    "mseCV = []\n",
    "\n",
    "for lambda_ in tqdm.tqdm(lambdas):    \n",
    "    # inner loop: folds\n",
    "    mseCV_ = []\n",
    "\n",
    "    for train_idx, val_idx in folds:        \n",
    "        # train model and compute MSE on test fold\n",
    "        pipe_ridgeCV = make_pipeline(PolynomialFeatures(degree=3, include_bias=False),\n",
    "                                     StandardScaler(),\n",
    "                                     Ridge(alpha=lambda_, random_state=1))            \n",
    "        X_train, y_train = X_dev.iloc[train_idx], y_dev.iloc[train_idx]\n",
    "        X_val, y_val = X_dev.iloc[val_idx], y_dev.iloc[val_idx] \n",
    "        pipe_ridgeCV.fit(X_train, y_train)        \n",
    "        mseCV_.append(mse(pipe_ridgeCV.predict(X_val), y_val))\n",
    "\n",
    "        \n",
    "    # store result    \n",
    "    mseCV.append(mseCV_) \n",
    "    \n",
    "# convert to DataFrame\n",
    "lambda_mseCV_ridge = pd.DataFrame(mseCV, index=lambdas)"
   ]
  },
  {
   "cell_type": "markdown",
   "metadata": {},
   "source": [
    "### MSE of the K-fold Crossvalidation - Ridge\n",
    "\n",
    "Lambda as index"
   ]
  },
  {
   "cell_type": "code",
   "execution_count": 5,
   "metadata": {},
   "outputs": [
    {
     "data": {
      "text/html": [
       "<div>\n",
       "<style scoped>\n",
       "    .dataframe tbody tr th:only-of-type {\n",
       "        vertical-align: middle;\n",
       "    }\n",
       "\n",
       "    .dataframe tbody tr th {\n",
       "        vertical-align: top;\n",
       "    }\n",
       "\n",
       "    .dataframe thead th {\n",
       "        text-align: right;\n",
       "    }\n",
       "</style>\n",
       "<table border=\"1\" class=\"dataframe\">\n",
       "  <thead>\n",
       "    <tr style=\"text-align: right;\">\n",
       "      <th></th>\n",
       "      <th>0</th>\n",
       "      <th>1</th>\n",
       "      <th>2</th>\n",
       "      <th>3</th>\n",
       "      <th>4</th>\n",
       "    </tr>\n",
       "  </thead>\n",
       "  <tbody>\n",
       "    <tr>\n",
       "      <th>1.000000e-01</th>\n",
       "      <td>9.815004e+10</td>\n",
       "      <td>1.462698e+12</td>\n",
       "      <td>1.087966e+12</td>\n",
       "      <td>1.748782e+11</td>\n",
       "      <td>1.628737e+11</td>\n",
       "    </tr>\n",
       "    <tr>\n",
       "      <th>3.727594e-01</th>\n",
       "      <td>1.005825e+11</td>\n",
       "      <td>1.415288e+12</td>\n",
       "      <td>1.026318e+12</td>\n",
       "      <td>1.694559e+11</td>\n",
       "      <td>1.588067e+11</td>\n",
       "    </tr>\n",
       "    <tr>\n",
       "      <th>1.389495e+00</th>\n",
       "      <td>1.071333e+11</td>\n",
       "      <td>1.271600e+12</td>\n",
       "      <td>9.011244e+11</td>\n",
       "      <td>1.541876e+11</td>\n",
       "      <td>1.489621e+11</td>\n",
       "    </tr>\n",
       "    <tr>\n",
       "      <th>5.179475e+00</th>\n",
       "      <td>1.168962e+11</td>\n",
       "      <td>9.703935e+11</td>\n",
       "      <td>7.115112e+11</td>\n",
       "      <td>1.297134e+11</td>\n",
       "      <td>1.311132e+11</td>\n",
       "    </tr>\n",
       "    <tr>\n",
       "      <th>1.930698e+01</th>\n",
       "      <td>1.246510e+11</td>\n",
       "      <td>6.566475e+11</td>\n",
       "      <td>6.368405e+11</td>\n",
       "      <td>1.170335e+11</td>\n",
       "      <td>1.095564e+11</td>\n",
       "    </tr>\n",
       "    <tr>\n",
       "      <th>7.196857e+01</th>\n",
       "      <td>1.365569e+11</td>\n",
       "      <td>5.066332e+11</td>\n",
       "      <td>9.995469e+11</td>\n",
       "      <td>1.529889e+11</td>\n",
       "      <td>9.552088e+10</td>\n",
       "    </tr>\n",
       "    <tr>\n",
       "      <th>2.682696e+02</th>\n",
       "      <td>1.697272e+11</td>\n",
       "      <td>4.528093e+11</td>\n",
       "      <td>1.065785e+12</td>\n",
       "      <td>2.225033e+11</td>\n",
       "      <td>1.220466e+11</td>\n",
       "    </tr>\n",
       "    <tr>\n",
       "      <th>1.000000e+03</th>\n",
       "      <td>2.503780e+11</td>\n",
       "      <td>4.485622e+11</td>\n",
       "      <td>4.635901e+11</td>\n",
       "      <td>2.504544e+11</td>\n",
       "      <td>2.393623e+11</td>\n",
       "    </tr>\n",
       "    <tr>\n",
       "      <th>3.727594e+03</th>\n",
       "      <td>3.811871e+11</td>\n",
       "      <td>5.184418e+11</td>\n",
       "      <td>2.902566e+11</td>\n",
       "      <td>2.844741e+11</td>\n",
       "      <td>4.731430e+11</td>\n",
       "    </tr>\n",
       "    <tr>\n",
       "      <th>1.389495e+04</th>\n",
       "      <td>4.909315e+11</td>\n",
       "      <td>7.189632e+11</td>\n",
       "      <td>8.328964e+11</td>\n",
       "      <td>4.918615e+11</td>\n",
       "      <td>8.170213e+11</td>\n",
       "    </tr>\n",
       "    <tr>\n",
       "      <th>5.179475e+04</th>\n",
       "      <td>7.194109e+11</td>\n",
       "      <td>1.141818e+12</td>\n",
       "      <td>1.380519e+12</td>\n",
       "      <td>1.083895e+12</td>\n",
       "      <td>1.299227e+12</td>\n",
       "    </tr>\n",
       "    <tr>\n",
       "      <th>1.930698e+05</th>\n",
       "      <td>1.268009e+12</td>\n",
       "      <td>1.755817e+12</td>\n",
       "      <td>1.481494e+12</td>\n",
       "      <td>1.353892e+12</td>\n",
       "      <td>1.966165e+12</td>\n",
       "    </tr>\n",
       "    <tr>\n",
       "      <th>7.196857e+05</th>\n",
       "      <td>1.907166e+12</td>\n",
       "      <td>2.305683e+12</td>\n",
       "      <td>1.821751e+12</td>\n",
       "      <td>1.903892e+12</td>\n",
       "      <td>2.599017e+12</td>\n",
       "    </tr>\n",
       "    <tr>\n",
       "      <th>2.682696e+06</th>\n",
       "      <td>2.264089e+12</td>\n",
       "      <td>2.591037e+12</td>\n",
       "      <td>2.131076e+12</td>\n",
       "      <td>2.548458e+12</td>\n",
       "      <td>2.941596e+12</td>\n",
       "    </tr>\n",
       "    <tr>\n",
       "      <th>1.000000e+07</th>\n",
       "      <td>2.390417e+12</td>\n",
       "      <td>2.691509e+12</td>\n",
       "      <td>2.260226e+12</td>\n",
       "      <td>2.828640e+12</td>\n",
       "      <td>3.063744e+12</td>\n",
       "    </tr>\n",
       "  </tbody>\n",
       "</table>\n",
       "</div>"
      ],
      "text/plain": [
       "                         0             1             2             3  \\\n",
       "1.000000e-01  9.815004e+10  1.462698e+12  1.087966e+12  1.748782e+11   \n",
       "3.727594e-01  1.005825e+11  1.415288e+12  1.026318e+12  1.694559e+11   \n",
       "1.389495e+00  1.071333e+11  1.271600e+12  9.011244e+11  1.541876e+11   \n",
       "5.179475e+00  1.168962e+11  9.703935e+11  7.115112e+11  1.297134e+11   \n",
       "1.930698e+01  1.246510e+11  6.566475e+11  6.368405e+11  1.170335e+11   \n",
       "7.196857e+01  1.365569e+11  5.066332e+11  9.995469e+11  1.529889e+11   \n",
       "2.682696e+02  1.697272e+11  4.528093e+11  1.065785e+12  2.225033e+11   \n",
       "1.000000e+03  2.503780e+11  4.485622e+11  4.635901e+11  2.504544e+11   \n",
       "3.727594e+03  3.811871e+11  5.184418e+11  2.902566e+11  2.844741e+11   \n",
       "1.389495e+04  4.909315e+11  7.189632e+11  8.328964e+11  4.918615e+11   \n",
       "5.179475e+04  7.194109e+11  1.141818e+12  1.380519e+12  1.083895e+12   \n",
       "1.930698e+05  1.268009e+12  1.755817e+12  1.481494e+12  1.353892e+12   \n",
       "7.196857e+05  1.907166e+12  2.305683e+12  1.821751e+12  1.903892e+12   \n",
       "2.682696e+06  2.264089e+12  2.591037e+12  2.131076e+12  2.548458e+12   \n",
       "1.000000e+07  2.390417e+12  2.691509e+12  2.260226e+12  2.828640e+12   \n",
       "\n",
       "                         4  \n",
       "1.000000e-01  1.628737e+11  \n",
       "3.727594e-01  1.588067e+11  \n",
       "1.389495e+00  1.489621e+11  \n",
       "5.179475e+00  1.311132e+11  \n",
       "1.930698e+01  1.095564e+11  \n",
       "7.196857e+01  9.552088e+10  \n",
       "2.682696e+02  1.220466e+11  \n",
       "1.000000e+03  2.393623e+11  \n",
       "3.727594e+03  4.731430e+11  \n",
       "1.389495e+04  8.170213e+11  \n",
       "5.179475e+04  1.299227e+12  \n",
       "1.930698e+05  1.966165e+12  \n",
       "7.196857e+05  2.599017e+12  \n",
       "2.682696e+06  2.941596e+12  \n",
       "1.000000e+07  3.063744e+12  "
      ]
     },
     "execution_count": 5,
     "metadata": {},
     "output_type": "execute_result"
    }
   ],
   "source": [
    "lambda_mseCV_ridge"
   ]
  },
  {
   "cell_type": "markdown",
   "metadata": {},
   "source": [
    "###  Mean MSE of K-fold CV - Ridge"
   ]
  },
  {
   "cell_type": "code",
   "execution_count": 6,
   "metadata": {},
   "outputs": [],
   "source": [
    "# Calculates the mean of the folds\n",
    "mse_mean_ridge = lambda_mseCV_ridge.mean(axis = 1)"
   ]
  },
  {
   "cell_type": "markdown",
   "metadata": {},
   "source": [
    "### Plot Average MSE over Lambda - Ridge"
   ]
  },
  {
   "cell_type": "code",
   "execution_count": 7,
   "metadata": {},
   "outputs": [
    {
     "data": {
      "text/plain": [
       "[Text(0, 0.5, 'MSE'), Text(0.5, 0, 'Lambda')]"
      ]
     },
     "execution_count": 7,
     "metadata": {},
     "output_type": "execute_result"
    },
    {
     "data": {
      "image/png": "[encoded data removed]",
      "text/plain": [
       "<Figure size 432x288 with 1 Axes>"
      ]
     },
     "metadata": {
      "needs_background": "light"
     },
     "output_type": "display_data"
    }
   ],
   "source": [
    "#Plot mean square errors\n",
    "COL = ['Average MSE']\n",
    "mse_mean_ridge.columns = COL\n",
    "\n",
    "#Both axis are logarythmical \n",
    "ax = mse_mean_ridge.plot(logx = True, logy = True)\n",
    "ax.set(xlabel = 'Lambda', ylabel = 'MSE')\n"
   ]
  },
  {
   "cell_type": "markdown",
   "metadata": {},
   "source": [
    "### Finding the optimal hyperparameter for Lasso\n",
    "\n",
    "Where was the mean mse smallest?"
   ]
  },
  {
   "cell_type": "code",
   "execution_count": 8,
   "metadata": {},
   "outputs": [
    {
     "data": {
      "text/plain": [
       "19.306977    3.289458e+11\n",
       "dtype: float64"
      ]
     },
     "execution_count": 8,
     "metadata": {},
     "output_type": "execute_result"
    }
   ],
   "source": [
    "mse_mean_ridge.nsmallest(1)"
   ]
  },
  {
   "cell_type": "code",
   "execution_count": 9,
   "metadata": {},
   "outputs": [
    {
     "name": "stdout",
     "output_type": "stream",
     "text": [
      "MSE: Ridge CV 2426701069197.38\n",
      "RMSE: Ridge CV 1557787.23\n",
      "MAE: Ridge CV 360453.31\n"
     ]
    }
   ],
   "source": [
    "# Optimal lambda is inserted into the Lasso-model\n",
    "optimal_lambda_ridge = lambda_mseCV_ridge.mean(axis=1).nsmallest(1)\n",
    "\n",
    "# retrain/re-estimate model using optimal hyperparameters\n",
    "pipe_ridgeCV = make_pipeline(PolynomialFeatures(degree = 3, include_bias=False), \n",
    "                             StandardScaler(),\n",
    "                             Ridge(alpha=optimal_lambda_ridge.index[0], random_state=1))\n",
    "pipe_ridgeCV.fit(X_dev,y_dev)\n",
    "\n",
    "# compare performance by mse\n",
    "models = {'Ridge CV': pipe_ridgeCV}\n",
    "for name, model in models.items():\n",
    "    score_mse = mse(model.predict(X_test),y_test)\n",
    "    score_mae = mae(model.predict(X_test),y_test)\n",
    "    score_rmse = sqrt(mse(model.predict(X_test),y_test))\n",
    "    \n",
    "    print(\"MSE: \" + name, round(score_mse, 2))\n",
    "    print(\"RMSE: \" + name, round(score_rmse, 2))\n",
    "    print(\"MAE: \" + name, round(score_mae, 2))"
   ]
  },
  {
   "cell_type": "markdown",
   "metadata": {},
   "source": [
    "# Learning Curve of Ridge regression:\n",
    "\n",
    "Since the Lasso regression performed best, we will examine it's performance on out-of-sample data a bit further. "
   ]
  },
  {
   "cell_type": "code",
   "execution_count": 10,
   "metadata": {},
   "outputs": [
    {
     "name": "stdout",
     "output_type": "stream",
     "text": [
      "                    Train          Test\n",
      "sample size                            \n",
      "64           8.541972e+08  1.402962e+13\n",
      "80           1.003555e+09  1.050873e+13\n",
      "96           1.140036e+09  6.073045e+11\n"
     ]
    }
   ],
   "source": [
    "from sklearn.model_selection import learning_curve\n",
    "\n",
    "train_sizes, train_scores, test_scores = \\\n",
    "    learning_curve(estimator=pipe_ridgeCV,\n",
    "                   X=X_dev,\n",
    "                   y=y_dev,\n",
    "                   train_sizes=np.arange(0.2, 1.05, .05),\n",
    "                   scoring='neg_mean_squared_error',                 \n",
    "                   cv=5)\n",
    "\n",
    "\n",
    "mse_ = pd.DataFrame({'Train':-train_scores.mean(axis=1),\n",
    "                     'Test':-test_scores.mean(axis=1)})\\\n",
    "        .set_index(pd.Index(train_sizes,name='sample size'))    \n",
    "print(mse_.head(3))"
   ]
  },
  {
   "cell_type": "code",
   "execution_count": 11,
   "metadata": {},
   "outputs": [
    {
     "data": {
      "image/png": "[encoded data removed]",
      "text/plain": [
       "<Figure size 720x288 with 1 Axes>"
      ]
     },
     "metadata": {},
     "output_type": "display_data"
    }
   ],
   "source": [
    "plt.style.use('ggplot')\n",
    "f_learn, ax = plt.subplots(figsize=(10,4))\n",
    "ax.fill_between(train_sizes,\n",
    "                -test_scores.mean(1) + test_scores.std(1)*1.96,\n",
    "                -test_scores.mean(1) - test_scores.std(1)*1.96, \n",
    "                alpha=0.25, label ='Validation', color='blue')\n",
    "\n",
    "ax.fill_between(train_sizes,\n",
    "                -train_scores.mean(1) + train_scores.std(1)*1.96,\n",
    "                -train_scores.mean(1) - train_scores.std(1)*1.96, \n",
    "                alpha=0.25, label='Train', color='orange')\n",
    "ax.set_ylabel('Mean squared error')\n",
    "ax.set_xlabel('Sample size')\n",
    "ax.set_title('Learning Curve')\n",
    "ax.set_yscale('log')\n",
    "ax.legend()\n",
    "f_learn.savefig('Learning curve - Ridge 3 degree.png')"
   ]
  },
  {
   "cell_type": "markdown",
   "metadata": {},
   "source": [
    "# Validation Curve\n",
    "\n",
    "Examines the relationsship between how well the model did on the k-fold crossvalidation data, and how well it does on the test data, but for different values of lambda. \n",
    "\n",
    "This is a way to visualise how overfit the data is - if the difference is sizeable - and how biased it is - if the MSE is big. "
   ]
  },
  {
   "cell_type": "code",
   "execution_count": 12,
   "metadata": {},
   "outputs": [
    {
     "name": "stdout",
     "output_type": "stream",
     "text": [
      "lambda\n",
      "19.306977    3.289458e+11\n",
      "Name: Validation, dtype: float64\n"
     ]
    }
   ],
   "source": [
    "from sklearn.model_selection import validation_curve\n",
    "\n",
    "train_scores, test_scores = \\\n",
    "    validation_curve(estimator=pipe_ridgeCV,\n",
    "                     X=X_dev,\n",
    "                     y=y_dev,\n",
    "                     param_name='ridge__alpha',\n",
    "                     param_range=lambdas,\n",
    "                     scoring='neg_mean_squared_error',                 \n",
    "                     cv=5)\n",
    "\n",
    "mse_score = pd.DataFrame({'Train':-train_scores.mean(axis=1),\n",
    "                          'Validation':-test_scores.mean(axis=1),\n",
    "                          'lambda':lambdas})\\\n",
    "              .set_index('lambda')   \n",
    "print(mse_score.Validation.nsmallest(1))"
   ]
  },
  {
   "cell_type": "code",
   "execution_count": 13,
   "metadata": {},
   "outputs": [
    {
     "data": {
      "image/png": "[encoded data removed]",
      "text/plain": [
       "<Figure size 432x288 with 1 Axes>"
      ]
     },
     "metadata": {},
     "output_type": "display_data"
    }
   ],
   "source": [
    "plt.style.use('ggplot')\n",
    "val_plot = mse_score.plot(logx=True, logy=True, title = 'Validation Curve')\n",
    "val_plot.set_xlabel('Lambda')\n",
    "val_plot.set_ylabel('MSE')\n",
    "val_plot.figure.savefig('Validation Curve - Ridge 3 degree.png')"
   ]
  }
 ],
 "metadata": {
  "kernelspec": {
   "display_name": "Python 3",
   "language": "python",
   "name": "python3"
  },
  "language_info": {
   "codemirror_mode": {
    "name": "ipython",
    "version": 3
   },
   "file_extension": ".py",
   "mimetype": "text/x-python",
   "name": "python",
   "nbconvert_exporter": "python",
   "pygments_lexer": "ipython3",
   "version": "3.7.3"
  }
 },
 "nbformat": 4,
 "nbformat_minor": 2
}
