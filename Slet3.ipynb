{
 "cells": [
  {
   "cell_type": "markdown",
   "metadata": {},
   "source": [
    "# Training of model with just municipalities"
   ]
  },
  {
   "cell_type": "code",
   "execution_count": 1,
   "metadata": {},
   "outputs": [],
   "source": [
    "from sklearn.linear_model import Lasso, LinearRegression\n",
    "from sklearn.pipeline import make_pipeline\n",
    "from sklearn.preprocessing import StandardScaler, PolynomialFeatures\n",
    "from sklearn.datasets import fetch_california_housing\n",
    "from sklearn.metrics import mean_squared_error as mse\n",
    "from sklearn.metrics import mean_absolute_error as mae\n",
    "from sklearn.model_selection import train_test_split\n",
    "import tqdm\n",
    "from math import sqrt\n",
    "\n",
    "import warnings\n",
    "from sklearn.exceptions import ConvergenceWarning\n",
    "warnings.filterwarnings(action='ignore', category=ConvergenceWarning)\n",
    "\n",
    "\n",
    "import matplotlib.pyplot as plt\n",
    "import numpy as np \n",
    "import pandas as pd \n",
    "import seaborn as sns\n",
    "\n",
    "df = pd.read_csv('Boliga - Final for training.csv')\n",
    "df = df.drop(columns = ['Relativ Ledighed', 'Grundskole', 'Gymnasiale uddannelser', \n",
    "                       'Erhvervsfaglige uddannelser', 'KVU', 'MVU', 'Bacheloruddannelser',\n",
    "                        'Kommunal_gennemsnitsinkomst_2017', 'Total_reported', ' LVU',\n",
    "                       'Population_in_urban_development', 'Socioeconomic_index',\n",
    "                       'expenses_per_school_student', 'average_class_size', 'expenses_sport_and_other_cultural_activities'])\n",
    "\n",
    "df_sample = df.sample(1000)"
   ]
  },
  {
   "cell_type": "code",
   "execution_count": 2,
   "metadata": {},
   "outputs": [],
   "source": [
    "pd.options.display.max_columns = None"
   ]
  },
  {
   "cell_type": "markdown",
   "metadata": {},
   "source": [
    "### Create dummies, and split X and Y"
   ]
  },
  {
   "cell_type": "code",
   "execution_count": 3,
   "metadata": {},
   "outputs": [],
   "source": [
    "df_dum = pd.get_dummies(df_sample, drop_first = True, columns = ['isForeclosure', 'Kommune', 'Type'])\n",
    "X = df_dum.drop(columns = ['price'])\n",
    "y = df_dum['price']"
   ]
  },
  {
   "cell_type": "markdown",
   "metadata": {},
   "source": [
    "### Split into test, dev, val and train data"
   ]
  },
  {
   "cell_type": "code",
   "execution_count": 4,
   "metadata": {},
   "outputs": [],
   "source": [
    "from sklearn.model_selection import train_test_split\n",
    "\n",
    "X_dev, X_test, y_dev, y_test = train_test_split(X, y, test_size = 0.2, random_state = 1)\n",
    "\n",
    "X_train, X_val, y_train, y_val = train_test_split(X_dev, y_dev, test_size = 0.5, random_state = 1)"
   ]
  },
  {
   "cell_type": "markdown",
   "metadata": {},
   "source": [
    "### Linear Regression Model\n",
    "\n",
    "First, we train (fit) a linear regression on the development (in this case the **training**) data, as it does not need validation (no hyperparameter needs to be optimized)"
   ]
  },
  {
   "cell_type": "code",
   "execution_count": 5,
   "metadata": {},
   "outputs": [
    {
     "data": {
      "text/plain": [
       "Pipeline(memory=None,\n",
       "     steps=[('polynomialfeatures', PolynomialFeatures(degree=2, include_bias=True, interaction_only=False)), ('standardscaler', StandardScaler(copy=True, with_mean=0, with_std=True)), ('linearregression', LinearRegression(copy_X=True, fit_intercept=True, n_jobs=1, normalize=False))])"
      ]
     },
     "execution_count": 5,
     "metadata": {},
     "output_type": "execute_result"
    }
   ],
   "source": [
    "#Create pipeline (pipe_lr which will be used later, to compare Lasso and LR)\n",
    "pipe_lr = make_pipeline(PolynomialFeatures(include_bias=True, degree = 2), \n",
    "                        StandardScaler(with_mean = 0, with_std = True),\n",
    "                        LinearRegression())\n",
    "\n",
    "#Fit pipline to dev-data\n",
    "pipe_lr.fit(X_dev, y_dev)"
   ]
  },
  {
   "cell_type": "markdown",
   "metadata": {},
   "source": [
    "### OLS (linear regression) estimations table\n",
    "\n",
    "Find a way to get the OLS estimates out here, in a table"
   ]
  },
  {
   "cell_type": "markdown",
   "metadata": {},
   "source": [
    "## Train Lasso Regression (K-fold CV)\n",
    "\n",
    "Now we want to examine whether the a Lasso regression is more appropriate, and seeks to optimize the hyperparameter.\n",
    "We will train for an optimized hyperparameter on the validation set, to avoid data leakage and use k-fold crossvalidation to make sure that we have not split our dataset in a lucky or unlucky place. "
   ]
  },
  {
   "cell_type": "code",
   "execution_count": 6,
   "metadata": {},
   "outputs": [
    {
     "name": "stderr",
     "output_type": "stream",
     "text": [
      " 58%|█████▊    | 7/12 [20:45<14:45, 177.15s/it]/anaconda3/lib/python3.7/site-packages/sklearn/linear_model/coordinate_descent.py:491: ConvergenceWarning: Objective did not converge. You might want to increase the number of iterations. Fitting data with very small alpha may cause precision problems.\n",
      "  ConvergenceWarning)\n",
      "/anaconda3/lib/python3.7/site-packages/sklearn/linear_model/coordinate_descent.py:491: ConvergenceWarning: Objective did not converge. You might want to increase the number of iterations. Fitting data with very small alpha may cause precision problems.\n",
      "  ConvergenceWarning)\n",
      "/anaconda3/lib/python3.7/site-packages/sklearn/linear_model/coordinate_descent.py:491: ConvergenceWarning: Objective did not converge. You might want to increase the number of iterations. Fitting data with very small alpha may cause precision problems.\n",
      "  ConvergenceWarning)\n",
      "/anaconda3/lib/python3.7/site-packages/sklearn/linear_model/coordinate_descent.py:491: ConvergenceWarning: Objective did not converge. You might want to increase the number of iterations. Fitting data with very small alpha may cause precision problems.\n",
      "  ConvergenceWarning)\n",
      "/anaconda3/lib/python3.7/site-packages/sklearn/linear_model/coordinate_descent.py:491: ConvergenceWarning: Objective did not converge. You might want to increase the number of iterations. Fitting data with very small alpha may cause precision problems.\n",
      "  ConvergenceWarning)\n",
      " 67%|██████▋   | 8/12 [25:02<13:24, 201.15s/it]/anaconda3/lib/python3.7/site-packages/sklearn/linear_model/coordinate_descent.py:491: ConvergenceWarning: Objective did not converge. You might want to increase the number of iterations. Fitting data with very small alpha may cause precision problems.\n",
      "  ConvergenceWarning)\n",
      "/anaconda3/lib/python3.7/site-packages/sklearn/linear_model/coordinate_descent.py:491: ConvergenceWarning: Objective did not converge. You might want to increase the number of iterations. Fitting data with very small alpha may cause precision problems.\n",
      "  ConvergenceWarning)\n",
      "/anaconda3/lib/python3.7/site-packages/sklearn/linear_model/coordinate_descent.py:491: ConvergenceWarning: Objective did not converge. You might want to increase the number of iterations. Fitting data with very small alpha may cause precision problems.\n",
      "  ConvergenceWarning)\n",
      "/anaconda3/lib/python3.7/site-packages/sklearn/linear_model/coordinate_descent.py:491: ConvergenceWarning: Objective did not converge. You might want to increase the number of iterations. Fitting data with very small alpha may cause precision problems.\n",
      "  ConvergenceWarning)\n",
      "/anaconda3/lib/python3.7/site-packages/sklearn/linear_model/coordinate_descent.py:491: ConvergenceWarning: Objective did not converge. You might want to increase the number of iterations. Fitting data with very small alpha may cause precision problems.\n",
      "  ConvergenceWarning)\n",
      " 75%|███████▌  | 9/12 [28:08<09:49, 196.51s/it]/anaconda3/lib/python3.7/site-packages/sklearn/linear_model/coordinate_descent.py:491: ConvergenceWarning: Objective did not converge. You might want to increase the number of iterations. Fitting data with very small alpha may cause precision problems.\n",
      "  ConvergenceWarning)\n",
      "/anaconda3/lib/python3.7/site-packages/sklearn/linear_model/coordinate_descent.py:491: ConvergenceWarning: Objective did not converge. You might want to increase the number of iterations. Fitting data with very small alpha may cause precision problems.\n",
      "  ConvergenceWarning)\n",
      "/anaconda3/lib/python3.7/site-packages/sklearn/linear_model/coordinate_descent.py:491: ConvergenceWarning: Objective did not converge. You might want to increase the number of iterations. Fitting data with very small alpha may cause precision problems.\n",
      "  ConvergenceWarning)\n",
      "/anaconda3/lib/python3.7/site-packages/sklearn/linear_model/coordinate_descent.py:491: ConvergenceWarning: Objective did not converge. You might want to increase the number of iterations. Fitting data with very small alpha may cause precision problems.\n",
      "  ConvergenceWarning)\n",
      "/anaconda3/lib/python3.7/site-packages/sklearn/linear_model/coordinate_descent.py:491: ConvergenceWarning: Objective did not converge. You might want to increase the number of iterations. Fitting data with very small alpha may cause precision problems.\n",
      "  ConvergenceWarning)\n",
      " 83%|████████▎ | 10/12 [31:02<06:19, 189.91s/it]/anaconda3/lib/python3.7/site-packages/sklearn/linear_model/coordinate_descent.py:491: ConvergenceWarning: Objective did not converge. You might want to increase the number of iterations. Fitting data with very small alpha may cause precision problems.\n",
      "  ConvergenceWarning)\n",
      "/anaconda3/lib/python3.7/site-packages/sklearn/linear_model/coordinate_descent.py:491: ConvergenceWarning: Objective did not converge. You might want to increase the number of iterations. Fitting data with very small alpha may cause precision problems.\n",
      "  ConvergenceWarning)\n",
      "/anaconda3/lib/python3.7/site-packages/sklearn/linear_model/coordinate_descent.py:491: ConvergenceWarning: Objective did not converge. You might want to increase the number of iterations. Fitting data with very small alpha may cause precision problems.\n",
      "  ConvergenceWarning)\n",
      "/anaconda3/lib/python3.7/site-packages/sklearn/linear_model/coordinate_descent.py:491: ConvergenceWarning: Objective did not converge. You might want to increase the number of iterations. Fitting data with very small alpha may cause precision problems.\n",
      "  ConvergenceWarning)\n",
      "/anaconda3/lib/python3.7/site-packages/sklearn/linear_model/coordinate_descent.py:491: ConvergenceWarning: Objective did not converge. You might want to increase the number of iterations. Fitting data with very small alpha may cause precision problems.\n",
      "  ConvergenceWarning)\n",
      " 92%|█████████▏| 11/12 [34:11<03:09, 189.54s/it]/anaconda3/lib/python3.7/site-packages/sklearn/linear_model/coordinate_descent.py:491: ConvergenceWarning: Objective did not converge. You might want to increase the number of iterations. Fitting data with very small alpha may cause precision problems.\n",
      "  ConvergenceWarning)\n",
      "/anaconda3/lib/python3.7/site-packages/sklearn/linear_model/coordinate_descent.py:491: ConvergenceWarning: Objective did not converge. You might want to increase the number of iterations. Fitting data with very small alpha may cause precision problems.\n",
      "  ConvergenceWarning)\n",
      "/anaconda3/lib/python3.7/site-packages/sklearn/linear_model/coordinate_descent.py:491: ConvergenceWarning: Objective did not converge. You might want to increase the number of iterations. Fitting data with very small alpha may cause precision problems.\n",
      "  ConvergenceWarning)\n",
      "/anaconda3/lib/python3.7/site-packages/sklearn/linear_model/coordinate_descent.py:491: ConvergenceWarning: Objective did not converge. You might want to increase the number of iterations. Fitting data with very small alpha may cause precision problems.\n",
      "  ConvergenceWarning)\n",
      "/anaconda3/lib/python3.7/site-packages/sklearn/linear_model/coordinate_descent.py:491: ConvergenceWarning: Objective did not converge. You might want to increase the number of iterations. Fitting data with very small alpha may cause precision problems.\n",
      "  ConvergenceWarning)\n",
      "100%|██████████| 12/12 [37:01<00:00, 183.74s/it]\n"
     ]
    }
   ],
   "source": [
    "from sklearn.model_selection import KFold\n",
    "\n",
    "#Split data into 5 folds\n",
    "kfolds = KFold(n_splits=5)\n",
    "folds = list(kfolds.split(X_dev, y_dev))\n",
    "\n",
    "#Create Lambda values\n",
    "lambdas = np.logspace(-4, 4, 12)\n",
    "# outer loop: lambdas\n",
    "mseCV = []\n",
    "rmseCV = []\n",
    "maeCV = []\n",
    "for lambda_ in tqdm.tqdm(lambdas):    \n",
    "    # inner loop: folds\n",
    "    mseCV_ = []\n",
    "    rmseCV_ = []\n",
    "    maeCV_ = []\n",
    "    for train_idx, val_idx in folds:        \n",
    "        # train model and compute MSE on test fold\n",
    "        pipe_lassoCV = make_pipeline(PolynomialFeatures(degree=3, include_bias=True),\n",
    "                                     StandardScaler(),\n",
    "                                     Lasso(alpha=lambda_, random_state=1))            \n",
    "        X_train, y_train = X_dev.iloc[train_idx], y_dev.iloc[train_idx]\n",
    "        X_val, y_val = X_dev.iloc[val_idx], y_dev.iloc[val_idx] \n",
    "        pipe_lassoCV.fit(X_train, y_train)        \n",
    "        mseCV_.append(mse(pipe_lassoCV.predict(X_val), y_val))\n",
    "        rmseCV_.append(sqrt(mse(pipe_lassoCV.predict(X_val), y_val)))\n",
    "        maeCV_.append(mae(pipe_lassoCV.predict(X_val), y_val))\n",
    "        \n",
    "        \n",
    "    # store result    \n",
    "    mseCV.append(mseCV_) \n",
    "    rmseCV.append(rmseCV_)\n",
    "    maeCV.append(maeCV_)\n",
    "    \n",
    "# convert to DataFrame\n",
    "lambda_mseCV = pd.DataFrame(mseCV, index=lambdas)\n",
    "lambda_rmseCV = pd.DataFrame(rmseCV, index=lambdas)\n",
    "lambda_maeCV = pd.DataFrame(maeCV, index=lambdas)"
   ]
  },
  {
   "cell_type": "markdown",
   "metadata": {},
   "source": [
    "### MSE of the K-fold Crossvalidation\n",
    "\n",
    "Lambda as index"
   ]
  },
  {
   "cell_type": "code",
   "execution_count": 8,
   "metadata": {},
   "outputs": [
    {
     "data": {
      "text/html": [
       "<div>\n",
       "<style scoped>\n",
       "    .dataframe tbody tr th:only-of-type {\n",
       "        vertical-align: middle;\n",
       "    }\n",
       "\n",
       "    .dataframe tbody tr th {\n",
       "        vertical-align: top;\n",
       "    }\n",
       "\n",
       "    .dataframe thead th {\n",
       "        text-align: right;\n",
       "    }\n",
       "</style>\n",
       "<table border=\"1\" class=\"dataframe\">\n",
       "  <thead>\n",
       "    <tr style=\"text-align: right;\">\n",
       "      <th></th>\n",
       "      <th>0</th>\n",
       "      <th>1</th>\n",
       "      <th>2</th>\n",
       "      <th>3</th>\n",
       "      <th>4</th>\n",
       "    </tr>\n",
       "  </thead>\n",
       "  <tbody>\n",
       "    <tr>\n",
       "      <th>0.000100</th>\n",
       "      <td>6.473383e+18</td>\n",
       "      <td>8.375524e+14</td>\n",
       "      <td>1.969650e+13</td>\n",
       "      <td>1.244208e+14</td>\n",
       "      <td>1.100649e+13</td>\n",
       "    </tr>\n",
       "    <tr>\n",
       "      <th>0.000534</th>\n",
       "      <td>6.473372e+18</td>\n",
       "      <td>8.375147e+14</td>\n",
       "      <td>1.969656e+13</td>\n",
       "      <td>1.244212e+14</td>\n",
       "      <td>1.100619e+13</td>\n",
       "    </tr>\n",
       "    <tr>\n",
       "      <th>0.002848</th>\n",
       "      <td>6.473315e+18</td>\n",
       "      <td>8.373141e+14</td>\n",
       "      <td>1.969686e+13</td>\n",
       "      <td>1.244257e+14</td>\n",
       "      <td>1.100464e+13</td>\n",
       "    </tr>\n",
       "    <tr>\n",
       "      <th>0.015199</th>\n",
       "      <td>6.473014e+18</td>\n",
       "      <td>8.362374e+14</td>\n",
       "      <td>1.969742e+13</td>\n",
       "      <td>1.244814e+14</td>\n",
       "      <td>1.099791e+13</td>\n",
       "    </tr>\n",
       "    <tr>\n",
       "      <th>0.081113</th>\n",
       "      <td>6.470870e+18</td>\n",
       "      <td>8.305869e+14</td>\n",
       "      <td>1.969646e+13</td>\n",
       "      <td>1.252318e+14</td>\n",
       "      <td>1.095613e+13</td>\n",
       "    </tr>\n",
       "    <tr>\n",
       "      <th>0.432876</th>\n",
       "      <td>6.459015e+18</td>\n",
       "      <td>8.042178e+14</td>\n",
       "      <td>1.970370e+13</td>\n",
       "      <td>1.356365e+14</td>\n",
       "      <td>1.069999e+13</td>\n",
       "    </tr>\n",
       "    <tr>\n",
       "      <th>2.310130</th>\n",
       "      <td>6.453043e+18</td>\n",
       "      <td>6.308086e+14</td>\n",
       "      <td>1.953709e+13</td>\n",
       "      <td>1.371302e+14</td>\n",
       "      <td>1.004944e+13</td>\n",
       "    </tr>\n",
       "    <tr>\n",
       "      <th>12.328467</th>\n",
       "      <td>5.575684e+18</td>\n",
       "      <td>2.040237e+14</td>\n",
       "      <td>2.367632e+13</td>\n",
       "      <td>2.087746e+13</td>\n",
       "      <td>7.976833e+12</td>\n",
       "    </tr>\n",
       "    <tr>\n",
       "      <th>65.793322</th>\n",
       "      <td>3.960765e+18</td>\n",
       "      <td>6.417637e+12</td>\n",
       "      <td>2.054052e+13</td>\n",
       "      <td>2.840084e+13</td>\n",
       "      <td>9.466334e+12</td>\n",
       "    </tr>\n",
       "    <tr>\n",
       "      <th>351.119173</th>\n",
       "      <td>1.224247e+17</td>\n",
       "      <td>1.353474e+13</td>\n",
       "      <td>1.487161e+13</td>\n",
       "      <td>9.320214e+12</td>\n",
       "      <td>4.516251e+12</td>\n",
       "    </tr>\n",
       "    <tr>\n",
       "      <th>1873.817423</th>\n",
       "      <td>1.279842e+15</td>\n",
       "      <td>9.321398e+14</td>\n",
       "      <td>2.448089e+13</td>\n",
       "      <td>2.930526e+13</td>\n",
       "      <td>3.293999e+12</td>\n",
       "    </tr>\n",
       "    <tr>\n",
       "      <th>10000.000000</th>\n",
       "      <td>5.761579e+14</td>\n",
       "      <td>6.479264e+14</td>\n",
       "      <td>1.877470e+13</td>\n",
       "      <td>2.685977e+13</td>\n",
       "      <td>2.766361e+12</td>\n",
       "    </tr>\n",
       "  </tbody>\n",
       "</table>\n",
       "</div>"
      ],
      "text/plain": [
       "                         0             1             2             3  \\\n",
       "0.000100      6.473383e+18  8.375524e+14  1.969650e+13  1.244208e+14   \n",
       "0.000534      6.473372e+18  8.375147e+14  1.969656e+13  1.244212e+14   \n",
       "0.002848      6.473315e+18  8.373141e+14  1.969686e+13  1.244257e+14   \n",
       "0.015199      6.473014e+18  8.362374e+14  1.969742e+13  1.244814e+14   \n",
       "0.081113      6.470870e+18  8.305869e+14  1.969646e+13  1.252318e+14   \n",
       "0.432876      6.459015e+18  8.042178e+14  1.970370e+13  1.356365e+14   \n",
       "2.310130      6.453043e+18  6.308086e+14  1.953709e+13  1.371302e+14   \n",
       "12.328467     5.575684e+18  2.040237e+14  2.367632e+13  2.087746e+13   \n",
       "65.793322     3.960765e+18  6.417637e+12  2.054052e+13  2.840084e+13   \n",
       "351.119173    1.224247e+17  1.353474e+13  1.487161e+13  9.320214e+12   \n",
       "1873.817423   1.279842e+15  9.321398e+14  2.448089e+13  2.930526e+13   \n",
       "10000.000000  5.761579e+14  6.479264e+14  1.877470e+13  2.685977e+13   \n",
       "\n",
       "                         4  \n",
       "0.000100      1.100649e+13  \n",
       "0.000534      1.100619e+13  \n",
       "0.002848      1.100464e+13  \n",
       "0.015199      1.099791e+13  \n",
       "0.081113      1.095613e+13  \n",
       "0.432876      1.069999e+13  \n",
       "2.310130      1.004944e+13  \n",
       "12.328467     7.976833e+12  \n",
       "65.793322     9.466334e+12  \n",
       "351.119173    4.516251e+12  \n",
       "1873.817423   3.293999e+12  \n",
       "10000.000000  2.766361e+12  "
      ]
     },
     "execution_count": 8,
     "metadata": {},
     "output_type": "execute_result"
    }
   ],
   "source": [
    "lambda_mseCV"
   ]
  },
  {
   "cell_type": "code",
   "execution_count": null,
   "metadata": {},
   "outputs": [],
   "source": []
  },
  {
   "cell_type": "code",
   "execution_count": 9,
   "metadata": {},
   "outputs": [],
   "source": [
    "# Calculates the mean of the folds\n",
    "mse_mean = lambda_mseCV.mean(axis = 1)\n",
    "rmse_mean = lambda_rmseCV.mean(axis = 1)\n",
    "mae_mean = lambda_maeCV.mean(axis = 1)"
   ]
  },
  {
   "cell_type": "code",
   "execution_count": null,
   "metadata": {},
   "outputs": [],
   "source": []
  },
  {
   "cell_type": "markdown",
   "metadata": {},
   "source": []
  },
  {
   "cell_type": "code",
   "execution_count": 11,
   "metadata": {},
   "outputs": [
    {
     "data": {
      "text/plain": [
       "[Text(0,0.5,'MSE'), Text(0.5,0,'Lambda')]"
      ]
     },
     "execution_count": 11,
     "metadata": {},
     "output_type": "execute_result"
    },
    {
     "data": {
      "image/png": "[encoded data removed]",
      "text/plain": [
       "<Figure size 432x288 with 1 Axes>"
      ]
     },
     "metadata": {
      "needs_background": "light"
     },
     "output_type": "display_data"
    }
   ],
   "source": [
    "#Plot mean square errors\n",
    "COL = ['Average MSE']\n",
    "mse_mean.columns = COL\n",
    "\n",
    "#Both axis are logarythmical \n",
    "ax = mse_mean.plot(logx = True, logy = True)\n",
    "ax.set(xlabel = 'Lambda', ylabel = 'MSE')\n"
   ]
  },
  {
   "cell_type": "code",
   "execution_count": null,
   "metadata": {},
   "outputs": [],
   "source": [
    "# Vi udvider range til højere"
   ]
  },
  {
   "cell_type": "code",
   "execution_count": 21,
   "metadata": {},
   "outputs": [
    {
     "data": {
      "text/plain": [
       "0.000100        1.294875e+18\n",
       "0.000534        1.294873e+18\n",
       "0.002848        1.294862e+18\n",
       "0.015199        1.294801e+18\n",
       "0.081113        1.294371e+18\n",
       "0.432876        1.291997e+18\n",
       "2.310130        1.290768e+18\n",
       "12.328467       1.115188e+18\n",
       "65.793322       7.921660e+17\n",
       "351.119173      2.449339e+16\n",
       "1873.817423     4.538124e+14\n",
       "10000.000000    2.544970e+14\n",
       "dtype: float64"
      ]
     },
     "execution_count": 21,
     "metadata": {},
     "output_type": "execute_result"
    }
   ],
   "source": [
    "round(mse_mean,1)\n",
    "\n"
   ]
  },
  {
   "cell_type": "code",
   "execution_count": 19,
   "metadata": {},
   "outputs": [
    {
     "data": {
      "text/plain": [
       "0.000100        518426983.3\n",
       "0.000534        518426435.0\n",
       "0.002848        518423500.7\n",
       "0.015199        518408257.0\n",
       "0.081113        518309843.7\n",
       "0.432876        517834849.0\n",
       "2.310130        516940055.1\n",
       "12.328467       477566316.7\n",
       "65.793322       401127723.7\n",
       "351.119173       72521160.4\n",
       "1873.817423      15696406.1\n",
       "10000.000000     12127309.2\n",
       "dtype: float64"
      ]
     },
     "execution_count": 19,
     "metadata": {},
     "output_type": "execute_result"
    }
   ],
   "source": [
    "\n",
    "round(rmse_mean,1)\n"
   ]
  },
  {
   "cell_type": "code",
   "execution_count": 15,
   "metadata": {},
   "outputs": [
    {
     "data": {
      "text/plain": [
       "0.000100        44978875.41\n",
       "0.000534        44978478.35\n",
       "0.002848        44976355.76\n",
       "0.015199        44965119.81\n",
       "0.081113        44913395.15\n",
       "0.432876        44692538.15\n",
       "2.310130        43565262.50\n",
       "12.328467       40130702.99\n",
       "65.793322       33349510.72\n",
       "351.119173       7260417.78\n",
       "1873.817423      2547847.13\n",
       "10000.000000     1974993.60\n",
       "dtype: float64"
      ]
     },
     "execution_count": 15,
     "metadata": {},
     "output_type": "execute_result"
    }
   ],
   "source": [
    "\n",
    "round(mae_mean, 2)"
   ]
  },
  {
   "cell_type": "markdown",
   "metadata": {},
   "source": [
    "### Finding the optimal hyperparameter"
   ]
  },
  {
   "cell_type": "code",
   "execution_count": null,
   "metadata": {},
   "outputs": [],
   "source": [
    "mse_mean.nsmallest(1)"
   ]
  },
  {
   "cell_type": "markdown",
   "metadata": {},
   "source": [
    "# Comparison of Lasso and Linear Regression\n",
    "\n",
    "Is done after the optimized hyperparameters is found (after training on validation data)\n",
    "This comparison is done on the **test data!** and is thus the final step in training and selecting our model\n"
   ]
  },
  {
   "cell_type": "code",
   "execution_count": 25,
   "metadata": {},
   "outputs": [
    {
     "name": "stdout",
     "output_type": "stream",
     "text": [
      "MSE: Lasso CV 1086176175864.48\n",
      "RMSE: Lasso CV 1042197.76\n",
      "MAE: Lasso CV 690907.1\n",
      "MSE: LinReg 390929707520338.25\n",
      "RMSE: LinReg 19771942.43\n",
      "MAE: LinReg 11224727.52\n"
     ]
    }
   ],
   "source": [
    "# Optimal lambda is inserted into the Lasso-model\n",
    "optimal_lambda = lambda_mseCV.mean(axis=1).nsmallest(1)\n",
    "\n",
    "# retrain/re-estimate model using optimal hyperparameters\n",
    "pipe_lassoCV = make_pipeline(PolynomialFeatures(include_bias=False), \n",
    "                             StandardScaler(),\n",
    "                             Lasso(alpha=optimal_lambda.index[0], random_state=1))\n",
    "pipe_lassoCV.fit(X_dev,y_dev)\n",
    "\n",
    "# compare performance by mse\n",
    "models = {'Lasso CV': pipe_lassoCV, 'LinReg': pipe_lr}\n",
    "for name, model in models.items():\n",
    "    score_mse = mse(model.predict(X_test),y_test)\n",
    "    score_mae = mae(model.predict(X_test),y_test)\n",
    "    score_rmse = sqrt(mse(model.predict(X_test),y_test))\n",
    "    \n",
    "    print(\"MSE: \" + name, round(score_mse, 2))\n",
    "    print(\"RMSE: \" + name, round(score_rmse, 2))\n",
    "    print(\"MAE: \" + name, round(score_mae, 2))"
   ]
  },
  {
   "cell_type": "markdown",
   "metadata": {},
   "source": [
    "## Subconclusion\n",
    "\n",
    "The model is too complex and very unable to predict out-of-sample data. \n",
    "Though the Lasso is a great imporvement to the simple linear regression, it still produces error in the realm of trillions. \n",
    "Consider making a more simple model instead"
   ]
  },
  {
   "cell_type": "markdown",
   "metadata": {},
   "source": [
    "## Error Table\n",
    "\n",
    "We calculate the Mean Absolute Error, Mean Squared Error and Root Mean Squard Errors of the differnet models: OLS (Linear Regression), Lasso, Ridge."
   ]
  },
  {
   "cell_type": "markdown",
   "metadata": {},
   "source": [
    "## Correlation plot"
   ]
  },
  {
   "cell_type": "code",
   "execution_count": null,
   "metadata": {},
   "outputs": [],
   "source": [
    "corr = df_dum.corr()\n",
    "plt.figure(figsize=(14, 10))\n",
    "ax = sns.heatmap(\n",
    "    corr, \n",
    "    vmin=-1, vmax=1, center=0,\n",
    "    cmap=sns.diverging_palette(20, 220, n=200),\n",
    "    square=True\n",
    ")\n",
    "ax.set_xticklabels(\n",
    "    ax.get_xticklabels(),\n",
    "    rotation=45,\n",
    "    horizontalalignment='right'\n",
    ");"
   ]
  }
 ],
 "metadata": {
  "kernelspec": {
   "display_name": "Python 3",
   "language": "python",
   "name": "python3"
  },
  "language_info": {
   "codemirror_mode": {
    "name": "ipython",
    "version": 3
   },
   "file_extension": ".py",
   "mimetype": "text/x-python",
   "name": "python",
   "nbconvert_exporter": "python",
   "pygments_lexer": "ipython3",
   "version": "3.7.3"
  }
 },
 "nbformat": 4,
 "nbformat_minor": 2
}
