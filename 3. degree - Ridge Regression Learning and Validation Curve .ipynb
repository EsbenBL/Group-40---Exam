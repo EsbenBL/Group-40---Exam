{
 "cells": [
  {
   "cell_type": "markdown",
   "metadata": {},
   "source": [
    "# The Ridge Model"
   ]
  },
  {
   "cell_type": "code",
   "execution_count": 1,
   "metadata": {},
   "outputs": [],
   "source": [
    "from sklearn.linear_model import Lasso, LinearRegression, Ridge, ElasticNet\n",
    "from sklearn.pipeline import make_pipeline\n",
    "from sklearn.preprocessing import StandardScaler, PolynomialFeatures\n",
    "from sklearn.datasets import fetch_california_housing\n",
    "from sklearn.metrics import mean_squared_error as mse\n",
    "from sklearn.metrics import mean_absolute_error as mae\n",
    "from sklearn.model_selection import train_test_split\n",
    "import statsmodels.api as sm\n",
    "import tqdm\n",
    "from math import sqrt\n",
    "\n",
    "import warnings\n",
    "from sklearn.exceptions import ConvergenceWarning\n",
    "warnings.filterwarnings(action='ignore', category=ConvergenceWarning)\n",
    "\n",
    "\n",
    "import matplotlib.pyplot as plt\n",
    "import numpy as np \n",
    "import pandas as pd \n",
    "import seaborn as sns\n",
    "\n",
    "df = pd.read_csv('Boliga - Final for training.csv')\n",
    "df = df.drop(columns = ['Kommune', 'lotSize', 'Relativ Ledighed', 'Total_reported',\n",
    "                        'Socioeconomic_index', 'expenses_per_school_student',\n",
    "                       'expenses_sport_and_other_cultural_activities', 'forest_distance',\n",
    "                       'coast_distance', 'isForeclosure', 'Ejerudgift','buildYear'])\n",
    "\n",
    "#df_sample = df.sample(1000)\n",
    "pd.options.display.max_columns = None"
   ]
  },
  {
   "cell_type": "markdown",
   "metadata": {},
   "source": [
    "### Create dummies, and split X and Y"
   ]
  },
  {
   "cell_type": "code",
   "execution_count": 2,
   "metadata": {},
   "outputs": [],
   "source": [
    "df_dum = pd.get_dummies(df, drop_first = True, columns = ['Type'])\n",
    "X = df_dum.drop(columns = ['price'])\n",
    "y = df_dum['price']"
   ]
  },
  {
   "cell_type": "markdown",
   "metadata": {},
   "source": [
    "### Split into test, dev data"
   ]
  },
  {
   "cell_type": "code",
   "execution_count": 3,
   "metadata": {},
   "outputs": [],
   "source": [
    "from sklearn.model_selection import train_test_split\n",
    "\n",
    "X_dev, X_test, y_dev, y_test = train_test_split(X, y, test_size = 0.2, random_state = 1)"
   ]
  },
  {
   "cell_type": "markdown",
   "metadata": {},
   "source": [
    "## Train Ridge Regression (K-fold CV)\n",
    "\n",
    "Now we want to examine whether the a Lasso regression is more appropriate, and seeks to optimize the hyperparameter.\n",
    "We will train for an optimized hyperparameter on the validation set, to avoid data leakage and use k-fold crossvalidation to make sure that we have not split our dataset in a lucky or unlucky place. "
   ]
  },
  {
   "cell_type": "code",
   "execution_count": 4,
   "metadata": {},
   "outputs": [
    {
     "name": "stderr",
     "output_type": "stream",
     "text": [
      "100%|██████████| 15/15 [00:37<00:00,  2.49s/it]\n"
     ]
    }
   ],
   "source": [
    "from sklearn.model_selection import KFold\n",
    "\n",
    "#Split data into 5 folds\n",
    "kfolds = KFold(n_splits=5)\n",
    "folds = list(kfolds.split(X_dev, y_dev))\n",
    "\n",
    "#Create Lambda values\n",
    "lambdas = np.logspace(-1, 7, 15)\n",
    "# outer loop: lambdas\n",
    "mseCV = []\n",
    "\n",
    "for lambda_ in tqdm.tqdm(lambdas):    \n",
    "    # inner loop: folds\n",
    "    mseCV_ = []\n",
    "\n",
    "    for train_idx, val_idx in folds:        \n",
    "        # train model and compute MSE on test fold\n",
    "        pipe_ridgeCV = make_pipeline(PolynomialFeatures(degree=3, include_bias=False),\n",
    "                                     StandardScaler(),\n",
    "                                     Ridge(alpha=lambda_, random_state=1))            \n",
    "        X_train, y_train = X_dev.iloc[train_idx], y_dev.iloc[train_idx]\n",
    "        X_val, y_val = X_dev.iloc[val_idx], y_dev.iloc[val_idx] \n",
    "        pipe_ridgeCV.fit(X_train, y_train)        \n",
    "        mseCV_.append(mse(pipe_ridgeCV.predict(X_val), y_val))\n",
    "\n",
    "        \n",
    "    # store result    \n",
    "    mseCV.append(mseCV_) \n",
    "    \n",
    "# convert to DataFrame\n",
    "lambda_mseCV_ridge = pd.DataFrame(mseCV, index=lambdas)"
   ]
  },
  {
   "cell_type": "markdown",
   "metadata": {},
   "source": [
    "### MSE of the K-fold Crossvalidation - Ridge\n",
    "\n",
    "Lambda as index"
   ]
  },
  {
   "cell_type": "code",
   "execution_count": 5,
   "metadata": {},
   "outputs": [
    {
     "data": {
      "text/html": [
       "<div>\n",
       "<style scoped>\n",
       "    .dataframe tbody tr th:only-of-type {\n",
       "        vertical-align: middle;\n",
       "    }\n",
       "\n",
       "    .dataframe tbody tr th {\n",
       "        vertical-align: top;\n",
       "    }\n",
       "\n",
       "    .dataframe thead th {\n",
       "        text-align: right;\n",
       "    }\n",
       "</style>\n",
       "<table border=\"1\" class=\"dataframe\">\n",
       "  <thead>\n",
       "    <tr style=\"text-align: right;\">\n",
       "      <th></th>\n",
       "      <th>0</th>\n",
       "      <th>1</th>\n",
       "      <th>2</th>\n",
       "      <th>3</th>\n",
       "      <th>4</th>\n",
       "    </tr>\n",
       "  </thead>\n",
       "  <tbody>\n",
       "    <tr>\n",
       "      <th>1.000000e-01</th>\n",
       "      <td>1.233125e+11</td>\n",
       "      <td>9.555215e+10</td>\n",
       "      <td>1.897846e+11</td>\n",
       "      <td>2.266936e+11</td>\n",
       "      <td>1.377593e+12</td>\n",
       "    </tr>\n",
       "    <tr>\n",
       "      <th>3.727594e-01</th>\n",
       "      <td>9.430225e+10</td>\n",
       "      <td>9.460527e+10</td>\n",
       "      <td>1.367532e+11</td>\n",
       "      <td>1.919908e+11</td>\n",
       "      <td>5.344025e+11</td>\n",
       "    </tr>\n",
       "    <tr>\n",
       "      <th>1.389495e+00</th>\n",
       "      <td>6.766751e+10</td>\n",
       "      <td>1.025583e+11</td>\n",
       "      <td>7.482571e+10</td>\n",
       "      <td>1.424387e+11</td>\n",
       "      <td>3.474179e+11</td>\n",
       "    </tr>\n",
       "    <tr>\n",
       "      <th>5.179475e+00</th>\n",
       "      <td>5.212392e+10</td>\n",
       "      <td>1.169519e+11</td>\n",
       "      <td>3.666826e+10</td>\n",
       "      <td>1.503180e+11</td>\n",
       "      <td>1.979815e+13</td>\n",
       "    </tr>\n",
       "    <tr>\n",
       "      <th>1.930698e+01</th>\n",
       "      <td>5.108587e+10</td>\n",
       "      <td>1.302178e+11</td>\n",
       "      <td>3.119867e+10</td>\n",
       "      <td>1.937852e+11</td>\n",
       "      <td>1.833410e+14</td>\n",
       "    </tr>\n",
       "    <tr>\n",
       "      <th>7.196857e+01</th>\n",
       "      <td>1.042348e+11</td>\n",
       "      <td>1.562903e+11</td>\n",
       "      <td>4.519470e+10</td>\n",
       "      <td>2.286681e+11</td>\n",
       "      <td>7.500343e+14</td>\n",
       "    </tr>\n",
       "    <tr>\n",
       "      <th>2.682696e+02</th>\n",
       "      <td>2.964323e+11</td>\n",
       "      <td>2.316517e+11</td>\n",
       "      <td>6.841467e+10</td>\n",
       "      <td>3.096110e+11</td>\n",
       "      <td>1.921564e+15</td>\n",
       "    </tr>\n",
       "    <tr>\n",
       "      <th>1.000000e+03</th>\n",
       "      <td>4.922958e+11</td>\n",
       "      <td>4.035068e+11</td>\n",
       "      <td>1.083758e+11</td>\n",
       "      <td>3.588846e+11</td>\n",
       "      <td>3.238063e+15</td>\n",
       "    </tr>\n",
       "    <tr>\n",
       "      <th>3.727594e+03</th>\n",
       "      <td>6.250891e+11</td>\n",
       "      <td>7.176187e+11</td>\n",
       "      <td>2.167792e+11</td>\n",
       "      <td>3.432276e+11</td>\n",
       "      <td>3.449465e+15</td>\n",
       "    </tr>\n",
       "    <tr>\n",
       "      <th>1.389495e+04</th>\n",
       "      <td>9.654425e+11</td>\n",
       "      <td>1.161364e+12</td>\n",
       "      <td>5.602981e+11</td>\n",
       "      <td>4.456077e+11</td>\n",
       "      <td>2.073642e+15</td>\n",
       "    </tr>\n",
       "    <tr>\n",
       "      <th>5.179475e+04</th>\n",
       "      <td>1.466899e+12</td>\n",
       "      <td>1.738175e+12</td>\n",
       "      <td>1.318146e+12</td>\n",
       "      <td>9.274224e+11</td>\n",
       "      <td>5.015620e+14</td>\n",
       "    </tr>\n",
       "    <tr>\n",
       "      <th>1.930698e+05</th>\n",
       "      <td>2.360550e+12</td>\n",
       "      <td>3.027500e+12</td>\n",
       "      <td>2.656187e+12</td>\n",
       "      <td>1.867947e+12</td>\n",
       "      <td>5.905281e+13</td>\n",
       "    </tr>\n",
       "    <tr>\n",
       "      <th>7.196857e+05</th>\n",
       "      <td>3.707730e+12</td>\n",
       "      <td>5.016623e+12</td>\n",
       "      <td>4.400409e+12</td>\n",
       "      <td>2.960074e+12</td>\n",
       "      <td>8.136095e+12</td>\n",
       "    </tr>\n",
       "    <tr>\n",
       "      <th>2.682696e+06</th>\n",
       "      <td>4.710676e+12</td>\n",
       "      <td>6.438355e+12</td>\n",
       "      <td>5.623920e+12</td>\n",
       "      <td>3.718593e+12</td>\n",
       "      <td>4.072541e+12</td>\n",
       "    </tr>\n",
       "    <tr>\n",
       "      <th>1.000000e+07</th>\n",
       "      <td>5.126441e+12</td>\n",
       "      <td>7.008304e+12</td>\n",
       "      <td>6.119324e+12</td>\n",
       "      <td>4.033599e+12</td>\n",
       "      <td>3.964394e+12</td>\n",
       "    </tr>\n",
       "  </tbody>\n",
       "</table>\n",
       "</div>"
      ],
      "text/plain": [
       "                         0             1             2             3  \\\n",
       "1.000000e-01  1.233125e+11  9.555215e+10  1.897846e+11  2.266936e+11   \n",
       "3.727594e-01  9.430225e+10  9.460527e+10  1.367532e+11  1.919908e+11   \n",
       "1.389495e+00  6.766751e+10  1.025583e+11  7.482571e+10  1.424387e+11   \n",
       "5.179475e+00  5.212392e+10  1.169519e+11  3.666826e+10  1.503180e+11   \n",
       "1.930698e+01  5.108587e+10  1.302178e+11  3.119867e+10  1.937852e+11   \n",
       "7.196857e+01  1.042348e+11  1.562903e+11  4.519470e+10  2.286681e+11   \n",
       "2.682696e+02  2.964323e+11  2.316517e+11  6.841467e+10  3.096110e+11   \n",
       "1.000000e+03  4.922958e+11  4.035068e+11  1.083758e+11  3.588846e+11   \n",
       "3.727594e+03  6.250891e+11  7.176187e+11  2.167792e+11  3.432276e+11   \n",
       "1.389495e+04  9.654425e+11  1.161364e+12  5.602981e+11  4.456077e+11   \n",
       "5.179475e+04  1.466899e+12  1.738175e+12  1.318146e+12  9.274224e+11   \n",
       "1.930698e+05  2.360550e+12  3.027500e+12  2.656187e+12  1.867947e+12   \n",
       "7.196857e+05  3.707730e+12  5.016623e+12  4.400409e+12  2.960074e+12   \n",
       "2.682696e+06  4.710676e+12  6.438355e+12  5.623920e+12  3.718593e+12   \n",
       "1.000000e+07  5.126441e+12  7.008304e+12  6.119324e+12  4.033599e+12   \n",
       "\n",
       "                         4  \n",
       "1.000000e-01  1.377593e+12  \n",
       "3.727594e-01  5.344025e+11  \n",
       "1.389495e+00  3.474179e+11  \n",
       "5.179475e+00  1.979815e+13  \n",
       "1.930698e+01  1.833410e+14  \n",
       "7.196857e+01  7.500343e+14  \n",
       "2.682696e+02  1.921564e+15  \n",
       "1.000000e+03  3.238063e+15  \n",
       "3.727594e+03  3.449465e+15  \n",
       "1.389495e+04  2.073642e+15  \n",
       "5.179475e+04  5.015620e+14  \n",
       "1.930698e+05  5.905281e+13  \n",
       "7.196857e+05  8.136095e+12  \n",
       "2.682696e+06  4.072541e+12  \n",
       "1.000000e+07  3.964394e+12  "
      ]
     },
     "execution_count": 5,
     "metadata": {},
     "output_type": "execute_result"
    }
   ],
   "source": [
    "lambda_mseCV_ridge"
   ]
  },
  {
   "cell_type": "markdown",
   "metadata": {},
   "source": [
    "###  Mean MSE of K-fold CV - Ridge"
   ]
  },
  {
   "cell_type": "code",
   "execution_count": 6,
   "metadata": {},
   "outputs": [],
   "source": [
    "# Calculates the mean of the folds\n",
    "mse_mean_ridge = lambda_mseCV_ridge.mean(axis = 1)"
   ]
  },
  {
   "cell_type": "markdown",
   "metadata": {},
   "source": [
    "### Plot Average MSE over Lambda - Ridge"
   ]
  },
  {
   "cell_type": "code",
   "execution_count": 7,
   "metadata": {},
   "outputs": [
    {
     "data": {
      "text/plain": [
       "[Text(0, 0.5, 'MSE'), Text(0.5, 0, 'Lambda')]"
      ]
     },
     "execution_count": 7,
     "metadata": {},
     "output_type": "execute_result"
    },
    {
     "data": {
      "image/png": "[encoded data removed]",
      "text/plain": [
       "<Figure size 432x288 with 1 Axes>"
      ]
     },
     "metadata": {
      "needs_background": "light"
     },
     "output_type": "display_data"
    }
   ],
   "source": [
    "#Plot mean square errors\n",
    "COL = ['Average MSE']\n",
    "mse_mean_ridge.columns = COL\n",
    "\n",
    "#Both axis are logarythmical \n",
    "ax = mse_mean_ridge.plot(logx = True, logy = True)\n",
    "ax.set(xlabel = 'Lambda', ylabel = 'MSE')\n"
   ]
  },
  {
   "cell_type": "markdown",
   "metadata": {},
   "source": [
    "### Finding the optimal hyperparameter for Ridge\n",
    "\n",
    "Where was the mean mse smallest?"
   ]
  },
  {
   "cell_type": "code",
   "execution_count": 8,
   "metadata": {},
   "outputs": [
    {
     "data": {
      "text/plain": [
       "1.389495    1.469816e+11\n",
       "dtype: float64"
      ]
     },
     "execution_count": 8,
     "metadata": {},
     "output_type": "execute_result"
    }
   ],
   "source": [
    "mse_mean_ridge.nsmallest(1)"
   ]
  },
  {
   "cell_type": "code",
   "execution_count": 9,
   "metadata": {},
   "outputs": [
    {
     "name": "stdout",
     "output_type": "stream",
     "text": [
      "MSE: Ridge CV 1546057123771.27\n",
      "RMSE: Ridge CV 1243405.45\n",
      "MAE: Ridge CV 177425.86\n"
     ]
    }
   ],
   "source": [
    "# Optimal lambda is inserted into the Lasso-model\n",
    "optimal_lambda_ridge = lambda_mseCV_ridge.mean(axis=1).nsmallest(1)\n",
    "\n",
    "# retrain/re-estimate model using optimal hyperparameters\n",
    "pipe_ridgeCV = make_pipeline(PolynomialFeatures(degree = 3, include_bias=False), \n",
    "                             StandardScaler(),\n",
    "                             Ridge(alpha=optimal_lambda_ridge.index[0], random_state=1))\n",
    "pipe_ridgeCV.fit(X_dev,y_dev)\n",
    "\n",
    "# compare performance by mse\n",
    "models = {'Ridge CV': pipe_ridgeCV}\n",
    "for name, model in models.items():\n",
    "    score_mse = mse(model.predict(X_test),y_test)\n",
    "    score_mae = mae(model.predict(X_test),y_test)\n",
    "    score_rmse = sqrt(mse(model.predict(X_test),y_test))\n",
    "    \n",
    "    print(\"MSE: \" + name, round(score_mse, 2))\n",
    "    print(\"RMSE: \" + name, round(score_rmse, 2))\n",
    "    print(\"MAE: \" + name, round(score_mae, 2))"
   ]
  },
  {
   "cell_type": "markdown",
   "metadata": {},
   "source": [
    "# Learning Curve of Ridge regression:\n",
    "\n",
    "Since the Lasso regression performed best, we will examine it's performance on out-of-sample data a bit further. "
   ]
  },
  {
   "cell_type": "code",
   "execution_count": 10,
   "metadata": {},
   "outputs": [
    {
     "name": "stdout",
     "output_type": "stream",
     "text": [
      "                    Train          Test\n",
      "sample size                            \n",
      "128          3.040406e+07  1.969184e+13\n",
      "160          4.658778e+07  1.490291e+13\n",
      "192          6.224974e+07  3.161273e+13\n"
     ]
    }
   ],
   "source": [
    "from sklearn.model_selection import learning_curve\n",
    "\n",
    "train_sizes, train_scores, test_scores = \\\n",
    "    learning_curve(estimator=pipe_ridgeCV,\n",
    "                   X=X_dev,\n",
    "                   y=y_dev,\n",
    "                   train_sizes=np.arange(0.2, 1.05, .05),\n",
    "                   scoring='neg_mean_squared_error',                 \n",
    "                   cv=5)\n",
    "\n",
    "\n",
    "mse_ = pd.DataFrame({'Train':-train_scores.mean(axis=1),\n",
    "                     'Test':-test_scores.mean(axis=1)})\\\n",
    "        .set_index(pd.Index(train_sizes,name='sample size'))    \n",
    "print(mse_.head(3))"
   ]
  },
  {
   "cell_type": "code",
   "execution_count": 18,
   "metadata": {},
   "outputs": [
    {
     "data": {
      "image/png": "[encoded data removed]",
      "text/plain": [
       "<Figure size 720x288 with 1 Axes>"
      ]
     },
     "metadata": {},
     "output_type": "display_data"
    }
   ],
   "source": [
    "plt.style.use('ggplot')\n",
    "f_learn, ax = plt.subplots(figsize=(10,4))\n",
    "ax.fill_between(train_sizes,\n",
    "                -test_scores.mean(1),\n",
    "                -test_scores.mean(1),\n",
    "                alpha=1, label ='Validation', color='blue')\n",
    "\n",
    "ax.fill_between(train_sizes,\n",
    "                -train_scores.mean(1),\n",
    "                -train_scores.mean(1), \n",
    "                alpha=1, label='Train', color='red')\n",
    "ax.set_ylabel('Mean squared error')\n",
    "ax.set_xlabel('Sample size')\n",
    "ax.set_title('Learning Curve')\n",
    "ax.set_yscale('log')\n",
    "ax.legend()\n",
    "f_learn.savefig('Learning curve - Ridge 3 degree - Mean.png')"
   ]
  },
  {
   "cell_type": "code",
   "execution_count": 17,
   "metadata": {},
   "outputs": [
    {
     "data": {
      "image/png": "[encoded data removed]",
      "text/plain": [
       "<Figure size 720x288 with 1 Axes>"
      ]
     },
     "metadata": {},
     "output_type": "display_data"
    }
   ],
   "source": [
    "plt.style.use('ggplot')\n",
    "f_learn, ax = plt.subplots(figsize=(10,4))\n",
    "ax.fill_between(train_sizes,\n",
    "                -test_scores.mean(1) + test_scores.std(1)*1.96,\n",
    "                -test_scores.mean(1) - test_scores.std(1)*1.96,\n",
    "                alpha=0.25, color='blue')\n",
    "\n",
    "ax.fill_between(train_sizes,\n",
    "                -test_scores.mean(1),\n",
    "                -test_scores.mean(1),\n",
    "                alpha=1, label ='Validation', color='blue')\n",
    "\n",
    "ax.fill_between(train_sizes,\n",
    "                -train_scores.mean(1) + train_scores.std(1)*1.96,\n",
    "                -train_scores.mean(1) - train_scores.std(1)*1.96,\n",
    "                alpha=0.20, color='red')\n",
    "\n",
    "ax.fill_between(train_sizes,\n",
    "                -train_scores.mean(1),\n",
    "                -train_scores.mean(1), \n",
    "                alpha=1, label='Train', color='red')\n",
    "ax.set_ylabel('Mean squared error')\n",
    "ax.set_xlabel('Sample size')\n",
    "ax.set_title('Learning Curve')\n",
    "ax.legend(loc = 'lower right')\n",
    "ax.set_yscale('log')\n",
    "ax.legend()\n",
    "f_learn.savefig('Learning curve - Ridge 3 degree - Mean,Variance.png')"
   ]
  },
  {
   "cell_type": "markdown",
   "metadata": {},
   "source": [
    "# Validation Curve\n",
    "\n",
    "Examines the relationsship between how well the model did on the k-fold crossvalidation data, and how well it does on the test data, but for different values of lambda. \n",
    "\n",
    "This is a way to visualise how overfit the data is - if the difference is sizeable - and how biased it is - if the MSE is big. "
   ]
  },
  {
   "cell_type": "markdown",
   "metadata": {},
   "source": [
    "from sklearn.model_selection import validation_curve\n",
    "\n",
    "train_scores, test_scores = \\\n",
    "    validation_curve(estimator=pipe_ridgeCV,\n",
    "                     X=X_dev,\n",
    "                     y=y_dev,\n",
    "                     param_name='ridge__alpha',\n",
    "                     param_range=lambdas,\n",
    "                     scoring='neg_mean_squared_error',                 \n",
    "                     cv=5)\n",
    "\n",
    "mse_score = pd.DataFrame({'Train':-train_scores.mean(axis=1),\n",
    "                          'Validation':-test_scores.mean(axis=1),\n",
    "                          'lambda':lambdas})\\\n",
    "              .set_index('lambda')   \n",
    "print(mse_score.Validation.nsmallest(1))"
   ]
  },
  {
   "cell_type": "markdown",
   "metadata": {},
   "source": [
    "plt.style.use('ggplot')\n",
    "val_plot = mse_score.plot(logx=True, logy=True, title = 'Validation Curve')\n",
    "val_plot.set_xlabel('Lambda')\n",
    "val_plot.set_ylabel('MSE')\n",
    "val_plot.figure.savefig('Validation Curve - Ridge 3 degree.png')"
   ]
  }
 ],
 "metadata": {
  "kernelspec": {
   "display_name": "Python 3",
   "language": "python",
   "name": "python3"
  },
  "language_info": {
   "codemirror_mode": {
    "name": "ipython",
    "version": 3
   },
   "file_extension": ".py",
   "mimetype": "text/x-python",
   "name": "python",
   "nbconvert_exporter": "python",
   "pygments_lexer": "ipython3",
   "version": "3.7.3"
  }
 },
 "nbformat": 4,
 "nbformat_minor": 2
}
