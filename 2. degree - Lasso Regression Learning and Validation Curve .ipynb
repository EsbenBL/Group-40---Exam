{
 "cells": [
  {
   "cell_type": "markdown",
   "metadata": {},
   "source": [
    "# The Lasso Model"
   ]
  },
  {
   "cell_type": "code",
   "execution_count": 1,
   "metadata": {},
   "outputs": [],
   "source": [
    "from sklearn.linear_model import Lasso, LinearRegression, Ridge, ElasticNet\n",
    "from sklearn.pipeline import make_pipeline\n",
    "from sklearn.preprocessing import StandardScaler, PolynomialFeatures\n",
    "from sklearn.datasets import fetch_california_housing\n",
    "from sklearn.metrics import mean_squared_error as mse\n",
    "from sklearn.metrics import mean_absolute_error as mae\n",
    "from sklearn.model_selection import train_test_split\n",
    "import statsmodels.api as sm\n",
    "import tqdm\n",
    "from math import sqrt\n",
    "\n",
    "import warnings\n",
    "from sklearn.exceptions import ConvergenceWarning\n",
    "warnings.filterwarnings(action='ignore', category=ConvergenceWarning)\n",
    "\n",
    "\n",
    "import matplotlib.pyplot as plt\n",
    "import numpy as np \n",
    "import pandas as pd \n",
    "import seaborn as sns\n",
    "\n",
    "df = pd.read_csv('Boliga - Final for training.csv')\n",
    "df = df.drop(columns = ['Kommune', 'lotSize', 'Relativ Ledighed', 'Total_reported',\n",
    "                        'Socioeconomic_index', 'expenses_per_school_student',\n",
    "                       'expenses_sport_and_other_cultural_activities', 'forest_distance',\n",
    "                       'coast_distance', 'isForeclosure', 'Ejerudgift','buildYear'])\n",
    "\n",
    "#df_sample = df.sample(6000)\n",
    "pd.options.display.max_columns = None"
   ]
  },
  {
   "cell_type": "markdown",
   "metadata": {},
   "source": [
    "### Create dummies, and split X and Y"
   ]
  },
  {
   "cell_type": "code",
   "execution_count": 2,
   "metadata": {},
   "outputs": [],
   "source": [
    "df_dum = pd.get_dummies(df, drop_first = True, columns = ['Type'])\n",
    "X = df_dum.drop(columns = ['price'])\n",
    "y = df_dum['price']"
   ]
  },
  {
   "cell_type": "markdown",
   "metadata": {},
   "source": [
    "### Split into test, dev data"
   ]
  },
  {
   "cell_type": "code",
   "execution_count": 3,
   "metadata": {},
   "outputs": [],
   "source": [
    "from sklearn.model_selection import train_test_split\n",
    "\n",
    "X_dev, X_test, y_dev, y_test = train_test_split(X, y, test_size = 0.2, random_state = 1)"
   ]
  },
  {
   "cell_type": "markdown",
   "metadata": {},
   "source": [
    "## Train Lasso Regression (K-fold CV)\n",
    "\n",
    "Now we want to examine whether the a Lasso regression is more appropriate, and seeks to optimize the hyperparameter.\n",
    "We will train for an optimized hyperparameter on the validation set, to avoid data leakage and use k-fold crossvalidation to make sure that we have not split our dataset in a lucky or unlucky place. "
   ]
  },
  {
   "cell_type": "code",
   "execution_count": 4,
   "metadata": {},
   "outputs": [
    {
     "name": "stderr",
     "output_type": "stream",
     "text": [
      "100%|██████████| 15/15 [25:37<00:00, 38.70s/it] \n"
     ]
    }
   ],
   "source": [
    "from sklearn.model_selection import KFold\n",
    "\n",
    "#Split data into 5 folds\n",
    "kfolds = KFold(n_splits=5)\n",
    "folds = list(kfolds.split(X_dev, y_dev))\n",
    "\n",
    "#Create Lambda values\n",
    "lambdas = np.logspace(-1, 5, 15)\n",
    "# outer loop: lambdas\n",
    "mseCV = []\n",
    "\n",
    "for lambda_ in tqdm.tqdm(lambdas):    \n",
    "    # inner loop: folds\n",
    "    mseCV_ = []\n",
    "\n",
    "    for train_idx, val_idx in folds:        \n",
    "        # train model and compute MSE on test fold\n",
    "        pipe_LassoCV = make_pipeline(PolynomialFeatures(degree=2, include_bias=False),\n",
    "                                     StandardScaler(),\n",
    "                                     Lasso(alpha=lambda_, random_state=1))            \n",
    "        X_train, y_train = X_dev.iloc[train_idx], y_dev.iloc[train_idx]\n",
    "        X_val, y_val = X_dev.iloc[val_idx], y_dev.iloc[val_idx] \n",
    "        pipe_LassoCV.fit(X_train, y_train)        \n",
    "        mseCV_.append(mse(pipe_LassoCV.predict(X_val), y_val))\n",
    "\n",
    "        \n",
    "    # store result    \n",
    "    mseCV.append(mseCV_) \n",
    "    \n",
    "# convert to DataFrame\n",
    "lambda_mseCV_Lasso = pd.DataFrame(mseCV, index=lambdas)"
   ]
  },
  {
   "cell_type": "markdown",
   "metadata": {},
   "source": [
    "### MSE of the K-fold Crossvalidation - Ridge\n",
    "\n",
    "Lambda as index"
   ]
  },
  {
   "cell_type": "code",
   "execution_count": 5,
   "metadata": {},
   "outputs": [
    {
     "data": {
      "text/html": [
       "<div>\n",
       "<style scoped>\n",
       "    .dataframe tbody tr th:only-of-type {\n",
       "        vertical-align: middle;\n",
       "    }\n",
       "\n",
       "    .dataframe tbody tr th {\n",
       "        vertical-align: top;\n",
       "    }\n",
       "\n",
       "    .dataframe thead th {\n",
       "        text-align: right;\n",
       "    }\n",
       "</style>\n",
       "<table border=\"1\" class=\"dataframe\">\n",
       "  <thead>\n",
       "    <tr style=\"text-align: right;\">\n",
       "      <th></th>\n",
       "      <th>0</th>\n",
       "      <th>1</th>\n",
       "      <th>2</th>\n",
       "      <th>3</th>\n",
       "      <th>4</th>\n",
       "    </tr>\n",
       "  </thead>\n",
       "  <tbody>\n",
       "    <tr>\n",
       "      <th>0.100000</th>\n",
       "      <td>2.981767e+10</td>\n",
       "      <td>4.336287e+10</td>\n",
       "      <td>3.544822e+10</td>\n",
       "      <td>3.376505e+10</td>\n",
       "      <td>2.950072e+10</td>\n",
       "    </tr>\n",
       "    <tr>\n",
       "      <th>0.268270</th>\n",
       "      <td>2.981651e+10</td>\n",
       "      <td>4.336243e+10</td>\n",
       "      <td>3.544665e+10</td>\n",
       "      <td>3.376378e+10</td>\n",
       "      <td>2.949925e+10</td>\n",
       "    </tr>\n",
       "    <tr>\n",
       "      <th>0.719686</th>\n",
       "      <td>2.981339e+10</td>\n",
       "      <td>4.335928e+10</td>\n",
       "      <td>3.544249e+10</td>\n",
       "      <td>3.376038e+10</td>\n",
       "      <td>2.949534e+10</td>\n",
       "    </tr>\n",
       "    <tr>\n",
       "      <th>1.930698</th>\n",
       "      <td>2.980539e+10</td>\n",
       "      <td>4.335120e+10</td>\n",
       "      <td>3.543161e+10</td>\n",
       "      <td>3.375134e+10</td>\n",
       "      <td>2.948556e+10</td>\n",
       "    </tr>\n",
       "    <tr>\n",
       "      <th>5.179475</th>\n",
       "      <td>2.978548e+10</td>\n",
       "      <td>4.327720e+10</td>\n",
       "      <td>3.540523e+10</td>\n",
       "      <td>3.372923e+10</td>\n",
       "      <td>2.946294e+10</td>\n",
       "    </tr>\n",
       "    <tr>\n",
       "      <th>13.894955</th>\n",
       "      <td>2.973185e+10</td>\n",
       "      <td>4.284754e+10</td>\n",
       "      <td>3.535618e+10</td>\n",
       "      <td>3.368269e+10</td>\n",
       "      <td>2.941936e+10</td>\n",
       "    </tr>\n",
       "    <tr>\n",
       "      <th>37.275937</th>\n",
       "      <td>2.965526e+10</td>\n",
       "      <td>4.029795e+10</td>\n",
       "      <td>3.526788e+10</td>\n",
       "      <td>3.359274e+10</td>\n",
       "      <td>2.936263e+10</td>\n",
       "    </tr>\n",
       "    <tr>\n",
       "      <th>100.000000</th>\n",
       "      <td>2.967678e+10</td>\n",
       "      <td>3.492663e+10</td>\n",
       "      <td>3.520099e+10</td>\n",
       "      <td>3.367042e+10</td>\n",
       "      <td>2.930598e+10</td>\n",
       "    </tr>\n",
       "    <tr>\n",
       "      <th>268.269580</th>\n",
       "      <td>2.989083e+10</td>\n",
       "      <td>3.085626e+10</td>\n",
       "      <td>3.545048e+10</td>\n",
       "      <td>3.404172e+10</td>\n",
       "      <td>2.962875e+10</td>\n",
       "    </tr>\n",
       "    <tr>\n",
       "      <th>719.685673</th>\n",
       "      <td>3.058663e+10</td>\n",
       "      <td>3.084713e+10</td>\n",
       "      <td>3.584246e+10</td>\n",
       "      <td>3.474121e+10</td>\n",
       "      <td>3.091758e+10</td>\n",
       "    </tr>\n",
       "    <tr>\n",
       "      <th>1930.697729</th>\n",
       "      <td>3.196231e+10</td>\n",
       "      <td>2.930806e+10</td>\n",
       "      <td>3.848628e+10</td>\n",
       "      <td>3.648209e+10</td>\n",
       "      <td>3.180707e+10</td>\n",
       "    </tr>\n",
       "    <tr>\n",
       "      <th>5179.474679</th>\n",
       "      <td>3.816466e+10</td>\n",
       "      <td>3.577647e+10</td>\n",
       "      <td>4.447272e+10</td>\n",
       "      <td>4.201037e+10</td>\n",
       "      <td>3.662356e+10</td>\n",
       "    </tr>\n",
       "    <tr>\n",
       "      <th>13894.954944</th>\n",
       "      <td>4.580366e+10</td>\n",
       "      <td>4.332136e+10</td>\n",
       "      <td>5.252368e+10</td>\n",
       "      <td>4.978762e+10</td>\n",
       "      <td>4.367879e+10</td>\n",
       "    </tr>\n",
       "    <tr>\n",
       "      <th>37275.937203</th>\n",
       "      <td>5.069020e+10</td>\n",
       "      <td>4.861293e+10</td>\n",
       "      <td>5.821499e+10</td>\n",
       "      <td>5.457368e+10</td>\n",
       "      <td>4.880339e+10</td>\n",
       "    </tr>\n",
       "    <tr>\n",
       "      <th>100000.000000</th>\n",
       "      <td>7.496028e+10</td>\n",
       "      <td>6.966003e+10</td>\n",
       "      <td>8.596915e+10</td>\n",
       "      <td>7.863782e+10</td>\n",
       "      <td>6.854229e+10</td>\n",
       "    </tr>\n",
       "  </tbody>\n",
       "</table>\n",
       "</div>"
      ],
      "text/plain": [
       "                          0             1             2             3  \\\n",
       "0.100000       2.981767e+10  4.336287e+10  3.544822e+10  3.376505e+10   \n",
       "0.268270       2.981651e+10  4.336243e+10  3.544665e+10  3.376378e+10   \n",
       "0.719686       2.981339e+10  4.335928e+10  3.544249e+10  3.376038e+10   \n",
       "1.930698       2.980539e+10  4.335120e+10  3.543161e+10  3.375134e+10   \n",
       "5.179475       2.978548e+10  4.327720e+10  3.540523e+10  3.372923e+10   \n",
       "13.894955      2.973185e+10  4.284754e+10  3.535618e+10  3.368269e+10   \n",
       "37.275937      2.965526e+10  4.029795e+10  3.526788e+10  3.359274e+10   \n",
       "100.000000     2.967678e+10  3.492663e+10  3.520099e+10  3.367042e+10   \n",
       "268.269580     2.989083e+10  3.085626e+10  3.545048e+10  3.404172e+10   \n",
       "719.685673     3.058663e+10  3.084713e+10  3.584246e+10  3.474121e+10   \n",
       "1930.697729    3.196231e+10  2.930806e+10  3.848628e+10  3.648209e+10   \n",
       "5179.474679    3.816466e+10  3.577647e+10  4.447272e+10  4.201037e+10   \n",
       "13894.954944   4.580366e+10  4.332136e+10  5.252368e+10  4.978762e+10   \n",
       "37275.937203   5.069020e+10  4.861293e+10  5.821499e+10  5.457368e+10   \n",
       "100000.000000  7.496028e+10  6.966003e+10  8.596915e+10  7.863782e+10   \n",
       "\n",
       "                          4  \n",
       "0.100000       2.950072e+10  \n",
       "0.268270       2.949925e+10  \n",
       "0.719686       2.949534e+10  \n",
       "1.930698       2.948556e+10  \n",
       "5.179475       2.946294e+10  \n",
       "13.894955      2.941936e+10  \n",
       "37.275937      2.936263e+10  \n",
       "100.000000     2.930598e+10  \n",
       "268.269580     2.962875e+10  \n",
       "719.685673     3.091758e+10  \n",
       "1930.697729    3.180707e+10  \n",
       "5179.474679    3.662356e+10  \n",
       "13894.954944   4.367879e+10  \n",
       "37275.937203   4.880339e+10  \n",
       "100000.000000  6.854229e+10  "
      ]
     },
     "execution_count": 5,
     "metadata": {},
     "output_type": "execute_result"
    }
   ],
   "source": [
    "lambda_mseCV_Lasso"
   ]
  },
  {
   "cell_type": "markdown",
   "metadata": {},
   "source": [
    "###  Mean MSE of K-fold CV - Ridge"
   ]
  },
  {
   "cell_type": "code",
   "execution_count": 6,
   "metadata": {},
   "outputs": [],
   "source": [
    "# Calculates the mean of the folds\n",
    "mse_mean_Lasso = lambda_mseCV_Lasso.mean(axis = 1)"
   ]
  },
  {
   "cell_type": "markdown",
   "metadata": {},
   "source": [
    "### Plot Average MSE over Lambda - Ridge"
   ]
  },
  {
   "cell_type": "code",
   "execution_count": 7,
   "metadata": {},
   "outputs": [
    {
     "data": {
      "text/plain": [
       "[Text(0, 0.5, 'MSE'), Text(0.5, 0, 'Lambda')]"
      ]
     },
     "execution_count": 7,
     "metadata": {},
     "output_type": "execute_result"
    },
    {
     "data": {
      "image/png": "[encoded data removed]",
      "text/plain": [
       "<Figure size 432x288 with 1 Axes>"
      ]
     },
     "metadata": {
      "needs_background": "light"
     },
     "output_type": "display_data"
    }
   ],
   "source": [
    "#Plot mean square errors\n",
    "COL = ['Average MSE']\n",
    "mse_mean_Lasso.columns = COL\n",
    "\n",
    "#Both axis are logarythmical \n",
    "ax = mse_mean_Lasso.plot(logx = True, logy = True)\n",
    "ax.set(xlabel = 'Lambda', ylabel = 'MSE')\n"
   ]
  },
  {
   "cell_type": "markdown",
   "metadata": {},
   "source": [
    "### Finding the optimal hyperparameter for Lasso\n",
    "\n",
    "Where was the mean mse smallest?"
   ]
  },
  {
   "cell_type": "code",
   "execution_count": 8,
   "metadata": {},
   "outputs": [
    {
     "data": {
      "text/plain": [
       "268.26958    3.197361e+10\n",
       "dtype: float64"
      ]
     },
     "execution_count": 8,
     "metadata": {},
     "output_type": "execute_result"
    }
   ],
   "source": [
    "mse_mean_Lasso.nsmallest(1)"
   ]
  },
  {
   "cell_type": "code",
   "execution_count": 9,
   "metadata": {},
   "outputs": [
    {
     "name": "stdout",
     "output_type": "stream",
     "text": [
      "MSE: Lasso CV 58874104818.56\n",
      "RMSE: Lasso CV 242639.87\n",
      "MAE: Lasso CV 48709.06\n"
     ]
    }
   ],
   "source": [
    "# Optimal lambda is inserted into the Lasso-model\n",
    "optimal_lambda_Lasso = lambda_mseCV_Lasso.mean(axis=1).nsmallest(1)\n",
    "\n",
    "# retrain/re-estimate model using optimal hyperparameters\n",
    "pipe_LassoCV = make_pipeline(PolynomialFeatures(degree = 2, include_bias=False), \n",
    "                             StandardScaler(),\n",
    "                             Lasso(alpha=optimal_lambda_Lasso.index[0], random_state=1))\n",
    "pipe_LassoCV.fit(X_dev,y_dev)\n",
    "\n",
    "# compare performance by mse\n",
    "models = {'Lasso CV': pipe_LassoCV}\n",
    "for name, model in models.items():\n",
    "    score_mse = mse(model.predict(X_test),y_test)\n",
    "    score_mae = mae(model.predict(X_test),y_test)\n",
    "    score_rmse = sqrt(mse(model.predict(X_test),y_test))\n",
    "    \n",
    "    print(\"MSE: \" + name, round(score_mse, 2))\n",
    "    print(\"RMSE: \" + name, round(score_rmse, 2))\n",
    "    print(\"MAE: \" + name, round(score_mae, 2))"
   ]
  },
  {
   "cell_type": "markdown",
   "metadata": {},
   "source": [
    "# Learning Curve of Lasso regression:\n",
    "\n",
    "Since the Lasso regression performed best, we will examine it's performance on out-of-sample data a bit further. "
   ]
  },
  {
   "cell_type": "code",
   "execution_count": 10,
   "metadata": {},
   "outputs": [
    {
     "name": "stdout",
     "output_type": "stream",
     "text": [
      "                    Train    Validation\n",
      "sample size                            \n",
      "7887         2.880325e+10  7.600031e+10\n",
      "9858         2.710784e+10  7.193077e+10\n",
      "11830        3.030394e+10  5.977592e+10\n"
     ]
    }
   ],
   "source": [
    "from sklearn.model_selection import learning_curve\n",
    "\n",
    "train_sizes, train_scores, test_scores = \\\n",
    "    learning_curve(estimator=pipe_LassoCV,\n",
    "                   X=X_dev,\n",
    "                   y=y_dev,\n",
    "                   train_sizes=np.arange(0.2, 1.05, .05),\n",
    "                   scoring='neg_mean_squared_error',                 \n",
    "                   cv=5)\n",
    "\n",
    "\n",
    "mse_ = pd.DataFrame({'Train':-train_scores.mean(axis=1),\n",
    "                     'Validation':-test_scores.mean(axis=1)})\\\n",
    "        .set_index(pd.Index(train_sizes,name='sample size'))    \n",
    "print(mse_.head(3))"
   ]
  },
  {
   "cell_type": "code",
   "execution_count": 11,
   "metadata": {},
   "outputs": [
    {
     "data": {
      "text/plain": [
       "<matplotlib.legend.Legend at 0x1c2266c630>"
      ]
     },
     "execution_count": 11,
     "metadata": {},
     "output_type": "execute_result"
    },
    {
     "data": {
      "image/png": "[encoded data removed]",
      "text/plain": [
       "<Figure size 720x288 with 1 Axes>"
      ]
     },
     "metadata": {},
     "output_type": "display_data"
    }
   ],
   "source": [
    "plt.style.use('ggplot')\n",
    "f_learn, ax = plt.subplots(figsize=(10,4))\n",
    "ax.fill_between(train_sizes,\n",
    "                -test_scores.mean(1) + test_scores.std(1)*1.96,\n",
    "                -test_scores.mean(1) - test_scores.std(1)*1.96, \n",
    "                alpha=0.25, label ='Validation', color='blue')\n",
    "\n",
    "ax.fill_between(train_sizes,\n",
    "                -train_scores.mean(1) + train_scores.std(1)*1.96,\n",
    "                -train_scores.mean(1) - train_scores.std(1)*1.96, \n",
    "                alpha=0.25, label='Train', color='orange')\n",
    "ax.set_ylabel('Mean squared error')\n",
    "ax.set_xlabel('Sample size')\n",
    "ax.set_title('Learning Curve')\n",
    "ax.set_yscale('log')\n",
    "ax.legend()\n",
    "#f_learn.savefig('Learning curve - Lasso 2 degree.png')"
   ]
  },
  {
   "cell_type": "markdown",
   "metadata": {},
   "source": [
    "# Validation Curve\n",
    "\n",
    "Examines the relationsship between how well the model did on the k-fold crossvalidation data, and how well it does on the test data, but for different values of lambda. \n",
    "\n",
    "This is a way to visualise how overfit the data is - if the difference is sizeable - and how biased it is - if the MSE is big. "
   ]
  },
  {
   "cell_type": "code",
   "execution_count": 12,
   "metadata": {},
   "outputs": [
    {
     "name": "stdout",
     "output_type": "stream",
     "text": [
      "lambda\n",
      "1930.697729    3.431300e+10\n",
      "Name: Validation, dtype: float64\n"
     ]
    }
   ],
   "source": [
    "from sklearn.model_selection import validation_curve\n",
    "\n",
    "train_scores, test_scores = \\\n",
    "    validation_curve(estimator=pipe_LassoCV,\n",
    "                     X=X_train,\n",
    "                     y=y_train,\n",
    "                     param_name='lasso__alpha',\n",
    "                     param_range=lambdas,\n",
    "                     scoring='neg_mean_squared_error',                 \n",
    "                     cv=5)\n",
    "\n",
    "mse_score = pd.DataFrame({'Train':-train_scores.mean(axis=1),\n",
    "                          'Validation':-test_scores.mean(axis=1),\n",
    "                          'lambda':lambdas})\\\n",
    "              .set_index('lambda')   \n",
    "print(mse_score.Validation.nsmallest(1))"
   ]
  },
  {
   "cell_type": "code",
   "execution_count": 13,
   "metadata": {},
   "outputs": [
    {
     "data": {
      "text/plain": [
       "Text(0, 0.5, 'MSE')"
      ]
     },
     "execution_count": 13,
     "metadata": {},
     "output_type": "execute_result"
    },
    {
     "data": {
      "image/png": "[encoded data removed]",
      "text/plain": [
       "<Figure size 432x288 with 1 Axes>"
      ]
     },
     "metadata": {},
     "output_type": "display_data"
    }
   ],
   "source": [
    "plt.style.use('ggplot')\n",
    "val_plot = mse_score.plot(logx=True, logy=True, title = 'Validation Curve')\n",
    "val_plot.set_xlabel('Lambda')\n",
    "val_plot.set_ylabel('MSE')\n",
    "#val_plot.figure.savefig('Validation Curve - Lasso 2 degree.png')"
   ]
  }
 ],
 "metadata": {
  "kernelspec": {
   "display_name": "Python 3",
   "language": "python",
   "name": "python3"
  },
  "language_info": {
   "codemirror_mode": {
    "name": "ipython",
    "version": 3
   },
   "file_extension": ".py",
   "mimetype": "text/x-python",
   "name": "python",
   "nbconvert_exporter": "python",
   "pygments_lexer": "ipython3",
   "version": "3.7.3"
  }
 },
 "nbformat": 4,
 "nbformat_minor": 2
}
