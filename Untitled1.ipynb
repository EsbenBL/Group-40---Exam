{
 "cells": [
  {
   "cell_type": "code",
   "execution_count": 1,
   "metadata": {},
   "outputs": [],
   "source": [
    "import requests\n",
    "import json\n",
    "import pandas as pd\n",
    "import tqdm\n",
    "\n",
    "url = 'http://dawa.aws.dk/vejstykker'\n",
    "\n",
    "response = requests.get(url).json()"
   ]
  },
  {
   "cell_type": "code",
   "execution_count": 23,
   "metadata": {},
   "outputs": [
    {
     "name": "stderr",
     "output_type": "stream",
     "text": [
      "100%|██████████| 111390/111390 [28:05<00:00, 66.09it/s]\n"
     ]
    }
   ],
   "source": [
    "#Bliver nød til at skrive Postnr = None, da nogle ikke har en list med postnr i.\n",
    "\n",
    "COL = ['Gade', 'Kommune', 'Postnr']\n",
    "df = pd.DataFrame(columns = COL)\n",
    "In\n",
    "for i in tqdm.tqdm(response):\n",
    "    try:\n",
    "        df = df.append({'Postnr' : i['postnumre'][0]['nr'],\n",
    "                        'Kommune': i['kommune']['navn'],\n",
    "                        'Gade': i['navn']}, ignore_index=True)\n",
    "    except IndexError:\n",
    "        df = df.append({'Postnr' : None,\n",
    "                        'Kommune': i['kommune']['navn'],\n",
    "                        'Gade': i['navn']}, ignore_index=True)"
   ]
  },
  {
   "cell_type": "code",
   "execution_count": 32,
   "metadata": {},
   "outputs": [],
   "source": [
    "# Convert to CSV\n",
    "df.to_csv('Gade_Postnr_Gade.csv')"
   ]
  },
  {
   "cell_type": "code",
   "execution_count": null,
   "metadata": {},
   "outputs": [],
   "source": []
  }
 ],
 "metadata": {
  "kernelspec": {
   "display_name": "Python 3",
   "language": "python",
   "name": "python3"
  },
  "language_info": {
   "codemirror_mode": {
    "name": "ipython",
    "version": 3
   },
   "file_extension": ".py",
   "mimetype": "text/x-python",
   "name": "python",
   "nbconvert_exporter": "python",
   "pygments_lexer": "ipython3",
   "version": "3.7.3"
  }
 },
 "nbformat": 4,
 "nbformat_minor": 2
}
