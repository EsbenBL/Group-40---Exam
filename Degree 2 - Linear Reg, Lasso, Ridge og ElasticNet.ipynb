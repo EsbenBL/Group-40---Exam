{
 "cells": [
  {
   "cell_type": "markdown",
   "metadata": {},
   "source": [
    "# Training of model"
   ]
  },
  {
   "cell_type": "code",
   "execution_count": 1,
   "metadata": {},
   "outputs": [
    {
     "name": "stderr",
     "output_type": "stream",
     "text": [
      "/anaconda3/lib/python3.7/site-packages/statsmodels/compat/pandas.py:49: FutureWarning: The Panel class is removed from pandas. Accessing it from the top-level namespace will also be removed in the next version\n",
      "  data_klasses = (pandas.Series, pandas.DataFrame, pandas.Panel)\n"
     ]
    }
   ],
   "source": [
    "from sklearn.linear_model import Lasso, LinearRegression, Ridge, ElasticNet\n",
    "from sklearn.pipeline import make_pipeline\n",
    "from sklearn.preprocessing import StandardScaler, PolynomialFeatures\n",
    "from sklearn.datasets import fetch_california_housing\n",
    "from sklearn.metrics import mean_squared_error as mse\n",
    "from sklearn.metrics import mean_absolute_error as mae\n",
    "from sklearn.model_selection import train_test_split\n",
    "import statsmodels.api as sm\n",
    "import tqdm\n",
    "from math import sqrt\n",
    "\n",
    "import warnings\n",
    "from sklearn.exceptions import ConvergenceWarning\n",
    "warnings.filterwarnings(action='ignore', category=ConvergenceWarning)\n",
    "\n",
    "\n",
    "import matplotlib.pyplot as plt\n",
    "import numpy as np \n",
    "import pandas as pd \n",
    "import seaborn as sns\n",
    "\n",
    "df = pd.read_csv('Boliga - Final for training.csv')\n",
    "df = df.drop(columns = ['Kommune', 'lotSize', 'Relativ Ledighed', 'Total_reported',\n",
    "                        'Socioeconomic_index', 'expenses_per_school_student',\n",
    "                       'expenses_sport_and_other_cultural_activities', 'forest_distance',\n",
    "                       'coast_distance', 'isForeclosure', 'Ejerudgift','buildYear'])\n",
    "\n",
    "#df_sample = df.sample(1000)\n",
    "pd.options.display.max_columns = None"
   ]
  },
  {
   "cell_type": "code",
   "execution_count": 2,
   "metadata": {},
   "outputs": [
    {
     "data": {
      "text/plain": [
       "(61618, 26)"
      ]
     },
     "execution_count": 2,
     "metadata": {},
     "output_type": "execute_result"
    }
   ],
   "source": [
    "df.shape"
   ]
  },
  {
   "cell_type": "code",
   "execution_count": 3,
   "metadata": {},
   "outputs": [
    {
     "data": {
      "text/html": [
       "<div>\n",
       "<style scoped>\n",
       "    .dataframe tbody tr th:only-of-type {\n",
       "        vertical-align: middle;\n",
       "    }\n",
       "\n",
       "    .dataframe tbody tr th {\n",
       "        vertical-align: top;\n",
       "    }\n",
       "\n",
       "    .dataframe thead th {\n",
       "        text-align: right;\n",
       "    }\n",
       "</style>\n",
       "<table border=\"1\" class=\"dataframe\">\n",
       "  <thead>\n",
       "    <tr style=\"text-align: right;\">\n",
       "      <th></th>\n",
       "      <th>basementSize</th>\n",
       "      <th>price</th>\n",
       "      <th>rooms</th>\n",
       "      <th>size</th>\n",
       "      <th>squaremeterPrice</th>\n",
       "      <th>Type</th>\n",
       "      <th>Grundskole</th>\n",
       "      <th>Gymnasiale uddannelser</th>\n",
       "      <th>Erhvervsfaglige uddannelser</th>\n",
       "      <th>KVU</th>\n",
       "      <th>MVU</th>\n",
       "      <th>Bacheloruddannelser</th>\n",
       "      <th>LVU</th>\n",
       "      <th>Kommunal_gennemsnitsinkomst_2017</th>\n",
       "      <th>Population_in_urban_development</th>\n",
       "      <th>average_class_size</th>\n",
       "      <th>lake_distance</th>\n",
       "      <th>doctor_distance</th>\n",
       "      <th>supermarket_distance</th>\n",
       "      <th>school_distance</th>\n",
       "      <th>daycare_distance</th>\n",
       "      <th>hospital_distance</th>\n",
       "      <th>train_distance</th>\n",
       "      <th>pharmacy_distance</th>\n",
       "      <th>library_distance</th>\n",
       "      <th>junction_distance</th>\n",
       "    </tr>\n",
       "  </thead>\n",
       "  <tbody>\n",
       "    <tr>\n",
       "      <th>0</th>\n",
       "      <td>0</td>\n",
       "      <td>18750000</td>\n",
       "      <td>6.0</td>\n",
       "      <td>280</td>\n",
       "      <td>66964.0</td>\n",
       "      <td>Ejerlejlighed</td>\n",
       "      <td>13.754726</td>\n",
       "      <td>7.646977</td>\n",
       "      <td>19.268325</td>\n",
       "      <td>4.928181</td>\n",
       "      <td>17.977495</td>\n",
       "      <td>3.627649</td>\n",
       "      <td>26.658495</td>\n",
       "      <td>319745</td>\n",
       "      <td>100.0</td>\n",
       "      <td>22.8</td>\n",
       "      <td>1.13204</td>\n",
       "      <td>0.11111</td>\n",
       "      <td>0.24096</td>\n",
       "      <td>0.35005</td>\n",
       "      <td>0.39428</td>\n",
       "      <td>2.67332</td>\n",
       "      <td>1.05650</td>\n",
       "      <td>0.38665</td>\n",
       "      <td>0.92771</td>\n",
       "      <td>4.65646</td>\n",
       "    </tr>\n",
       "    <tr>\n",
       "      <th>1</th>\n",
       "      <td>88</td>\n",
       "      <td>10500000</td>\n",
       "      <td>4.0</td>\n",
       "      <td>83</td>\n",
       "      <td>126506.0</td>\n",
       "      <td>Ejerlejlighed</td>\n",
       "      <td>13.754726</td>\n",
       "      <td>7.646977</td>\n",
       "      <td>19.268325</td>\n",
       "      <td>4.928181</td>\n",
       "      <td>17.977495</td>\n",
       "      <td>3.627649</td>\n",
       "      <td>26.658495</td>\n",
       "      <td>319745</td>\n",
       "      <td>100.0</td>\n",
       "      <td>22.8</td>\n",
       "      <td>1.20441</td>\n",
       "      <td>0.29860</td>\n",
       "      <td>0.59852</td>\n",
       "      <td>0.42607</td>\n",
       "      <td>0.43139</td>\n",
       "      <td>2.95715</td>\n",
       "      <td>1.41122</td>\n",
       "      <td>0.70159</td>\n",
       "      <td>1.23705</td>\n",
       "      <td>4.94359</td>\n",
       "    </tr>\n",
       "    <tr>\n",
       "      <th>2</th>\n",
       "      <td>0</td>\n",
       "      <td>15000000</td>\n",
       "      <td>7.0</td>\n",
       "      <td>274</td>\n",
       "      <td>54744.0</td>\n",
       "      <td>Ejerlejlighed</td>\n",
       "      <td>13.754726</td>\n",
       "      <td>7.646977</td>\n",
       "      <td>19.268325</td>\n",
       "      <td>4.928181</td>\n",
       "      <td>17.977495</td>\n",
       "      <td>3.627649</td>\n",
       "      <td>26.658495</td>\n",
       "      <td>319745</td>\n",
       "      <td>100.0</td>\n",
       "      <td>22.8</td>\n",
       "      <td>1.18899</td>\n",
       "      <td>0.26852</td>\n",
       "      <td>0.71105</td>\n",
       "      <td>0.48610</td>\n",
       "      <td>0.40131</td>\n",
       "      <td>2.92707</td>\n",
       "      <td>1.38115</td>\n",
       "      <td>0.67141</td>\n",
       "      <td>1.29708</td>\n",
       "      <td>4.91351</td>\n",
       "    </tr>\n",
       "    <tr>\n",
       "      <th>3</th>\n",
       "      <td>0</td>\n",
       "      <td>19995000</td>\n",
       "      <td>7.0</td>\n",
       "      <td>296</td>\n",
       "      <td>67550.0</td>\n",
       "      <td>Ejerlejlighed</td>\n",
       "      <td>13.754726</td>\n",
       "      <td>7.646977</td>\n",
       "      <td>19.268325</td>\n",
       "      <td>4.928181</td>\n",
       "      <td>17.977495</td>\n",
       "      <td>3.627649</td>\n",
       "      <td>26.658495</td>\n",
       "      <td>319745</td>\n",
       "      <td>100.0</td>\n",
       "      <td>22.8</td>\n",
       "      <td>1.20441</td>\n",
       "      <td>0.29860</td>\n",
       "      <td>0.59852</td>\n",
       "      <td>0.42607</td>\n",
       "      <td>0.43139</td>\n",
       "      <td>2.95715</td>\n",
       "      <td>1.41122</td>\n",
       "      <td>0.70159</td>\n",
       "      <td>1.23705</td>\n",
       "      <td>4.94359</td>\n",
       "    </tr>\n",
       "    <tr>\n",
       "      <th>4</th>\n",
       "      <td>0</td>\n",
       "      <td>8750000</td>\n",
       "      <td>7.0</td>\n",
       "      <td>163</td>\n",
       "      <td>53680.0</td>\n",
       "      <td>Ejerlejlighed</td>\n",
       "      <td>13.754726</td>\n",
       "      <td>7.646977</td>\n",
       "      <td>19.268325</td>\n",
       "      <td>4.928181</td>\n",
       "      <td>17.977495</td>\n",
       "      <td>3.627649</td>\n",
       "      <td>26.658495</td>\n",
       "      <td>319745</td>\n",
       "      <td>100.0</td>\n",
       "      <td>22.8</td>\n",
       "      <td>1.25292</td>\n",
       "      <td>0.39571</td>\n",
       "      <td>0.64693</td>\n",
       "      <td>0.36048</td>\n",
       "      <td>0.52840</td>\n",
       "      <td>3.05426</td>\n",
       "      <td>1.50833</td>\n",
       "      <td>0.79860</td>\n",
       "      <td>1.16766</td>\n",
       "      <td>5.04060</td>\n",
       "    </tr>\n",
       "  </tbody>\n",
       "</table>\n",
       "</div>"
      ],
      "text/plain": [
       "   basementSize     price  rooms  size  squaremeterPrice           Type  \\\n",
       "0             0  18750000    6.0   280           66964.0  Ejerlejlighed   \n",
       "1            88  10500000    4.0    83          126506.0  Ejerlejlighed   \n",
       "2             0  15000000    7.0   274           54744.0  Ejerlejlighed   \n",
       "3             0  19995000    7.0   296           67550.0  Ejerlejlighed   \n",
       "4             0   8750000    7.0   163           53680.0  Ejerlejlighed   \n",
       "\n",
       "   Grundskole  Gymnasiale uddannelser  Erhvervsfaglige uddannelser       KVU  \\\n",
       "0   13.754726                7.646977                    19.268325  4.928181   \n",
       "1   13.754726                7.646977                    19.268325  4.928181   \n",
       "2   13.754726                7.646977                    19.268325  4.928181   \n",
       "3   13.754726                7.646977                    19.268325  4.928181   \n",
       "4   13.754726                7.646977                    19.268325  4.928181   \n",
       "\n",
       "         MVU  Bacheloruddannelser        LVU  \\\n",
       "0  17.977495             3.627649  26.658495   \n",
       "1  17.977495             3.627649  26.658495   \n",
       "2  17.977495             3.627649  26.658495   \n",
       "3  17.977495             3.627649  26.658495   \n",
       "4  17.977495             3.627649  26.658495   \n",
       "\n",
       "   Kommunal_gennemsnitsinkomst_2017  Population_in_urban_development  \\\n",
       "0                            319745                            100.0   \n",
       "1                            319745                            100.0   \n",
       "2                            319745                            100.0   \n",
       "3                            319745                            100.0   \n",
       "4                            319745                            100.0   \n",
       "\n",
       "   average_class_size  lake_distance  doctor_distance  supermarket_distance  \\\n",
       "0                22.8        1.13204          0.11111               0.24096   \n",
       "1                22.8        1.20441          0.29860               0.59852   \n",
       "2                22.8        1.18899          0.26852               0.71105   \n",
       "3                22.8        1.20441          0.29860               0.59852   \n",
       "4                22.8        1.25292          0.39571               0.64693   \n",
       "\n",
       "   school_distance  daycare_distance  hospital_distance  train_distance  \\\n",
       "0          0.35005           0.39428            2.67332         1.05650   \n",
       "1          0.42607           0.43139            2.95715         1.41122   \n",
       "2          0.48610           0.40131            2.92707         1.38115   \n",
       "3          0.42607           0.43139            2.95715         1.41122   \n",
       "4          0.36048           0.52840            3.05426         1.50833   \n",
       "\n",
       "   pharmacy_distance  library_distance  junction_distance  \n",
       "0            0.38665           0.92771            4.65646  \n",
       "1            0.70159           1.23705            4.94359  \n",
       "2            0.67141           1.29708            4.91351  \n",
       "3            0.70159           1.23705            4.94359  \n",
       "4            0.79860           1.16766            5.04060  "
      ]
     },
     "execution_count": 3,
     "metadata": {},
     "output_type": "execute_result"
    }
   ],
   "source": [
    "df.head()"
   ]
  },
  {
   "cell_type": "markdown",
   "metadata": {},
   "source": [
    "### Create dummies, and split X and Y"
   ]
  },
  {
   "cell_type": "code",
   "execution_count": 4,
   "metadata": {},
   "outputs": [],
   "source": [
    "df_dum = pd.get_dummies(df, drop_first = True, columns = ['Type'])\n",
    "X = df_dum.drop(columns = ['price'])\n",
    "y = df_dum['price']"
   ]
  },
  {
   "cell_type": "markdown",
   "metadata": {},
   "source": [
    "### Split into test, dev, val and train data"
   ]
  },
  {
   "cell_type": "code",
   "execution_count": 5,
   "metadata": {},
   "outputs": [],
   "source": [
    "from sklearn.model_selection import train_test_split\n",
    "\n",
    "X_dev, X_test, y_dev, y_test = train_test_split(X, y, test_size = 0.2, random_state = 1)\n",
    "\n",
    "#X_train, X_val, y_train, y_val = train_test_split(X_dev, y_dev, test_size = 0.5, random_state = 1)"
   ]
  },
  {
   "cell_type": "markdown",
   "metadata": {},
   "source": [
    "### Linear Regression Model\n",
    "\n",
    "First, we train (fit) a linear regression on the development (in this case the **training**) data, as it does not need validation (no hyperparameter needs to be optimized)"
   ]
  },
  {
   "cell_type": "code",
   "execution_count": 6,
   "metadata": {},
   "outputs": [
    {
     "data": {
      "text/plain": [
       "Pipeline(memory=None,\n",
       "     steps=[('polynomialfeatures', PolynomialFeatures(degree=2, include_bias=True, interaction_only=False)), ('standardscaler', StandardScaler(copy=True, with_mean=0, with_std=True)), ('linearregression', LinearRegression(copy_X=True, fit_intercept=True, n_jobs=1, normalize=False))])"
      ]
     },
     "execution_count": 6,
     "metadata": {},
     "output_type": "execute_result"
    }
   ],
   "source": [
    "#Create pipeline (pipe_lr which will be used later, to compare Lasso and LR)\n",
    "pipe_lr = make_pipeline(PolynomialFeatures(include_bias=True, degree = 2), \n",
    "                        StandardScaler(with_mean = 0, with_std = True),\n",
    "                        LinearRegression())\n",
    "\n",
    "#Fit pipline to dev-data\n",
    "pipe_lr.fit(X_dev, y_dev)"
   ]
  },
  {
   "cell_type": "markdown",
   "metadata": {},
   "source": [
    "### OLS (linear regression) estimations table\n",
    "\n",
    "Find a way to get the OLS estimates out here, in a table"
   ]
  },
  {
   "cell_type": "code",
   "execution_count": 7,
   "metadata": {},
   "outputs": [
    {
     "data": {
      "text/html": [
       "<table class=\"simpletable\">\n",
       "<caption>OLS Regression Results</caption>\n",
       "<tr>\n",
       "  <th>Dep. Variable:</th>          <td>price</td>      <th>  R-squared:         </th>  <td>   0.815</td>  \n",
       "</tr>\n",
       "<tr>\n",
       "  <th>Model:</th>                   <td>OLS</td>       <th>  Adj. R-squared:    </th>  <td>   0.815</td>  \n",
       "</tr>\n",
       "<tr>\n",
       "  <th>Method:</th>             <td>Least Squares</td>  <th>  F-statistic:       </th>  <td>   6788.</td>  \n",
       "</tr>\n",
       "<tr>\n",
       "  <th>Date:</th>             <td>Wed, 28 Aug 2019</td> <th>  Prob (F-statistic):</th>   <td>  0.00</td>   \n",
       "</tr>\n",
       "<tr>\n",
       "  <th>Time:</th>                 <td>13:41:28</td>     <th>  Log-Likelihood:    </th> <td>-7.6789e+05</td>\n",
       "</tr>\n",
       "<tr>\n",
       "  <th>No. Observations:</th>      <td> 49294</td>      <th>  AIC:               </th>  <td>1.536e+06</td> \n",
       "</tr>\n",
       "<tr>\n",
       "  <th>Df Residuals:</th>          <td> 49262</td>      <th>  BIC:               </th>  <td>1.536e+06</td> \n",
       "</tr>\n",
       "<tr>\n",
       "  <th>Df Model:</th>              <td>    32</td>      <th>                     </th>      <td> </td>     \n",
       "</tr>\n",
       "<tr>\n",
       "  <th>Covariance Type:</th>      <td>nonrobust</td>    <th>                     </th>      <td> </td>     \n",
       "</tr>\n",
       "</table>\n",
       "<table class=\"simpletable\">\n",
       "<tr>\n",
       "                  <td></td>                    <th>coef</th>     <th>std err</th>      <th>t</th>      <th>P>|t|</th>  <th>[0.025</th>    <th>0.975]</th>  \n",
       "</tr>\n",
       "<tr>\n",
       "  <th>basementSize</th>                     <td> 7160.6119</td> <td>  217.991</td> <td>   32.848</td> <td> 0.000</td> <td> 6733.347</td> <td> 7587.876</td>\n",
       "</tr>\n",
       "<tr>\n",
       "  <th>rooms</th>                            <td>-1.502e+04</td> <td> 5914.425</td> <td>   -2.539</td> <td> 0.011</td> <td>-2.66e+04</td> <td>-3426.607</td>\n",
       "</tr>\n",
       "<tr>\n",
       "  <th>size</th>                             <td> 1.736e+04</td> <td>  167.508</td> <td>  103.641</td> <td> 0.000</td> <td>  1.7e+04</td> <td> 1.77e+04</td>\n",
       "</tr>\n",
       "<tr>\n",
       "  <th>squaremeterPrice</th>                 <td>   51.3456</td> <td>    0.442</td> <td>  116.113</td> <td> 0.000</td> <td>   50.479</td> <td>   52.212</td>\n",
       "</tr>\n",
       "<tr>\n",
       "  <th>Grundskole</th>                       <td>-3.515e+04</td> <td> 3757.451</td> <td>   -9.355</td> <td> 0.000</td> <td>-4.25e+04</td> <td>-2.78e+04</td>\n",
       "</tr>\n",
       "<tr>\n",
       "  <th>Gymnasiale uddannelser</th>           <td> 2.068e+05</td> <td> 1.39e+04</td> <td>   14.893</td> <td> 0.000</td> <td>  1.8e+05</td> <td> 2.34e+05</td>\n",
       "</tr>\n",
       "<tr>\n",
       "  <th>Erhvervsfaglige uddannelser</th>      <td>-5.254e+04</td> <td> 3653.197</td> <td>  -14.382</td> <td> 0.000</td> <td>-5.97e+04</td> <td>-4.54e+04</td>\n",
       "</tr>\n",
       "<tr>\n",
       "  <th>KVU</th>                              <td>-5.745e+04</td> <td>  1.3e+04</td> <td>   -4.428</td> <td> 0.000</td> <td>-8.29e+04</td> <td> -3.2e+04</td>\n",
       "</tr>\n",
       "<tr>\n",
       "  <th>MVU</th>                              <td>-4.953e+04</td> <td> 3634.793</td> <td>  -13.626</td> <td> 0.000</td> <td>-5.67e+04</td> <td>-4.24e+04</td>\n",
       "</tr>\n",
       "<tr>\n",
       "  <th>Bacheloruddannelser</th>              <td> 1.064e+05</td> <td> 4.28e+04</td> <td>    2.486</td> <td> 0.013</td> <td> 2.25e+04</td> <td>  1.9e+05</td>\n",
       "</tr>\n",
       "<tr>\n",
       "  <th> LVU</th>                             <td>-3.333e+04</td> <td> 6383.372</td> <td>   -5.221</td> <td> 0.000</td> <td>-4.58e+04</td> <td>-2.08e+04</td>\n",
       "</tr>\n",
       "<tr>\n",
       "  <th>Kommunal_gennemsnitsinkomst_2017</th> <td>    6.4342</td> <td>    0.295</td> <td>   21.834</td> <td> 0.000</td> <td>    5.857</td> <td>    7.012</td>\n",
       "</tr>\n",
       "<tr>\n",
       "  <th>Population_in_urban_development</th>  <td> 2597.5129</td> <td>  796.495</td> <td>    3.261</td> <td> 0.001</td> <td> 1036.373</td> <td> 4158.653</td>\n",
       "</tr>\n",
       "<tr>\n",
       "  <th>average_class_size</th>               <td> 5778.8710</td> <td> 6183.126</td> <td>    0.935</td> <td> 0.350</td> <td>-6340.132</td> <td> 1.79e+04</td>\n",
       "</tr>\n",
       "<tr>\n",
       "  <th>lake_distance</th>                    <td> 9427.5382</td> <td> 1248.015</td> <td>    7.554</td> <td> 0.000</td> <td> 6981.414</td> <td> 1.19e+04</td>\n",
       "</tr>\n",
       "<tr>\n",
       "  <th>doctor_distance</th>                  <td> 1.039e+04</td> <td> 2896.555</td> <td>    3.586</td> <td> 0.000</td> <td> 4709.415</td> <td> 1.61e+04</td>\n",
       "</tr>\n",
       "<tr>\n",
       "  <th>supermarket_distance</th>             <td>-2.772e+04</td> <td> 2936.107</td> <td>   -9.442</td> <td> 0.000</td> <td>-3.35e+04</td> <td> -2.2e+04</td>\n",
       "</tr>\n",
       "<tr>\n",
       "  <th>school_distance</th>                  <td> 2.526e+04</td> <td> 4062.695</td> <td>    6.217</td> <td> 0.000</td> <td> 1.73e+04</td> <td> 3.32e+04</td>\n",
       "</tr>\n",
       "<tr>\n",
       "  <th>daycare_distance</th>                 <td> 1.149e+04</td> <td> 4390.035</td> <td>    2.617</td> <td> 0.009</td> <td> 2882.113</td> <td> 2.01e+04</td>\n",
       "</tr>\n",
       "<tr>\n",
       "  <th>hospital_distance</th>                <td>-1.189e+04</td> <td>  879.755</td> <td>  -13.518</td> <td> 0.000</td> <td>-1.36e+04</td> <td>-1.02e+04</td>\n",
       "</tr>\n",
       "<tr>\n",
       "  <th>train_distance</th>                   <td>-3130.8757</td> <td>  616.265</td> <td>   -5.080</td> <td> 0.000</td> <td>-4338.762</td> <td>-1922.989</td>\n",
       "</tr>\n",
       "<tr>\n",
       "  <th>pharmacy_distance</th>                <td>-1.447e+04</td> <td> 2260.821</td> <td>   -6.401</td> <td> 0.000</td> <td>-1.89e+04</td> <td>   -1e+04</td>\n",
       "</tr>\n",
       "<tr>\n",
       "  <th>library_distance</th>                 <td>-1.116e+04</td> <td> 2202.984</td> <td>   -5.068</td> <td> 0.000</td> <td>-1.55e+04</td> <td>-6845.749</td>\n",
       "</tr>\n",
       "<tr>\n",
       "  <th>junction_distance</th>                <td> 1899.2421</td> <td>  571.035</td> <td>    3.326</td> <td> 0.001</td> <td>  780.006</td> <td> 3018.478</td>\n",
       "</tr>\n",
       "<tr>\n",
       "  <th>Type_Ejerlejlighed</th>               <td>-1.741e+05</td> <td> 5.62e+04</td> <td>   -3.100</td> <td> 0.002</td> <td>-2.84e+05</td> <td> -6.4e+04</td>\n",
       "</tr>\n",
       "<tr>\n",
       "  <th>Type_Fritidsgrund</th>                <td> 2.054e+06</td> <td> 7.75e+04</td> <td>   26.488</td> <td> 0.000</td> <td>  1.9e+06</td> <td> 2.21e+06</td>\n",
       "</tr>\n",
       "<tr>\n",
       "  <th>Type_Fritidshus</th>                  <td> 6.621e+05</td> <td>  5.8e+04</td> <td>   11.420</td> <td> 0.000</td> <td> 5.48e+05</td> <td> 7.76e+05</td>\n",
       "</tr>\n",
       "<tr>\n",
       "  <th>Type_Helårsgrund</th>                 <td> 1.977e+06</td> <td> 5.93e+04</td> <td>   33.353</td> <td> 0.000</td> <td> 1.86e+06</td> <td> 2.09e+06</td>\n",
       "</tr>\n",
       "<tr>\n",
       "  <th>Type_Landejendom</th>                 <td>  3.98e+05</td> <td> 6.25e+04</td> <td>    6.367</td> <td> 0.000</td> <td> 2.75e+05</td> <td> 5.21e+05</td>\n",
       "</tr>\n",
       "<tr>\n",
       "  <th>Type_Rækkehus</th>                    <td> 7.152e+04</td> <td> 6.03e+04</td> <td>    1.187</td> <td> 0.235</td> <td>-4.66e+04</td> <td>  1.9e+05</td>\n",
       "</tr>\n",
       "<tr>\n",
       "  <th>Type_Villa</th>                       <td>-1.138e+05</td> <td> 5.43e+04</td> <td>   -2.096</td> <td> 0.036</td> <td> -2.2e+05</td> <td>-7397.700</td>\n",
       "</tr>\n",
       "<tr>\n",
       "  <th>Type_Villalejlighed</th>              <td>-4.225e+05</td> <td> 1.07e+05</td> <td>   -3.950</td> <td> 0.000</td> <td>-6.32e+05</td> <td>-2.13e+05</td>\n",
       "</tr>\n",
       "</table>\n",
       "<table class=\"simpletable\">\n",
       "<tr>\n",
       "  <th>Omnibus:</th>       <td>50782.995</td> <th>  Durbin-Watson:     </th>    <td>   2.006</td>   \n",
       "</tr>\n",
       "<tr>\n",
       "  <th>Prob(Omnibus):</th>  <td> 0.000</td>   <th>  Jarque-Bera (JB):  </th> <td>1931015146.157</td>\n",
       "</tr>\n",
       "<tr>\n",
       "  <th>Skew:</th>           <td>-3.374</td>   <th>  Prob(JB):          </th>    <td>    0.00</td>   \n",
       "</tr>\n",
       "<tr>\n",
       "  <th>Kurtosis:</th>       <td>972.596</td>  <th>  Cond. No.          </th>    <td>7.79e+06</td>   \n",
       "</tr>\n",
       "</table><br/><br/>Warnings:<br/>[1] Standard Errors assume that the covariance matrix of the errors is correctly specified.<br/>[2] The condition number is large, 7.79e+06. This might indicate that there are<br/>strong multicollinearity or other numerical problems."
      ],
      "text/plain": [
       "<class 'statsmodels.iolib.summary.Summary'>\n",
       "\"\"\"\n",
       "                            OLS Regression Results                            \n",
       "==============================================================================\n",
       "Dep. Variable:                  price   R-squared:                       0.815\n",
       "Model:                            OLS   Adj. R-squared:                  0.815\n",
       "Method:                 Least Squares   F-statistic:                     6788.\n",
       "Date:                Wed, 28 Aug 2019   Prob (F-statistic):               0.00\n",
       "Time:                        13:41:28   Log-Likelihood:            -7.6789e+05\n",
       "No. Observations:               49294   AIC:                         1.536e+06\n",
       "Df Residuals:                   49262   BIC:                         1.536e+06\n",
       "Df Model:                          32                                         \n",
       "Covariance Type:            nonrobust                                         \n",
       "====================================================================================================\n",
       "                                       coef    std err          t      P>|t|      [0.025      0.975]\n",
       "----------------------------------------------------------------------------------------------------\n",
       "basementSize                      7160.6119    217.991     32.848      0.000    6733.347    7587.876\n",
       "rooms                            -1.502e+04   5914.425     -2.539      0.011   -2.66e+04   -3426.607\n",
       "size                              1.736e+04    167.508    103.641      0.000     1.7e+04    1.77e+04\n",
       "squaremeterPrice                    51.3456      0.442    116.113      0.000      50.479      52.212\n",
       "Grundskole                       -3.515e+04   3757.451     -9.355      0.000   -4.25e+04   -2.78e+04\n",
       "Gymnasiale uddannelser            2.068e+05   1.39e+04     14.893      0.000     1.8e+05    2.34e+05\n",
       "Erhvervsfaglige uddannelser      -5.254e+04   3653.197    -14.382      0.000   -5.97e+04   -4.54e+04\n",
       "KVU                              -5.745e+04    1.3e+04     -4.428      0.000   -8.29e+04    -3.2e+04\n",
       "MVU                              -4.953e+04   3634.793    -13.626      0.000   -5.67e+04   -4.24e+04\n",
       "Bacheloruddannelser               1.064e+05   4.28e+04      2.486      0.013    2.25e+04     1.9e+05\n",
       " LVU                             -3.333e+04   6383.372     -5.221      0.000   -4.58e+04   -2.08e+04\n",
       "Kommunal_gennemsnitsinkomst_2017     6.4342      0.295     21.834      0.000       5.857       7.012\n",
       "Population_in_urban_development   2597.5129    796.495      3.261      0.001    1036.373    4158.653\n",
       "average_class_size                5778.8710   6183.126      0.935      0.350   -6340.132    1.79e+04\n",
       "lake_distance                     9427.5382   1248.015      7.554      0.000    6981.414    1.19e+04\n",
       "doctor_distance                   1.039e+04   2896.555      3.586      0.000    4709.415    1.61e+04\n",
       "supermarket_distance             -2.772e+04   2936.107     -9.442      0.000   -3.35e+04    -2.2e+04\n",
       "school_distance                   2.526e+04   4062.695      6.217      0.000    1.73e+04    3.32e+04\n",
       "daycare_distance                  1.149e+04   4390.035      2.617      0.009    2882.113    2.01e+04\n",
       "hospital_distance                -1.189e+04    879.755    -13.518      0.000   -1.36e+04   -1.02e+04\n",
       "train_distance                   -3130.8757    616.265     -5.080      0.000   -4338.762   -1922.989\n",
       "pharmacy_distance                -1.447e+04   2260.821     -6.401      0.000   -1.89e+04      -1e+04\n",
       "library_distance                 -1.116e+04   2202.984     -5.068      0.000   -1.55e+04   -6845.749\n",
       "junction_distance                 1899.2421    571.035      3.326      0.001     780.006    3018.478\n",
       "Type_Ejerlejlighed               -1.741e+05   5.62e+04     -3.100      0.002   -2.84e+05    -6.4e+04\n",
       "Type_Fritidsgrund                 2.054e+06   7.75e+04     26.488      0.000     1.9e+06    2.21e+06\n",
       "Type_Fritidshus                   6.621e+05    5.8e+04     11.420      0.000    5.48e+05    7.76e+05\n",
       "Type_Helårsgrund                  1.977e+06   5.93e+04     33.353      0.000    1.86e+06    2.09e+06\n",
       "Type_Landejendom                   3.98e+05   6.25e+04      6.367      0.000    2.75e+05    5.21e+05\n",
       "Type_Rækkehus                     7.152e+04   6.03e+04      1.187      0.235   -4.66e+04     1.9e+05\n",
       "Type_Villa                       -1.138e+05   5.43e+04     -2.096      0.036    -2.2e+05   -7397.700\n",
       "Type_Villalejlighed              -4.225e+05   1.07e+05     -3.950      0.000   -6.32e+05   -2.13e+05\n",
       "==============================================================================\n",
       "Omnibus:                    50782.995   Durbin-Watson:                   2.006\n",
       "Prob(Omnibus):                  0.000   Jarque-Bera (JB):       1931015146.157\n",
       "Skew:                          -3.374   Prob(JB):                         0.00\n",
       "Kurtosis:                     972.596   Cond. No.                     7.79e+06\n",
       "==============================================================================\n",
       "\n",
       "Warnings:\n",
       "[1] Standard Errors assume that the covariance matrix of the errors is correctly specified.\n",
       "[2] The condition number is large, 7.79e+06. This might indicate that there are\n",
       "strong multicollinearity or other numerical problems.\n",
       "\"\"\""
      ]
     },
     "execution_count": 7,
     "metadata": {},
     "output_type": "execute_result"
    }
   ],
   "source": [
    "OLS_est = sm.OLS(y_dev, X_dev).fit()\n",
    "\n",
    "OLS_est.summary()"
   ]
  },
  {
   "cell_type": "markdown",
   "metadata": {},
   "source": [
    "## Train Lasso Regression (K-fold CV)\n",
    "\n",
    "Now we want to examine whether the a Lasso regression is more appropriate, and seeks to optimize the hyperparameter.\n",
    "We will train for an optimized hyperparameter on the validation set, to avoid data leakage and use k-fold crossvalidation to make sure that we have not split our dataset in a lucky or unlucky place. "
   ]
  },
  {
   "cell_type": "code",
   "execution_count": 8,
   "metadata": {},
   "outputs": [
    {
     "name": "stderr",
     "output_type": "stream",
     "text": [
      "100%|██████████| 15/15 [29:50<00:00, 105.84s/it]\n"
     ]
    }
   ],
   "source": [
    "from sklearn.model_selection import KFold\n",
    "\n",
    "#Split data into 5 folds\n",
    "kfolds = KFold(n_splits=5)\n",
    "folds = list(kfolds.split(X_dev, y_dev))\n",
    "\n",
    "#Create Lambda values\n",
    "lambdas = np.logspace(2, 3, 15)\n",
    "# outer loop: lambdas\n",
    "mseCV = []\n",
    "\n",
    "for lambda_ in tqdm.tqdm(lambdas):    \n",
    "    # inner loop: folds\n",
    "    mseCV_ = []\n",
    "\n",
    "    for train_idx, val_idx in folds:        \n",
    "        # train model and compute MSE on test fold\n",
    "        pipe_lassoCV = make_pipeline(PolynomialFeatures(degree=2, include_bias=True),\n",
    "                                     StandardScaler(),\n",
    "                                     Lasso(alpha=lambda_, random_state=1))            \n",
    "        X_train, y_train = X_dev.iloc[train_idx], y_dev.iloc[train_idx]\n",
    "        X_val, y_val = X_dev.iloc[val_idx], y_dev.iloc[val_idx] \n",
    "        pipe_lassoCV.fit(X_train, y_train)        \n",
    "        mseCV_.append(mse(pipe_lassoCV.predict(X_val), y_val))\n",
    "\n",
    "        \n",
    "    # store result    \n",
    "    mseCV.append(mseCV_) \n",
    "    \n",
    "# convert to DataFrame\n",
    "lambda_mseCV_lasso = pd.DataFrame(mseCV, index=lambdas)"
   ]
  },
  {
   "cell_type": "markdown",
   "metadata": {},
   "source": [
    "### MSE of the K-fold Crossvalidation - Lasso\n",
    "\n",
    "Lambda as index"
   ]
  },
  {
   "cell_type": "code",
   "execution_count": 9,
   "metadata": {},
   "outputs": [
    {
     "data": {
      "text/html": [
       "<div>\n",
       "<style scoped>\n",
       "    .dataframe tbody tr th:only-of-type {\n",
       "        vertical-align: middle;\n",
       "    }\n",
       "\n",
       "    .dataframe tbody tr th {\n",
       "        vertical-align: top;\n",
       "    }\n",
       "\n",
       "    .dataframe thead th {\n",
       "        text-align: right;\n",
       "    }\n",
       "</style>\n",
       "<table border=\"1\" class=\"dataframe\">\n",
       "  <thead>\n",
       "    <tr style=\"text-align: right;\">\n",
       "      <th></th>\n",
       "      <th>0</th>\n",
       "      <th>1</th>\n",
       "      <th>2</th>\n",
       "      <th>3</th>\n",
       "      <th>4</th>\n",
       "    </tr>\n",
       "  </thead>\n",
       "  <tbody>\n",
       "    <tr>\n",
       "      <th>100.000000</th>\n",
       "      <td>2.967678e+10</td>\n",
       "      <td>3.492663e+10</td>\n",
       "      <td>3.520099e+10</td>\n",
       "      <td>3.367042e+10</td>\n",
       "      <td>2.930598e+10</td>\n",
       "    </tr>\n",
       "    <tr>\n",
       "      <th>117.876863</th>\n",
       "      <td>2.969419e+10</td>\n",
       "      <td>3.412968e+10</td>\n",
       "      <td>3.523266e+10</td>\n",
       "      <td>3.370647e+10</td>\n",
       "      <td>2.932072e+10</td>\n",
       "    </tr>\n",
       "    <tr>\n",
       "      <th>138.949549</th>\n",
       "      <td>2.973047e+10</td>\n",
       "      <td>3.296912e+10</td>\n",
       "      <td>3.528716e+10</td>\n",
       "      <td>3.378710e+10</td>\n",
       "      <td>2.935048e+10</td>\n",
       "    </tr>\n",
       "    <tr>\n",
       "      <th>163.789371</th>\n",
       "      <td>2.976338e+10</td>\n",
       "      <td>3.206727e+10</td>\n",
       "      <td>3.532201e+10</td>\n",
       "      <td>3.381350e+10</td>\n",
       "      <td>2.938258e+10</td>\n",
       "    </tr>\n",
       "    <tr>\n",
       "      <th>193.069773</th>\n",
       "      <td>2.981715e+10</td>\n",
       "      <td>3.266552e+10</td>\n",
       "      <td>3.539127e+10</td>\n",
       "      <td>3.387780e+10</td>\n",
       "      <td>2.948873e+10</td>\n",
       "    </tr>\n",
       "    <tr>\n",
       "      <th>227.584593</th>\n",
       "      <td>2.988456e+10</td>\n",
       "      <td>3.246206e+10</td>\n",
       "      <td>3.540454e+10</td>\n",
       "      <td>3.393730e+10</td>\n",
       "      <td>2.959933e+10</td>\n",
       "    </tr>\n",
       "    <tr>\n",
       "      <th>268.269580</th>\n",
       "      <td>2.989083e+10</td>\n",
       "      <td>3.085626e+10</td>\n",
       "      <td>3.545048e+10</td>\n",
       "      <td>3.404172e+10</td>\n",
       "      <td>2.962875e+10</td>\n",
       "    </tr>\n",
       "    <tr>\n",
       "      <th>316.227766</th>\n",
       "      <td>2.990717e+10</td>\n",
       "      <td>2.829387e+10</td>\n",
       "      <td>3.538662e+10</td>\n",
       "      <td>3.402708e+10</td>\n",
       "      <td>2.962531e+10</td>\n",
       "    </tr>\n",
       "    <tr>\n",
       "      <th>372.759372</th>\n",
       "      <td>2.994403e+10</td>\n",
       "      <td>2.754500e+10</td>\n",
       "      <td>3.522269e+10</td>\n",
       "      <td>3.419748e+10</td>\n",
       "      <td>2.970441e+10</td>\n",
       "    </tr>\n",
       "    <tr>\n",
       "      <th>439.397056</th>\n",
       "      <td>3.002627e+10</td>\n",
       "      <td>2.732821e+10</td>\n",
       "      <td>3.534932e+10</td>\n",
       "      <td>3.423175e+10</td>\n",
       "      <td>2.986328e+10</td>\n",
       "    </tr>\n",
       "    <tr>\n",
       "      <th>517.947468</th>\n",
       "      <td>3.023771e+10</td>\n",
       "      <td>2.743184e+10</td>\n",
       "      <td>3.546096e+10</td>\n",
       "      <td>3.429969e+10</td>\n",
       "      <td>3.013467e+10</td>\n",
       "    </tr>\n",
       "    <tr>\n",
       "      <th>610.540230</th>\n",
       "      <td>3.049974e+10</td>\n",
       "      <td>2.773851e+10</td>\n",
       "      <td>3.574200e+10</td>\n",
       "      <td>3.445127e+10</td>\n",
       "      <td>3.055484e+10</td>\n",
       "    </tr>\n",
       "    <tr>\n",
       "      <th>719.685673</th>\n",
       "      <td>3.058663e+10</td>\n",
       "      <td>3.084713e+10</td>\n",
       "      <td>3.584246e+10</td>\n",
       "      <td>3.474121e+10</td>\n",
       "      <td>3.091758e+10</td>\n",
       "    </tr>\n",
       "    <tr>\n",
       "      <th>848.342898</th>\n",
       "      <td>3.049313e+10</td>\n",
       "      <td>3.258065e+10</td>\n",
       "      <td>3.650258e+10</td>\n",
       "      <td>3.482162e+10</td>\n",
       "      <td>3.089535e+10</td>\n",
       "    </tr>\n",
       "    <tr>\n",
       "      <th>1000.000000</th>\n",
       "      <td>3.065696e+10</td>\n",
       "      <td>3.069218e+10</td>\n",
       "      <td>3.693215e+10</td>\n",
       "      <td>3.509587e+10</td>\n",
       "      <td>3.049230e+10</td>\n",
       "    </tr>\n",
       "  </tbody>\n",
       "</table>\n",
       "</div>"
      ],
      "text/plain": [
       "                        0             1             2             3  \\\n",
       "100.000000   2.967678e+10  3.492663e+10  3.520099e+10  3.367042e+10   \n",
       "117.876863   2.969419e+10  3.412968e+10  3.523266e+10  3.370647e+10   \n",
       "138.949549   2.973047e+10  3.296912e+10  3.528716e+10  3.378710e+10   \n",
       "163.789371   2.976338e+10  3.206727e+10  3.532201e+10  3.381350e+10   \n",
       "193.069773   2.981715e+10  3.266552e+10  3.539127e+10  3.387780e+10   \n",
       "227.584593   2.988456e+10  3.246206e+10  3.540454e+10  3.393730e+10   \n",
       "268.269580   2.989083e+10  3.085626e+10  3.545048e+10  3.404172e+10   \n",
       "316.227766   2.990717e+10  2.829387e+10  3.538662e+10  3.402708e+10   \n",
       "372.759372   2.994403e+10  2.754500e+10  3.522269e+10  3.419748e+10   \n",
       "439.397056   3.002627e+10  2.732821e+10  3.534932e+10  3.423175e+10   \n",
       "517.947468   3.023771e+10  2.743184e+10  3.546096e+10  3.429969e+10   \n",
       "610.540230   3.049974e+10  2.773851e+10  3.574200e+10  3.445127e+10   \n",
       "719.685673   3.058663e+10  3.084713e+10  3.584246e+10  3.474121e+10   \n",
       "848.342898   3.049313e+10  3.258065e+10  3.650258e+10  3.482162e+10   \n",
       "1000.000000  3.065696e+10  3.069218e+10  3.693215e+10  3.509587e+10   \n",
       "\n",
       "                        4  \n",
       "100.000000   2.930598e+10  \n",
       "117.876863   2.932072e+10  \n",
       "138.949549   2.935048e+10  \n",
       "163.789371   2.938258e+10  \n",
       "193.069773   2.948873e+10  \n",
       "227.584593   2.959933e+10  \n",
       "268.269580   2.962875e+10  \n",
       "316.227766   2.962531e+10  \n",
       "372.759372   2.970441e+10  \n",
       "439.397056   2.986328e+10  \n",
       "517.947468   3.013467e+10  \n",
       "610.540230   3.055484e+10  \n",
       "719.685673   3.091758e+10  \n",
       "848.342898   3.089535e+10  \n",
       "1000.000000  3.049230e+10  "
      ]
     },
     "execution_count": 9,
     "metadata": {},
     "output_type": "execute_result"
    }
   ],
   "source": [
    "lambda_mseCV_lasso"
   ]
  },
  {
   "cell_type": "markdown",
   "metadata": {},
   "source": [
    "###  Mean MSE of K-fold CV - Lasso"
   ]
  },
  {
   "cell_type": "code",
   "execution_count": 10,
   "metadata": {},
   "outputs": [],
   "source": [
    "# Calculates the mean of the folds\n",
    "mse_mean_lasso = lambda_mseCV_lasso.mean(axis = 1)"
   ]
  },
  {
   "cell_type": "markdown",
   "metadata": {},
   "source": [
    "### Plot Average MSE over Lambda - Lasso"
   ]
  },
  {
   "cell_type": "code",
   "execution_count": 11,
   "metadata": {},
   "outputs": [
    {
     "data": {
      "text/plain": [
       "[Text(0,0.5,'MSE'), Text(0.5,0,'Lambda')]"
      ]
     },
     "execution_count": 11,
     "metadata": {},
     "output_type": "execute_result"
    },
    {
     "data": {
      "image/png": "[encoded data removed]",
      "text/plain": [
       "<Figure size 432x288 with 1 Axes>"
      ]
     },
     "metadata": {
      "needs_background": "light"
     },
     "output_type": "display_data"
    }
   ],
   "source": [
    "#Plot mean square errors\n",
    "COL = ['Average MSE']\n",
    "mse_mean_lasso.columns = COL\n",
    "\n",
    "#Both axis are logarythmical \n",
    "ax = mse_mean_lasso.plot(logx = True, logy = True)\n",
    "ax.set(xlabel = 'Lambda', ylabel = 'MSE')\n"
   ]
  },
  {
   "cell_type": "markdown",
   "metadata": {},
   "source": [
    "### Finding the optimal hyperparameter for Lasso\n",
    "\n",
    "Where was the mean mse smallest?"
   ]
  },
  {
   "cell_type": "code",
   "execution_count": 12,
   "metadata": {},
   "outputs": [
    {
     "data": {
      "text/plain": [
       "372.759372    3.132272e+10\n",
       "dtype: float64"
      ]
     },
     "execution_count": 12,
     "metadata": {},
     "output_type": "execute_result"
    }
   ],
   "source": [
    "mse_mean_lasso.nsmallest(1)"
   ]
  },
  {
   "cell_type": "markdown",
   "metadata": {},
   "source": [
    "## Train Ridge Regression (K-fold CV)"
   ]
  },
  {
   "cell_type": "code",
   "execution_count": 13,
   "metadata": {},
   "outputs": [
    {
     "name": "stderr",
     "output_type": "stream",
     "text": [
      "100%|██████████| 15/15 [02:35<00:00,  9.63s/it]\n"
     ]
    }
   ],
   "source": [
    "#Split data into 5 folds\n",
    "kfolds = KFold(n_splits=5)\n",
    "folds = list(kfolds.split(X_dev, y_dev))\n",
    "\n",
    "#Create Lambda values\n",
    "lambdas = np.logspace(-7, 2, 15)\n",
    "# outer loop: lambdas\n",
    "mseCV = []\n",
    "\n",
    "for lambda_ in tqdm.tqdm(lambdas):    \n",
    "    # inner loop: folds\n",
    "    mseCV_ = []\n",
    "\n",
    "    for train_idx, val_idx in folds:        \n",
    "        # train model and compute MSE on test fold\n",
    "        pipe_ridgeCV = make_pipeline(PolynomialFeatures(degree=2, include_bias=True),\n",
    "                                     StandardScaler(),\n",
    "                                     Ridge(alpha=lambda_, random_state=1))            \n",
    "        X_train, y_train = X_dev.iloc[train_idx], y_dev.iloc[train_idx]\n",
    "        X_val, y_val = X_dev.iloc[val_idx], y_dev.iloc[val_idx] \n",
    "        pipe_ridgeCV.fit(X_train, y_train)        \n",
    "        mseCV_.append(mse(pipe_ridgeCV.predict(X_val), y_val))\n",
    "\n",
    "        \n",
    "    # store result    \n",
    "    mseCV.append(mseCV_) \n",
    "    \n",
    "# convert to DataFrame\n",
    "lambda_mseCV_ridge = pd.DataFrame(mseCV, index=lambdas)"
   ]
  },
  {
   "cell_type": "markdown",
   "metadata": {},
   "source": [
    "### MSE of the K-fold Crossvalidation - Ridge\n",
    "\n",
    "Lambda as index"
   ]
  },
  {
   "cell_type": "code",
   "execution_count": 14,
   "metadata": {},
   "outputs": [
    {
     "data": {
      "text/html": [
       "<div>\n",
       "<style scoped>\n",
       "    .dataframe tbody tr th:only-of-type {\n",
       "        vertical-align: middle;\n",
       "    }\n",
       "\n",
       "    .dataframe tbody tr th {\n",
       "        vertical-align: top;\n",
       "    }\n",
       "\n",
       "    .dataframe thead th {\n",
       "        text-align: right;\n",
       "    }\n",
       "</style>\n",
       "<table border=\"1\" class=\"dataframe\">\n",
       "  <thead>\n",
       "    <tr style=\"text-align: right;\">\n",
       "      <th></th>\n",
       "      <th>0</th>\n",
       "      <th>1</th>\n",
       "      <th>2</th>\n",
       "      <th>3</th>\n",
       "      <th>4</th>\n",
       "    </tr>\n",
       "  </thead>\n",
       "  <tbody>\n",
       "    <tr>\n",
       "      <th>1.000000e-07</th>\n",
       "      <td>3.003325e+10</td>\n",
       "      <td>2.777354e+10</td>\n",
       "      <td>3.498861e+10</td>\n",
       "      <td>3.323493e+10</td>\n",
       "      <td>2.870904e+10</td>\n",
       "    </tr>\n",
       "    <tr>\n",
       "      <th>4.393971e-07</th>\n",
       "      <td>3.003282e+10</td>\n",
       "      <td>2.777301e+10</td>\n",
       "      <td>3.498843e+10</td>\n",
       "      <td>3.323514e+10</td>\n",
       "      <td>2.870906e+10</td>\n",
       "    </tr>\n",
       "    <tr>\n",
       "      <th>1.930698e-06</th>\n",
       "      <td>3.003109e+10</td>\n",
       "      <td>2.777086e+10</td>\n",
       "      <td>3.498774e+10</td>\n",
       "      <td>3.323600e+10</td>\n",
       "      <td>2.870915e+10</td>\n",
       "    </tr>\n",
       "    <tr>\n",
       "      <th>8.483429e-06</th>\n",
       "      <td>3.002619e+10</td>\n",
       "      <td>2.776431e+10</td>\n",
       "      <td>3.498599e+10</td>\n",
       "      <td>3.323881e+10</td>\n",
       "      <td>2.870971e+10</td>\n",
       "    </tr>\n",
       "    <tr>\n",
       "      <th>3.727594e-05</th>\n",
       "      <td>3.001991e+10</td>\n",
       "      <td>2.775353e+10</td>\n",
       "      <td>3.498430e+10</td>\n",
       "      <td>3.324375e+10</td>\n",
       "      <td>2.871162e+10</td>\n",
       "    </tr>\n",
       "    <tr>\n",
       "      <th>1.637894e-04</th>\n",
       "      <td>3.001739e+10</td>\n",
       "      <td>2.774291e+10</td>\n",
       "      <td>3.498323e+10</td>\n",
       "      <td>3.324678e+10</td>\n",
       "      <td>2.871354e+10</td>\n",
       "    </tr>\n",
       "    <tr>\n",
       "      <th>7.196857e-04</th>\n",
       "      <td>3.001828e+10</td>\n",
       "      <td>2.772029e+10</td>\n",
       "      <td>3.497915e+10</td>\n",
       "      <td>3.324516e+10</td>\n",
       "      <td>2.871338e+10</td>\n",
       "    </tr>\n",
       "    <tr>\n",
       "      <th>3.162278e-03</th>\n",
       "      <td>3.002283e+10</td>\n",
       "      <td>2.764502e+10</td>\n",
       "      <td>3.496750e+10</td>\n",
       "      <td>3.323555e+10</td>\n",
       "      <td>2.871059e+10</td>\n",
       "    </tr>\n",
       "    <tr>\n",
       "      <th>1.389495e-02</th>\n",
       "      <td>3.003261e+10</td>\n",
       "      <td>2.751746e+10</td>\n",
       "      <td>3.495347e+10</td>\n",
       "      <td>3.321938e+10</td>\n",
       "      <td>2.870395e+10</td>\n",
       "    </tr>\n",
       "    <tr>\n",
       "      <th>6.105402e-02</th>\n",
       "      <td>3.003838e+10</td>\n",
       "      <td>2.748356e+10</td>\n",
       "      <td>3.494674e+10</td>\n",
       "      <td>3.320470e+10</td>\n",
       "      <td>2.867402e+10</td>\n",
       "    </tr>\n",
       "    <tr>\n",
       "      <th>2.682696e-01</th>\n",
       "      <td>3.003386e+10</td>\n",
       "      <td>2.766284e+10</td>\n",
       "      <td>3.494202e+10</td>\n",
       "      <td>3.318780e+10</td>\n",
       "      <td>2.862189e+10</td>\n",
       "    </tr>\n",
       "    <tr>\n",
       "      <th>1.178769e+00</th>\n",
       "      <td>2.996255e+10</td>\n",
       "      <td>2.807755e+10</td>\n",
       "      <td>3.493950e+10</td>\n",
       "      <td>3.315566e+10</td>\n",
       "      <td>2.858932e+10</td>\n",
       "    </tr>\n",
       "    <tr>\n",
       "      <th>5.179475e+00</th>\n",
       "      <td>2.970088e+10</td>\n",
       "      <td>2.852949e+10</td>\n",
       "      <td>3.490309e+10</td>\n",
       "      <td>3.311212e+10</td>\n",
       "      <td>2.860658e+10</td>\n",
       "    </tr>\n",
       "    <tr>\n",
       "      <th>2.275846e+01</th>\n",
       "      <td>2.938570e+10</td>\n",
       "      <td>2.801690e+10</td>\n",
       "      <td>3.487187e+10</td>\n",
       "      <td>3.331625e+10</td>\n",
       "      <td>2.874006e+10</td>\n",
       "    </tr>\n",
       "    <tr>\n",
       "      <th>1.000000e+02</th>\n",
       "      <td>3.058105e+10</td>\n",
       "      <td>2.995649e+10</td>\n",
       "      <td>3.551922e+10</td>\n",
       "      <td>3.466966e+10</td>\n",
       "      <td>2.949691e+10</td>\n",
       "    </tr>\n",
       "  </tbody>\n",
       "</table>\n",
       "</div>"
      ],
      "text/plain": [
       "                         0             1             2             3  \\\n",
       "1.000000e-07  3.003325e+10  2.777354e+10  3.498861e+10  3.323493e+10   \n",
       "4.393971e-07  3.003282e+10  2.777301e+10  3.498843e+10  3.323514e+10   \n",
       "1.930698e-06  3.003109e+10  2.777086e+10  3.498774e+10  3.323600e+10   \n",
       "8.483429e-06  3.002619e+10  2.776431e+10  3.498599e+10  3.323881e+10   \n",
       "3.727594e-05  3.001991e+10  2.775353e+10  3.498430e+10  3.324375e+10   \n",
       "1.637894e-04  3.001739e+10  2.774291e+10  3.498323e+10  3.324678e+10   \n",
       "7.196857e-04  3.001828e+10  2.772029e+10  3.497915e+10  3.324516e+10   \n",
       "3.162278e-03  3.002283e+10  2.764502e+10  3.496750e+10  3.323555e+10   \n",
       "1.389495e-02  3.003261e+10  2.751746e+10  3.495347e+10  3.321938e+10   \n",
       "6.105402e-02  3.003838e+10  2.748356e+10  3.494674e+10  3.320470e+10   \n",
       "2.682696e-01  3.003386e+10  2.766284e+10  3.494202e+10  3.318780e+10   \n",
       "1.178769e+00  2.996255e+10  2.807755e+10  3.493950e+10  3.315566e+10   \n",
       "5.179475e+00  2.970088e+10  2.852949e+10  3.490309e+10  3.311212e+10   \n",
       "2.275846e+01  2.938570e+10  2.801690e+10  3.487187e+10  3.331625e+10   \n",
       "1.000000e+02  3.058105e+10  2.995649e+10  3.551922e+10  3.466966e+10   \n",
       "\n",
       "                         4  \n",
       "1.000000e-07  2.870904e+10  \n",
       "4.393971e-07  2.870906e+10  \n",
       "1.930698e-06  2.870915e+10  \n",
       "8.483429e-06  2.870971e+10  \n",
       "3.727594e-05  2.871162e+10  \n",
       "1.637894e-04  2.871354e+10  \n",
       "7.196857e-04  2.871338e+10  \n",
       "3.162278e-03  2.871059e+10  \n",
       "1.389495e-02  2.870395e+10  \n",
       "6.105402e-02  2.867402e+10  \n",
       "2.682696e-01  2.862189e+10  \n",
       "1.178769e+00  2.858932e+10  \n",
       "5.179475e+00  2.860658e+10  \n",
       "2.275846e+01  2.874006e+10  \n",
       "1.000000e+02  2.949691e+10  "
      ]
     },
     "execution_count": 14,
     "metadata": {},
     "output_type": "execute_result"
    }
   ],
   "source": [
    "lambda_mseCV_ridge"
   ]
  },
  {
   "cell_type": "markdown",
   "metadata": {},
   "source": [
    "###  Mean MSE of K-fold CV - Ridge"
   ]
  },
  {
   "cell_type": "code",
   "execution_count": 15,
   "metadata": {},
   "outputs": [],
   "source": [
    "# Calculates the mean of the folds\n",
    "mse_mean_ridge = lambda_mseCV_ridge.mean(axis = 1)"
   ]
  },
  {
   "cell_type": "markdown",
   "metadata": {},
   "source": [
    "### Plot Average MSE over Lambda - Ridge"
   ]
  },
  {
   "cell_type": "code",
   "execution_count": 16,
   "metadata": {},
   "outputs": [
    {
     "data": {
      "text/plain": [
       "[Text(0,0.5,'MSE'), Text(0.5,0,'Lambda')]"
      ]
     },
     "execution_count": 16,
     "metadata": {},
     "output_type": "execute_result"
    },
    {
     "data": {
      "image/png": "[encoded data removed]",
      "text/plain": [
       "<Figure size 432x288 with 1 Axes>"
      ]
     },
     "metadata": {
      "needs_background": "light"
     },
     "output_type": "display_data"
    }
   ],
   "source": [
    "#Plot mean square errors\n",
    "COL = ['Average MSE']\n",
    "mse_mean_ridge.columns = COL\n",
    "\n",
    "#Both axis are logarythmical \n",
    "ax = mse_mean_ridge.plot(logx = True, logy = True)\n",
    "ax.set(xlabel = 'Lambda', ylabel = 'MSE')\n"
   ]
  },
  {
   "cell_type": "markdown",
   "metadata": {},
   "source": [
    "### Finding the optimal hyperparameter for Ridge\n",
    "\n",
    "Where was the mean mse smallest?"
   ]
  },
  {
   "cell_type": "code",
   "execution_count": 17,
   "metadata": {},
   "outputs": [
    {
     "data": {
      "text/plain": [
       "22.758459    3.086616e+10\n",
       "dtype: float64"
      ]
     },
     "execution_count": 17,
     "metadata": {},
     "output_type": "execute_result"
    }
   ],
   "source": [
    "mse_mean_ridge.nsmallest(1)"
   ]
  },
  {
   "cell_type": "markdown",
   "metadata": {},
   "source": [
    "## Train Elastic Net Regression (K-fold CV)"
   ]
  },
  {
   "cell_type": "code",
   "execution_count": 18,
   "metadata": {},
   "outputs": [
    {
     "name": "stderr",
     "output_type": "stream",
     "text": [
      "100%|██████████| 15/15 [46:56<00:00, 193.70s/it]\n"
     ]
    }
   ],
   "source": [
    "#Split data into 5 folds\n",
    "kfolds = KFold(n_splits=5)\n",
    "folds = list(kfolds.split(X_dev, y_dev))\n",
    "\n",
    "#Create Lambda values\n",
    "lambdas = np.logspace(-4, -2, 15)\n",
    "# outer loop: lambdas\n",
    "mseCV = []\n",
    "\n",
    "for lambda_ in tqdm.tqdm(lambdas):    \n",
    "    # inner loop: folds\n",
    "    mseCV_ = []\n",
    "\n",
    "    for train_idx, val_idx in folds:        \n",
    "        # train model and compute MSE on test fold\n",
    "        pipe_elasticCV = make_pipeline(PolynomialFeatures(degree=2, include_bias=True),\n",
    "                                     StandardScaler(),\n",
    "                                     ElasticNet(alpha=lambda_, random_state=1))            \n",
    "        X_train, y_train = X_dev.iloc[train_idx], y_dev.iloc[train_idx]\n",
    "        X_val, y_val = X_dev.iloc[val_idx], y_dev.iloc[val_idx] \n",
    "        pipe_elasticCV.fit(X_train, y_train)        \n",
    "        mseCV_.append(mse(pipe_elasticCV.predict(X_val), y_val))\n",
    "\n",
    "        \n",
    "    # store result    \n",
    "    mseCV.append(mseCV_) \n",
    "    \n",
    "# convert to DataFrame\n",
    "lambda_mseCV_elastic = pd.DataFrame(mseCV, index=lambdas)"
   ]
  },
  {
   "cell_type": "markdown",
   "metadata": {},
   "source": [
    "### MSE of the K-fold Crossvalidation - Elastic\n",
    "Lambda as index"
   ]
  },
  {
   "cell_type": "code",
   "execution_count": 19,
   "metadata": {},
   "outputs": [
    {
     "data": {
      "text/html": [
       "<div>\n",
       "<style scoped>\n",
       "    .dataframe tbody tr th:only-of-type {\n",
       "        vertical-align: middle;\n",
       "    }\n",
       "\n",
       "    .dataframe tbody tr th {\n",
       "        vertical-align: top;\n",
       "    }\n",
       "\n",
       "    .dataframe thead th {\n",
       "        text-align: right;\n",
       "    }\n",
       "</style>\n",
       "<table border=\"1\" class=\"dataframe\">\n",
       "  <thead>\n",
       "    <tr style=\"text-align: right;\">\n",
       "      <th></th>\n",
       "      <th>0</th>\n",
       "      <th>1</th>\n",
       "      <th>2</th>\n",
       "      <th>3</th>\n",
       "      <th>4</th>\n",
       "    </tr>\n",
       "  </thead>\n",
       "  <tbody>\n",
       "    <tr>\n",
       "      <th>0.000100</th>\n",
       "      <td>2.978284e+10</td>\n",
       "      <td>4.233463e+10</td>\n",
       "      <td>3.537307e+10</td>\n",
       "      <td>3.371125e+10</td>\n",
       "      <td>2.931639e+10</td>\n",
       "    </tr>\n",
       "    <tr>\n",
       "      <th>0.000139</th>\n",
       "      <td>2.977086e+10</td>\n",
       "      <td>4.193239e+10</td>\n",
       "      <td>3.534713e+10</td>\n",
       "      <td>3.369428e+10</td>\n",
       "      <td>2.925660e+10</td>\n",
       "    </tr>\n",
       "    <tr>\n",
       "      <th>0.000193</th>\n",
       "      <td>2.975569e+10</td>\n",
       "      <td>4.137364e+10</td>\n",
       "      <td>3.531420e+10</td>\n",
       "      <td>3.367427e+10</td>\n",
       "      <td>2.918396e+10</td>\n",
       "    </tr>\n",
       "    <tr>\n",
       "      <th>0.000268</th>\n",
       "      <td>2.973718e+10</td>\n",
       "      <td>4.060016e+10</td>\n",
       "      <td>3.527400e+10</td>\n",
       "      <td>3.365279e+10</td>\n",
       "      <td>2.910156e+10</td>\n",
       "    </tr>\n",
       "    <tr>\n",
       "      <th>0.000373</th>\n",
       "      <td>2.971564e+10</td>\n",
       "      <td>3.953739e+10</td>\n",
       "      <td>3.522768e+10</td>\n",
       "      <td>3.363366e+10</td>\n",
       "      <td>2.901875e+10</td>\n",
       "    </tr>\n",
       "    <tr>\n",
       "      <th>0.000518</th>\n",
       "      <td>2.969221e+10</td>\n",
       "      <td>3.809882e+10</td>\n",
       "      <td>3.517897e+10</td>\n",
       "      <td>3.362434e+10</td>\n",
       "      <td>2.895500e+10</td>\n",
       "    </tr>\n",
       "    <tr>\n",
       "      <th>0.000720</th>\n",
       "      <td>2.966918e+10</td>\n",
       "      <td>3.620617e+10</td>\n",
       "      <td>3.513528e+10</td>\n",
       "      <td>3.363719e+10</td>\n",
       "      <td>2.894281e+10</td>\n",
       "    </tr>\n",
       "    <tr>\n",
       "      <th>0.001000</th>\n",
       "      <td>2.965074e+10</td>\n",
       "      <td>3.384399e+10</td>\n",
       "      <td>3.510780e+10</td>\n",
       "      <td>3.368939e+10</td>\n",
       "      <td>2.902457e+10</td>\n",
       "    </tr>\n",
       "    <tr>\n",
       "      <th>0.001389</th>\n",
       "      <td>2.964571e+10</td>\n",
       "      <td>3.117087e+10</td>\n",
       "      <td>3.510877e+10</td>\n",
       "      <td>3.380000e+10</td>\n",
       "      <td>2.923433e+10</td>\n",
       "    </tr>\n",
       "    <tr>\n",
       "      <th>0.001931</th>\n",
       "      <td>2.967672e+10</td>\n",
       "      <td>2.868454e+10</td>\n",
       "      <td>3.514471e+10</td>\n",
       "      <td>3.398315e+10</td>\n",
       "      <td>2.955815e+10</td>\n",
       "    </tr>\n",
       "    <tr>\n",
       "      <th>0.002683</th>\n",
       "      <td>2.980170e+10</td>\n",
       "      <td>2.735158e+10</td>\n",
       "      <td>3.520948e+10</td>\n",
       "      <td>3.424187e+10</td>\n",
       "      <td>2.989381e+10</td>\n",
       "    </tr>\n",
       "    <tr>\n",
       "      <th>0.003728</th>\n",
       "      <td>3.014817e+10</td>\n",
       "      <td>2.853124e+10</td>\n",
       "      <td>3.529644e+10</td>\n",
       "      <td>3.457674e+10</td>\n",
       "      <td>3.008696e+10</td>\n",
       "    </tr>\n",
       "    <tr>\n",
       "      <th>0.005179</th>\n",
       "      <td>3.094687e+10</td>\n",
       "      <td>3.378426e+10</td>\n",
       "      <td>3.546962e+10</td>\n",
       "      <td>3.503257e+10</td>\n",
       "      <td>3.012516e+10</td>\n",
       "    </tr>\n",
       "    <tr>\n",
       "      <th>0.007197</th>\n",
       "      <td>3.253986e+10</td>\n",
       "      <td>4.541582e+10</td>\n",
       "      <td>3.599640e+10</td>\n",
       "      <td>3.578030e+10</td>\n",
       "      <td>3.034758e+10</td>\n",
       "    </tr>\n",
       "    <tr>\n",
       "      <th>0.010000</th>\n",
       "      <td>3.527704e+10</td>\n",
       "      <td>6.802210e+10</td>\n",
       "      <td>3.728376e+10</td>\n",
       "      <td>3.706210e+10</td>\n",
       "      <td>3.117991e+10</td>\n",
       "    </tr>\n",
       "  </tbody>\n",
       "</table>\n",
       "</div>"
      ],
      "text/plain": [
       "                     0             1             2             3             4\n",
       "0.000100  2.978284e+10  4.233463e+10  3.537307e+10  3.371125e+10  2.931639e+10\n",
       "0.000139  2.977086e+10  4.193239e+10  3.534713e+10  3.369428e+10  2.925660e+10\n",
       "0.000193  2.975569e+10  4.137364e+10  3.531420e+10  3.367427e+10  2.918396e+10\n",
       "0.000268  2.973718e+10  4.060016e+10  3.527400e+10  3.365279e+10  2.910156e+10\n",
       "0.000373  2.971564e+10  3.953739e+10  3.522768e+10  3.363366e+10  2.901875e+10\n",
       "0.000518  2.969221e+10  3.809882e+10  3.517897e+10  3.362434e+10  2.895500e+10\n",
       "0.000720  2.966918e+10  3.620617e+10  3.513528e+10  3.363719e+10  2.894281e+10\n",
       "0.001000  2.965074e+10  3.384399e+10  3.510780e+10  3.368939e+10  2.902457e+10\n",
       "0.001389  2.964571e+10  3.117087e+10  3.510877e+10  3.380000e+10  2.923433e+10\n",
       "0.001931  2.967672e+10  2.868454e+10  3.514471e+10  3.398315e+10  2.955815e+10\n",
       "0.002683  2.980170e+10  2.735158e+10  3.520948e+10  3.424187e+10  2.989381e+10\n",
       "0.003728  3.014817e+10  2.853124e+10  3.529644e+10  3.457674e+10  3.008696e+10\n",
       "0.005179  3.094687e+10  3.378426e+10  3.546962e+10  3.503257e+10  3.012516e+10\n",
       "0.007197  3.253986e+10  4.541582e+10  3.599640e+10  3.578030e+10  3.034758e+10\n",
       "0.010000  3.527704e+10  6.802210e+10  3.728376e+10  3.706210e+10  3.117991e+10"
      ]
     },
     "execution_count": 19,
     "metadata": {},
     "output_type": "execute_result"
    }
   ],
   "source": [
    "lambda_mseCV_elastic"
   ]
  },
  {
   "cell_type": "markdown",
   "metadata": {},
   "source": [
    "###  Mean MSE of K-fold CV - Elastic"
   ]
  },
  {
   "cell_type": "code",
   "execution_count": 20,
   "metadata": {},
   "outputs": [],
   "source": [
    "# Calculates the mean of the folds\n",
    "mse_mean_elastic = lambda_mseCV_elastic.mean(axis = 1)"
   ]
  },
  {
   "cell_type": "markdown",
   "metadata": {},
   "source": [
    "### Plot Average MSE over Elastic Net"
   ]
  },
  {
   "cell_type": "code",
   "execution_count": 21,
   "metadata": {},
   "outputs": [
    {
     "data": {
      "text/plain": [
       "[Text(0,0.5,'MSE'), Text(0.5,0,'Lambda')]"
      ]
     },
     "execution_count": 21,
     "metadata": {},
     "output_type": "execute_result"
    },
    {
     "data": {
      "image/png": "[encoded data removed]",
      "text/plain": [
       "<Figure size 432x288 with 1 Axes>"
      ]
     },
     "metadata": {
      "needs_background": "light"
     },
     "output_type": "display_data"
    }
   ],
   "source": [
    "#Plot mean square errors\n",
    "COL = ['Average MSE']\n",
    "mse_mean_elastic.columns = COL\n",
    "\n",
    "#Both axis are logarythmical \n",
    "ax = mse_mean_elastic.plot(logx = True, logy = True)\n",
    "ax.set(xlabel = 'Lambda', ylabel = 'MSE')"
   ]
  },
  {
   "cell_type": "markdown",
   "metadata": {},
   "source": [
    "### Finding the optimal hyperparameter for Ridge\n",
    "\n",
    "Where was the mean mse smallest?"
   ]
  },
  {
   "cell_type": "code",
   "execution_count": 22,
   "metadata": {},
   "outputs": [
    {
     "data": {
      "text/plain": [
       "0.002683    3.129969e+10\n",
       "dtype: float64"
      ]
     },
     "execution_count": 22,
     "metadata": {},
     "output_type": "execute_result"
    }
   ],
   "source": [
    "mse_mean_elastic.nsmallest(1)"
   ]
  },
  {
   "cell_type": "markdown",
   "metadata": {},
   "source": [
    "# Comparison of Lasso, Ridge, Elastic Net and Linear Regression\n",
    "\n",
    "Is done after the optimized hyperparameters is found (after training on validation data)\n",
    "This comparison is done on the **test data!** and is thus the final step in training and selecting our model\n"
   ]
  },
  {
   "cell_type": "code",
   "execution_count": 23,
   "metadata": {},
   "outputs": [
    {
     "name": "stdout",
     "output_type": "stream",
     "text": [
      "MSE: Lasso CV 59081597331.11\n",
      "RMSE: Lasso CV 243067.06\n",
      "MAE: Lasso CV 47660.52\n",
      "MSE: Ridge CV 62416553466.45\n",
      "RMSE: Ridge CV 249833.05\n",
      "MAE: Ridge CV 51306.19\n",
      "MSE: ElasticNet CV 57894620791.8\n",
      "RMSE: ElasticNet CV 240613.01\n",
      "MAE: ElasticNet CV 51238.75\n",
      "MSE: LinReg 64297245726.8\n",
      "RMSE: LinReg 253569.02\n",
      "MAE: LinReg 52035.52\n"
     ]
    }
   ],
   "source": [
    "# Optimal lambda is inserted into the Lasso-model\n",
    "optimal_lambda_lasso = lambda_mseCV_lasso.mean(axis=1).nsmallest(1)\n",
    "\n",
    "# retrain/re-estimate model using optimal hyperparameters\n",
    "pipe_lassoCV = make_pipeline(PolynomialFeatures(degree = 2, include_bias=False), \n",
    "                             StandardScaler(),\n",
    "                             Lasso(alpha=optimal_lambda_lasso.index[0], random_state=1))\n",
    "pipe_lassoCV.fit(X_dev,y_dev)\n",
    "\n",
    "#Optimal lambda for ridge model: \n",
    "optimal_lambda_ridge = lambda_mseCV_ridge.mean(axis=1).nsmallest(1)\n",
    "\n",
    "# retrain/re-estimate model using optimal hyperparameters\n",
    "pipe_ridgeCV = make_pipeline(PolynomialFeatures(degree = 2, include_bias=False), \n",
    "                             StandardScaler(),\n",
    "                             Lasso(alpha=optimal_lambda_ridge.index[0], random_state=1))\n",
    "pipe_ridgeCV.fit(X_dev,y_dev)\n",
    "\n",
    "#Optimal lambda for elastic net model: \n",
    "optimal_lambda_elastic = lambda_mseCV_elastic.mean(axis=1).nsmallest(1)\n",
    "\n",
    "# retrain/re-estimate model using optimal hyperparameters\n",
    "pipe_elasticCV = make_pipeline(PolynomialFeatures(degree = 2, include_bias=False), \n",
    "                             StandardScaler(),\n",
    "                             ElasticNet(alpha=optimal_lambda_elastic.index[0], random_state=1))\n",
    "pipe_elasticCV.fit(X_dev,y_dev)\n",
    "\n",
    "# compare performance by mse\n",
    "models = {'Lasso CV': pipe_lassoCV, 'Ridge CV': pipe_ridgeCV, 'ElasticNet CV': pipe_elasticCV,\n",
    "          'LinReg': pipe_lr}\n",
    "for name, model in models.items():\n",
    "    score_mse = mse(model.predict(X_test),y_test)\n",
    "    score_mae = mae(model.predict(X_test),y_test)\n",
    "    score_rmse = sqrt(mse(model.predict(X_test),y_test))\n",
    "    \n",
    "    print(\"MSE: \" + name, round(score_mse, 2))\n",
    "    print(\"RMSE: \" + name, round(score_rmse, 2))\n",
    "    print(\"MAE: \" + name, round(score_mae, 2))"
   ]
  },
  {
   "cell_type": "markdown",
   "metadata": {},
   "source": [
    "## Subconclusion\n",
    "\n",
    "The model is too complex and very unable to predict out-of-sample data. \n",
    "Though the Lasso is a great imporvement to the simple linear regression, it still produces error in the realm of trillions. "
   ]
  },
  {
   "cell_type": "markdown",
   "metadata": {},
   "source": [
    "## Error Table\n",
    "\n",
    "We calculate the Mean Absolute Error, Mean Squared Error and Root Mean Squard Errors of the differnet models: OLS (Linear Regression), Lasso, Ridge."
   ]
  },
  {
   "cell_type": "markdown",
   "metadata": {},
   "source": [
    "## Correlation plot"
   ]
  },
  {
   "cell_type": "code",
   "execution_count": 24,
   "metadata": {},
   "outputs": [
    {
     "data": {
      "image/png": "[encoded data removed]",
      "text/plain": [
       "<Figure size 1008x720 with 2 Axes>"
      ]
     },
     "metadata": {
      "needs_background": "light"
     },
     "output_type": "display_data"
    }
   ],
   "source": [
    "corr = df.corr()\n",
    "plt.figure(figsize=(14, 10))\n",
    "ax = sns.heatmap(\n",
    "    corr, \n",
    "    vmin=-1, vmax=1, center=0,\n",
    "    cmap=sns.diverging_palette(20, 220, n=200),\n",
    "    square=True\n",
    ")\n",
    "ax.set_xticklabels(\n",
    "    ax.get_xticklabels(),\n",
    "    rotation=45,\n",
    "    horizontalalignment='right'\n",
    ");"
   ]
  }
 ],
 "metadata": {
  "kernelspec": {
   "display_name": "Python 3",
   "language": "python",
   "name": "python3"
  },
  "language_info": {
   "codemirror_mode": {
    "name": "ipython",
    "version": 3
   },
   "file_extension": ".py",
   "mimetype": "text/x-python",
   "name": "python",
   "nbconvert_exporter": "python",
   "pygments_lexer": "ipython3",
   "version": "3.7.2"
  }
 },
 "nbformat": 4,
 "nbformat_minor": 2
}
