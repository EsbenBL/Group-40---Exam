{
 "cells": [
  {
   "cell_type": "markdown",
   "metadata": {},
   "source": [
    "# The Ridge Model"
   ]
  },
  {
   "cell_type": "code",
   "execution_count": 1,
   "metadata": {},
   "outputs": [],
   "source": [
    "from sklearn.linear_model import Lasso, LinearRegression, Ridge, ElasticNet\n",
    "from sklearn.pipeline import make_pipeline\n",
    "from sklearn.preprocessing import StandardScaler, PolynomialFeatures\n",
    "from sklearn.datasets import fetch_california_housing\n",
    "from sklearn.metrics import mean_squared_error as mse\n",
    "from sklearn.metrics import mean_absolute_error as mae\n",
    "from sklearn.model_selection import train_test_split\n",
    "import statsmodels.api as sm\n",
    "import tqdm\n",
    "from math import sqrt\n",
    "\n",
    "import warnings\n",
    "from sklearn.exceptions import ConvergenceWarning\n",
    "warnings.filterwarnings(action='ignore', category=ConvergenceWarning)\n",
    "\n",
    "\n",
    "import matplotlib.pyplot as plt\n",
    "import numpy as np \n",
    "import pandas as pd \n",
    "import seaborn as sns\n",
    "\n",
    "df = pd.read_csv('Boliga - Final for training.csv')\n",
    "df = df.drop(columns = ['Kommune', 'lotSize', 'Relativ Ledighed', 'Total_reported',\n",
    "                        'Socioeconomic_index', 'expenses_per_school_student',\n",
    "                       'expenses_sport_and_other_cultural_activities', 'forest_distance',\n",
    "                       'coast_distance', 'isForeclosure', 'Ejerudgift','buildYear'])\n",
    "\n",
    "\n",
    "pd.options.display.max_columns = None"
   ]
  },
  {
   "cell_type": "markdown",
   "metadata": {},
   "source": [
    "### Create dummies, and split X and Y"
   ]
  },
  {
   "cell_type": "code",
   "execution_count": 2,
   "metadata": {},
   "outputs": [],
   "source": [
    "df_dum = pd.get_dummies(df, drop_first = True, columns = ['Type'])\n",
    "X = df_dum.drop(columns = ['price'])\n",
    "y = df_dum['price']"
   ]
  },
  {
   "cell_type": "markdown",
   "metadata": {},
   "source": [
    "### Split into test, dev data"
   ]
  },
  {
   "cell_type": "code",
   "execution_count": 3,
   "metadata": {},
   "outputs": [],
   "source": [
    "from sklearn.model_selection import train_test_split\n",
    "\n",
    "X_dev, X_test, y_dev, y_test = train_test_split(X, y, test_size = 0.2, random_state = 1)"
   ]
  },
  {
   "cell_type": "markdown",
   "metadata": {},
   "source": [
    "## Train Lasso Regression (K-fold CV)\n",
    "\n",
    "Now we want to examine whether the a Lasso regression is more appropriate, and seeks to optimize the hyperparameter.\n",
    "We will train for an optimized hyperparameter on the validation set, to avoid data leakage and use k-fold crossvalidation to make sure that we have not split our dataset in a lucky or unlucky place. "
   ]
  },
  {
   "cell_type": "code",
   "execution_count": 4,
   "metadata": {},
   "outputs": [
    {
     "name": "stderr",
     "output_type": "stream",
     "text": [
      "100%|██████████| 15/15 [02:18<00:00,  9.05s/it]\n"
     ]
    }
   ],
   "source": [
    "from sklearn.model_selection import KFold\n",
    "\n",
    "#Split data into 5 folds\n",
    "kfolds = KFold(n_splits=5)\n",
    "folds = list(kfolds.split(X_dev, y_dev))\n",
    "\n",
    "#Create Lambda values\n",
    "lambdas = np.logspace(0, 5, 15)\n",
    "# outer loop: lambdas\n",
    "mseCV = []\n",
    "\n",
    "for lambda_ in tqdm.tqdm(lambdas):    \n",
    "    # inner loop: folds\n",
    "    mseCV_ = []\n",
    "\n",
    "    for train_idx, val_idx in folds:        \n",
    "        # train model and compute MSE on test fold\n",
    "        pipe_ridgeCV = make_pipeline(PolynomialFeatures(degree=2, include_bias=False),\n",
    "                                     StandardScaler(),\n",
    "                                     Ridge(alpha=lambda_, random_state=1))            \n",
    "        X_train, y_train = X_dev.iloc[train_idx], y_dev.iloc[train_idx]\n",
    "        X_val, y_val = X_dev.iloc[val_idx], y_dev.iloc[val_idx] \n",
    "        pipe_ridgeCV.fit(X_train, y_train)        \n",
    "        mseCV_.append(mse(pipe_ridgeCV.predict(X_val), y_val))\n",
    "\n",
    "        \n",
    "    # store result    \n",
    "    mseCV.append(mseCV_) \n",
    "    \n",
    "# convert to DataFrame\n",
    "lambda_mseCV_ridge = pd.DataFrame(mseCV, index=lambdas)"
   ]
  },
  {
   "cell_type": "markdown",
   "metadata": {},
   "source": [
    "### MSE of the K-fold Crossvalidation - Ridge\n",
    "\n",
    "Lambda as index"
   ]
  },
  {
   "cell_type": "code",
   "execution_count": 5,
   "metadata": {},
   "outputs": [
    {
     "data": {
      "text/html": [
       "<div>\n",
       "<style scoped>\n",
       "    .dataframe tbody tr th:only-of-type {\n",
       "        vertical-align: middle;\n",
       "    }\n",
       "\n",
       "    .dataframe tbody tr th {\n",
       "        vertical-align: top;\n",
       "    }\n",
       "\n",
       "    .dataframe thead th {\n",
       "        text-align: right;\n",
       "    }\n",
       "</style>\n",
       "<table border=\"1\" class=\"dataframe\">\n",
       "  <thead>\n",
       "    <tr style=\"text-align: right;\">\n",
       "      <th></th>\n",
       "      <th>0</th>\n",
       "      <th>1</th>\n",
       "      <th>2</th>\n",
       "      <th>3</th>\n",
       "      <th>4</th>\n",
       "    </tr>\n",
       "  </thead>\n",
       "  <tbody>\n",
       "    <tr>\n",
       "      <th>1.000000</th>\n",
       "      <td>2.997823e+10</td>\n",
       "      <td>2.802361e+10</td>\n",
       "      <td>3.494077e+10</td>\n",
       "      <td>3.316084e+10</td>\n",
       "      <td>2.859097e+10</td>\n",
       "    </tr>\n",
       "    <tr>\n",
       "      <th>2.275846</th>\n",
       "      <td>2.987259e+10</td>\n",
       "      <td>2.829712e+10</td>\n",
       "      <td>3.492924e+10</td>\n",
       "      <td>3.313187e+10</td>\n",
       "      <td>2.858893e+10</td>\n",
       "    </tr>\n",
       "    <tr>\n",
       "      <th>5.179475</th>\n",
       "      <td>2.970088e+10</td>\n",
       "      <td>2.852949e+10</td>\n",
       "      <td>3.490309e+10</td>\n",
       "      <td>3.311212e+10</td>\n",
       "      <td>2.860658e+10</td>\n",
       "    </tr>\n",
       "    <tr>\n",
       "      <th>11.787686</th>\n",
       "      <td>2.950025e+10</td>\n",
       "      <td>2.851596e+10</td>\n",
       "      <td>3.487059e+10</td>\n",
       "      <td>3.316000e+10</td>\n",
       "      <td>2.865564e+10</td>\n",
       "    </tr>\n",
       "    <tr>\n",
       "      <th>26.826958</th>\n",
       "      <td>2.937717e+10</td>\n",
       "      <td>2.780065e+10</td>\n",
       "      <td>3.488314e+10</td>\n",
       "      <td>3.338164e+10</td>\n",
       "      <td>2.877301e+10</td>\n",
       "    </tr>\n",
       "    <tr>\n",
       "      <th>61.054023</th>\n",
       "      <td>2.968608e+10</td>\n",
       "      <td>2.703595e+10</td>\n",
       "      <td>3.510062e+10</td>\n",
       "      <td>3.396836e+10</td>\n",
       "      <td>2.908413e+10</td>\n",
       "    </tr>\n",
       "    <tr>\n",
       "      <th>138.949549</th>\n",
       "      <td>3.188172e+10</td>\n",
       "      <td>3.717322e+10</td>\n",
       "      <td>3.607123e+10</td>\n",
       "      <td>3.540349e+10</td>\n",
       "      <td>2.996391e+10</td>\n",
       "    </tr>\n",
       "    <tr>\n",
       "      <th>316.227766</th>\n",
       "      <td>4.079739e+10</td>\n",
       "      <td>1.118049e+11</td>\n",
       "      <td>3.970296e+10</td>\n",
       "      <td>3.911943e+10</td>\n",
       "      <td>3.266709e+10</td>\n",
       "    </tr>\n",
       "    <tr>\n",
       "      <th>719.685673</th>\n",
       "      <td>6.745959e+10</td>\n",
       "      <td>3.931165e+11</td>\n",
       "      <td>5.136379e+10</td>\n",
       "      <td>4.893923e+10</td>\n",
       "      <td>4.127840e+10</td>\n",
       "    </tr>\n",
       "    <tr>\n",
       "      <th>1637.893707</th>\n",
       "      <td>1.277068e+11</td>\n",
       "      <td>9.848830e+11</td>\n",
       "      <td>8.308934e+10</td>\n",
       "      <td>7.311794e+10</td>\n",
       "      <td>6.785558e+10</td>\n",
       "    </tr>\n",
       "    <tr>\n",
       "      <th>3727.593720</th>\n",
       "      <td>2.339011e+11</td>\n",
       "      <td>1.496417e+12</td>\n",
       "      <td>1.543389e+11</td>\n",
       "      <td>1.255506e+11</td>\n",
       "      <td>1.409000e+11</td>\n",
       "    </tr>\n",
       "    <tr>\n",
       "      <th>8483.428982</th>\n",
       "      <td>3.947904e+11</td>\n",
       "      <td>1.284630e+12</td>\n",
       "      <td>2.867377e+11</td>\n",
       "      <td>2.266111e+11</td>\n",
       "      <td>2.990019e+11</td>\n",
       "    </tr>\n",
       "    <tr>\n",
       "      <th>19306.977289</th>\n",
       "      <td>6.332843e+11</td>\n",
       "      <td>6.616437e+11</td>\n",
       "      <td>5.007125e+11</td>\n",
       "      <td>4.041298e+11</td>\n",
       "      <td>5.480987e+11</td>\n",
       "    </tr>\n",
       "    <tr>\n",
       "      <th>43939.705608</th>\n",
       "      <td>9.835479e+11</td>\n",
       "      <td>5.128680e+11</td>\n",
       "      <td>8.130475e+11</td>\n",
       "      <td>6.875039e+11</td>\n",
       "      <td>8.396166e+11</td>\n",
       "    </tr>\n",
       "    <tr>\n",
       "      <th>100000.000000</th>\n",
       "      <td>1.448444e+12</td>\n",
       "      <td>9.864806e+11</td>\n",
       "      <td>1.214351e+12</td>\n",
       "      <td>1.087218e+12</td>\n",
       "      <td>1.127706e+12</td>\n",
       "    </tr>\n",
       "  </tbody>\n",
       "</table>\n",
       "</div>"
      ],
      "text/plain": [
       "                          0             1             2             3  \\\n",
       "1.000000       2.997823e+10  2.802361e+10  3.494077e+10  3.316084e+10   \n",
       "2.275846       2.987259e+10  2.829712e+10  3.492924e+10  3.313187e+10   \n",
       "5.179475       2.970088e+10  2.852949e+10  3.490309e+10  3.311212e+10   \n",
       "11.787686      2.950025e+10  2.851596e+10  3.487059e+10  3.316000e+10   \n",
       "26.826958      2.937717e+10  2.780065e+10  3.488314e+10  3.338164e+10   \n",
       "61.054023      2.968608e+10  2.703595e+10  3.510062e+10  3.396836e+10   \n",
       "138.949549     3.188172e+10  3.717322e+10  3.607123e+10  3.540349e+10   \n",
       "316.227766     4.079739e+10  1.118049e+11  3.970296e+10  3.911943e+10   \n",
       "719.685673     6.745959e+10  3.931165e+11  5.136379e+10  4.893923e+10   \n",
       "1637.893707    1.277068e+11  9.848830e+11  8.308934e+10  7.311794e+10   \n",
       "3727.593720    2.339011e+11  1.496417e+12  1.543389e+11  1.255506e+11   \n",
       "8483.428982    3.947904e+11  1.284630e+12  2.867377e+11  2.266111e+11   \n",
       "19306.977289   6.332843e+11  6.616437e+11  5.007125e+11  4.041298e+11   \n",
       "43939.705608   9.835479e+11  5.128680e+11  8.130475e+11  6.875039e+11   \n",
       "100000.000000  1.448444e+12  9.864806e+11  1.214351e+12  1.087218e+12   \n",
       "\n",
       "                          4  \n",
       "1.000000       2.859097e+10  \n",
       "2.275846       2.858893e+10  \n",
       "5.179475       2.860658e+10  \n",
       "11.787686      2.865564e+10  \n",
       "26.826958      2.877301e+10  \n",
       "61.054023      2.908413e+10  \n",
       "138.949549     2.996391e+10  \n",
       "316.227766     3.266709e+10  \n",
       "719.685673     4.127840e+10  \n",
       "1637.893707    6.785558e+10  \n",
       "3727.593720    1.409000e+11  \n",
       "8483.428982    2.990019e+11  \n",
       "19306.977289   5.480987e+11  \n",
       "43939.705608   8.396166e+11  \n",
       "100000.000000  1.127706e+12  "
      ]
     },
     "execution_count": 5,
     "metadata": {},
     "output_type": "execute_result"
    }
   ],
   "source": [
    "lambda_mseCV_ridge"
   ]
  },
  {
   "cell_type": "markdown",
   "metadata": {},
   "source": [
    "###  Mean MSE of K-fold CV - Ridge"
   ]
  },
  {
   "cell_type": "code",
   "execution_count": 6,
   "metadata": {},
   "outputs": [],
   "source": [
    "# Calculates the mean of the folds\n",
    "mse_mean_ridge = lambda_mseCV_ridge.mean(axis = 1)"
   ]
  },
  {
   "cell_type": "markdown",
   "metadata": {},
   "source": [
    "### Plot Average MSE over Lambda - Ridge"
   ]
  },
  {
   "cell_type": "code",
   "execution_count": 7,
   "metadata": {},
   "outputs": [
    {
     "data": {
      "text/plain": [
       "[Text(0, 0.5, 'MSE'), Text(0.5, 0, 'Lambda')]"
      ]
     },
     "execution_count": 7,
     "metadata": {},
     "output_type": "execute_result"
    },
    {
     "data": {
      "image/png": "[encoded data removed]",
      "text/plain": [
       "<Figure size 432x288 with 1 Axes>"
      ]
     },
     "metadata": {
      "needs_background": "light"
     },
     "output_type": "display_data"
    }
   ],
   "source": [
    "#Plot mean square errors\n",
    "COL = ['Average MSE']\n",
    "mse_mean_ridge.columns = COL\n",
    "\n",
    "#Both axis are logarythmical \n",
    "ax = mse_mean_ridge.plot(logx = True, logy = True)\n",
    "ax.set(xlabel = 'Lambda', ylabel = 'MSE')\n"
   ]
  },
  {
   "cell_type": "markdown",
   "metadata": {},
   "source": [
    "### Finding the optimal hyperparameter for Lasso\n",
    "\n",
    "Where was the mean mse smallest?"
   ]
  },
  {
   "cell_type": "code",
   "execution_count": 8,
   "metadata": {},
   "outputs": [
    {
     "data": {
      "text/plain": [
       "26.826958    3.084312e+10\n",
       "dtype: float64"
      ]
     },
     "execution_count": 8,
     "metadata": {},
     "output_type": "execute_result"
    }
   ],
   "source": [
    "mse_mean_ridge.nsmallest(1)"
   ]
  },
  {
   "cell_type": "code",
   "execution_count": 9,
   "metadata": {},
   "outputs": [
    {
     "name": "stdout",
     "output_type": "stream",
     "text": [
      "MSE: Ridge CV 57589419358.14\n",
      "RMSE: Ridge CV 239977.96\n",
      "MAE: Ridge CV 48341.88\n"
     ]
    }
   ],
   "source": [
    "# Optimal lambda is inserted into the Lasso-model\n",
    "optimal_lambda_ridge = lambda_mseCV_ridge.mean(axis=1).nsmallest(1)\n",
    "\n",
    "# retrain/re-estimate model using optimal hyperparameters\n",
    "pipe_ridgeCV = make_pipeline(PolynomialFeatures(degree = 2, include_bias=False), \n",
    "                             StandardScaler(),\n",
    "                             Ridge(alpha=optimal_lambda_ridge.index[0], random_state=1))\n",
    "pipe_ridgeCV.fit(X_dev,y_dev)\n",
    "\n",
    "# compare performance by mse\n",
    "models = {'Ridge CV': pipe_ridgeCV}\n",
    "for name, model in models.items():\n",
    "    score_mse = mse(model.predict(X_test),y_test)\n",
    "    score_mae = mae(model.predict(X_test),y_test)\n",
    "    score_rmse = sqrt(mse(model.predict(X_test),y_test))\n",
    "    \n",
    "    print(\"MSE: \" + name, round(score_mse, 2))\n",
    "    print(\"RMSE: \" + name, round(score_rmse, 2))\n",
    "    print(\"MAE: \" + name, round(score_mae, 2))"
   ]
  },
  {
   "cell_type": "markdown",
   "metadata": {},
   "source": [
    "# Learning Curve of Ridge regression:\n",
    "\n",
    "Since the Lasso regression performed best, we will examine it's performance on out-of-sample data a bit further. "
   ]
  },
  {
   "cell_type": "code",
   "execution_count": 10,
   "metadata": {},
   "outputs": [
    {
     "name": "stdout",
     "output_type": "stream",
     "text": [
      "                    Train          Test\n",
      "sample size                            \n",
      "7887         2.953278e+10  5.645175e+10\n",
      "9858         2.717661e+10  4.164158e+10\n",
      "11830        2.988155e+10  3.792478e+10\n"
     ]
    }
   ],
   "source": [
    "from sklearn.model_selection import learning_curve\n",
    "\n",
    "train_sizes, train_scores, test_scores = \\\n",
    "    learning_curve(estimator=pipe_ridgeCV,\n",
    "                   X=X_dev,\n",
    "                   y=y_dev,\n",
    "                   train_sizes=np.arange(0.2, 1.05, .05),\n",
    "                   scoring='neg_mean_squared_error',                 \n",
    "                   cv=5)\n",
    "\n",
    "\n",
    "mse_ = pd.DataFrame({'Train':-train_scores.mean(axis=1),\n",
    "                     'Test':-test_scores.mean(axis=1)})\\\n",
    "        .set_index(pd.Index(train_sizes,name='sample size'))    \n",
    "print(mse_.head(3))"
   ]
  },
  {
   "cell_type": "code",
   "execution_count": 11,
   "metadata": {},
   "outputs": [
    {
     "data": {
      "image/png": "[encoded data removed]",
      "text/plain": [
       "<Figure size 720x288 with 1 Axes>"
      ]
     },
     "metadata": {},
     "output_type": "display_data"
    }
   ],
   "source": [
    "plt.style.use('ggplot')\n",
    "f_learn, ax = plt.subplots(figsize=(10,4))\n",
    "ax.fill_between(train_sizes,\n",
    "                -test_scores.mean(1) + test_scores.std(1)*1.96,\n",
    "                -test_scores.mean(1) - test_scores.std(1)*1.96, \n",
    "                alpha=0.25, label ='Validation', color='blue')\n",
    "\n",
    "ax.fill_between(train_sizes,\n",
    "                -train_scores.mean(1) + train_scores.std(1)*1.96,\n",
    "                -train_scores.mean(1) - train_scores.std(1)*1.96, \n",
    "                alpha=0.25, label='Train', color='orange')\n",
    "ax.set_ylabel('Mean squared error')\n",
    "ax.set_xlabel('Sample size')\n",
    "ax.set_title('Learning Curve')\n",
    "ax.set_yscale('log')\n",
    "ax.legend()\n",
    "f_learn.savefig('Learning curve - Ridge 2 degree.png')"
   ]
  },
  {
   "cell_type": "markdown",
   "metadata": {},
   "source": [
    "# Validation Curve\n",
    "\n",
    "Examines the relationsship between how well the model did on the k-fold crossvalidation data, and how well it does on the test data, but for different values of lambda. \n",
    "\n",
    "This is a way to visualise how overfit the data is - if the difference is sizeable - and how biased it is - if the MSE is big. "
   ]
  },
  {
   "cell_type": "code",
   "execution_count": 12,
   "metadata": {},
   "outputs": [
    {
     "name": "stdout",
     "output_type": "stream",
     "text": [
      "lambda\n",
      "26.826958    3.084312e+10\n",
      "Name: Validation, dtype: float64\n"
     ]
    }
   ],
   "source": [
    "from sklearn.model_selection import validation_curve\n",
    "\n",
    "train_scores, test_scores = \\\n",
    "    validation_curve(estimator=pipe_ridgeCV,\n",
    "                     X=X_dev,\n",
    "                     y=y_dev,\n",
    "                     param_name='ridge__alpha',\n",
    "                     param_range=lambdas,\n",
    "                     scoring='neg_mean_squared_error',                 \n",
    "                     cv=5)\n",
    "\n",
    "mse_score = pd.DataFrame({'Train':-train_scores.mean(axis=1),\n",
    "                          'Validation':-test_scores.mean(axis=1),\n",
    "                          'lambda':lambdas})\\\n",
    "              .set_index('lambda')   \n",
    "print(mse_score.Validation.nsmallest(1))"
   ]
  },
  {
   "cell_type": "code",
   "execution_count": 13,
   "metadata": {},
   "outputs": [
    {
     "data": {
      "image/png": "[encoded data removed]",
      "text/plain": [
       "<Figure size 432x288 with 1 Axes>"
      ]
     },
     "metadata": {},
     "output_type": "display_data"
    }
   ],
   "source": [
    "plt.style.use('ggplot')\n",
    "val_plot = mse_score.plot(logx=True, logy=True, title = 'Validation Curve')\n",
    "val_plot.set_xlabel('Lambda')\n",
    "val_plot.set_ylabel('MSE')\n",
    "val_plot.figure.savefig('Validation Curve - Ridge 2 degree.png')"
   ]
  }
 ],
 "metadata": {
  "kernelspec": {
   "display_name": "Python 3",
   "language": "python",
   "name": "python3"
  },
  "language_info": {
   "codemirror_mode": {
    "name": "ipython",
    "version": 3
   },
   "file_extension": ".py",
   "mimetype": "text/x-python",
   "name": "python",
   "nbconvert_exporter": "python",
   "pygments_lexer": "ipython3",
   "version": "3.7.3"
  }
 },
 "nbformat": 4,
 "nbformat_minor": 2
}
