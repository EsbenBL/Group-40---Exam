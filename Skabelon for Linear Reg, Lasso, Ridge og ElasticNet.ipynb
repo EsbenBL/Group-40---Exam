{
 "cells": [
  {
   "cell_type": "markdown",
   "metadata": {},
   "source": [
    "# Training of model"
   ]
  },
  {
   "cell_type": "code",
   "execution_count": 1,
   "metadata": {},
   "outputs": [
    {
     "name": "stderr",
     "output_type": "stream",
     "text": [
      "/anaconda3/lib/python3.7/site-packages/statsmodels/compat/pandas.py:49: FutureWarning: The Panel class is removed from pandas. Accessing it from the top-level namespace will also be removed in the next version\n",
      "  data_klasses = (pandas.Series, pandas.DataFrame, pandas.Panel)\n"
     ]
    }
   ],
   "source": [
    "from sklearn.linear_model import Lasso, LinearRegression, Ridge, ElasticNet\n",
    "from sklearn.pipeline import make_pipeline\n",
    "from sklearn.preprocessing import StandardScaler, PolynomialFeatures\n",
    "from sklearn.datasets import fetch_california_housing\n",
    "from sklearn.metrics import mean_squared_error as mse\n",
    "from sklearn.metrics import mean_absolute_error as mae\n",
    "from sklearn.model_selection import train_test_split\n",
    "import statsmodels.api as sm\n",
    "import tqdm\n",
    "from math import sqrt\n",
    "\n",
    "import warnings\n",
    "from sklearn.exceptions import ConvergenceWarning\n",
    "warnings.filterwarnings(action='ignore', category=ConvergenceWarning)\n",
    "\n",
    "\n",
    "import matplotlib.pyplot as plt\n",
    "import numpy as np \n",
    "import pandas as pd \n",
    "import seaborn as sns\n",
    "\n",
    "df = pd.read_csv('Boliga - Final for training.csv')\n",
    "df = df.drop(columns = ['Kommune', 'lotSize', 'Relativ Ledighed', 'Total_reported',\n",
    "                        'Socioeconomic_index', 'expenses_per_school_student',\n",
    "                       'expenses_sport_and_other_cultural_activities', 'forest_distance',\n",
    "                       'coast_distance', 'isForeclosure', 'Ejerudgift'])\n",
    "\n",
    "#df_sample = df.sample(1000)\n",
    "pd.options.display.max_columns = None"
   ]
  },
  {
   "cell_type": "code",
   "execution_count": 2,
   "metadata": {},
   "outputs": [
    {
     "data": {
      "text/plain": [
       "(61618, 26)"
      ]
     },
     "execution_count": 2,
     "metadata": {},
     "output_type": "execute_result"
    }
   ],
   "source": [
    "df.shape"
   ]
  },
  {
   "cell_type": "markdown",
   "metadata": {},
   "source": [
    "### Create dummies, and split X and Y"
   ]
  },
  {
   "cell_type": "code",
   "execution_count": 3,
   "metadata": {},
   "outputs": [],
   "source": [
    "df_dum = pd.get_dummies(df, drop_first = True, columns = ['Type'])\n",
    "X = df_dum.drop(columns = ['price'])\n",
    "y = df_dum['price']"
   ]
  },
  {
   "cell_type": "markdown",
   "metadata": {},
   "source": [
    "### Split into test, dev, val and train data"
   ]
  },
  {
   "cell_type": "code",
   "execution_count": 4,
   "metadata": {},
   "outputs": [],
   "source": [
    "from sklearn.model_selection import train_test_split\n",
    "\n",
    "X_dev, X_test, y_dev, y_test = train_test_split(X, y, test_size = 0.2, random_state = 1)\n",
    "\n",
    "#X_train, X_val, y_train, y_val = train_test_split(X_dev, y_dev, test_size = 0.5, random_state = 1)"
   ]
  },
  {
   "cell_type": "markdown",
   "metadata": {},
   "source": [
    "### Linear Regression Model\n",
    "\n",
    "First, we train (fit) a linear regression on the development (in this case the **training**) data, as it does not need validation (no hyperparameter needs to be optimized)"
   ]
  },
  {
   "cell_type": "code",
   "execution_count": 5,
   "metadata": {},
   "outputs": [
    {
     "data": {
      "text/plain": [
       "Pipeline(memory=None,\n",
       "     steps=[('polynomialfeatures', PolynomialFeatures(degree=2, include_bias=True, interaction_only=False)), ('standardscaler', StandardScaler(copy=True, with_mean=0, with_std=True)), ('linearregression', LinearRegression(copy_X=True, fit_intercept=True, n_jobs=1, normalize=False))])"
      ]
     },
     "execution_count": 5,
     "metadata": {},
     "output_type": "execute_result"
    }
   ],
   "source": [
    "#Create pipeline (pipe_lr which will be used later, to compare Lasso and LR)\n",
    "pipe_lr = make_pipeline(PolynomialFeatures(include_bias=True, degree = 2), \n",
    "                        StandardScaler(with_mean = 0, with_std = True),\n",
    "                        LinearRegression())\n",
    "\n",
    "#Fit pipline to dev-data\n",
    "pipe_lr.fit(X_dev, y_dev)"
   ]
  },
  {
   "cell_type": "markdown",
   "metadata": {},
   "source": [
    "### OLS (linear regression) estimations table\n",
    "\n",
    "Find a way to get the OLS estimates out here, in a table"
   ]
  },
  {
   "cell_type": "code",
   "execution_count": 6,
   "metadata": {},
   "outputs": [
    {
     "data": {
      "text/html": [
       "<table class=\"simpletable\">\n",
       "<caption>OLS Regression Results</caption>\n",
       "<tr>\n",
       "  <th>Dep. Variable:</th>          <td>price</td>      <th>  R-squared:         </th>  <td>   0.765</td>  \n",
       "</tr>\n",
       "<tr>\n",
       "  <th>Model:</th>                   <td>OLS</td>       <th>  Adj. R-squared:    </th>  <td>   0.765</td>  \n",
       "</tr>\n",
       "<tr>\n",
       "  <th>Method:</th>             <td>Least Squares</td>  <th>  F-statistic:       </th>  <td>   5022.</td>  \n",
       "</tr>\n",
       "<tr>\n",
       "  <th>Date:</th>             <td>Tue, 27 Aug 2019</td> <th>  Prob (F-statistic):</th>   <td>  0.00</td>   \n",
       "</tr>\n",
       "<tr>\n",
       "  <th>Time:</th>                 <td>12:33:52</td>     <th>  Log-Likelihood:    </th> <td>-7.7377e+05</td>\n",
       "</tr>\n",
       "<tr>\n",
       "  <th>No. Observations:</th>      <td> 49294</td>      <th>  AIC:               </th>  <td>1.548e+06</td> \n",
       "</tr>\n",
       "<tr>\n",
       "  <th>Df Residuals:</th>          <td> 49262</td>      <th>  BIC:               </th>  <td>1.548e+06</td> \n",
       "</tr>\n",
       "<tr>\n",
       "  <th>Df Model:</th>              <td>    32</td>      <th>                     </th>      <td> </td>     \n",
       "</tr>\n",
       "<tr>\n",
       "  <th>Covariance Type:</th>      <td>nonrobust</td>    <th>                     </th>      <td> </td>     \n",
       "</tr>\n",
       "</table>\n",
       "<table class=\"simpletable\">\n",
       "<tr>\n",
       "                  <td></td>                    <th>coef</th>     <th>std err</th>      <th>t</th>      <th>P>|t|</th>  <th>[0.025</th>    <th>0.975]</th>  \n",
       "</tr>\n",
       "<tr>\n",
       "  <th>basementSize</th>                     <td> 8933.8327</td> <td>  244.980</td> <td>   36.468</td> <td> 0.000</td> <td> 8453.668</td> <td> 9413.997</td>\n",
       "</tr>\n",
       "<tr>\n",
       "  <th>buildYear</th>                        <td>  765.8151</td> <td>   58.506</td> <td>   13.090</td> <td> 0.000</td> <td>  651.143</td> <td>  880.488</td>\n",
       "</tr>\n",
       "<tr>\n",
       "  <th>rooms</th>                            <td>-1.998e+04</td> <td> 6756.066</td> <td>   -2.957</td> <td> 0.003</td> <td>-3.32e+04</td> <td>-6733.690</td>\n",
       "</tr>\n",
       "<tr>\n",
       "  <th>size</th>                             <td> 1.718e+04</td> <td>  190.006</td> <td>   90.435</td> <td> 0.000</td> <td> 1.68e+04</td> <td> 1.76e+04</td>\n",
       "</tr>\n",
       "<tr>\n",
       "  <th>Grundskole</th>                       <td>-6.576e+04</td> <td> 4418.105</td> <td>  -14.883</td> <td> 0.000</td> <td>-7.44e+04</td> <td>-5.71e+04</td>\n",
       "</tr>\n",
       "<tr>\n",
       "  <th>Gymnasiale uddannelser</th>           <td>  3.21e+05</td> <td> 1.56e+04</td> <td>   20.510</td> <td> 0.000</td> <td>  2.9e+05</td> <td> 3.52e+05</td>\n",
       "</tr>\n",
       "<tr>\n",
       "  <th>Erhvervsfaglige uddannelser</th>      <td>-7.329e+04</td> <td> 4248.630</td> <td>  -17.250</td> <td> 0.000</td> <td>-8.16e+04</td> <td> -6.5e+04</td>\n",
       "</tr>\n",
       "<tr>\n",
       "  <th>KVU</th>                              <td>-1.104e+05</td> <td> 1.47e+04</td> <td>   -7.494</td> <td> 0.000</td> <td>-1.39e+05</td> <td>-8.15e+04</td>\n",
       "</tr>\n",
       "<tr>\n",
       "  <th>MVU</th>                              <td>-8.622e+04</td> <td> 4236.494</td> <td>  -20.352</td> <td> 0.000</td> <td>-9.45e+04</td> <td>-7.79e+04</td>\n",
       "</tr>\n",
       "<tr>\n",
       "  <th>Bacheloruddannelser</th>              <td> 2.032e+05</td> <td> 4.82e+04</td> <td>    4.214</td> <td> 0.000</td> <td> 1.09e+05</td> <td> 2.98e+05</td>\n",
       "</tr>\n",
       "<tr>\n",
       "  <th> LVU</th>                             <td>-3.986e+04</td> <td> 7333.490</td> <td>   -5.435</td> <td> 0.000</td> <td>-5.42e+04</td> <td>-2.55e+04</td>\n",
       "</tr>\n",
       "<tr>\n",
       "  <th>Kommunal_gennemsnitsinkomst_2017</th> <td>    6.8967</td> <td>    0.332</td> <td>   20.761</td> <td> 0.000</td> <td>    6.246</td> <td>    7.548</td>\n",
       "</tr>\n",
       "<tr>\n",
       "  <th>Population_in_urban_development</th>  <td> 7963.5134</td> <td>  895.866</td> <td>    8.889</td> <td> 0.000</td> <td> 6207.604</td> <td> 9719.422</td>\n",
       "</tr>\n",
       "<tr>\n",
       "  <th>average_class_size</th>               <td>-1.141e+04</td> <td> 6964.493</td> <td>   -1.639</td> <td> 0.101</td> <td>-2.51e+04</td> <td> 2238.285</td>\n",
       "</tr>\n",
       "<tr>\n",
       "  <th>lake_distance</th>                    <td> 1.431e+04</td> <td> 1405.252</td> <td>   10.180</td> <td> 0.000</td> <td> 1.16e+04</td> <td> 1.71e+04</td>\n",
       "</tr>\n",
       "<tr>\n",
       "  <th>doctor_distance</th>                  <td>  1.43e+04</td> <td> 3263.341</td> <td>    4.382</td> <td> 0.000</td> <td> 7902.690</td> <td> 2.07e+04</td>\n",
       "</tr>\n",
       "<tr>\n",
       "  <th>supermarket_distance</th>             <td>-3.271e+04</td> <td> 3308.217</td> <td>   -9.887</td> <td> 0.000</td> <td>-3.92e+04</td> <td>-2.62e+04</td>\n",
       "</tr>\n",
       "<tr>\n",
       "  <th>school_distance</th>                  <td> 3.204e+04</td> <td> 4576.630</td> <td>    7.001</td> <td> 0.000</td> <td> 2.31e+04</td> <td>  4.1e+04</td>\n",
       "</tr>\n",
       "<tr>\n",
       "  <th>daycare_distance</th>                 <td> 9880.5553</td> <td> 4946.344</td> <td>    1.998</td> <td> 0.046</td> <td>  185.662</td> <td> 1.96e+04</td>\n",
       "</tr>\n",
       "<tr>\n",
       "  <th>hospital_distance</th>                <td>-1.645e+04</td> <td>  990.150</td> <td>  -16.609</td> <td> 0.000</td> <td>-1.84e+04</td> <td>-1.45e+04</td>\n",
       "</tr>\n",
       "<tr>\n",
       "  <th>train_distance</th>                   <td>-5066.8931</td> <td>  694.042</td> <td>   -7.301</td> <td> 0.000</td> <td>-6427.225</td> <td>-3706.562</td>\n",
       "</tr>\n",
       "<tr>\n",
       "  <th>pharmacy_distance</th>                <td>-2.057e+04</td> <td> 2546.416</td> <td>   -8.076</td> <td> 0.000</td> <td>-2.56e+04</td> <td>-1.56e+04</td>\n",
       "</tr>\n",
       "<tr>\n",
       "  <th>library_distance</th>                 <td>-1.704e+04</td> <td> 2481.356</td> <td>   -6.868</td> <td> 0.000</td> <td>-2.19e+04</td> <td>-1.22e+04</td>\n",
       "</tr>\n",
       "<tr>\n",
       "  <th>junction_distance</th>                <td> 3268.9939</td> <td>  643.241</td> <td>    5.082</td> <td> 0.000</td> <td> 2008.235</td> <td> 4529.753</td>\n",
       "</tr>\n",
       "<tr>\n",
       "  <th>Type_Ejerlejlighed</th>               <td> 1.092e+06</td> <td> 6.21e+04</td> <td>   17.578</td> <td> 0.000</td> <td>  9.7e+05</td> <td> 1.21e+06</td>\n",
       "</tr>\n",
       "<tr>\n",
       "  <th>Type_Fritidsgrund</th>                <td> 3.968e+06</td> <td> 1.41e+05</td> <td>   28.089</td> <td> 0.000</td> <td> 3.69e+06</td> <td> 4.24e+06</td>\n",
       "</tr>\n",
       "<tr>\n",
       "  <th>Type_Fritidshus</th>                  <td> 1.989e+06</td> <td>  6.4e+04</td> <td>   31.070</td> <td> 0.000</td> <td> 1.86e+06</td> <td> 2.11e+06</td>\n",
       "</tr>\n",
       "<tr>\n",
       "  <th>Type_Helårsgrund</th>                 <td> 3.755e+06</td> <td>  1.3e+05</td> <td>   28.787</td> <td> 0.000</td> <td>  3.5e+06</td> <td> 4.01e+06</td>\n",
       "</tr>\n",
       "<tr>\n",
       "  <th>Type_Landejendom</th>                 <td> 1.723e+06</td> <td> 6.95e+04</td> <td>   24.804</td> <td> 0.000</td> <td> 1.59e+06</td> <td> 1.86e+06</td>\n",
       "</tr>\n",
       "<tr>\n",
       "  <th>Type_Rækkehus</th>                    <td> 1.209e+06</td> <td>  6.7e+04</td> <td>   18.037</td> <td> 0.000</td> <td> 1.08e+06</td> <td> 1.34e+06</td>\n",
       "</tr>\n",
       "<tr>\n",
       "  <th>Type_Villa</th>                       <td> 9.025e+05</td> <td> 6.05e+04</td> <td>   14.930</td> <td> 0.000</td> <td> 7.84e+05</td> <td> 1.02e+06</td>\n",
       "</tr>\n",
       "<tr>\n",
       "  <th>Type_Villalejlighed</th>              <td>   7.1e+05</td> <td>  1.2e+05</td> <td>    5.913</td> <td> 0.000</td> <td> 4.75e+05</td> <td> 9.45e+05</td>\n",
       "</tr>\n",
       "</table>\n",
       "<table class=\"simpletable\">\n",
       "<tr>\n",
       "  <th>Omnibus:</th>       <td>67523.042</td> <th>  Durbin-Watson:     </th>   <td>   2.005</td>  \n",
       "</tr>\n",
       "<tr>\n",
       "  <th>Prob(Omnibus):</th>  <td> 0.000</td>   <th>  Jarque-Bera (JB):  </th> <td>82626152.628</td>\n",
       "</tr>\n",
       "<tr>\n",
       "  <th>Skew:</th>           <td> 7.331</td>   <th>  Prob(JB):          </th>   <td>    0.00</td>  \n",
       "</tr>\n",
       "<tr>\n",
       "  <th>Kurtosis:</th>       <td>203.034</td>  <th>  Cond. No.          </th>   <td>9.12e+06</td>  \n",
       "</tr>\n",
       "</table><br/><br/>Warnings:<br/>[1] Standard Errors assume that the covariance matrix of the errors is correctly specified.<br/>[2] The condition number is large, 9.12e+06. This might indicate that there are<br/>strong multicollinearity or other numerical problems."
      ],
      "text/plain": [
       "<class 'statsmodels.iolib.summary.Summary'>\n",
       "\"\"\"\n",
       "                            OLS Regression Results                            \n",
       "==============================================================================\n",
       "Dep. Variable:                  price   R-squared:                       0.765\n",
       "Model:                            OLS   Adj. R-squared:                  0.765\n",
       "Method:                 Least Squares   F-statistic:                     5022.\n",
       "Date:                Tue, 27 Aug 2019   Prob (F-statistic):               0.00\n",
       "Time:                        12:33:52   Log-Likelihood:            -7.7377e+05\n",
       "No. Observations:               49294   AIC:                         1.548e+06\n",
       "Df Residuals:                   49262   BIC:                         1.548e+06\n",
       "Df Model:                          32                                         \n",
       "Covariance Type:            nonrobust                                         \n",
       "====================================================================================================\n",
       "                                       coef    std err          t      P>|t|      [0.025      0.975]\n",
       "----------------------------------------------------------------------------------------------------\n",
       "basementSize                      8933.8327    244.980     36.468      0.000    8453.668    9413.997\n",
       "buildYear                          765.8151     58.506     13.090      0.000     651.143     880.488\n",
       "rooms                            -1.998e+04   6756.066     -2.957      0.003   -3.32e+04   -6733.690\n",
       "size                              1.718e+04    190.006     90.435      0.000    1.68e+04    1.76e+04\n",
       "Grundskole                       -6.576e+04   4418.105    -14.883      0.000   -7.44e+04   -5.71e+04\n",
       "Gymnasiale uddannelser             3.21e+05   1.56e+04     20.510      0.000     2.9e+05    3.52e+05\n",
       "Erhvervsfaglige uddannelser      -7.329e+04   4248.630    -17.250      0.000   -8.16e+04    -6.5e+04\n",
       "KVU                              -1.104e+05   1.47e+04     -7.494      0.000   -1.39e+05   -8.15e+04\n",
       "MVU                              -8.622e+04   4236.494    -20.352      0.000   -9.45e+04   -7.79e+04\n",
       "Bacheloruddannelser               2.032e+05   4.82e+04      4.214      0.000    1.09e+05    2.98e+05\n",
       " LVU                             -3.986e+04   7333.490     -5.435      0.000   -5.42e+04   -2.55e+04\n",
       "Kommunal_gennemsnitsinkomst_2017     6.8967      0.332     20.761      0.000       6.246       7.548\n",
       "Population_in_urban_development   7963.5134    895.866      8.889      0.000    6207.604    9719.422\n",
       "average_class_size               -1.141e+04   6964.493     -1.639      0.101   -2.51e+04    2238.285\n",
       "lake_distance                     1.431e+04   1405.252     10.180      0.000    1.16e+04    1.71e+04\n",
       "doctor_distance                    1.43e+04   3263.341      4.382      0.000    7902.690    2.07e+04\n",
       "supermarket_distance             -3.271e+04   3308.217     -9.887      0.000   -3.92e+04   -2.62e+04\n",
       "school_distance                   3.204e+04   4576.630      7.001      0.000    2.31e+04     4.1e+04\n",
       "daycare_distance                  9880.5553   4946.344      1.998      0.046     185.662    1.96e+04\n",
       "hospital_distance                -1.645e+04    990.150    -16.609      0.000   -1.84e+04   -1.45e+04\n",
       "train_distance                   -5066.8931    694.042     -7.301      0.000   -6427.225   -3706.562\n",
       "pharmacy_distance                -2.057e+04   2546.416     -8.076      0.000   -2.56e+04   -1.56e+04\n",
       "library_distance                 -1.704e+04   2481.356     -6.868      0.000   -2.19e+04   -1.22e+04\n",
       "junction_distance                 3268.9939    643.241      5.082      0.000    2008.235    4529.753\n",
       "Type_Ejerlejlighed                1.092e+06   6.21e+04     17.578      0.000     9.7e+05    1.21e+06\n",
       "Type_Fritidsgrund                 3.968e+06   1.41e+05     28.089      0.000    3.69e+06    4.24e+06\n",
       "Type_Fritidshus                   1.989e+06    6.4e+04     31.070      0.000    1.86e+06    2.11e+06\n",
       "Type_Helårsgrund                  3.755e+06    1.3e+05     28.787      0.000     3.5e+06    4.01e+06\n",
       "Type_Landejendom                  1.723e+06   6.95e+04     24.804      0.000    1.59e+06    1.86e+06\n",
       "Type_Rækkehus                     1.209e+06    6.7e+04     18.037      0.000    1.08e+06    1.34e+06\n",
       "Type_Villa                        9.025e+05   6.05e+04     14.930      0.000    7.84e+05    1.02e+06\n",
       "Type_Villalejlighed                 7.1e+05    1.2e+05      5.913      0.000    4.75e+05    9.45e+05\n",
       "==============================================================================\n",
       "Omnibus:                    67523.042   Durbin-Watson:                   2.005\n",
       "Prob(Omnibus):                  0.000   Jarque-Bera (JB):         82626152.628\n",
       "Skew:                           7.331   Prob(JB):                         0.00\n",
       "Kurtosis:                     203.034   Cond. No.                     9.12e+06\n",
       "==============================================================================\n",
       "\n",
       "Warnings:\n",
       "[1] Standard Errors assume that the covariance matrix of the errors is correctly specified.\n",
       "[2] The condition number is large, 9.12e+06. This might indicate that there are\n",
       "strong multicollinearity or other numerical problems.\n",
       "\"\"\""
      ]
     },
     "execution_count": 6,
     "metadata": {},
     "output_type": "execute_result"
    }
   ],
   "source": [
    "OLS_est = sm.OLS(y_dev, X_dev).fit()\n",
    "\n",
    "OLS_est.summary()"
   ]
  },
  {
   "cell_type": "markdown",
   "metadata": {},
   "source": [
    "## Train Lasso Regression (K-fold CV)\n",
    "\n",
    "Now we want to examine whether the a Lasso regression is more appropriate, and seeks to optimize the hyperparameter.\n",
    "We will train for an optimized hyperparameter on the validation set, to avoid data leakage and use k-fold crossvalidation to make sure that we have not split our dataset in a lucky or unlucky place. "
   ]
  },
  {
   "cell_type": "code",
   "execution_count": 7,
   "metadata": {},
   "outputs": [
    {
     "name": "stderr",
     "output_type": "stream",
     "text": [
      "100%|██████████| 12/12 [2:16:49<00:00, 357.11s/it]  \n"
     ]
    }
   ],
   "source": [
    "from sklearn.model_selection import KFold\n",
    "\n",
    "#Split data into 5 folds\n",
    "kfolds = KFold(n_splits=5)\n",
    "folds = list(kfolds.split(X_dev, y_dev))\n",
    "\n",
    "#Create Lambda values\n",
    "lambdas = np.logspace(-1, 7, 12)\n",
    "# outer loop: lambdas\n",
    "mseCV = []\n",
    "\n",
    "for lambda_ in tqdm.tqdm(lambdas):    \n",
    "    # inner loop: folds\n",
    "    mseCV_ = []\n",
    "\n",
    "    for train_idx, val_idx in folds:        \n",
    "        # train model and compute MSE on test fold\n",
    "        pipe_lassoCV = make_pipeline(PolynomialFeatures(degree=3, include_bias=True),\n",
    "                                     StandardScaler(),\n",
    "                                     Lasso(alpha=lambda_, random_state=1))            \n",
    "        X_train, y_train = X_dev.iloc[train_idx], y_dev.iloc[train_idx]\n",
    "        X_val, y_val = X_dev.iloc[val_idx], y_dev.iloc[val_idx] \n",
    "        pipe_lassoCV.fit(X_train, y_train)        \n",
    "        mseCV_.append(mse(pipe_lassoCV.predict(X_val), y_val))\n",
    "\n",
    "        \n",
    "    # store result    \n",
    "    mseCV.append(mseCV_) \n",
    "    \n",
    "# convert to DataFrame\n",
    "lambda_mseCV_lasso = pd.DataFrame(mseCV, index=lambdas)"
   ]
  },
  {
   "cell_type": "markdown",
   "metadata": {},
   "source": [
    "### MSE of the K-fold Crossvalidation - Lasso\n",
    "\n",
    "Lambda as index"
   ]
  },
  {
   "cell_type": "code",
   "execution_count": 8,
   "metadata": {},
   "outputs": [
    {
     "data": {
      "text/html": [
       "<div>\n",
       "<style scoped>\n",
       "    .dataframe tbody tr th:only-of-type {\n",
       "        vertical-align: middle;\n",
       "    }\n",
       "\n",
       "    .dataframe tbody tr th {\n",
       "        vertical-align: top;\n",
       "    }\n",
       "\n",
       "    .dataframe thead th {\n",
       "        text-align: right;\n",
       "    }\n",
       "</style>\n",
       "<table border=\"1\" class=\"dataframe\">\n",
       "  <thead>\n",
       "    <tr style=\"text-align: right;\">\n",
       "      <th></th>\n",
       "      <th>0</th>\n",
       "      <th>1</th>\n",
       "      <th>2</th>\n",
       "      <th>3</th>\n",
       "      <th>4</th>\n",
       "    </tr>\n",
       "  </thead>\n",
       "  <tbody>\n",
       "    <tr>\n",
       "      <th>1.000000e-01</th>\n",
       "      <td>2.831965e+12</td>\n",
       "      <td>1.260413e+13</td>\n",
       "      <td>1.768074e+12</td>\n",
       "      <td>2.679605e+12</td>\n",
       "      <td>2.337296e+12</td>\n",
       "    </tr>\n",
       "    <tr>\n",
       "      <th>5.336699e-01</th>\n",
       "      <td>2.827059e+12</td>\n",
       "      <td>1.261005e+13</td>\n",
       "      <td>1.767513e+12</td>\n",
       "      <td>2.679546e+12</td>\n",
       "      <td>2.336539e+12</td>\n",
       "    </tr>\n",
       "    <tr>\n",
       "      <th>2.848036e+00</th>\n",
       "      <td>2.802419e+12</td>\n",
       "      <td>1.263911e+13</td>\n",
       "      <td>1.764603e+12</td>\n",
       "      <td>2.678959e+12</td>\n",
       "      <td>2.330414e+12</td>\n",
       "    </tr>\n",
       "    <tr>\n",
       "      <th>1.519911e+01</th>\n",
       "      <td>2.700116e+12</td>\n",
       "      <td>1.277790e+13</td>\n",
       "      <td>1.748691e+12</td>\n",
       "      <td>2.672321e+12</td>\n",
       "      <td>2.307638e+12</td>\n",
       "    </tr>\n",
       "    <tr>\n",
       "      <th>8.111308e+01</th>\n",
       "      <td>2.407817e+12</td>\n",
       "      <td>1.342065e+13</td>\n",
       "      <td>1.675047e+12</td>\n",
       "      <td>2.560026e+12</td>\n",
       "      <td>2.193921e+12</td>\n",
       "    </tr>\n",
       "    <tr>\n",
       "      <th>4.328761e+02</th>\n",
       "      <td>2.249848e+12</td>\n",
       "      <td>1.831944e+13</td>\n",
       "      <td>1.572803e+12</td>\n",
       "      <td>2.287128e+12</td>\n",
       "      <td>1.845917e+12</td>\n",
       "    </tr>\n",
       "    <tr>\n",
       "      <th>2.310130e+03</th>\n",
       "      <td>2.246939e+12</td>\n",
       "      <td>1.010932e+13</td>\n",
       "      <td>1.514323e+12</td>\n",
       "      <td>1.795144e+12</td>\n",
       "      <td>1.662090e+12</td>\n",
       "    </tr>\n",
       "    <tr>\n",
       "      <th>1.232847e+04</th>\n",
       "      <td>2.330799e+12</td>\n",
       "      <td>1.590631e+12</td>\n",
       "      <td>1.599433e+12</td>\n",
       "      <td>1.667488e+12</td>\n",
       "      <td>1.635345e+12</td>\n",
       "    </tr>\n",
       "    <tr>\n",
       "      <th>6.579332e+04</th>\n",
       "      <td>2.478147e+12</td>\n",
       "      <td>1.679357e+12</td>\n",
       "      <td>1.831601e+12</td>\n",
       "      <td>1.751166e+12</td>\n",
       "      <td>1.817800e+12</td>\n",
       "    </tr>\n",
       "    <tr>\n",
       "      <th>3.511192e+05</th>\n",
       "      <td>2.915373e+12</td>\n",
       "      <td>2.031745e+12</td>\n",
       "      <td>2.203023e+12</td>\n",
       "      <td>2.271948e+12</td>\n",
       "      <td>1.950150e+12</td>\n",
       "    </tr>\n",
       "    <tr>\n",
       "      <th>1.873817e+06</th>\n",
       "      <td>6.120084e+12</td>\n",
       "      <td>5.151996e+12</td>\n",
       "      <td>5.432800e+12</td>\n",
       "      <td>5.705100e+12</td>\n",
       "      <td>4.782396e+12</td>\n",
       "    </tr>\n",
       "    <tr>\n",
       "      <th>1.000000e+07</th>\n",
       "      <td>6.120084e+12</td>\n",
       "      <td>5.151996e+12</td>\n",
       "      <td>5.432800e+12</td>\n",
       "      <td>5.705100e+12</td>\n",
       "      <td>4.782396e+12</td>\n",
       "    </tr>\n",
       "  </tbody>\n",
       "</table>\n",
       "</div>"
      ],
      "text/plain": [
       "                         0             1             2             3  \\\n",
       "1.000000e-01  2.831965e+12  1.260413e+13  1.768074e+12  2.679605e+12   \n",
       "5.336699e-01  2.827059e+12  1.261005e+13  1.767513e+12  2.679546e+12   \n",
       "2.848036e+00  2.802419e+12  1.263911e+13  1.764603e+12  2.678959e+12   \n",
       "1.519911e+01  2.700116e+12  1.277790e+13  1.748691e+12  2.672321e+12   \n",
       "8.111308e+01  2.407817e+12  1.342065e+13  1.675047e+12  2.560026e+12   \n",
       "4.328761e+02  2.249848e+12  1.831944e+13  1.572803e+12  2.287128e+12   \n",
       "2.310130e+03  2.246939e+12  1.010932e+13  1.514323e+12  1.795144e+12   \n",
       "1.232847e+04  2.330799e+12  1.590631e+12  1.599433e+12  1.667488e+12   \n",
       "6.579332e+04  2.478147e+12  1.679357e+12  1.831601e+12  1.751166e+12   \n",
       "3.511192e+05  2.915373e+12  2.031745e+12  2.203023e+12  2.271948e+12   \n",
       "1.873817e+06  6.120084e+12  5.151996e+12  5.432800e+12  5.705100e+12   \n",
       "1.000000e+07  6.120084e+12  5.151996e+12  5.432800e+12  5.705100e+12   \n",
       "\n",
       "                         4  \n",
       "1.000000e-01  2.337296e+12  \n",
       "5.336699e-01  2.336539e+12  \n",
       "2.848036e+00  2.330414e+12  \n",
       "1.519911e+01  2.307638e+12  \n",
       "8.111308e+01  2.193921e+12  \n",
       "4.328761e+02  1.845917e+12  \n",
       "2.310130e+03  1.662090e+12  \n",
       "1.232847e+04  1.635345e+12  \n",
       "6.579332e+04  1.817800e+12  \n",
       "3.511192e+05  1.950150e+12  \n",
       "1.873817e+06  4.782396e+12  \n",
       "1.000000e+07  4.782396e+12  "
      ]
     },
     "execution_count": 8,
     "metadata": {},
     "output_type": "execute_result"
    }
   ],
   "source": [
    "lambda_mseCV_lasso"
   ]
  },
  {
   "cell_type": "markdown",
   "metadata": {},
   "source": [
    "###  Mean MSE of K-fold CV - Lasso"
   ]
  },
  {
   "cell_type": "code",
   "execution_count": 9,
   "metadata": {},
   "outputs": [],
   "source": [
    "# Calculates the mean of the folds\n",
    "mse_mean_lasso = lambda_mseCV_lasso.mean(axis = 1)"
   ]
  },
  {
   "cell_type": "markdown",
   "metadata": {},
   "source": [
    "### Plot Average MSE over Lambda - Lasso"
   ]
  },
  {
   "cell_type": "code",
   "execution_count": 10,
   "metadata": {},
   "outputs": [
    {
     "data": {
      "text/plain": [
       "[Text(0,0.5,'MSE'), Text(0.5,0,'Lambda')]"
      ]
     },
     "execution_count": 10,
     "metadata": {},
     "output_type": "execute_result"
    },
    {
     "data": {
      "image/png": "[encoded data removed]",
      "text/plain": [
       "<Figure size 432x288 with 1 Axes>"
      ]
     },
     "metadata": {
      "needs_background": "light"
     },
     "output_type": "display_data"
    }
   ],
   "source": [
    "#Plot mean square errors\n",
    "COL = ['Average MSE']\n",
    "mse_mean_lasso.columns = COL\n",
    "\n",
    "#Both axis are logarythmical \n",
    "ax = mse_mean_lasso.plot(logx = True, logy = True)\n",
    "ax.set(xlabel = 'Lambda', ylabel = 'MSE')\n"
   ]
  },
  {
   "cell_type": "markdown",
   "metadata": {},
   "source": [
    "### Finding the optimal hyperparameter for Lasso\n",
    "\n",
    "Where was the mean mse smallest?"
   ]
  },
  {
   "cell_type": "code",
   "execution_count": 11,
   "metadata": {},
   "outputs": [
    {
     "data": {
      "text/plain": [
       "12328.467394    1.764739e+12\n",
       "dtype: float64"
      ]
     },
     "execution_count": 11,
     "metadata": {},
     "output_type": "execute_result"
    }
   ],
   "source": [
    "mse_mean_lasso.nsmallest(1)"
   ]
  },
  {
   "cell_type": "markdown",
   "metadata": {},
   "source": [
    "## Train Ridge Regression (K-fold CV)"
   ]
  },
  {
   "cell_type": "code",
   "execution_count": 12,
   "metadata": {},
   "outputs": [
    {
     "name": "stderr",
     "output_type": "stream",
     "text": [
      "100%|██████████| 12/12 [40:56<00:00, 206.75s/it]\n"
     ]
    }
   ],
   "source": [
    "#Split data into 5 folds\n",
    "kfolds = KFold(n_splits=5)\n",
    "folds = list(kfolds.split(X_dev, y_dev))\n",
    "\n",
    "#Create Lambda values\n",
    "lambdas = np.logspace(-1, 7, 12)\n",
    "# outer loop: lambdas\n",
    "mseCV = []\n",
    "\n",
    "for lambda_ in tqdm.tqdm(lambdas):    \n",
    "    # inner loop: folds\n",
    "    mseCV_ = []\n",
    "\n",
    "    for train_idx, val_idx in folds:        \n",
    "        # train model and compute MSE on test fold\n",
    "        pipe_ridgeCV = make_pipeline(PolynomialFeatures(degree=3, include_bias=True),\n",
    "                                     StandardScaler(),\n",
    "                                     Ridge(alpha=lambda_, random_state=1))            \n",
    "        X_train, y_train = X_dev.iloc[train_idx], y_dev.iloc[train_idx]\n",
    "        X_val, y_val = X_dev.iloc[val_idx], y_dev.iloc[val_idx] \n",
    "        pipe_ridgeCV.fit(X_train, y_train)        \n",
    "        mseCV_.append(mse(pipe_ridgeCV.predict(X_val), y_val))\n",
    "\n",
    "        \n",
    "    # store result    \n",
    "    mseCV.append(mseCV_) \n",
    "    \n",
    "# convert to DataFrame\n",
    "lambda_mseCV_ridge = pd.DataFrame(mseCV, index=lambdas)"
   ]
  },
  {
   "cell_type": "markdown",
   "metadata": {},
   "source": [
    "### MSE of the K-fold Crossvalidation - Ridge\n",
    "\n",
    "Lambda as index"
   ]
  },
  {
   "cell_type": "code",
   "execution_count": 13,
   "metadata": {},
   "outputs": [
    {
     "data": {
      "text/html": [
       "<div>\n",
       "<style scoped>\n",
       "    .dataframe tbody tr th:only-of-type {\n",
       "        vertical-align: middle;\n",
       "    }\n",
       "\n",
       "    .dataframe tbody tr th {\n",
       "        vertical-align: top;\n",
       "    }\n",
       "\n",
       "    .dataframe thead th {\n",
       "        text-align: right;\n",
       "    }\n",
       "</style>\n",
       "<table border=\"1\" class=\"dataframe\">\n",
       "  <thead>\n",
       "    <tr style=\"text-align: right;\">\n",
       "      <th></th>\n",
       "      <th>0</th>\n",
       "      <th>1</th>\n",
       "      <th>2</th>\n",
       "      <th>3</th>\n",
       "      <th>4</th>\n",
       "    </tr>\n",
       "  </thead>\n",
       "  <tbody>\n",
       "    <tr>\n",
       "      <th>1.000000e-01</th>\n",
       "      <td>5.567202e+12</td>\n",
       "      <td>3.186564e+13</td>\n",
       "      <td>3.466011e+12</td>\n",
       "      <td>4.571067e+12</td>\n",
       "      <td>5.485509e+12</td>\n",
       "    </tr>\n",
       "    <tr>\n",
       "      <th>5.336699e-01</th>\n",
       "      <td>4.416797e+12</td>\n",
       "      <td>2.559059e+13</td>\n",
       "      <td>2.595326e+12</td>\n",
       "      <td>3.349633e+12</td>\n",
       "      <td>3.568724e+12</td>\n",
       "    </tr>\n",
       "    <tr>\n",
       "      <th>2.848036e+00</th>\n",
       "      <td>4.135396e+12</td>\n",
       "      <td>2.291449e+13</td>\n",
       "      <td>1.999430e+12</td>\n",
       "      <td>2.794764e+12</td>\n",
       "      <td>2.645210e+12</td>\n",
       "    </tr>\n",
       "    <tr>\n",
       "      <th>1.519911e+01</th>\n",
       "      <td>3.019644e+12</td>\n",
       "      <td>2.225017e+13</td>\n",
       "      <td>1.654110e+12</td>\n",
       "      <td>2.451778e+12</td>\n",
       "      <td>2.110118e+12</td>\n",
       "    </tr>\n",
       "    <tr>\n",
       "      <th>8.111308e+01</th>\n",
       "      <td>2.374617e+12</td>\n",
       "      <td>2.037564e+13</td>\n",
       "      <td>1.486566e+12</td>\n",
       "      <td>2.040216e+12</td>\n",
       "      <td>1.853832e+12</td>\n",
       "    </tr>\n",
       "    <tr>\n",
       "      <th>4.328761e+02</th>\n",
       "      <td>2.255346e+12</td>\n",
       "      <td>1.657115e+13</td>\n",
       "      <td>1.458870e+12</td>\n",
       "      <td>1.751136e+12</td>\n",
       "      <td>1.696521e+12</td>\n",
       "    </tr>\n",
       "    <tr>\n",
       "      <th>2.310130e+03</th>\n",
       "      <td>2.238653e+12</td>\n",
       "      <td>8.593573e+12</td>\n",
       "      <td>1.533356e+12</td>\n",
       "      <td>1.636932e+12</td>\n",
       "      <td>1.588441e+12</td>\n",
       "    </tr>\n",
       "    <tr>\n",
       "      <th>1.232847e+04</th>\n",
       "      <td>2.281382e+12</td>\n",
       "      <td>2.651279e+12</td>\n",
       "      <td>1.637992e+12</td>\n",
       "      <td>1.601040e+12</td>\n",
       "      <td>1.545406e+12</td>\n",
       "    </tr>\n",
       "    <tr>\n",
       "      <th>6.579332e+04</th>\n",
       "      <td>2.377840e+12</td>\n",
       "      <td>1.581054e+12</td>\n",
       "      <td>1.768986e+12</td>\n",
       "      <td>1.648998e+12</td>\n",
       "      <td>1.563863e+12</td>\n",
       "    </tr>\n",
       "    <tr>\n",
       "      <th>3.511192e+05</th>\n",
       "      <td>2.584702e+12</td>\n",
       "      <td>1.770691e+12</td>\n",
       "      <td>2.050472e+12</td>\n",
       "      <td>1.844861e+12</td>\n",
       "      <td>1.674892e+12</td>\n",
       "    </tr>\n",
       "    <tr>\n",
       "      <th>1.873817e+06</th>\n",
       "      <td>3.015743e+12</td>\n",
       "      <td>2.170420e+12</td>\n",
       "      <td>2.521086e+12</td>\n",
       "      <td>2.318152e+12</td>\n",
       "      <td>1.987283e+12</td>\n",
       "    </tr>\n",
       "    <tr>\n",
       "      <th>1.000000e+07</th>\n",
       "      <td>3.858969e+12</td>\n",
       "      <td>2.966901e+12</td>\n",
       "      <td>3.248230e+12</td>\n",
       "      <td>3.281356e+12</td>\n",
       "      <td>2.686429e+12</td>\n",
       "    </tr>\n",
       "  </tbody>\n",
       "</table>\n",
       "</div>"
      ],
      "text/plain": [
       "                         0             1             2             3  \\\n",
       "1.000000e-01  5.567202e+12  3.186564e+13  3.466011e+12  4.571067e+12   \n",
       "5.336699e-01  4.416797e+12  2.559059e+13  2.595326e+12  3.349633e+12   \n",
       "2.848036e+00  4.135396e+12  2.291449e+13  1.999430e+12  2.794764e+12   \n",
       "1.519911e+01  3.019644e+12  2.225017e+13  1.654110e+12  2.451778e+12   \n",
       "8.111308e+01  2.374617e+12  2.037564e+13  1.486566e+12  2.040216e+12   \n",
       "4.328761e+02  2.255346e+12  1.657115e+13  1.458870e+12  1.751136e+12   \n",
       "2.310130e+03  2.238653e+12  8.593573e+12  1.533356e+12  1.636932e+12   \n",
       "1.232847e+04  2.281382e+12  2.651279e+12  1.637992e+12  1.601040e+12   \n",
       "6.579332e+04  2.377840e+12  1.581054e+12  1.768986e+12  1.648998e+12   \n",
       "3.511192e+05  2.584702e+12  1.770691e+12  2.050472e+12  1.844861e+12   \n",
       "1.873817e+06  3.015743e+12  2.170420e+12  2.521086e+12  2.318152e+12   \n",
       "1.000000e+07  3.858969e+12  2.966901e+12  3.248230e+12  3.281356e+12   \n",
       "\n",
       "                         4  \n",
       "1.000000e-01  5.485509e+12  \n",
       "5.336699e-01  3.568724e+12  \n",
       "2.848036e+00  2.645210e+12  \n",
       "1.519911e+01  2.110118e+12  \n",
       "8.111308e+01  1.853832e+12  \n",
       "4.328761e+02  1.696521e+12  \n",
       "2.310130e+03  1.588441e+12  \n",
       "1.232847e+04  1.545406e+12  \n",
       "6.579332e+04  1.563863e+12  \n",
       "3.511192e+05  1.674892e+12  \n",
       "1.873817e+06  1.987283e+12  \n",
       "1.000000e+07  2.686429e+12  "
      ]
     },
     "execution_count": 13,
     "metadata": {},
     "output_type": "execute_result"
    }
   ],
   "source": [
    "lambda_mseCV_ridge"
   ]
  },
  {
   "cell_type": "markdown",
   "metadata": {},
   "source": [
    "###  Mean MSE of K-fold CV - Ridge"
   ]
  },
  {
   "cell_type": "code",
   "execution_count": 14,
   "metadata": {},
   "outputs": [],
   "source": [
    "# Calculates the mean of the folds\n",
    "mse_mean_ridge = lambda_mseCV_ridge.mean(axis = 1)"
   ]
  },
  {
   "cell_type": "markdown",
   "metadata": {},
   "source": [
    "### Plot Average MSE over Lambda - Ridge"
   ]
  },
  {
   "cell_type": "code",
   "execution_count": 15,
   "metadata": {},
   "outputs": [
    {
     "data": {
      "text/plain": [
       "[Text(0,0.5,'MSE'), Text(0.5,0,'Lambda')]"
      ]
     },
     "execution_count": 15,
     "metadata": {},
     "output_type": "execute_result"
    },
    {
     "data": {
      "image/png": "[encoded data removed]",
      "text/plain": [
       "<Figure size 432x288 with 1 Axes>"
      ]
     },
     "metadata": {
      "needs_background": "light"
     },
     "output_type": "display_data"
    }
   ],
   "source": [
    "#Plot mean square errors\n",
    "COL = ['Average MSE']\n",
    "mse_mean_ridge.columns = COL\n",
    "\n",
    "#Both axis are logarythmical \n",
    "ax = mse_mean_ridge.plot(logx = True, logy = True)\n",
    "ax.set(xlabel = 'Lambda', ylabel = 'MSE')\n"
   ]
  },
  {
   "cell_type": "markdown",
   "metadata": {},
   "source": [
    "### Finding the optimal hyperparameter for Ridge\n",
    "\n",
    "Where was the mean mse smallest?"
   ]
  },
  {
   "cell_type": "code",
   "execution_count": 16,
   "metadata": {},
   "outputs": [
    {
     "data": {
      "text/plain": [
       "65793.322466    1.788148e+12\n",
       "dtype: float64"
      ]
     },
     "execution_count": 16,
     "metadata": {},
     "output_type": "execute_result"
    }
   ],
   "source": [
    "mse_mean_ridge.nsmallest(1)"
   ]
  },
  {
   "cell_type": "markdown",
   "metadata": {},
   "source": [
    "## Train Elastic Net Regression (K-fold CV)"
   ]
  },
  {
   "cell_type": "code",
   "execution_count": null,
   "metadata": {},
   "outputs": [
    {
     "name": "stderr",
     "output_type": "stream",
     "text": [
      " 17%|█▋        | 2/12 [33:00<2:44:35, 987.51s/it]"
     ]
    }
   ],
   "source": [
    "#Split data into 5 folds\n",
    "kfolds = KFold(n_splits=5)\n",
    "folds = list(kfolds.split(X_dev, y_dev))\n",
    "\n",
    "#Create Lambda values\n",
    "lambdas = np.logspace(-1, 7, 12)\n",
    "# outer loop: lambdas\n",
    "mseCV = []\n",
    "\n",
    "for lambda_ in tqdm.tqdm(lambdas):    \n",
    "    # inner loop: folds\n",
    "    mseCV_ = []\n",
    "\n",
    "    for train_idx, val_idx in folds:        \n",
    "        # train model and compute MSE on test fold\n",
    "        pipe_elasticCV = make_pipeline(PolynomialFeatures(degree=3, include_bias=True),\n",
    "                                     StandardScaler(),\n",
    "                                     ElasticNet(alpha=lambda_, random_state=1))            \n",
    "        X_train, y_train = X_dev.iloc[train_idx], y_dev.iloc[train_idx]\n",
    "        X_val, y_val = X_dev.iloc[val_idx], y_dev.iloc[val_idx] \n",
    "        pipe_elasticCV.fit(X_train, y_train)        \n",
    "        mseCV_.append(mse(pipe_elasticCV.predict(X_val), y_val))\n",
    "\n",
    "        \n",
    "    # store result    \n",
    "    mseCV.append(mseCV_) \n",
    "    \n",
    "# convert to DataFrame\n",
    "lambda_mseCV_elastic = pd.DataFrame(mseCV, index=lambdas)"
   ]
  },
  {
   "cell_type": "markdown",
   "metadata": {},
   "source": [
    "### MSE of the K-fold Crossvalidation - Elastic\n",
    "Lambda as index"
   ]
  },
  {
   "cell_type": "code",
   "execution_count": null,
   "metadata": {},
   "outputs": [],
   "source": [
    "lambda_mseCV_elastic"
   ]
  },
  {
   "cell_type": "markdown",
   "metadata": {},
   "source": [
    "###  Mean MSE of K-fold CV - Elastic"
   ]
  },
  {
   "cell_type": "code",
   "execution_count": null,
   "metadata": {},
   "outputs": [],
   "source": [
    "# Calculates the mean of the folds\n",
    "mse_mean_elastic = lambda_mseCV_elastic.mean(axis = 1)"
   ]
  },
  {
   "cell_type": "markdown",
   "metadata": {},
   "source": [
    "### Plot Average MSE over Lambda - Ridge"
   ]
  },
  {
   "cell_type": "code",
   "execution_count": null,
   "metadata": {},
   "outputs": [],
   "source": [
    "#Plot mean square errors\n",
    "COL = ['Average MSE']\n",
    "mse_mean_elastic.columns = COL\n",
    "\n",
    "#Both axis are logarythmical \n",
    "ax = mse_mean_elastic.plot(logx = True, logy = True)\n",
    "ax.set(xlabel = 'Lambda', ylabel = 'MSE')"
   ]
  },
  {
   "cell_type": "markdown",
   "metadata": {},
   "source": [
    "### Finding the optimal hyperparameter for Ridge\n",
    "\n",
    "Where was the mean mse smallest?"
   ]
  },
  {
   "cell_type": "code",
   "execution_count": null,
   "metadata": {},
   "outputs": [],
   "source": [
    "mse_mean_elastic.nsmallest(1)"
   ]
  },
  {
   "cell_type": "markdown",
   "metadata": {},
   "source": [
    "# Comparison of Lasso, Ridge, Elastic Net and Linear Regression\n",
    "\n",
    "Is done after the optimized hyperparameters is found (after training on validation data)\n",
    "This comparison is done on the **test data!** and is thus the final step in training and selecting our model\n"
   ]
  },
  {
   "cell_type": "code",
   "execution_count": null,
   "metadata": {},
   "outputs": [],
   "source": [
    "# Optimal lambda is inserted into the Lasso-model\n",
    "optimal_lambda_lasso = lambda_mseCV_lasso.mean(axis=1).nsmallest(1)\n",
    "\n",
    "# retrain/re-estimate model using optimal hyperparameters\n",
    "pipe_lassoCV = make_pipeline(PolynomialFeatures(degree = 3, include_bias=False), \n",
    "                             StandardScaler(),\n",
    "                             Lasso(alpha=optimal_lambda_lasso.index[0], random_state=1))\n",
    "pipe_lassoCV.fit(X_dev,y_dev)\n",
    "\n",
    "#Optimal lambda for ridge model: \n",
    "optimal_lambda_ridge = lambda_mseCV_ridge.mean(axis=1).nsmallest(1)\n",
    "\n",
    "# retrain/re-estimate model using optimal hyperparameters\n",
    "pipe_ridgeCV = make_pipeline(PolynomialFeatures(degree = 3, include_bias=False), \n",
    "                             StandardScaler(),\n",
    "                             Lasso(alpha=optimal_lambda_ridge.index[0], random_state=1))\n",
    "pipe_ridgeCV.fit(X_dev,y_dev)\n",
    "\n",
    "#Optimal lambda for elastic net model: \n",
    "optimal_lambda_elastic = lambda_mseCV_elastic.mean(axis=1).nsmallest(1)\n",
    "\n",
    "# retrain/re-estimate model using optimal hyperparameters\n",
    "pipe_elasticCV = make_pipeline(PolynomialFeatures(degree = 3, include_bias=False), \n",
    "                             StandardScaler(),\n",
    "                             ElasticNet(alpha=optimal_lambda_elastic.index[0], random_state=1))\n",
    "pipe_elasticCV.fit(X_dev,y_dev)\n",
    "\n",
    "# compare performance by mse\n",
    "models = {'Lasso CV': pipe_lassoCV, 'Ridge CV': pipe_ridgeCV, 'ElasticNet CV': pipe_elasticCV,\n",
    "          'LinReg': pipe_lr}\n",
    "for name, model in models.items():\n",
    "    score_mse = mse(model.predict(X_test),y_test)\n",
    "    score_mae = mae(model.predict(X_test),y_test)\n",
    "    score_rmse = sqrt(mse(model.predict(X_test),y_test))\n",
    "    \n",
    "    print(\"MSE: \" + name, round(score_mse, 2))\n",
    "    print(\"RMSE: \" + name, round(score_rmse, 2))\n",
    "    print(\"MAE: \" + name, round(score_mae, 2))"
   ]
  },
  {
   "cell_type": "markdown",
   "metadata": {},
   "source": [
    "## Subconclusion\n",
    "\n",
    "The model is too complex and very unable to predict out-of-sample data. \n",
    "Though the Lasso is a great imporvement to the simple linear regression, it still produces error in the realm of trillions. "
   ]
  },
  {
   "cell_type": "markdown",
   "metadata": {},
   "source": [
    "## Error Table\n",
    "\n",
    "We calculate the Mean Absolute Error, Mean Squared Error and Root Mean Squard Errors of the differnet models: OLS (Linear Regression), Lasso, Ridge."
   ]
  },
  {
   "cell_type": "markdown",
   "metadata": {},
   "source": [
    "## Correlation plot"
   ]
  },
  {
   "cell_type": "code",
   "execution_count": null,
   "metadata": {},
   "outputs": [],
   "source": [
    "corr = df.corr()\n",
    "plt.figure(figsize=(14, 10))\n",
    "ax = sns.heatmap(\n",
    "    corr, \n",
    "    vmin=-1, vmax=1, center=0,\n",
    "    cmap=sns.diverging_palette(20, 220, n=200),\n",
    "    square=True\n",
    ")\n",
    "ax.set_xticklabels(\n",
    "    ax.get_xticklabels(),\n",
    "    rotation=45,\n",
    "    horizontalalignment='right'\n",
    ");"
   ]
  }
 ],
 "metadata": {
  "kernelspec": {
   "display_name": "Python 3",
   "language": "python",
   "name": "python3"
  },
  "language_info": {
   "codemirror_mode": {
    "name": "ipython",
    "version": 3
   },
   "file_extension": ".py",
   "mimetype": "text/x-python",
   "name": "python",
   "nbconvert_exporter": "python",
   "pygments_lexer": "ipython3",
   "version": "3.7.2"
  }
 },
 "nbformat": 4,
 "nbformat_minor": 2
}
