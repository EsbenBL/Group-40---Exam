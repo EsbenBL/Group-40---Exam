{
 "cells": [
  {
   "cell_type": "markdown",
   "metadata": {},
   "source": [
    "# Scrape of Boliga"
   ]
  },
  {
   "cell_type": "code",
   "execution_count": 1,
   "metadata": {},
   "outputs": [],
   "source": [
    "import requests\n",
    "import pandas as pd\n",
    "import tqdm\n",
    "import json\n",
    "\n",
    "url = 'https://api.boliga.dk/api/v2/search/results?pageSize=50&sort=zipCode-a&page=1'\n",
    "response = requests.get(url, 'html.parser').json()\n",
    "\n",
    "#Calculate nr of iterations\n",
    "totalpages = response['meta']['totalPages']"
   ]
  },
  {
   "cell_type": "code",
   "execution_count": null,
   "metadata": {},
   "outputs": [],
   "source": [
    "response['results'][0]"
   ]
  },
  {
   "cell_type": "code",
   "execution_count": null,
   "metadata": {},
   "outputs": [],
   "source": [
    "# TEST! \n",
    "import time\n",
    "import tqdm\n",
    "import scraping_class\n",
    "\n",
    "logfile = 'logfile_boliga.csv'\n",
    "connector = scraping_class.Connector(logfile)\n",
    "\n",
    "df_old = pd.DataFrame()\n",
    "\n",
    "#Scrape the page:\n",
    "for page in tqdm.tqdm(range(1, 50)):\n",
    "    time.sleep(0.5)\n",
    "    url = 'https://api.boliga.dk/api/v2/search/results?pageSize=50&sort=zipCode-a&page={p}'.format(p = page)\n",
    "    response,call_id = connector.get(url,'Boligdata')\n",
    "    response = response.json()\n",
    "    response = response['results']\n",
    "    df_new = pd.DataFrame(response)\n",
    "    df_old = pd.concat([df_old, df_new], axis = 0)"
   ]
  },
  {
   "cell_type": "markdown",
   "metadata": {},
   "source": [
    "### Scrape "
   ]
  },
  {
   "cell_type": "code",
   "execution_count": null,
   "metadata": {},
   "outputs": [],
   "source": [
    "import time\n",
    "import tqdm\n",
    "import scraping_class\n",
    "\n",
    "logfile = 'logfile_boliga.csv'\n",
    "connector = scraping_class.Connector(logfile)\n",
    "\n",
    "df_old = pd.DataFrame()\n",
    "\n",
    "#Scrape the page:\n",
    "for page in tqdm.tqdm(range(1, totalpages)):\n",
    "    time.sleep(0.5)\n",
    "    url = 'https://api.boliga.dk/api/v2/search/results?pageSize=50&sort=zipCode-a&page={p}'.format(p = page)\n",
    "    response,call_id = connector.get(url,'Boligdata')\n",
    "    response = response.json()\n",
    "    response = response['results']\n",
    "    df_new = pd.DataFrame(response)\n",
    "    df_old = pd.concat([df_old, df_new], axis = 0)"
   ]
  },
  {
   "cell_type": "code",
   "execution_count": 1,
   "metadata": {},
   "outputs": [],
   "source": [
    "#Join coordinates\n",
    "df['coordinate'] = df['latitude'].astype(str) + ', ' + df['longitude'].astype(str)"
   ]
  },
  {
   "cell_type": "code",
   "execution_count": 9,
   "metadata": {},
   "outputs": [],
   "source": [
    "#Save data\n",
    "df.to_csv('Boliga Scraped - Rådata.csv', index = False)"
   ]
  }
 ],
 "metadata": {
  "kernelspec": {
   "display_name": "Python 3",
   "language": "python",
   "name": "python3"
  },
  "language_info": {
   "codemirror_mode": {
    "name": "ipython",
    "version": 3
   },
   "file_extension": ".py",
   "mimetype": "text/x-python",
   "name": "python",
   "nbconvert_exporter": "python",
   "pygments_lexer": "ipython3",
   "version": "3.7.3"
  }
 },
 "nbformat": 4,
 "nbformat_minor": 2
}
