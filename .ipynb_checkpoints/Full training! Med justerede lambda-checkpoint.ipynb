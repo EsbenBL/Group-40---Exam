{
 "cells": [
  {
   "cell_type": "markdown",
   "metadata": {},
   "source": [
    "# Training of model with just municipalities"
   ]
  },
  {
   "cell_type": "code",
   "execution_count": 1,
   "metadata": {},
   "outputs": [],
   "source": [
    "from sklearn.linear_model import Lasso, LinearRegression\n",
    "from sklearn.pipeline import make_pipeline\n",
    "from sklearn.preprocessing import StandardScaler, PolynomialFeatures\n",
    "from sklearn.datasets import fetch_california_housing\n",
    "from sklearn.metrics import mean_squared_error as mse\n",
    "from sklearn.metrics import mean_absolute_error as mae\n",
    "from sklearn.model_selection import train_test_split\n",
    "import tqdm\n",
    "from math import sqrt\n",
    "\n",
    "import warnings\n",
    "from sklearn.exceptions import ConvergenceWarning\n",
    "warnings.filterwarnings(action='ignore', category=ConvergenceWarning)\n",
    "\n",
    "\n",
    "import matplotlib.pyplot as plt\n",
    "import numpy as np \n",
    "import pandas as pd \n",
    "import seaborn as sns\n",
    "\n",
    "df = pd.read_csv('Boliga - Final for training.csv')\n",
    "df = df.drop(columns = ['Kommune', 'lotSize', 'Relativ Ledighed', 'Total_reported',\n",
    "                        'Socioeconomic_index', 'expenses_per_school_student',\n",
    "                       'expenses_sport_and_other_cultural_activities', 'forest_distance',\n",
    "                       'coast_distance', 'isForeclosure', 'Ejerudgift'])\n",
    "\n",
    "#df_sample = df.sample(1000)\n",
    "pd.options.display.max_columns = None"
   ]
  },
  {
   "cell_type": "markdown",
   "metadata": {},
   "source": [
    "### Create dummies, and split X and Y"
   ]
  },
  {
   "cell_type": "code",
   "execution_count": 2,
   "metadata": {},
   "outputs": [],
   "source": [
    "df_dum = pd.get_dummies(df, drop_first = True, columns = ['Type'])\n",
    "X = df_dum.drop(columns = ['price'])\n",
    "y = df_dum['price']"
   ]
  },
  {
   "cell_type": "markdown",
   "metadata": {},
   "source": [
    "### Split into test, dev, val and train data"
   ]
  },
  {
   "cell_type": "code",
   "execution_count": 3,
   "metadata": {},
   "outputs": [],
   "source": [
    "from sklearn.model_selection import train_test_split\n",
    "\n",
    "X_dev, X_test, y_dev, y_test = train_test_split(X, y, test_size = 0.2, random_state = 1)\n",
    "\n",
    "X_train, X_val, y_train, y_val = train_test_split(X_dev, y_dev, test_size = 0.5, random_state = 1)"
   ]
  },
  {
   "cell_type": "markdown",
   "metadata": {},
   "source": [
    "### Linear Regression Model\n",
    "\n",
    "First, we train (fit) a linear regression on the development (in this case the **training**) data, as it does not need validation (no hyperparameter needs to be optimized)"
   ]
  },
  {
   "cell_type": "code",
   "execution_count": 4,
   "metadata": {},
   "outputs": [
    {
     "data": {
      "text/plain": [
       "Pipeline(memory=None,\n",
       "     steps=[('polynomialfeatures', PolynomialFeatures(degree=3, include_bias=True, interaction_only=False)), ('standardscaler', StandardScaler(copy=True, with_mean=0, with_std=True)), ('linearregression', LinearRegression(copy_X=True, fit_intercept=True, n_jobs=1, normalize=False))])"
      ]
     },
     "execution_count": 4,
     "metadata": {},
     "output_type": "execute_result"
    }
   ],
   "source": [
    "#Create pipeline (pipe_lr which will be used later, to compare Lasso and LR)\n",
    "pipe_lr = make_pipeline(PolynomialFeatures(include_bias=True, degree = 3), \n",
    "                        StandardScaler(with_mean = 0, with_std = True),\n",
    "                        LinearRegression())\n",
    "\n",
    "#Fit pipline to dev-data\n",
    "pipe_lr.fit(X_dev, y_dev)"
   ]
  },
  {
   "cell_type": "markdown",
   "metadata": {},
   "source": [
    "### OLS (linear regression) estimations table\n",
    "\n",
    "Find a way to get the OLS estimates out here, in a table"
   ]
  },
  {
   "cell_type": "markdown",
   "metadata": {},
   "source": [
    "## Train Lasso Regression (K-fold CV)\n",
    "\n",
    "Now we want to examine whether the a Lasso regression is more appropriate, and seeks to optimize the hyperparameter.\n",
    "We will train for an optimized hyperparameter on the validation set, to avoid data leakage and use k-fold crossvalidation to make sure that we have not split our dataset in a lucky or unlucky place. "
   ]
  },
  {
   "cell_type": "code",
   "execution_count": 5,
   "metadata": {},
   "outputs": [
    {
     "name": "stderr",
     "output_type": "stream",
     "text": [
      "  0%|          | 0/12 [00:00<?, ?it/s]/anaconda3/lib/python3.7/site-packages/sklearn/linear_model/coordinate_descent.py:491: ConvergenceWarning: Objective did not converge. You might want to increase the number of iterations. Fitting data with very small alpha may cause precision problems.\n",
      "  ConvergenceWarning)\n",
      "/anaconda3/lib/python3.7/site-packages/sklearn/linear_model/coordinate_descent.py:491: ConvergenceWarning: Objective did not converge. You might want to increase the number of iterations. Fitting data with very small alpha may cause precision problems.\n",
      "  ConvergenceWarning)\n",
      "/anaconda3/lib/python3.7/site-packages/sklearn/linear_model/coordinate_descent.py:491: ConvergenceWarning: Objective did not converge. You might want to increase the number of iterations. Fitting data with very small alpha may cause precision problems.\n",
      "  ConvergenceWarning)\n",
      "/anaconda3/lib/python3.7/site-packages/sklearn/linear_model/coordinate_descent.py:491: ConvergenceWarning: Objective did not converge. You might want to increase the number of iterations. Fitting data with very small alpha may cause precision problems.\n",
      "  ConvergenceWarning)\n",
      "/anaconda3/lib/python3.7/site-packages/sklearn/linear_model/coordinate_descent.py:491: ConvergenceWarning: Objective did not converge. You might want to increase the number of iterations. Fitting data with very small alpha may cause precision problems.\n",
      "  ConvergenceWarning)\n",
      "  8%|▊         | 1/12 [17:13<3:09:29, 1033.57s/it]/anaconda3/lib/python3.7/site-packages/sklearn/linear_model/coordinate_descent.py:491: ConvergenceWarning: Objective did not converge. You might want to increase the number of iterations. Fitting data with very small alpha may cause precision problems.\n",
      "  ConvergenceWarning)\n",
      "/anaconda3/lib/python3.7/site-packages/sklearn/linear_model/coordinate_descent.py:491: ConvergenceWarning: Objective did not converge. You might want to increase the number of iterations. Fitting data with very small alpha may cause precision problems.\n",
      "  ConvergenceWarning)\n",
      "/anaconda3/lib/python3.7/site-packages/sklearn/linear_model/coordinate_descent.py:491: ConvergenceWarning: Objective did not converge. You might want to increase the number of iterations. Fitting data with very small alpha may cause precision problems.\n",
      "  ConvergenceWarning)\n",
      "/anaconda3/lib/python3.7/site-packages/sklearn/linear_model/coordinate_descent.py:491: ConvergenceWarning: Objective did not converge. You might want to increase the number of iterations. Fitting data with very small alpha may cause precision problems.\n",
      "  ConvergenceWarning)\n",
      "/anaconda3/lib/python3.7/site-packages/sklearn/linear_model/coordinate_descent.py:491: ConvergenceWarning: Objective did not converge. You might want to increase the number of iterations. Fitting data with very small alpha may cause precision problems.\n",
      "  ConvergenceWarning)\n",
      " 17%|█▋        | 2/12 [33:17<2:48:47, 1012.78s/it]/anaconda3/lib/python3.7/site-packages/sklearn/linear_model/coordinate_descent.py:491: ConvergenceWarning: Objective did not converge. You might want to increase the number of iterations. Fitting data with very small alpha may cause precision problems.\n",
      "  ConvergenceWarning)\n",
      "/anaconda3/lib/python3.7/site-packages/sklearn/linear_model/coordinate_descent.py:491: ConvergenceWarning: Objective did not converge. You might want to increase the number of iterations. Fitting data with very small alpha may cause precision problems.\n",
      "  ConvergenceWarning)\n",
      "/anaconda3/lib/python3.7/site-packages/sklearn/linear_model/coordinate_descent.py:491: ConvergenceWarning: Objective did not converge. You might want to increase the number of iterations. Fitting data with very small alpha may cause precision problems.\n",
      "  ConvergenceWarning)\n",
      "/anaconda3/lib/python3.7/site-packages/sklearn/linear_model/coordinate_descent.py:491: ConvergenceWarning: Objective did not converge. You might want to increase the number of iterations. Fitting data with very small alpha may cause precision problems.\n",
      "  ConvergenceWarning)\n",
      "/anaconda3/lib/python3.7/site-packages/sklearn/linear_model/coordinate_descent.py:491: ConvergenceWarning: Objective did not converge. You might want to increase the number of iterations. Fitting data with very small alpha may cause precision problems.\n",
      "  ConvergenceWarning)\n",
      " 25%|██▌       | 3/12 [49:31<2:30:10, 1001.16s/it]/anaconda3/lib/python3.7/site-packages/sklearn/linear_model/coordinate_descent.py:491: ConvergenceWarning: Objective did not converge. You might want to increase the number of iterations. Fitting data with very small alpha may cause precision problems.\n",
      "  ConvergenceWarning)\n",
      "/anaconda3/lib/python3.7/site-packages/sklearn/linear_model/coordinate_descent.py:491: ConvergenceWarning: Objective did not converge. You might want to increase the number of iterations. Fitting data with very small alpha may cause precision problems.\n",
      "  ConvergenceWarning)\n",
      "/anaconda3/lib/python3.7/site-packages/sklearn/linear_model/coordinate_descent.py:491: ConvergenceWarning: Objective did not converge. You might want to increase the number of iterations. Fitting data with very small alpha may cause precision problems.\n",
      "  ConvergenceWarning)\n",
      "/anaconda3/lib/python3.7/site-packages/sklearn/linear_model/coordinate_descent.py:491: ConvergenceWarning: Objective did not converge. You might want to increase the number of iterations. Fitting data with very small alpha may cause precision problems.\n",
      "  ConvergenceWarning)\n",
      "/anaconda3/lib/python3.7/site-packages/sklearn/linear_model/coordinate_descent.py:491: ConvergenceWarning: Objective did not converge. You might want to increase the number of iterations. Fitting data with very small alpha may cause precision problems.\n",
      "  ConvergenceWarning)\n",
      " 33%|███▎      | 4/12 [1:06:25<2:13:58, 1004.77s/it]/anaconda3/lib/python3.7/site-packages/sklearn/linear_model/coordinate_descent.py:491: ConvergenceWarning: Objective did not converge. You might want to increase the number of iterations. Fitting data with very small alpha may cause precision problems.\n",
      "  ConvergenceWarning)\n",
      "/anaconda3/lib/python3.7/site-packages/sklearn/linear_model/coordinate_descent.py:491: ConvergenceWarning: Objective did not converge. You might want to increase the number of iterations. Fitting data with very small alpha may cause precision problems.\n",
      "  ConvergenceWarning)\n",
      "/anaconda3/lib/python3.7/site-packages/sklearn/linear_model/coordinate_descent.py:491: ConvergenceWarning: Objective did not converge. You might want to increase the number of iterations. Fitting data with very small alpha may cause precision problems.\n",
      "  ConvergenceWarning)\n",
      "/anaconda3/lib/python3.7/site-packages/sklearn/linear_model/coordinate_descent.py:491: ConvergenceWarning: Objective did not converge. You might want to increase the number of iterations. Fitting data with very small alpha may cause precision problems.\n",
      "  ConvergenceWarning)\n",
      "/anaconda3/lib/python3.7/site-packages/sklearn/linear_model/coordinate_descent.py:491: ConvergenceWarning: Objective did not converge. You might want to increase the number of iterations. Fitting data with very small alpha may cause precision problems.\n",
      "  ConvergenceWarning)\n",
      " 42%|████▏     | 5/12 [1:22:59<1:56:52, 1001.79s/it]/anaconda3/lib/python3.7/site-packages/sklearn/linear_model/coordinate_descent.py:491: ConvergenceWarning: Objective did not converge. You might want to increase the number of iterations. Fitting data with very small alpha may cause precision problems.\n",
      "  ConvergenceWarning)\n",
      "/anaconda3/lib/python3.7/site-packages/sklearn/linear_model/coordinate_descent.py:491: ConvergenceWarning: Objective did not converge. You might want to increase the number of iterations. Fitting data with very small alpha may cause precision problems.\n",
      "  ConvergenceWarning)\n",
      "/anaconda3/lib/python3.7/site-packages/sklearn/linear_model/coordinate_descent.py:491: ConvergenceWarning: Objective did not converge. You might want to increase the number of iterations. Fitting data with very small alpha may cause precision problems.\n",
      "  ConvergenceWarning)\n",
      "/anaconda3/lib/python3.7/site-packages/sklearn/linear_model/coordinate_descent.py:491: ConvergenceWarning: Objective did not converge. You might want to increase the number of iterations. Fitting data with very small alpha may cause precision problems.\n",
      "  ConvergenceWarning)\n"
     ]
    },
    {
     "name": "stderr",
     "output_type": "stream",
     "text": [
      "/anaconda3/lib/python3.7/site-packages/sklearn/linear_model/coordinate_descent.py:491: ConvergenceWarning: Objective did not converge. You might want to increase the number of iterations. Fitting data with very small alpha may cause precision problems.\n",
      "  ConvergenceWarning)\n",
      " 50%|█████     | 6/12 [1:39:05<1:39:05, 990.99s/it] /anaconda3/lib/python3.7/site-packages/sklearn/linear_model/coordinate_descent.py:491: ConvergenceWarning: Objective did not converge. You might want to increase the number of iterations. Fitting data with very small alpha may cause precision problems.\n",
      "  ConvergenceWarning)\n",
      "/anaconda3/lib/python3.7/site-packages/sklearn/linear_model/coordinate_descent.py:491: ConvergenceWarning: Objective did not converge. You might want to increase the number of iterations. Fitting data with very small alpha may cause precision problems.\n",
      "  ConvergenceWarning)\n",
      "/anaconda3/lib/python3.7/site-packages/sklearn/linear_model/coordinate_descent.py:491: ConvergenceWarning: Objective did not converge. You might want to increase the number of iterations. Fitting data with very small alpha may cause precision problems.\n",
      "  ConvergenceWarning)\n",
      "/anaconda3/lib/python3.7/site-packages/sklearn/linear_model/coordinate_descent.py:491: ConvergenceWarning: Objective did not converge. You might want to increase the number of iterations. Fitting data with very small alpha may cause precision problems.\n",
      "  ConvergenceWarning)\n",
      "/anaconda3/lib/python3.7/site-packages/sklearn/linear_model/coordinate_descent.py:491: ConvergenceWarning: Objective did not converge. You might want to increase the number of iterations. Fitting data with very small alpha may cause precision problems.\n",
      "  ConvergenceWarning)\n",
      " 58%|█████▊    | 7/12 [1:55:11<1:21:57, 983.55s/it]/anaconda3/lib/python3.7/site-packages/sklearn/linear_model/coordinate_descent.py:491: ConvergenceWarning: Objective did not converge. You might want to increase the number of iterations. Fitting data with very small alpha may cause precision problems.\n",
      "  ConvergenceWarning)\n",
      "/anaconda3/lib/python3.7/site-packages/sklearn/linear_model/coordinate_descent.py:491: ConvergenceWarning: Objective did not converge. You might want to increase the number of iterations. Fitting data with very small alpha may cause precision problems.\n",
      "  ConvergenceWarning)\n",
      "/anaconda3/lib/python3.7/site-packages/sklearn/linear_model/coordinate_descent.py:491: ConvergenceWarning: Objective did not converge. You might want to increase the number of iterations. Fitting data with very small alpha may cause precision problems.\n",
      "  ConvergenceWarning)\n",
      "/anaconda3/lib/python3.7/site-packages/sklearn/linear_model/coordinate_descent.py:491: ConvergenceWarning: Objective did not converge. You might want to increase the number of iterations. Fitting data with very small alpha may cause precision problems.\n",
      "  ConvergenceWarning)\n",
      "/anaconda3/lib/python3.7/site-packages/sklearn/linear_model/coordinate_descent.py:491: ConvergenceWarning: Objective did not converge. You might want to increase the number of iterations. Fitting data with very small alpha may cause precision problems.\n",
      "  ConvergenceWarning)\n",
      " 67%|██████▋   | 8/12 [2:11:26<1:05:23, 980.83s/it]/anaconda3/lib/python3.7/site-packages/sklearn/linear_model/coordinate_descent.py:491: ConvergenceWarning: Objective did not converge. You might want to increase the number of iterations. Fitting data with very small alpha may cause precision problems.\n",
      "  ConvergenceWarning)\n",
      "/anaconda3/lib/python3.7/site-packages/sklearn/linear_model/coordinate_descent.py:491: ConvergenceWarning: Objective did not converge. You might want to increase the number of iterations. Fitting data with very small alpha may cause precision problems.\n",
      "  ConvergenceWarning)\n",
      "/anaconda3/lib/python3.7/site-packages/sklearn/linear_model/coordinate_descent.py:491: ConvergenceWarning: Objective did not converge. You might want to increase the number of iterations. Fitting data with very small alpha may cause precision problems.\n",
      "  ConvergenceWarning)\n",
      "/anaconda3/lib/python3.7/site-packages/sklearn/linear_model/coordinate_descent.py:491: ConvergenceWarning: Objective did not converge. You might want to increase the number of iterations. Fitting data with very small alpha may cause precision problems.\n",
      "  ConvergenceWarning)\n",
      "/anaconda3/lib/python3.7/site-packages/sklearn/linear_model/coordinate_descent.py:491: ConvergenceWarning: Objective did not converge. You might want to increase the number of iterations. Fitting data with very small alpha may cause precision problems.\n",
      "  ConvergenceWarning)\n",
      " 75%|███████▌  | 9/12 [2:27:57<49:12, 984.03s/it]  /anaconda3/lib/python3.7/site-packages/sklearn/linear_model/coordinate_descent.py:491: ConvergenceWarning: Objective did not converge. You might want to increase the number of iterations. Fitting data with very small alpha may cause precision problems.\n",
      "  ConvergenceWarning)\n",
      "/anaconda3/lib/python3.7/site-packages/sklearn/linear_model/coordinate_descent.py:491: ConvergenceWarning: Objective did not converge. You might want to increase the number of iterations. Fitting data with very small alpha may cause precision problems.\n",
      "  ConvergenceWarning)\n",
      "/anaconda3/lib/python3.7/site-packages/sklearn/linear_model/coordinate_descent.py:491: ConvergenceWarning: Objective did not converge. You might want to increase the number of iterations. Fitting data with very small alpha may cause precision problems.\n",
      "  ConvergenceWarning)\n",
      "/anaconda3/lib/python3.7/site-packages/sklearn/linear_model/coordinate_descent.py:491: ConvergenceWarning: Objective did not converge. You might want to increase the number of iterations. Fitting data with very small alpha may cause precision problems.\n",
      "  ConvergenceWarning)\n",
      "/anaconda3/lib/python3.7/site-packages/sklearn/linear_model/coordinate_descent.py:491: ConvergenceWarning: Objective did not converge. You might want to increase the number of iterations. Fitting data with very small alpha may cause precision problems.\n",
      "  ConvergenceWarning)\n",
      " 83%|████████▎ | 10/12 [2:42:59<31:58, 959.38s/it]/anaconda3/lib/python3.7/site-packages/sklearn/linear_model/coordinate_descent.py:491: ConvergenceWarning: Objective did not converge. You might want to increase the number of iterations. Fitting data with very small alpha may cause precision problems.\n",
      "  ConvergenceWarning)\n",
      "/anaconda3/lib/python3.7/site-packages/sklearn/linear_model/coordinate_descent.py:491: ConvergenceWarning: Objective did not converge. You might want to increase the number of iterations. Fitting data with very small alpha may cause precision problems.\n",
      "  ConvergenceWarning)\n",
      "/anaconda3/lib/python3.7/site-packages/sklearn/linear_model/coordinate_descent.py:491: ConvergenceWarning: Objective did not converge. You might want to increase the number of iterations. Fitting data with very small alpha may cause precision problems.\n",
      "  ConvergenceWarning)\n",
      "/anaconda3/lib/python3.7/site-packages/sklearn/linear_model/coordinate_descent.py:491: ConvergenceWarning: Objective did not converge. You might want to increase the number of iterations. Fitting data with very small alpha may cause precision problems.\n",
      "  ConvergenceWarning)\n",
      "/anaconda3/lib/python3.7/site-packages/sklearn/linear_model/coordinate_descent.py:491: ConvergenceWarning: Objective did not converge. You might want to increase the number of iterations. Fitting data with very small alpha may cause precision problems.\n",
      "  ConvergenceWarning)\n",
      " 92%|█████████▏| 11/12 [2:55:04<14:48, 888.95s/it]/anaconda3/lib/python3.7/site-packages/sklearn/linear_model/coordinate_descent.py:491: ConvergenceWarning: Objective did not converge. You might want to increase the number of iterations. Fitting data with very small alpha may cause precision problems.\n",
      "  ConvergenceWarning)\n",
      "/anaconda3/lib/python3.7/site-packages/sklearn/linear_model/coordinate_descent.py:491: ConvergenceWarning: Objective did not converge. You might want to increase the number of iterations. Fitting data with very small alpha may cause precision problems.\n",
      "  ConvergenceWarning)\n",
      "/anaconda3/lib/python3.7/site-packages/sklearn/linear_model/coordinate_descent.py:491: ConvergenceWarning: Objective did not converge. You might want to increase the number of iterations. Fitting data with very small alpha may cause precision problems.\n",
      "  ConvergenceWarning)\n"
     ]
    },
    {
     "name": "stderr",
     "output_type": "stream",
     "text": [
      "/anaconda3/lib/python3.7/site-packages/sklearn/linear_model/coordinate_descent.py:491: ConvergenceWarning: Objective did not converge. You might want to increase the number of iterations. Fitting data with very small alpha may cause precision problems.\n",
      "  ConvergenceWarning)\n",
      "/anaconda3/lib/python3.7/site-packages/sklearn/linear_model/coordinate_descent.py:491: ConvergenceWarning: Objective did not converge. You might want to increase the number of iterations. Fitting data with very small alpha may cause precision problems.\n",
      "  ConvergenceWarning)\n",
      "100%|██████████| 12/12 [3:04:37<00:00, 794.23s/it]\n"
     ]
    }
   ],
   "source": [
    "from sklearn.model_selection import KFold\n",
    "\n",
    "#Split data into 5 folds\n",
    "kfolds = KFold(n_splits=5)\n",
    "folds = list(kfolds.split(X_dev, y_dev))\n",
    "\n",
    "#Create Lambda values\n",
    "lambdas = np.logspace(-1, 7, 12)\n",
    "# outer loop: lambdas\n",
    "mseCV = []\n",
    "\n",
    "for lambda_ in tqdm.tqdm(lambdas):    \n",
    "    # inner loop: folds\n",
    "    mseCV_ = []\n",
    "\n",
    "    for train_idx, val_idx in folds:        \n",
    "        # train model and compute MSE on test fold\n",
    "        pipe_lassoCV = make_pipeline(PolynomialFeatures(degree=3, include_bias=True),\n",
    "                                     StandardScaler(),\n",
    "                                     Lasso(alpha=lambda_, random_state=1))            \n",
    "        X_train, y_train = X_dev.iloc[train_idx], y_dev.iloc[train_idx]\n",
    "        X_val, y_val = X_dev.iloc[val_idx], y_dev.iloc[val_idx] \n",
    "        pipe_lassoCV.fit(X_train, y_train)        \n",
    "        mseCV_.append(mse(pipe_lassoCV.predict(X_val), y_val))\n",
    "\n",
    "        \n",
    "    # store result    \n",
    "    mseCV.append(mseCV_) \n",
    "    \n",
    "# convert to DataFrame\n",
    "lambda_mseCV = pd.DataFrame(mseCV, index=lambdas)"
   ]
  },
  {
   "cell_type": "markdown",
   "metadata": {},
   "source": [
    "### MSE of the K-fold Crossvalidation\n",
    "\n",
    "Lambda as index"
   ]
  },
  {
   "cell_type": "code",
   "execution_count": 6,
   "metadata": {},
   "outputs": [
    {
     "data": {
      "text/html": [
       "<div>\n",
       "<style scoped>\n",
       "    .dataframe tbody tr th:only-of-type {\n",
       "        vertical-align: middle;\n",
       "    }\n",
       "\n",
       "    .dataframe tbody tr th {\n",
       "        vertical-align: top;\n",
       "    }\n",
       "\n",
       "    .dataframe thead th {\n",
       "        text-align: right;\n",
       "    }\n",
       "</style>\n",
       "<table border=\"1\" class=\"dataframe\">\n",
       "  <thead>\n",
       "    <tr style=\"text-align: right;\">\n",
       "      <th></th>\n",
       "      <th>0</th>\n",
       "      <th>1</th>\n",
       "      <th>2</th>\n",
       "      <th>3</th>\n",
       "      <th>4</th>\n",
       "    </tr>\n",
       "  </thead>\n",
       "  <tbody>\n",
       "    <tr>\n",
       "      <th>1.000000e-07</th>\n",
       "      <td>2.833111e+12</td>\n",
       "      <td>1.260276e+13</td>\n",
       "      <td>1.768208e+12</td>\n",
       "      <td>2.679617e+12</td>\n",
       "      <td>2.337358e+12</td>\n",
       "    </tr>\n",
       "    <tr>\n",
       "      <th>1.000000e-06</th>\n",
       "      <td>2.833111e+12</td>\n",
       "      <td>1.260276e+13</td>\n",
       "      <td>1.768208e+12</td>\n",
       "      <td>2.679617e+12</td>\n",
       "      <td>2.337358e+12</td>\n",
       "    </tr>\n",
       "    <tr>\n",
       "      <th>1.000000e-05</th>\n",
       "      <td>2.833111e+12</td>\n",
       "      <td>1.260276e+13</td>\n",
       "      <td>1.768208e+12</td>\n",
       "      <td>2.679617e+12</td>\n",
       "      <td>2.337358e+12</td>\n",
       "    </tr>\n",
       "    <tr>\n",
       "      <th>1.000000e-04</th>\n",
       "      <td>2.833110e+12</td>\n",
       "      <td>1.260276e+13</td>\n",
       "      <td>1.768208e+12</td>\n",
       "      <td>2.679617e+12</td>\n",
       "      <td>2.337358e+12</td>\n",
       "    </tr>\n",
       "    <tr>\n",
       "      <th>1.000000e-03</th>\n",
       "      <td>2.833099e+12</td>\n",
       "      <td>1.260277e+13</td>\n",
       "      <td>1.768206e+12</td>\n",
       "      <td>2.679617e+12</td>\n",
       "      <td>2.337357e+12</td>\n",
       "    </tr>\n",
       "    <tr>\n",
       "      <th>1.000000e-02</th>\n",
       "      <td>2.832996e+12</td>\n",
       "      <td>1.260290e+13</td>\n",
       "      <td>1.768194e+12</td>\n",
       "      <td>2.679616e+12</td>\n",
       "      <td>2.337348e+12</td>\n",
       "    </tr>\n",
       "    <tr>\n",
       "      <th>1.000000e-01</th>\n",
       "      <td>2.831965e+12</td>\n",
       "      <td>1.260413e+13</td>\n",
       "      <td>1.768074e+12</td>\n",
       "      <td>2.679605e+12</td>\n",
       "      <td>2.337296e+12</td>\n",
       "    </tr>\n",
       "    <tr>\n",
       "      <th>1.000000e+00</th>\n",
       "      <td>2.821862e+12</td>\n",
       "      <td>1.261627e+13</td>\n",
       "      <td>1.766938e+12</td>\n",
       "      <td>2.679467e+12</td>\n",
       "      <td>2.335907e+12</td>\n",
       "    </tr>\n",
       "    <tr>\n",
       "      <th>1.000000e+01</th>\n",
       "      <td>2.739409e+12</td>\n",
       "      <td>1.271878e+13</td>\n",
       "      <td>1.754993e+12</td>\n",
       "      <td>2.674626e+12</td>\n",
       "      <td>2.326849e+12</td>\n",
       "    </tr>\n",
       "    <tr>\n",
       "      <th>1.000000e+02</th>\n",
       "      <td>2.381692e+12</td>\n",
       "      <td>1.376657e+13</td>\n",
       "      <td>1.650112e+12</td>\n",
       "      <td>2.525079e+12</td>\n",
       "      <td>2.160524e+12</td>\n",
       "    </tr>\n",
       "    <tr>\n",
       "      <th>1.000000e+03</th>\n",
       "      <td>2.256704e+12</td>\n",
       "      <td>1.437911e+13</td>\n",
       "      <td>1.651399e+12</td>\n",
       "      <td>1.918117e+12</td>\n",
       "      <td>1.731869e+12</td>\n",
       "    </tr>\n",
       "    <tr>\n",
       "      <th>1.000000e+04</th>\n",
       "      <td>2.316088e+12</td>\n",
       "      <td>1.577957e+12</td>\n",
       "      <td>1.575780e+12</td>\n",
       "      <td>1.678929e+12</td>\n",
       "      <td>1.611299e+12</td>\n",
       "    </tr>\n",
       "  </tbody>\n",
       "</table>\n",
       "</div>"
      ],
      "text/plain": [
       "                         0             1             2             3  \\\n",
       "1.000000e-07  2.833111e+12  1.260276e+13  1.768208e+12  2.679617e+12   \n",
       "1.000000e-06  2.833111e+12  1.260276e+13  1.768208e+12  2.679617e+12   \n",
       "1.000000e-05  2.833111e+12  1.260276e+13  1.768208e+12  2.679617e+12   \n",
       "1.000000e-04  2.833110e+12  1.260276e+13  1.768208e+12  2.679617e+12   \n",
       "1.000000e-03  2.833099e+12  1.260277e+13  1.768206e+12  2.679617e+12   \n",
       "1.000000e-02  2.832996e+12  1.260290e+13  1.768194e+12  2.679616e+12   \n",
       "1.000000e-01  2.831965e+12  1.260413e+13  1.768074e+12  2.679605e+12   \n",
       "1.000000e+00  2.821862e+12  1.261627e+13  1.766938e+12  2.679467e+12   \n",
       "1.000000e+01  2.739409e+12  1.271878e+13  1.754993e+12  2.674626e+12   \n",
       "1.000000e+02  2.381692e+12  1.376657e+13  1.650112e+12  2.525079e+12   \n",
       "1.000000e+03  2.256704e+12  1.437911e+13  1.651399e+12  1.918117e+12   \n",
       "1.000000e+04  2.316088e+12  1.577957e+12  1.575780e+12  1.678929e+12   \n",
       "\n",
       "                         4  \n",
       "1.000000e-07  2.337358e+12  \n",
       "1.000000e-06  2.337358e+12  \n",
       "1.000000e-05  2.337358e+12  \n",
       "1.000000e-04  2.337358e+12  \n",
       "1.000000e-03  2.337357e+12  \n",
       "1.000000e-02  2.337348e+12  \n",
       "1.000000e-01  2.337296e+12  \n",
       "1.000000e+00  2.335907e+12  \n",
       "1.000000e+01  2.326849e+12  \n",
       "1.000000e+02  2.160524e+12  \n",
       "1.000000e+03  1.731869e+12  \n",
       "1.000000e+04  1.611299e+12  "
      ]
     },
     "execution_count": 6,
     "metadata": {},
     "output_type": "execute_result"
    }
   ],
   "source": [
    "lambda_mseCV"
   ]
  },
  {
   "cell_type": "markdown",
   "metadata": {},
   "source": [
    "###  Mean MSE of K-fold CV"
   ]
  },
  {
   "cell_type": "code",
   "execution_count": 7,
   "metadata": {},
   "outputs": [],
   "source": [
    "# Calculates the mean of the folds\n",
    "mse_mean = lambda_mseCV.mean(axis = 1)"
   ]
  },
  {
   "cell_type": "markdown",
   "metadata": {},
   "source": [
    "### Plot Average MSE over Lambda"
   ]
  },
  {
   "cell_type": "code",
   "execution_count": 8,
   "metadata": {},
   "outputs": [
    {
     "data": {
      "text/plain": [
       "[Text(0,0.5,'MSE'), Text(0.5,0,'Lambda')]"
      ]
     },
     "execution_count": 8,
     "metadata": {},
     "output_type": "execute_result"
    },
    {
     "data": {
      "image/png": "[encoded data removed]",
      "text/plain": [
       "<Figure size 432x288 with 1 Axes>"
      ]
     },
     "metadata": {
      "needs_background": "light"
     },
     "output_type": "display_data"
    }
   ],
   "source": [
    "#Plot mean square errors\n",
    "COL = ['Average MSE']\n",
    "mse_mean.columns = COL\n",
    "\n",
    "#Both axis are logarythmical \n",
    "ax = mse_mean.plot(logx = True, logy = True)\n",
    "ax.set(xlabel = 'Lambda', ylabel = 'MSE')\n"
   ]
  },
  {
   "cell_type": "markdown",
   "metadata": {},
   "source": [
    "### Finding the optimal hyperparameter\n",
    "\n",
    "Where was the mean mse smallest?"
   ]
  },
  {
   "cell_type": "code",
   "execution_count": 9,
   "metadata": {},
   "outputs": [
    {
     "data": {
      "text/plain": [
       "10000.0    1.752010e+12\n",
       "dtype: float64"
      ]
     },
     "execution_count": 9,
     "metadata": {},
     "output_type": "execute_result"
    }
   ],
   "source": [
    "mse_mean.nsmallest(1)"
   ]
  },
  {
   "cell_type": "markdown",
   "metadata": {},
   "source": [
    "# Comparison of Lasso and Linear Regression\n",
    "\n",
    "Is done after the optimized hyperparameters is found (after training on validation data)\n",
    "This comparison is done on the **test data!** and is thus the final step in training and selecting our model\n"
   ]
  },
  {
   "cell_type": "code",
   "execution_count": 10,
   "metadata": {},
   "outputs": [
    {
     "name": "stdout",
     "output_type": "stream",
     "text": [
      "MSE: Lasso CV 2077220509515.81\n",
      "RMSE: Lasso CV 1441256.57\n",
      "MAE: Lasso CV 737635.41\n",
      "MSE: LinReg 1.6159810476949968e+31\n",
      "RMSE: LinReg 4019926675568843.0\n",
      "MAE: LinReg 75704236557114.66\n"
     ]
    }
   ],
   "source": [
    "# Optimal lambda is inserted into the Lasso-model\n",
    "optimal_lambda = lambda_mseCV.mean(axis=1).nsmallest(1)\n",
    "\n",
    "# retrain/re-estimate model using optimal hyperparameters\n",
    "pipe_lassoCV = make_pipeline(PolynomialFeatures(include_bias=False), \n",
    "                             StandardScaler(),\n",
    "                             Lasso(alpha=optimal_lambda.index[0], random_state=1))\n",
    "pipe_lassoCV.fit(X_dev,y_dev)\n",
    "\n",
    "# compare performance by mse\n",
    "models = {'Lasso CV': pipe_lassoCV, 'LinReg': pipe_lr}\n",
    "for name, model in models.items():\n",
    "    score_mse = mse(model.predict(X_test),y_test)\n",
    "    score_mae = mae(model.predict(X_test),y_test)\n",
    "    score_rmse = sqrt(mse(model.predict(X_test),y_test))\n",
    "    \n",
    "    print(\"MSE: \" + name, round(score_mse, 2))\n",
    "    print(\"RMSE: \" + name, round(score_rmse, 2))\n",
    "    print(\"MAE: \" + name, round(score_mae, 2))"
   ]
  },
  {
   "cell_type": "markdown",
   "metadata": {},
   "source": [
    "## Subconclusion\n",
    "\n",
    "The model is too complex and very unable to predict out-of-sample data. \n",
    "Though the Lasso is a great imporvement to the simple linear regression, it still produces error in the realm of trillions. \n",
    "Consider making a more simple model instead"
   ]
  },
  {
   "cell_type": "markdown",
   "metadata": {},
   "source": [
    "## Error Table\n",
    "\n",
    "We calculate the Mean Absolute Error, Mean Squared Error and Root Mean Squard Errors of the differnet models: OLS (Linear Regression), Lasso, Ridge."
   ]
  },
  {
   "cell_type": "markdown",
   "metadata": {},
   "source": [
    "## Correlation plot"
   ]
  },
  {
   "cell_type": "code",
   "execution_count": 11,
   "metadata": {},
   "outputs": [
    {
     "data": {
      "image/png": "[encoded data removed]",
      "text/plain": [
       "<Figure size 1008x720 with 2 Axes>"
      ]
     },
     "metadata": {
      "needs_background": "light"
     },
     "output_type": "display_data"
    }
   ],
   "source": [
    "corr = df.corr()\n",
    "plt.figure(figsize=(14, 10))\n",
    "ax = sns.heatmap(\n",
    "    corr, \n",
    "    vmin=-1, vmax=1, center=0,\n",
    "    cmap=sns.diverging_palette(20, 220, n=200),\n",
    "    square=True\n",
    ")\n",
    "ax.set_xticklabels(\n",
    "    ax.get_xticklabels(),\n",
    "    rotation=45,\n",
    "    horizontalalignment='right'\n",
    ");"
   ]
  }
 ],
 "metadata": {
  "kernelspec": {
   "display_name": "Python 3",
   "language": "python",
   "name": "python3"
  },
  "language_info": {
   "codemirror_mode": {
    "name": "ipython",
    "version": 3
   },
   "file_extension": ".py",
   "mimetype": "text/x-python",
   "name": "python",
   "nbconvert_exporter": "python",
   "pygments_lexer": "ipython3",
   "version": "3.7.2"
  }
 },
 "nbformat": 4,
 "nbformat_minor": 2
}
