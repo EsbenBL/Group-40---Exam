{
 "cells": [
  {
   "cell_type": "code",
   "execution_count": 31,
   "metadata": {},
   "outputs": [
    {
     "name": "stderr",
     "output_type": "stream",
     "text": [
      "/anaconda3/lib/python3.7/site-packages/IPython/core/interactiveshell.py:2728: DtypeWarning: Columns (2) have mixed types. Specify dtype option on import or set low_memory=False.\n",
      "  interactivity=interactivity, compiler=compiler, result=result)\n"
     ]
    }
   ],
   "source": [
    "import pandas as pd\n",
    "\n",
    "pd.options.display.max_columns = 100\n",
    "\n",
    "df = pd.read_csv('Boliga - Behanling1 - Kom, Reg, Type.csv')\n",
    "\n",
    "df_befolkning = pd.read_csv('Befolkning pr kommune.csv', sep = ';', encoding='latin-1', skiprows=1)\n",
    "COL = ['Kommunerne', 'Befolkning']\n",
    "df_befolkning.columns = COL"
   ]
  },
  {
   "cell_type": "code",
   "execution_count": 32,
   "metadata": {},
   "outputs": [],
   "source": [
    "df = df.merge(df_befolkning, how='left', left_on=['Kommune'],\n",
    "                           right_on=['Kommunerne'], validate = 'm:1')\n",
    "\n",
    "df = df.drop(columns = ['Kommunerne'])\n"
   ]
  },
  {
   "cell_type": "code",
   "execution_count": 34,
   "metadata": {},
   "outputs": [],
   "source": [
    "df.to_csv('Boliga - Behandling 2 - Befolkningstal.csv')"
   ]
  }
 ],
 "metadata": {
  "kernelspec": {
   "display_name": "Python 3",
   "language": "python",
   "name": "python3"
  },
  "language_info": {
   "codemirror_mode": {
    "name": "ipython",
    "version": 3
   },
   "file_extension": ".py",
   "mimetype": "text/x-python",
   "name": "python",
   "nbconvert_exporter": "python",
   "pygments_lexer": "ipython3",
   "version": "3.7.3"
  }
 },
 "nbformat": 4,
 "nbformat_minor": 2
}
