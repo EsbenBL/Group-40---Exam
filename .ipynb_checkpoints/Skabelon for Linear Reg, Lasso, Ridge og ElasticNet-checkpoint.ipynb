{
 "cells": [
  {
   "cell_type": "markdown",
   "metadata": {},
   "source": [
    "# Training of model"
   ]
  },
  {
   "cell_type": "code",
   "execution_count": 2,
   "metadata": {},
   "outputs": [],
   "source": [
    "from sklearn.linear_model import Lasso, LinearRegression, Ridge, ElasticNet\n",
    "from sklearn.pipeline import make_pipeline\n",
    "from sklearn.preprocessing import StandardScaler, PolynomialFeatures\n",
    "from sklearn.datasets import fetch_california_housing\n",
    "from sklearn.metrics import mean_squared_error as mse\n",
    "from sklearn.metrics import mean_absolute_error as mae\n",
    "from sklearn.model_selection import train_test_split\n",
    "import statsmodels.api as sm\n",
    "import tqdm\n",
    "from math import sqrt\n",
    "\n",
    "import warnings\n",
    "from sklearn.exceptions import ConvergenceWarning\n",
    "warnings.filterwarnings(action='ignore', category=ConvergenceWarning)\n",
    "\n",
    "\n",
    "import matplotlib.pyplot as plt\n",
    "import numpy as np \n",
    "import pandas as pd \n",
    "import seaborn as sns\n",
    "\n",
    "df = pd.read_csv('Boliga - Final for training.csv')\n",
    "df = df.drop(columns = ['Kommune', 'lotSize', 'Relativ Ledighed', 'Total_reported',\n",
    "                        'Socioeconomic_index', 'expenses_per_school_student',\n",
    "                       'expenses_sport_and_other_cultural_activities', 'forest_distance',\n",
    "                       'coast_distance', 'isForeclosure', 'Ejerudgift'])\n",
    "\n",
    "df_sample = df.sample(1000)\n",
    "pd.options.display.max_columns = None"
   ]
  },
  {
   "cell_type": "code",
   "execution_count": 3,
   "metadata": {},
   "outputs": [
    {
     "data": {
      "text/plain": [
       "(61618, 26)"
      ]
     },
     "execution_count": 3,
     "metadata": {},
     "output_type": "execute_result"
    }
   ],
   "source": [
    "df.shape"
   ]
  },
  {
   "cell_type": "markdown",
   "metadata": {},
   "source": [
    "### Create dummies, and split X and Y"
   ]
  },
  {
   "cell_type": "code",
   "execution_count": 79,
   "metadata": {},
   "outputs": [],
   "source": [
    "df_dum = pd.get_dummies(df_sample, drop_first = True, columns = ['Type'])\n",
    "X = df_dum.drop(columns = ['price'])\n",
    "y = df_dum['price']"
   ]
  },
  {
   "cell_type": "markdown",
   "metadata": {},
   "source": [
    "### Split into test, dev, val and train data"
   ]
  },
  {
   "cell_type": "code",
   "execution_count": 80,
   "metadata": {},
   "outputs": [],
   "source": [
    "from sklearn.model_selection import train_test_split\n",
    "\n",
    "X_dev, X_test, y_dev, y_test = train_test_split(X, y, test_size = 0.2, random_state = 1)\n",
    "\n",
    "X_train, X_val, y_train, y_val = train_test_split(X_dev, y_dev, test_size = 0.5, random_state = 1)"
   ]
  },
  {
   "cell_type": "markdown",
   "metadata": {},
   "source": [
    "### Linear Regression Model\n",
    "\n",
    "First, we train (fit) a linear regression on the development (in this case the **training**) data, as it does not need validation (no hyperparameter needs to be optimized)"
   ]
  },
  {
   "cell_type": "code",
   "execution_count": 81,
   "metadata": {},
   "outputs": [
    {
     "data": {
      "text/plain": [
       "Pipeline(memory=None,\n",
       "         steps=[('polynomialfeatures',\n",
       "                 PolynomialFeatures(degree=2, include_bias=True,\n",
       "                                    interaction_only=False, order='C')),\n",
       "                ('standardscaler',\n",
       "                 StandardScaler(copy=True, with_mean=0, with_std=True)),\n",
       "                ('linearregression',\n",
       "                 LinearRegression(copy_X=True, fit_intercept=True, n_jobs=None,\n",
       "                                  normalize=False))],\n",
       "         verbose=False)"
      ]
     },
     "execution_count": 81,
     "metadata": {},
     "output_type": "execute_result"
    }
   ],
   "source": [
    "#Create pipeline (pipe_lr which will be used later, to compare Lasso and LR)\n",
    "pipe_lr = make_pipeline(PolynomialFeatures(include_bias=True, degree = 2), \n",
    "                        StandardScaler(with_mean = 0, with_std = True),\n",
    "                        LinearRegression())\n",
    "\n",
    "#Fit pipline to dev-data\n",
    "pipe_lr.fit(X_dev, y_dev)"
   ]
  },
  {
   "cell_type": "markdown",
   "metadata": {},
   "source": [
    "### OLS (linear regression) estimations table\n",
    "\n",
    "Find a way to get the OLS estimates out here, in a table"
   ]
  },
  {
   "cell_type": "code",
   "execution_count": 82,
   "metadata": {},
   "outputs": [
    {
     "data": {
      "text/html": [
       "<table class=\"simpletable\">\n",
       "<caption>OLS Regression Results</caption>\n",
       "<tr>\n",
       "  <th>Dep. Variable:</th>          <td>price</td>      <th>  R-squared (uncentered):</th>      <td>   0.798</td> \n",
       "</tr>\n",
       "<tr>\n",
       "  <th>Model:</th>                   <td>OLS</td>       <th>  Adj. R-squared (uncentered):</th> <td>   0.789</td> \n",
       "</tr>\n",
       "<tr>\n",
       "  <th>Method:</th>             <td>Least Squares</td>  <th>  F-statistic:       </th>          <td>   94.52</td> \n",
       "</tr>\n",
       "<tr>\n",
       "  <th>Date:</th>             <td>Tue, 27 Aug 2019</td> <th>  Prob (F-statistic):</th>          <td>9.41e-242</td>\n",
       "</tr>\n",
       "<tr>\n",
       "  <th>Time:</th>                 <td>10:46:20</td>     <th>  Log-Likelihood:    </th>          <td> -12495.</td> \n",
       "</tr>\n",
       "<tr>\n",
       "  <th>No. Observations:</th>      <td>   800</td>      <th>  AIC:               </th>          <td>2.505e+04</td>\n",
       "</tr>\n",
       "<tr>\n",
       "  <th>Df Residuals:</th>          <td>   768</td>      <th>  BIC:               </th>          <td>2.520e+04</td>\n",
       "</tr>\n",
       "<tr>\n",
       "  <th>Df Model:</th>              <td>    32</td>      <th>                     </th>              <td> </td>    \n",
       "</tr>\n",
       "<tr>\n",
       "  <th>Covariance Type:</th>      <td>nonrobust</td>    <th>                     </th>              <td> </td>    \n",
       "</tr>\n",
       "</table>\n",
       "<table class=\"simpletable\">\n",
       "<tr>\n",
       "                  <td></td>                    <th>coef</th>     <th>std err</th>      <th>t</th>      <th>P>|t|</th>  <th>[0.025</th>    <th>0.975]</th>  \n",
       "</tr>\n",
       "<tr>\n",
       "  <th>basementSize</th>                     <td> 8273.1142</td> <td> 1839.063</td> <td>    4.499</td> <td> 0.000</td> <td> 4662.928</td> <td> 1.19e+04</td>\n",
       "</tr>\n",
       "<tr>\n",
       "  <th>buildYear</th>                        <td>  475.8682</td> <td>  400.259</td> <td>    1.189</td> <td> 0.235</td> <td> -309.864</td> <td> 1261.600</td>\n",
       "</tr>\n",
       "<tr>\n",
       "  <th>rooms</th>                            <td>-1.077e+04</td> <td> 5.87e+04</td> <td>   -0.183</td> <td> 0.854</td> <td>-1.26e+05</td> <td> 1.05e+05</td>\n",
       "</tr>\n",
       "<tr>\n",
       "  <th>size</th>                             <td> 1.872e+04</td> <td> 1813.212</td> <td>   10.322</td> <td> 0.000</td> <td> 1.52e+04</td> <td> 2.23e+04</td>\n",
       "</tr>\n",
       "<tr>\n",
       "  <th>Grundskole</th>                       <td>-6.858e+04</td> <td> 3.26e+04</td> <td>   -2.106</td> <td> 0.036</td> <td>-1.33e+05</td> <td>-4651.389</td>\n",
       "</tr>\n",
       "<tr>\n",
       "  <th>Gymnasiale uddannelser</th>           <td> 4.105e+05</td> <td> 1.12e+05</td> <td>    3.657</td> <td> 0.000</td> <td>  1.9e+05</td> <td> 6.31e+05</td>\n",
       "</tr>\n",
       "<tr>\n",
       "  <th>Erhvervsfaglige uddannelser</th>      <td>-7.813e+04</td> <td>  3.1e+04</td> <td>   -2.521</td> <td> 0.012</td> <td>-1.39e+05</td> <td>-1.73e+04</td>\n",
       "</tr>\n",
       "<tr>\n",
       "  <th>KVU</th>                              <td>-2.319e+05</td> <td> 1.11e+05</td> <td>   -2.080</td> <td> 0.038</td> <td>-4.51e+05</td> <td>-1.31e+04</td>\n",
       "</tr>\n",
       "<tr>\n",
       "  <th>MVU</th>                              <td>-9.122e+04</td> <td> 3.07e+04</td> <td>   -2.973</td> <td> 0.003</td> <td>-1.51e+05</td> <td> -3.1e+04</td>\n",
       "</tr>\n",
       "<tr>\n",
       "  <th>Bacheloruddannelser</th>              <td> 6.537e+05</td> <td> 3.62e+05</td> <td>    1.805</td> <td> 0.071</td> <td>-5.72e+04</td> <td> 1.36e+06</td>\n",
       "</tr>\n",
       "<tr>\n",
       "  <th> LVU</th>                             <td>-1.021e+05</td> <td> 5.76e+04</td> <td>   -1.772</td> <td> 0.077</td> <td>-2.15e+05</td> <td>  1.1e+04</td>\n",
       "</tr>\n",
       "<tr>\n",
       "  <th>Kommunal_gennemsnitsinkomst_2017</th> <td>    9.9859</td> <td>    2.576</td> <td>    3.877</td> <td> 0.000</td> <td>    4.929</td> <td>   15.043</td>\n",
       "</tr>\n",
       "<tr>\n",
       "  <th>Population_in_urban_development</th>  <td> 8390.3272</td> <td> 6712.981</td> <td>    1.250</td> <td> 0.212</td> <td>-4787.641</td> <td> 2.16e+04</td>\n",
       "</tr>\n",
       "<tr>\n",
       "  <th>average_class_size</th>               <td> 3904.0613</td> <td> 5.15e+04</td> <td>    0.076</td> <td> 0.940</td> <td>-9.73e+04</td> <td> 1.05e+05</td>\n",
       "</tr>\n",
       "<tr>\n",
       "  <th>lake_distance</th>                    <td> 8652.8795</td> <td> 8087.892</td> <td>    1.070</td> <td> 0.285</td> <td>-7224.119</td> <td> 2.45e+04</td>\n",
       "</tr>\n",
       "<tr>\n",
       "  <th>doctor_distance</th>                  <td> 6933.0320</td> <td> 2.39e+04</td> <td>    0.290</td> <td> 0.772</td> <td>-3.99e+04</td> <td> 5.38e+04</td>\n",
       "</tr>\n",
       "<tr>\n",
       "  <th>supermarket_distance</th>             <td>-5.741e+04</td> <td> 2.61e+04</td> <td>   -2.202</td> <td> 0.028</td> <td>-1.09e+05</td> <td>-6231.006</td>\n",
       "</tr>\n",
       "<tr>\n",
       "  <th>school_distance</th>                  <td> 9932.0510</td> <td> 3.35e+04</td> <td>    0.297</td> <td> 0.767</td> <td>-5.58e+04</td> <td> 7.57e+04</td>\n",
       "</tr>\n",
       "<tr>\n",
       "  <th>daycare_distance</th>                 <td>  6.21e+04</td> <td>  3.4e+04</td> <td>    1.827</td> <td> 0.068</td> <td>-4610.220</td> <td> 1.29e+05</td>\n",
       "</tr>\n",
       "<tr>\n",
       "  <th>hospital_distance</th>                <td>-1.666e+04</td> <td> 7575.013</td> <td>   -2.199</td> <td> 0.028</td> <td>-3.15e+04</td> <td>-1790.827</td>\n",
       "</tr>\n",
       "<tr>\n",
       "  <th>train_distance</th>                   <td>-5764.4769</td> <td> 5342.461</td> <td>   -1.079</td> <td> 0.281</td> <td>-1.63e+04</td> <td> 4723.083</td>\n",
       "</tr>\n",
       "<tr>\n",
       "  <th>pharmacy_distance</th>                <td>-3.542e+04</td> <td> 2.26e+04</td> <td>   -1.568</td> <td> 0.117</td> <td>-7.98e+04</td> <td> 8916.989</td>\n",
       "</tr>\n",
       "<tr>\n",
       "  <th>library_distance</th>                 <td> 2305.4085</td> <td> 1.82e+04</td> <td>    0.126</td> <td> 0.899</td> <td>-3.35e+04</td> <td> 3.81e+04</td>\n",
       "</tr>\n",
       "<tr>\n",
       "  <th>junction_distance</th>                <td> 5203.7486</td> <td> 4957.034</td> <td>    1.050</td> <td> 0.294</td> <td>-4527.195</td> <td> 1.49e+04</td>\n",
       "</tr>\n",
       "<tr>\n",
       "  <th>Type_Ejerlejlighed</th>               <td> 9.392e+05</td> <td> 4.86e+05</td> <td>    1.931</td> <td> 0.054</td> <td>-1.57e+04</td> <td> 1.89e+06</td>\n",
       "</tr>\n",
       "<tr>\n",
       "  <th>Type_Fritidsgrund</th>                <td> 2.975e+06</td> <td> 9.86e+05</td> <td>    3.018</td> <td> 0.003</td> <td> 1.04e+06</td> <td> 4.91e+06</td>\n",
       "</tr>\n",
       "<tr>\n",
       "  <th>Type_Fritidshus</th>                  <td> 1.672e+06</td> <td> 5.03e+05</td> <td>    3.323</td> <td> 0.001</td> <td> 6.84e+05</td> <td> 2.66e+06</td>\n",
       "</tr>\n",
       "<tr>\n",
       "  <th>Type_Helårsgrund</th>                 <td> 3.111e+06</td> <td> 9.34e+05</td> <td>    3.332</td> <td> 0.001</td> <td> 1.28e+06</td> <td> 4.94e+06</td>\n",
       "</tr>\n",
       "<tr>\n",
       "  <th>Type_Landejendom</th>                 <td> 1.905e+06</td> <td> 5.36e+05</td> <td>    3.554</td> <td> 0.000</td> <td> 8.53e+05</td> <td> 2.96e+06</td>\n",
       "</tr>\n",
       "<tr>\n",
       "  <th>Type_Rækkehus</th>                    <td> 6.698e+05</td> <td> 5.28e+05</td> <td>    1.269</td> <td> 0.205</td> <td>-3.67e+05</td> <td> 1.71e+06</td>\n",
       "</tr>\n",
       "<tr>\n",
       "  <th>Type_Villa</th>                       <td> 4.473e+05</td> <td> 4.77e+05</td> <td>    0.938</td> <td> 0.349</td> <td>-4.89e+05</td> <td> 1.38e+06</td>\n",
       "</tr>\n",
       "<tr>\n",
       "  <th>Type_Villalejlighed</th>              <td>-5.617e+05</td> <td> 8.32e+05</td> <td>   -0.675</td> <td> 0.500</td> <td> -2.2e+06</td> <td> 1.07e+06</td>\n",
       "</tr>\n",
       "</table>\n",
       "<table class=\"simpletable\">\n",
       "<tr>\n",
       "  <th>Omnibus:</th>       <td>698.529</td> <th>  Durbin-Watson:     </th> <td>   1.948</td> \n",
       "</tr>\n",
       "<tr>\n",
       "  <th>Prob(Omnibus):</th> <td> 0.000</td>  <th>  Jarque-Bera (JB):  </th> <td>43861.410</td>\n",
       "</tr>\n",
       "<tr>\n",
       "  <th>Skew:</th>          <td> 3.564</td>  <th>  Prob(JB):          </th> <td>    0.00</td> \n",
       "</tr>\n",
       "<tr>\n",
       "  <th>Kurtosis:</th>      <td>38.567</td>  <th>  Cond. No.          </th> <td>9.13e+06</td> \n",
       "</tr>\n",
       "</table><br/><br/>Warnings:<br/>[1] Standard Errors assume that the covariance matrix of the errors is correctly specified.<br/>[2] The condition number is large, 9.13e+06. This might indicate that there are<br/>strong multicollinearity or other numerical problems."
      ],
      "text/plain": [
       "<class 'statsmodels.iolib.summary.Summary'>\n",
       "\"\"\"\n",
       "                                 OLS Regression Results                                \n",
       "=======================================================================================\n",
       "Dep. Variable:                  price   R-squared (uncentered):                   0.798\n",
       "Model:                            OLS   Adj. R-squared (uncentered):              0.789\n",
       "Method:                 Least Squares   F-statistic:                              94.52\n",
       "Date:                Tue, 27 Aug 2019   Prob (F-statistic):                   9.41e-242\n",
       "Time:                        10:46:20   Log-Likelihood:                         -12495.\n",
       "No. Observations:                 800   AIC:                                  2.505e+04\n",
       "Df Residuals:                     768   BIC:                                  2.520e+04\n",
       "Df Model:                          32                                                  \n",
       "Covariance Type:            nonrobust                                                  \n",
       "====================================================================================================\n",
       "                                       coef    std err          t      P>|t|      [0.025      0.975]\n",
       "----------------------------------------------------------------------------------------------------\n",
       "basementSize                      8273.1142   1839.063      4.499      0.000    4662.928    1.19e+04\n",
       "buildYear                          475.8682    400.259      1.189      0.235    -309.864    1261.600\n",
       "rooms                            -1.077e+04   5.87e+04     -0.183      0.854   -1.26e+05    1.05e+05\n",
       "size                              1.872e+04   1813.212     10.322      0.000    1.52e+04    2.23e+04\n",
       "Grundskole                       -6.858e+04   3.26e+04     -2.106      0.036   -1.33e+05   -4651.389\n",
       "Gymnasiale uddannelser            4.105e+05   1.12e+05      3.657      0.000     1.9e+05    6.31e+05\n",
       "Erhvervsfaglige uddannelser      -7.813e+04    3.1e+04     -2.521      0.012   -1.39e+05   -1.73e+04\n",
       "KVU                              -2.319e+05   1.11e+05     -2.080      0.038   -4.51e+05   -1.31e+04\n",
       "MVU                              -9.122e+04   3.07e+04     -2.973      0.003   -1.51e+05    -3.1e+04\n",
       "Bacheloruddannelser               6.537e+05   3.62e+05      1.805      0.071   -5.72e+04    1.36e+06\n",
       " LVU                             -1.021e+05   5.76e+04     -1.772      0.077   -2.15e+05     1.1e+04\n",
       "Kommunal_gennemsnitsinkomst_2017     9.9859      2.576      3.877      0.000       4.929      15.043\n",
       "Population_in_urban_development   8390.3272   6712.981      1.250      0.212   -4787.641    2.16e+04\n",
       "average_class_size                3904.0613   5.15e+04      0.076      0.940   -9.73e+04    1.05e+05\n",
       "lake_distance                     8652.8795   8087.892      1.070      0.285   -7224.119    2.45e+04\n",
       "doctor_distance                   6933.0320   2.39e+04      0.290      0.772   -3.99e+04    5.38e+04\n",
       "supermarket_distance             -5.741e+04   2.61e+04     -2.202      0.028   -1.09e+05   -6231.006\n",
       "school_distance                   9932.0510   3.35e+04      0.297      0.767   -5.58e+04    7.57e+04\n",
       "daycare_distance                   6.21e+04    3.4e+04      1.827      0.068   -4610.220    1.29e+05\n",
       "hospital_distance                -1.666e+04   7575.013     -2.199      0.028   -3.15e+04   -1790.827\n",
       "train_distance                   -5764.4769   5342.461     -1.079      0.281   -1.63e+04    4723.083\n",
       "pharmacy_distance                -3.542e+04   2.26e+04     -1.568      0.117   -7.98e+04    8916.989\n",
       "library_distance                  2305.4085   1.82e+04      0.126      0.899   -3.35e+04    3.81e+04\n",
       "junction_distance                 5203.7486   4957.034      1.050      0.294   -4527.195    1.49e+04\n",
       "Type_Ejerlejlighed                9.392e+05   4.86e+05      1.931      0.054   -1.57e+04    1.89e+06\n",
       "Type_Fritidsgrund                 2.975e+06   9.86e+05      3.018      0.003    1.04e+06    4.91e+06\n",
       "Type_Fritidshus                   1.672e+06   5.03e+05      3.323      0.001    6.84e+05    2.66e+06\n",
       "Type_Helårsgrund                  3.111e+06   9.34e+05      3.332      0.001    1.28e+06    4.94e+06\n",
       "Type_Landejendom                  1.905e+06   5.36e+05      3.554      0.000    8.53e+05    2.96e+06\n",
       "Type_Rækkehus                     6.698e+05   5.28e+05      1.269      0.205   -3.67e+05    1.71e+06\n",
       "Type_Villa                        4.473e+05   4.77e+05      0.938      0.349   -4.89e+05    1.38e+06\n",
       "Type_Villalejlighed              -5.617e+05   8.32e+05     -0.675      0.500    -2.2e+06    1.07e+06\n",
       "==============================================================================\n",
       "Omnibus:                      698.529   Durbin-Watson:                   1.948\n",
       "Prob(Omnibus):                  0.000   Jarque-Bera (JB):            43861.410\n",
       "Skew:                           3.564   Prob(JB):                         0.00\n",
       "Kurtosis:                      38.567   Cond. No.                     9.13e+06\n",
       "==============================================================================\n",
       "\n",
       "Warnings:\n",
       "[1] Standard Errors assume that the covariance matrix of the errors is correctly specified.\n",
       "[2] The condition number is large, 9.13e+06. This might indicate that there are\n",
       "strong multicollinearity or other numerical problems.\n",
       "\"\"\""
      ]
     },
     "execution_count": 82,
     "metadata": {},
     "output_type": "execute_result"
    }
   ],
   "source": [
    "OLS_est = sm.OLS(y_dev, X_dev).fit()\n",
    "\n",
    "OLS_est.summary()"
   ]
  },
  {
   "cell_type": "markdown",
   "metadata": {},
   "source": [
    "## Train Lasso Regression (K-fold CV)\n",
    "\n",
    "Now we want to examine whether the a Lasso regression is more appropriate, and seeks to optimize the hyperparameter.\n",
    "We will train for an optimized hyperparameter on the validation set, to avoid data leakage and use k-fold crossvalidation to make sure that we have not split our dataset in a lucky or unlucky place. "
   ]
  },
  {
   "cell_type": "code",
   "execution_count": 83,
   "metadata": {},
   "outputs": [
    {
     "name": "stderr",
     "output_type": "stream",
     "text": [
      "100%|██████████| 12/12 [03:11<00:00,  7.09s/it]\n"
     ]
    }
   ],
   "source": [
    "from sklearn.model_selection import KFold\n",
    "\n",
    "#Split data into 5 folds\n",
    "kfolds = KFold(n_splits=5)\n",
    "folds = list(kfolds.split(X_dev, y_dev))\n",
    "\n",
    "#Create Lambda values\n",
    "lambdas = np.logspace(-1, 7, 12)\n",
    "# outer loop: lambdas\n",
    "mseCV = []\n",
    "\n",
    "for lambda_ in tqdm.tqdm(lambdas):    \n",
    "    # inner loop: folds\n",
    "    mseCV_ = []\n",
    "\n",
    "    for train_idx, val_idx in folds:        \n",
    "        # train model and compute MSE on test fold\n",
    "        pipe_lassoCV = make_pipeline(PolynomialFeatures(degree=3, include_bias=True),\n",
    "                                     StandardScaler(),\n",
    "                                     Lasso(alpha=lambda_, random_state=1))            \n",
    "        X_train, y_train = X_dev.iloc[train_idx], y_dev.iloc[train_idx]\n",
    "        X_val, y_val = X_dev.iloc[val_idx], y_dev.iloc[val_idx] \n",
    "        pipe_lassoCV.fit(X_train, y_train)        \n",
    "        mseCV_.append(mse(pipe_lassoCV.predict(X_val), y_val))\n",
    "\n",
    "        \n",
    "    # store result    \n",
    "    mseCV.append(mseCV_) \n",
    "    \n",
    "# convert to DataFrame\n",
    "lambda_mseCV_lasso = pd.DataFrame(mseCV, index=lambdas)"
   ]
  },
  {
   "cell_type": "markdown",
   "metadata": {},
   "source": [
    "### MSE of the K-fold Crossvalidation - Lasso\n",
    "\n",
    "Lambda as index"
   ]
  },
  {
   "cell_type": "code",
   "execution_count": 84,
   "metadata": {},
   "outputs": [
    {
     "data": {
      "text/html": [
       "<div>\n",
       "<style scoped>\n",
       "    .dataframe tbody tr th:only-of-type {\n",
       "        vertical-align: middle;\n",
       "    }\n",
       "\n",
       "    .dataframe tbody tr th {\n",
       "        vertical-align: top;\n",
       "    }\n",
       "\n",
       "    .dataframe thead th {\n",
       "        text-align: right;\n",
       "    }\n",
       "</style>\n",
       "<table border=\"1\" class=\"dataframe\">\n",
       "  <thead>\n",
       "    <tr style=\"text-align: right;\">\n",
       "      <th></th>\n",
       "      <th>0</th>\n",
       "      <th>1</th>\n",
       "      <th>2</th>\n",
       "      <th>3</th>\n",
       "      <th>4</th>\n",
       "    </tr>\n",
       "  </thead>\n",
       "  <tbody>\n",
       "    <tr>\n",
       "      <th>1.000000e-01</th>\n",
       "      <td>3.460785e+14</td>\n",
       "      <td>6.060834e+13</td>\n",
       "      <td>6.582454e+12</td>\n",
       "      <td>7.878780e+12</td>\n",
       "      <td>4.990790e+15</td>\n",
       "    </tr>\n",
       "    <tr>\n",
       "      <th>5.336699e-01</th>\n",
       "      <td>3.460505e+14</td>\n",
       "      <td>6.118203e+13</td>\n",
       "      <td>6.572043e+12</td>\n",
       "      <td>7.878381e+12</td>\n",
       "      <td>4.972602e+15</td>\n",
       "    </tr>\n",
       "    <tr>\n",
       "      <th>2.848036e+00</th>\n",
       "      <td>3.457880e+14</td>\n",
       "      <td>6.460851e+13</td>\n",
       "      <td>6.511765e+12</td>\n",
       "      <td>7.874833e+12</td>\n",
       "      <td>4.881823e+15</td>\n",
       "    </tr>\n",
       "    <tr>\n",
       "      <th>1.519911e+01</th>\n",
       "      <td>3.429003e+14</td>\n",
       "      <td>8.408410e+13</td>\n",
       "      <td>6.147104e+12</td>\n",
       "      <td>7.787012e+12</td>\n",
       "      <td>4.413793e+15</td>\n",
       "    </tr>\n",
       "    <tr>\n",
       "      <th>8.111308e+01</th>\n",
       "      <td>3.005741e+14</td>\n",
       "      <td>1.483519e+14</td>\n",
       "      <td>4.998799e+12</td>\n",
       "      <td>7.483775e+12</td>\n",
       "      <td>2.341091e+15</td>\n",
       "    </tr>\n",
       "    <tr>\n",
       "      <th>4.328761e+02</th>\n",
       "      <td>1.719145e+14</td>\n",
       "      <td>5.234306e+13</td>\n",
       "      <td>4.204250e+12</td>\n",
       "      <td>4.673962e+12</td>\n",
       "      <td>1.579623e+14</td>\n",
       "    </tr>\n",
       "    <tr>\n",
       "      <th>2.310130e+03</th>\n",
       "      <td>1.428629e+14</td>\n",
       "      <td>3.669924e+12</td>\n",
       "      <td>2.891375e+12</td>\n",
       "      <td>3.036560e+12</td>\n",
       "      <td>1.349384e+14</td>\n",
       "    </tr>\n",
       "    <tr>\n",
       "      <th>1.232847e+04</th>\n",
       "      <td>1.444870e+13</td>\n",
       "      <td>1.838900e+12</td>\n",
       "      <td>1.897569e+12</td>\n",
       "      <td>2.020035e+12</td>\n",
       "      <td>2.152641e+14</td>\n",
       "    </tr>\n",
       "    <tr>\n",
       "      <th>6.579332e+04</th>\n",
       "      <td>1.244720e+12</td>\n",
       "      <td>1.568316e+12</td>\n",
       "      <td>1.491181e+12</td>\n",
       "      <td>1.874936e+12</td>\n",
       "      <td>1.263497e+12</td>\n",
       "    </tr>\n",
       "    <tr>\n",
       "      <th>3.511192e+05</th>\n",
       "      <td>1.514899e+12</td>\n",
       "      <td>1.873416e+12</td>\n",
       "      <td>1.948078e+12</td>\n",
       "      <td>2.429805e+12</td>\n",
       "      <td>1.523300e+12</td>\n",
       "    </tr>\n",
       "    <tr>\n",
       "      <th>1.873817e+06</th>\n",
       "      <td>4.874122e+12</td>\n",
       "      <td>3.680963e+12</td>\n",
       "      <td>7.102215e+12</td>\n",
       "      <td>6.814843e+12</td>\n",
       "      <td>3.927999e+12</td>\n",
       "    </tr>\n",
       "    <tr>\n",
       "      <th>1.000000e+07</th>\n",
       "      <td>5.146187e+12</td>\n",
       "      <td>4.046145e+12</td>\n",
       "      <td>7.102215e+12</td>\n",
       "      <td>6.814843e+12</td>\n",
       "      <td>4.324637e+12</td>\n",
       "    </tr>\n",
       "  </tbody>\n",
       "</table>\n",
       "</div>"
      ],
      "text/plain": [
       "                         0             1             2             3  \\\n",
       "1.000000e-01  3.460785e+14  6.060834e+13  6.582454e+12  7.878780e+12   \n",
       "5.336699e-01  3.460505e+14  6.118203e+13  6.572043e+12  7.878381e+12   \n",
       "2.848036e+00  3.457880e+14  6.460851e+13  6.511765e+12  7.874833e+12   \n",
       "1.519911e+01  3.429003e+14  8.408410e+13  6.147104e+12  7.787012e+12   \n",
       "8.111308e+01  3.005741e+14  1.483519e+14  4.998799e+12  7.483775e+12   \n",
       "4.328761e+02  1.719145e+14  5.234306e+13  4.204250e+12  4.673962e+12   \n",
       "2.310130e+03  1.428629e+14  3.669924e+12  2.891375e+12  3.036560e+12   \n",
       "1.232847e+04  1.444870e+13  1.838900e+12  1.897569e+12  2.020035e+12   \n",
       "6.579332e+04  1.244720e+12  1.568316e+12  1.491181e+12  1.874936e+12   \n",
       "3.511192e+05  1.514899e+12  1.873416e+12  1.948078e+12  2.429805e+12   \n",
       "1.873817e+06  4.874122e+12  3.680963e+12  7.102215e+12  6.814843e+12   \n",
       "1.000000e+07  5.146187e+12  4.046145e+12  7.102215e+12  6.814843e+12   \n",
       "\n",
       "                         4  \n",
       "1.000000e-01  4.990790e+15  \n",
       "5.336699e-01  4.972602e+15  \n",
       "2.848036e+00  4.881823e+15  \n",
       "1.519911e+01  4.413793e+15  \n",
       "8.111308e+01  2.341091e+15  \n",
       "4.328761e+02  1.579623e+14  \n",
       "2.310130e+03  1.349384e+14  \n",
       "1.232847e+04  2.152641e+14  \n",
       "6.579332e+04  1.263497e+12  \n",
       "3.511192e+05  1.523300e+12  \n",
       "1.873817e+06  3.927999e+12  \n",
       "1.000000e+07  4.324637e+12  "
      ]
     },
     "execution_count": 84,
     "metadata": {},
     "output_type": "execute_result"
    }
   ],
   "source": [
    "lambda_mseCV_lasso"
   ]
  },
  {
   "cell_type": "markdown",
   "metadata": {},
   "source": [
    "###  Mean MSE of K-fold CV - Lasso"
   ]
  },
  {
   "cell_type": "code",
   "execution_count": 85,
   "metadata": {},
   "outputs": [],
   "source": [
    "# Calculates the mean of the folds\n",
    "mse_mean_lasso = lambda_mseCV_lasso.mean(axis = 1)"
   ]
  },
  {
   "cell_type": "markdown",
   "metadata": {},
   "source": [
    "### Plot Average MSE over Lambda - Lasso"
   ]
  },
  {
   "cell_type": "code",
   "execution_count": 86,
   "metadata": {},
   "outputs": [
    {
     "data": {
      "text/plain": [
       "[Text(0, 0.5, 'MSE'), Text(0.5, 0, 'Lambda')]"
      ]
     },
     "execution_count": 86,
     "metadata": {},
     "output_type": "execute_result"
    },
    {
     "data": {
      "image/png": "[encoded data removed]",
      "text/plain": [
       "<Figure size 432x288 with 1 Axes>"
      ]
     },
     "metadata": {
      "needs_background": "light"
     },
     "output_type": "display_data"
    }
   ],
   "source": [
    "#Plot mean square errors\n",
    "COL = ['Average MSE']\n",
    "mse_mean_lasso.columns = COL\n",
    "\n",
    "#Both axis are logarythmical \n",
    "ax = mse_mean_lasso.plot(logx = True, logy = True)\n",
    "ax.set(xlabel = 'Lambda', ylabel = 'MSE')\n"
   ]
  },
  {
   "cell_type": "markdown",
   "metadata": {},
   "source": [
    "### Finding the optimal hyperparameter for Lasso\n",
    "\n",
    "Where was the mean mse smallest?"
   ]
  },
  {
   "cell_type": "code",
   "execution_count": 87,
   "metadata": {},
   "outputs": [
    {
     "data": {
      "text/plain": [
       "65793.322466    1.488530e+12\n",
       "dtype: float64"
      ]
     },
     "execution_count": 87,
     "metadata": {},
     "output_type": "execute_result"
    }
   ],
   "source": [
    "mse_mean_lasso.nsmallest(1)"
   ]
  },
  {
   "cell_type": "markdown",
   "metadata": {},
   "source": [
    "## Train Ridge Regression (K-fold CV)"
   ]
  },
  {
   "cell_type": "code",
   "execution_count": 88,
   "metadata": {},
   "outputs": [
    {
     "name": "stderr",
     "output_type": "stream",
     "text": [
      "100%|██████████| 12/12 [00:26<00:00,  2.23s/it]\n"
     ]
    }
   ],
   "source": [
    "#Split data into 5 folds\n",
    "kfolds = KFold(n_splits=5)\n",
    "folds = list(kfolds.split(X_dev, y_dev))\n",
    "\n",
    "#Create Lambda values\n",
    "lambdas = np.logspace(-1, 7, 12)\n",
    "# outer loop: lambdas\n",
    "mseCV = []\n",
    "\n",
    "for lambda_ in tqdm.tqdm(lambdas):    \n",
    "    # inner loop: folds\n",
    "    mseCV_ = []\n",
    "\n",
    "    for train_idx, val_idx in folds:        \n",
    "        # train model and compute MSE on test fold\n",
    "        pipe_ridgeCV = make_pipeline(PolynomialFeatures(degree=3, include_bias=True),\n",
    "                                     StandardScaler(),\n",
    "                                     Ridge(alpha=lambda_, random_state=1))            \n",
    "        X_train, y_train = X_dev.iloc[train_idx], y_dev.iloc[train_idx]\n",
    "        X_val, y_val = X_dev.iloc[val_idx], y_dev.iloc[val_idx] \n",
    "        pipe_ridgeCV.fit(X_train, y_train)        \n",
    "        mseCV_.append(mse(pipe_ridgeCV.predict(X_val), y_val))\n",
    "\n",
    "        \n",
    "    # store result    \n",
    "    mseCV.append(mseCV_) \n",
    "    \n",
    "# convert to DataFrame\n",
    "lambda_mseCV_ridge = pd.DataFrame(mseCV, index=lambdas)"
   ]
  },
  {
   "cell_type": "markdown",
   "metadata": {},
   "source": [
    "### MSE of the K-fold Crossvalidation - Ridge\n",
    "\n",
    "Lambda as index"
   ]
  },
  {
   "cell_type": "code",
   "execution_count": 89,
   "metadata": {},
   "outputs": [
    {
     "data": {
      "text/html": [
       "<div>\n",
       "<style scoped>\n",
       "    .dataframe tbody tr th:only-of-type {\n",
       "        vertical-align: middle;\n",
       "    }\n",
       "\n",
       "    .dataframe tbody tr th {\n",
       "        vertical-align: top;\n",
       "    }\n",
       "\n",
       "    .dataframe thead th {\n",
       "        text-align: right;\n",
       "    }\n",
       "</style>\n",
       "<table border=\"1\" class=\"dataframe\">\n",
       "  <thead>\n",
       "    <tr style=\"text-align: right;\">\n",
       "      <th></th>\n",
       "      <th>0</th>\n",
       "      <th>1</th>\n",
       "      <th>2</th>\n",
       "      <th>3</th>\n",
       "      <th>4</th>\n",
       "    </tr>\n",
       "  </thead>\n",
       "  <tbody>\n",
       "    <tr>\n",
       "      <th>1.000000e-01</th>\n",
       "      <td>1.010308e+15</td>\n",
       "      <td>2.785738e+13</td>\n",
       "      <td>6.207510e+12</td>\n",
       "      <td>1.441877e+13</td>\n",
       "      <td>1.135592e+16</td>\n",
       "    </tr>\n",
       "    <tr>\n",
       "      <th>5.336699e-01</th>\n",
       "      <td>2.879593e+14</td>\n",
       "      <td>2.429117e+13</td>\n",
       "      <td>4.800092e+12</td>\n",
       "      <td>8.174056e+12</td>\n",
       "      <td>1.709255e+15</td>\n",
       "    </tr>\n",
       "    <tr>\n",
       "      <th>2.848036e+00</th>\n",
       "      <td>3.745888e+13</td>\n",
       "      <td>2.535505e+13</td>\n",
       "      <td>3.769231e+12</td>\n",
       "      <td>5.040571e+12</td>\n",
       "      <td>4.574575e+12</td>\n",
       "    </tr>\n",
       "    <tr>\n",
       "      <th>1.519911e+01</th>\n",
       "      <td>8.884228e+12</td>\n",
       "      <td>1.888528e+13</td>\n",
       "      <td>3.366996e+12</td>\n",
       "      <td>3.686450e+12</td>\n",
       "      <td>6.264388e+13</td>\n",
       "    </tr>\n",
       "    <tr>\n",
       "      <th>8.111308e+01</th>\n",
       "      <td>5.927708e+12</td>\n",
       "      <td>7.826893e+12</td>\n",
       "      <td>2.693507e+12</td>\n",
       "      <td>2.563359e+12</td>\n",
       "      <td>1.248271e+13</td>\n",
       "    </tr>\n",
       "    <tr>\n",
       "      <th>4.328761e+02</th>\n",
       "      <td>2.160746e+12</td>\n",
       "      <td>2.627972e+12</td>\n",
       "      <td>2.246266e+12</td>\n",
       "      <td>2.010815e+12</td>\n",
       "      <td>2.989438e+12</td>\n",
       "    </tr>\n",
       "    <tr>\n",
       "      <th>2.310130e+03</th>\n",
       "      <td>1.833825e+12</td>\n",
       "      <td>1.824491e+12</td>\n",
       "      <td>2.104700e+12</td>\n",
       "      <td>1.979115e+12</td>\n",
       "      <td>5.961936e+12</td>\n",
       "    </tr>\n",
       "    <tr>\n",
       "      <th>1.232847e+04</th>\n",
       "      <td>2.328762e+12</td>\n",
       "      <td>1.861089e+12</td>\n",
       "      <td>2.203592e+12</td>\n",
       "      <td>2.386959e+12</td>\n",
       "      <td>3.402602e+12</td>\n",
       "    </tr>\n",
       "    <tr>\n",
       "      <th>6.579332e+04</th>\n",
       "      <td>2.283701e+12</td>\n",
       "      <td>2.124737e+12</td>\n",
       "      <td>2.845194e+12</td>\n",
       "      <td>3.324512e+12</td>\n",
       "      <td>1.691180e+12</td>\n",
       "    </tr>\n",
       "    <tr>\n",
       "      <th>3.511192e+05</th>\n",
       "      <td>3.269422e+12</td>\n",
       "      <td>2.766839e+12</td>\n",
       "      <td>4.635123e+12</td>\n",
       "      <td>4.804882e+12</td>\n",
       "      <td>2.796989e+12</td>\n",
       "    </tr>\n",
       "    <tr>\n",
       "      <th>1.873817e+06</th>\n",
       "      <td>4.507139e+12</td>\n",
       "      <td>3.593150e+12</td>\n",
       "      <td>6.314925e+12</td>\n",
       "      <td>6.150009e+12</td>\n",
       "      <td>3.773319e+12</td>\n",
       "    </tr>\n",
       "    <tr>\n",
       "      <th>1.000000e+07</th>\n",
       "      <td>5.004057e+12</td>\n",
       "      <td>3.943854e+12</td>\n",
       "      <td>6.930257e+12</td>\n",
       "      <td>6.667265e+12</td>\n",
       "      <td>4.193628e+12</td>\n",
       "    </tr>\n",
       "  </tbody>\n",
       "</table>\n",
       "</div>"
      ],
      "text/plain": [
       "                         0             1             2             3  \\\n",
       "1.000000e-01  1.010308e+15  2.785738e+13  6.207510e+12  1.441877e+13   \n",
       "5.336699e-01  2.879593e+14  2.429117e+13  4.800092e+12  8.174056e+12   \n",
       "2.848036e+00  3.745888e+13  2.535505e+13  3.769231e+12  5.040571e+12   \n",
       "1.519911e+01  8.884228e+12  1.888528e+13  3.366996e+12  3.686450e+12   \n",
       "8.111308e+01  5.927708e+12  7.826893e+12  2.693507e+12  2.563359e+12   \n",
       "4.328761e+02  2.160746e+12  2.627972e+12  2.246266e+12  2.010815e+12   \n",
       "2.310130e+03  1.833825e+12  1.824491e+12  2.104700e+12  1.979115e+12   \n",
       "1.232847e+04  2.328762e+12  1.861089e+12  2.203592e+12  2.386959e+12   \n",
       "6.579332e+04  2.283701e+12  2.124737e+12  2.845194e+12  3.324512e+12   \n",
       "3.511192e+05  3.269422e+12  2.766839e+12  4.635123e+12  4.804882e+12   \n",
       "1.873817e+06  4.507139e+12  3.593150e+12  6.314925e+12  6.150009e+12   \n",
       "1.000000e+07  5.004057e+12  3.943854e+12  6.930257e+12  6.667265e+12   \n",
       "\n",
       "                         4  \n",
       "1.000000e-01  1.135592e+16  \n",
       "5.336699e-01  1.709255e+15  \n",
       "2.848036e+00  4.574575e+12  \n",
       "1.519911e+01  6.264388e+13  \n",
       "8.111308e+01  1.248271e+13  \n",
       "4.328761e+02  2.989438e+12  \n",
       "2.310130e+03  5.961936e+12  \n",
       "1.232847e+04  3.402602e+12  \n",
       "6.579332e+04  1.691180e+12  \n",
       "3.511192e+05  2.796989e+12  \n",
       "1.873817e+06  3.773319e+12  \n",
       "1.000000e+07  4.193628e+12  "
      ]
     },
     "execution_count": 89,
     "metadata": {},
     "output_type": "execute_result"
    }
   ],
   "source": [
    "lambda_mseCV_ridge"
   ]
  },
  {
   "cell_type": "markdown",
   "metadata": {},
   "source": [
    "###  Mean MSE of K-fold CV - Ridge"
   ]
  },
  {
   "cell_type": "code",
   "execution_count": 90,
   "metadata": {},
   "outputs": [],
   "source": [
    "# Calculates the mean of the folds\n",
    "mse_mean_ridge = lambda_mseCV_ridge.mean(axis = 1)"
   ]
  },
  {
   "cell_type": "markdown",
   "metadata": {},
   "source": [
    "### Plot Average MSE over Lambda - Ridge"
   ]
  },
  {
   "cell_type": "code",
   "execution_count": 91,
   "metadata": {},
   "outputs": [
    {
     "data": {
      "text/plain": [
       "[Text(0, 0.5, 'MSE'), Text(0.5, 0, 'Lambda')]"
      ]
     },
     "execution_count": 91,
     "metadata": {},
     "output_type": "execute_result"
    },
    {
     "data": {
      "image/png": "[encoded data removed]",
      "text/plain": [
       "<Figure size 432x288 with 1 Axes>"
      ]
     },
     "metadata": {
      "needs_background": "light"
     },
     "output_type": "display_data"
    }
   ],
   "source": [
    "#Plot mean square errors\n",
    "COL = ['Average MSE']\n",
    "mse_mean_ridge.columns = COL\n",
    "\n",
    "#Both axis are logarythmical \n",
    "ax = mse_mean_ridge.plot(logx = True, logy = True)\n",
    "ax.set(xlabel = 'Lambda', ylabel = 'MSE')\n"
   ]
  },
  {
   "cell_type": "markdown",
   "metadata": {},
   "source": [
    "### Finding the optimal hyperparameter for Ridge\n",
    "\n",
    "Where was the mean mse smallest?"
   ]
  },
  {
   "cell_type": "code",
   "execution_count": 92,
   "metadata": {},
   "outputs": [
    {
     "data": {
      "text/plain": [
       "432.876128    2.407047e+12\n",
       "dtype: float64"
      ]
     },
     "execution_count": 92,
     "metadata": {},
     "output_type": "execute_result"
    }
   ],
   "source": [
    "mse_mean_ridge.nsmallest(1)"
   ]
  },
  {
   "cell_type": "markdown",
   "metadata": {},
   "source": [
    "## Train Elastic Net Regression (K-fold CV)"
   ]
  },
  {
   "cell_type": "code",
   "execution_count": 93,
   "metadata": {},
   "outputs": [
    {
     "name": "stderr",
     "output_type": "stream",
     "text": [
      "100%|██████████| 12/12 [01:39<00:00,  3.24s/it]\n"
     ]
    }
   ],
   "source": [
    "#Split data into 5 folds\n",
    "kfolds = KFold(n_splits=5)\n",
    "folds = list(kfolds.split(X_dev, y_dev))\n",
    "\n",
    "#Create Lambda values\n",
    "lambdas = np.logspace(-1, 7, 12)\n",
    "# outer loop: lambdas\n",
    "mseCV = []\n",
    "\n",
    "for lambda_ in tqdm.tqdm(lambdas):    \n",
    "    # inner loop: folds\n",
    "    mseCV_ = []\n",
    "\n",
    "    for train_idx, val_idx in folds:        \n",
    "        # train model and compute MSE on test fold\n",
    "        pipe_elasticCV = make_pipeline(PolynomialFeatures(degree=3, include_bias=True),\n",
    "                                     StandardScaler(),\n",
    "                                     ElasticNet(alpha=lambda_, random_state=1))            \n",
    "        X_train, y_train = X_dev.iloc[train_idx], y_dev.iloc[train_idx]\n",
    "        X_val, y_val = X_dev.iloc[val_idx], y_dev.iloc[val_idx] \n",
    "        pipe_elasticCV.fit(X_train, y_train)        \n",
    "        mseCV_.append(mse(pipe_elasticCV.predict(X_val), y_val))\n",
    "\n",
    "        \n",
    "    # store result    \n",
    "    mseCV.append(mseCV_) \n",
    "    \n",
    "# convert to DataFrame\n",
    "lambda_mseCV_elastic = pd.DataFrame(mseCV, index=lambdas)"
   ]
  },
  {
   "cell_type": "markdown",
   "metadata": {},
   "source": [
    "### MSE of the K-fold Crossvalidation - Elastic\n",
    "Lambda as index"
   ]
  },
  {
   "cell_type": "code",
   "execution_count": 94,
   "metadata": {},
   "outputs": [
    {
     "data": {
      "text/html": [
       "<div>\n",
       "<style scoped>\n",
       "    .dataframe tbody tr th:only-of-type {\n",
       "        vertical-align: middle;\n",
       "    }\n",
       "\n",
       "    .dataframe tbody tr th {\n",
       "        vertical-align: top;\n",
       "    }\n",
       "\n",
       "    .dataframe thead th {\n",
       "        text-align: right;\n",
       "    }\n",
       "</style>\n",
       "<table border=\"1\" class=\"dataframe\">\n",
       "  <thead>\n",
       "    <tr style=\"text-align: right;\">\n",
       "      <th></th>\n",
       "      <th>0</th>\n",
       "      <th>1</th>\n",
       "      <th>2</th>\n",
       "      <th>3</th>\n",
       "      <th>4</th>\n",
       "    </tr>\n",
       "  </thead>\n",
       "  <tbody>\n",
       "    <tr>\n",
       "      <th>1.000000e-01</th>\n",
       "      <td>4.887798e+12</td>\n",
       "      <td>1.835752e+13</td>\n",
       "      <td>2.856767e+12</td>\n",
       "      <td>3.226742e+12</td>\n",
       "      <td>9.022999e+13</td>\n",
       "    </tr>\n",
       "    <tr>\n",
       "      <th>5.336699e-01</th>\n",
       "      <td>3.925539e+12</td>\n",
       "      <td>5.738909e+12</td>\n",
       "      <td>2.387158e+12</td>\n",
       "      <td>2.224891e+12</td>\n",
       "      <td>1.441138e+12</td>\n",
       "    </tr>\n",
       "    <tr>\n",
       "      <th>2.848036e+00</th>\n",
       "      <td>1.912793e+12</td>\n",
       "      <td>1.902456e+12</td>\n",
       "      <td>2.160410e+12</td>\n",
       "      <td>1.971286e+12</td>\n",
       "      <td>8.678585e+12</td>\n",
       "    </tr>\n",
       "    <tr>\n",
       "      <th>1.519911e+01</th>\n",
       "      <td>2.235940e+12</td>\n",
       "      <td>1.798836e+12</td>\n",
       "      <td>2.130493e+12</td>\n",
       "      <td>2.092504e+12</td>\n",
       "      <td>5.023037e+12</td>\n",
       "    </tr>\n",
       "    <tr>\n",
       "      <th>8.111308e+01</th>\n",
       "      <td>2.235558e+12</td>\n",
       "      <td>1.957435e+12</td>\n",
       "      <td>2.357057e+12</td>\n",
       "      <td>2.736180e+12</td>\n",
       "      <td>2.071200e+12</td>\n",
       "    </tr>\n",
       "    <tr>\n",
       "      <th>4.328761e+02</th>\n",
       "      <td>2.591225e+12</td>\n",
       "      <td>2.341055e+12</td>\n",
       "      <td>3.525586e+12</td>\n",
       "      <td>3.925689e+12</td>\n",
       "      <td>2.109018e+12</td>\n",
       "    </tr>\n",
       "    <tr>\n",
       "      <th>2.310130e+03</th>\n",
       "      <td>3.891655e+12</td>\n",
       "      <td>3.174366e+12</td>\n",
       "      <td>5.514312e+12</td>\n",
       "      <td>5.498761e+12</td>\n",
       "      <td>3.294385e+12</td>\n",
       "    </tr>\n",
       "    <tr>\n",
       "      <th>1.232847e+04</th>\n",
       "      <td>4.810830e+12</td>\n",
       "      <td>3.806947e+12</td>\n",
       "      <td>6.694717e+12</td>\n",
       "      <td>6.467204e+12</td>\n",
       "      <td>4.024578e+12</td>\n",
       "    </tr>\n",
       "    <tr>\n",
       "      <th>6.579332e+04</th>\n",
       "      <td>5.079871e+12</td>\n",
       "      <td>3.999081e+12</td>\n",
       "      <td>7.023179e+12</td>\n",
       "      <td>6.746728e+12</td>\n",
       "      <td>4.263659e+12</td>\n",
       "    </tr>\n",
       "    <tr>\n",
       "      <th>3.511192e+05</th>\n",
       "      <td>5.135836e+12</td>\n",
       "      <td>4.039407e+12</td>\n",
       "      <td>7.090671e+12</td>\n",
       "      <td>6.804794e+12</td>\n",
       "      <td>4.315775e+12</td>\n",
       "    </tr>\n",
       "    <tr>\n",
       "      <th>1.873817e+06</th>\n",
       "      <td>5.145696e+12</td>\n",
       "      <td>4.045804e+12</td>\n",
       "      <td>7.101732e+12</td>\n",
       "      <td>6.814415e+12</td>\n",
       "      <td>4.324227e+12</td>\n",
       "    </tr>\n",
       "    <tr>\n",
       "      <th>1.000000e+07</th>\n",
       "      <td>5.146187e+12</td>\n",
       "      <td>4.046145e+12</td>\n",
       "      <td>7.102215e+12</td>\n",
       "      <td>6.814843e+12</td>\n",
       "      <td>4.324637e+12</td>\n",
       "    </tr>\n",
       "  </tbody>\n",
       "</table>\n",
       "</div>"
      ],
      "text/plain": [
       "                         0             1             2             3  \\\n",
       "1.000000e-01  4.887798e+12  1.835752e+13  2.856767e+12  3.226742e+12   \n",
       "5.336699e-01  3.925539e+12  5.738909e+12  2.387158e+12  2.224891e+12   \n",
       "2.848036e+00  1.912793e+12  1.902456e+12  2.160410e+12  1.971286e+12   \n",
       "1.519911e+01  2.235940e+12  1.798836e+12  2.130493e+12  2.092504e+12   \n",
       "8.111308e+01  2.235558e+12  1.957435e+12  2.357057e+12  2.736180e+12   \n",
       "4.328761e+02  2.591225e+12  2.341055e+12  3.525586e+12  3.925689e+12   \n",
       "2.310130e+03  3.891655e+12  3.174366e+12  5.514312e+12  5.498761e+12   \n",
       "1.232847e+04  4.810830e+12  3.806947e+12  6.694717e+12  6.467204e+12   \n",
       "6.579332e+04  5.079871e+12  3.999081e+12  7.023179e+12  6.746728e+12   \n",
       "3.511192e+05  5.135836e+12  4.039407e+12  7.090671e+12  6.804794e+12   \n",
       "1.873817e+06  5.145696e+12  4.045804e+12  7.101732e+12  6.814415e+12   \n",
       "1.000000e+07  5.146187e+12  4.046145e+12  7.102215e+12  6.814843e+12   \n",
       "\n",
       "                         4  \n",
       "1.000000e-01  9.022999e+13  \n",
       "5.336699e-01  1.441138e+12  \n",
       "2.848036e+00  8.678585e+12  \n",
       "1.519911e+01  5.023037e+12  \n",
       "8.111308e+01  2.071200e+12  \n",
       "4.328761e+02  2.109018e+12  \n",
       "2.310130e+03  3.294385e+12  \n",
       "1.232847e+04  4.024578e+12  \n",
       "6.579332e+04  4.263659e+12  \n",
       "3.511192e+05  4.315775e+12  \n",
       "1.873817e+06  4.324227e+12  \n",
       "1.000000e+07  4.324637e+12  "
      ]
     },
     "execution_count": 94,
     "metadata": {},
     "output_type": "execute_result"
    }
   ],
   "source": [
    "lambda_mseCV_elastic"
   ]
  },
  {
   "cell_type": "markdown",
   "metadata": {},
   "source": [
    "###  Mean MSE of K-fold CV - Elastic"
   ]
  },
  {
   "cell_type": "code",
   "execution_count": 95,
   "metadata": {},
   "outputs": [],
   "source": [
    "# Calculates the mean of the folds\n",
    "mse_mean_elastic = lambda_mseCV_elastic.mean(axis = 1)"
   ]
  },
  {
   "cell_type": "markdown",
   "metadata": {},
   "source": [
    "### Plot Average MSE over Lambda - Ridge"
   ]
  },
  {
   "cell_type": "code",
   "execution_count": 96,
   "metadata": {},
   "outputs": [
    {
     "data": {
      "text/plain": [
       "[Text(0, 0.5, 'MSE'), Text(0.5, 0, 'Lambda')]"
      ]
     },
     "execution_count": 96,
     "metadata": {},
     "output_type": "execute_result"
    },
    {
     "data": {
      "image/png": "[encoded data removed]",
      "text/plain": [
       "<Figure size 432x288 with 1 Axes>"
      ]
     },
     "metadata": {
      "needs_background": "light"
     },
     "output_type": "display_data"
    }
   ],
   "source": [
    "#Plot mean square errors\n",
    "COL = ['Average MSE']\n",
    "mse_mean_elastic.columns = COL\n",
    "\n",
    "#Both axis are logarythmical \n",
    "ax = mse_mean_elastic.plot(logx = True, logy = True)\n",
    "ax.set(xlabel = 'Lambda', ylabel = 'MSE')"
   ]
  },
  {
   "cell_type": "markdown",
   "metadata": {},
   "source": [
    "### Finding the optimal hyperparameter for Ridge\n",
    "\n",
    "Where was the mean mse smallest?"
   ]
  },
  {
   "cell_type": "code",
   "execution_count": 97,
   "metadata": {},
   "outputs": [
    {
     "data": {
      "text/plain": [
       "81.113083    2.271486e+12\n",
       "dtype: float64"
      ]
     },
     "execution_count": 97,
     "metadata": {},
     "output_type": "execute_result"
    }
   ],
   "source": [
    "mse_mean_elastic.nsmallest(1)"
   ]
  },
  {
   "cell_type": "markdown",
   "metadata": {},
   "source": [
    "# Comparison of Lasso, Ridge, Elastic Net and Linear Regression\n",
    "\n",
    "Is done after the optimized hyperparameters is found (after training on validation data)\n",
    "This comparison is done on the **test data!** and is thus the final step in training and selecting our model\n"
   ]
  },
  {
   "cell_type": "code",
   "execution_count": 98,
   "metadata": {},
   "outputs": [
    {
     "name": "stdout",
     "output_type": "stream",
     "text": [
      "MSE: Lasso CV 1417576492273.64\n",
      "RMSE: Lasso CV 1190620.21\n",
      "MAE: Lasso CV 741942.52\n",
      "MSE: Ridge CV 8335385648031.37\n",
      "RMSE: Ridge CV 2887106.8\n",
      "MAE: Ridge CV 1426704.87\n",
      "MSE: ElasticNet CV 1952870039849.24\n",
      "RMSE: ElasticNet CV 1397451.27\n",
      "MAE: ElasticNet CV 817405.54\n",
      "MSE: LinReg 4.651737611832751e+31\n",
      "RMSE: LinReg 6820364808302230.0\n",
      "MAE: LinReg 1133479738262536.0\n"
     ]
    }
   ],
   "source": [
    "# Optimal lambda is inserted into the Lasso-model\n",
    "optimal_lambda_lasso = lambda_mseCV_lasso.mean(axis=1).nsmallest(1)\n",
    "\n",
    "# retrain/re-estimate model using optimal hyperparameters\n",
    "pipe_lassoCV = make_pipeline(PolynomialFeatures(degree = 3, include_bias=False), \n",
    "                             StandardScaler(),\n",
    "                             Lasso(alpha=optimal_lambda_lasso.index[0], random_state=1))\n",
    "pipe_lassoCV.fit(X_dev,y_dev)\n",
    "\n",
    "#Optimal lambda for ridge model: \n",
    "optimal_lambda_ridge = lambda_mseCV_ridge.mean(axis=1).nsmallest(1)\n",
    "\n",
    "# retrain/re-estimate model using optimal hyperparameters\n",
    "pipe_ridgeCV = make_pipeline(PolynomialFeatures(degree = 3, include_bias=False), \n",
    "                             StandardScaler(),\n",
    "                             Lasso(alpha=optimal_lambda_ridge.index[0], random_state=1))\n",
    "pipe_ridgeCV.fit(X_dev,y_dev)\n",
    "\n",
    "#Optimal lambda for elastic net model: \n",
    "optimal_lambda_elastic = lambda_mseCV_elastic.mean(axis=1).nsmallest(1)\n",
    "\n",
    "# retrain/re-estimate model using optimal hyperparameters\n",
    "pipe_elasticCV = make_pipeline(PolynomialFeatures(degree = 3, include_bias=False), \n",
    "                             StandardScaler(),\n",
    "                             ElasticNet(alpha=optimal_lambda_elastic.index[0], random_state=1))\n",
    "pipe_elasticCV.fit(X_dev,y_dev)\n",
    "\n",
    "# compare performance by mse\n",
    "models = {'Lasso CV': pipe_lassoCV, 'Ridge CV': pipe_ridgeCV, 'ElasticNet CV': pipe_elasticCV,\n",
    "          'LinReg': pipe_lr}\n",
    "for name, model in models.items():\n",
    "    score_mse = mse(model.predict(X_test),y_test)\n",
    "    score_mae = mae(model.predict(X_test),y_test)\n",
    "    score_rmse = sqrt(mse(model.predict(X_test),y_test))\n",
    "    \n",
    "    print(\"MSE: \" + name, round(score_mse, 2))\n",
    "    print(\"RMSE: \" + name, round(score_rmse, 2))\n",
    "    print(\"MAE: \" + name, round(score_mae, 2))"
   ]
  },
  {
   "cell_type": "markdown",
   "metadata": {},
   "source": [
    "## Subconclusion\n",
    "\n",
    "The model is too complex and very unable to predict out-of-sample data. \n",
    "Though the Lasso is a great imporvement to the simple linear regression, it still produces error in the realm of trillions. "
   ]
  },
  {
   "cell_type": "markdown",
   "metadata": {},
   "source": [
    "## Error Table\n",
    "\n",
    "We calculate the Mean Absolute Error, Mean Squared Error and Root Mean Squard Errors of the differnet models: OLS (Linear Regression), Lasso, Ridge."
   ]
  },
  {
   "cell_type": "markdown",
   "metadata": {},
   "source": [
    "## Correlation plot"
   ]
  },
  {
   "cell_type": "code",
   "execution_count": 14,
   "metadata": {},
   "outputs": [
    {
     "data": {
      "image/png": "[encoded data removed]",
      "text/plain": [
       "<Figure size 1008x720 with 2 Axes>"
      ]
     },
     "metadata": {
      "needs_background": "light"
     },
     "output_type": "display_data"
    }
   ],
   "source": [
    "corr = df.corr()\n",
    "plt.figure(figsize=(14, 10))\n",
    "ax = sns.heatmap(\n",
    "    corr, \n",
    "    vmin=-1, vmax=1, center=0,\n",
    "    cmap=sns.diverging_palette(20, 220, n=200),\n",
    "    square=True\n",
    ")\n",
    "ax.set_xticklabels(\n",
    "    ax.get_xticklabels(),\n",
    "    rotation=45,\n",
    "    horizontalalignment='right'\n",
    ");"
   ]
  }
 ],
 "metadata": {
  "kernelspec": {
   "display_name": "Python 3",
   "language": "python",
   "name": "python3"
  },
  "language_info": {
   "codemirror_mode": {
    "name": "ipython",
    "version": 3
   },
   "file_extension": ".py",
   "mimetype": "text/x-python",
   "name": "python",
   "nbconvert_exporter": "python",
   "pygments_lexer": "ipython3",
   "version": "3.7.3"
  }
 },
 "nbformat": 4,
 "nbformat_minor": 2
}
