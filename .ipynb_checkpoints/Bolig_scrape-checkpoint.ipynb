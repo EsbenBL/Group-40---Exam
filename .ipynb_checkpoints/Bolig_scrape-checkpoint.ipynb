{
 "cells": [
  {
   "cell_type": "code",
   "execution_count": 33,
   "metadata": {},
   "outputs": [],
   "source": [
    "import scraping_class\n",
    "logfile = 'Boligscrape_log.csv'\n",
    "connector = scraping_class.Connector(logfile)"
   ]
  },
  {
   "cell_type": "code",
   "execution_count": 34,
   "metadata": {},
   "outputs": [
    {
     "data": {
      "text/plain": [
       "200"
      ]
     },
     "execution_count": 34,
     "metadata": {},
     "output_type": "execute_result"
    }
   ],
   "source": [
    "import requests\n",
    "import pandas as pd\n",
    "url = 'https://www.boligsiden.dk/propertyresult/getdata?searchId=b4fae611b9444fa88f6dd6cd5f39de8d&pageNumber=1&sortKey=12&sortDescending=false&displayTab=1&itemsPerPage=60'\n",
    "response = requests.get(url)\n",
    "response.status_code"
   ]
  },
  {
   "cell_type": "code",
   "execution_count": 35,
   "metadata": {},
   "outputs": [
    {
     "data": {
      "text/plain": [
       "dict_keys(['newSearchId', 'result', 'search', 'mapTokens'])"
      ]
     },
     "execution_count": 35,
     "metadata": {},
     "output_type": "execute_result"
    }
   ],
   "source": [
    "response.json().keys()"
   ]
  },
  {
   "cell_type": "code",
   "execution_count": 36,
   "metadata": {},
   "outputs": [],
   "source": [
    "page = response.json()['result']"
   ]
  },
  {
   "cell_type": "code",
   "execution_count": 37,
   "metadata": {},
   "outputs": [],
   "source": [
    "boligdf = pd.DataFrame(page['properties'])"
   ]
  },
  {
   "cell_type": "code",
   "execution_count": 38,
   "metadata": {},
   "outputs": [],
   "source": [
    "boligdf = pd.DataFrame(page['properties'])"
   ]
  },
  {
   "cell_type": "code",
   "execution_count": 39,
   "metadata": {},
   "outputs": [],
   "source": [
    "pd.options.display.max_columns = 100"
   ]
  },
  {
   "cell_type": "code",
   "execution_count": 40,
   "metadata": {},
   "outputs": [
    {
     "data": {
      "text/plain": [
       "64364"
      ]
     },
     "execution_count": 40,
     "metadata": {},
     "output_type": "execute_result"
    }
   ],
   "source": [
    "totalcount = page['totalCount']\n",
    "totalcount"
   ]
  },
  {
   "cell_type": "code",
   "execution_count": 14,
   "metadata": {},
   "outputs": [],
   "source": [
    "itemsperpage = 60"
   ]
  },
  {
   "cell_type": "code",
   "execution_count": 16,
   "metadata": {},
   "outputs": [
    {
     "data": {
      "text/plain": [
       "1073.0"
      ]
     },
     "execution_count": 16,
     "metadata": {},
     "output_type": "execute_result"
    }
   ],
   "source": [
    "pages = round(totalcount/itemsperpage, 0)\n",
    "pages"
   ]
  },
  {
   "cell_type": "code",
   "execution_count": 53,
   "metadata": {},
   "outputs": [],
   "source": [
    "def url_constructor():\n",
    "    urls = []\n",
    "    part_one = 'https://www.boligsiden.dk/propertyresult/getdata?searchId=b4fae611b9444fa88f6dd6cd5f39de8d&pageNumber='\n",
    "    part_two = '&sortKey=12&sortDescending=false&displayTab=1&itemsPerPage=60'\n",
    "    for i in range(1, int(pages)+1):\n",
    "        urls.append(part_one + str(i) + part_two)\n",
    "    return urls\n",
    "        #print(i)\n",
    "\n",
    "tests = url_constructor()"
   ]
  },
  {
   "cell_type": "code",
   "execution_count": 55,
   "metadata": {},
   "outputs": [
    {
     "data": {
      "text/plain": [
       "1073"
      ]
     },
     "execution_count": 55,
     "metadata": {},
     "output_type": "execute_result"
    }
   ],
   "source": [
    "len(tests)"
   ]
  },
  {
   "cell_type": "code",
   "execution_count": 30,
   "metadata": {},
   "outputs": [
    {
     "name": "stderr",
     "output_type": "stream",
     "text": [
      "100%|██████████| 1073/1073 [26:52<00:00,  1.64s/it] \n"
     ]
    }
   ],
   "source": [
    "import time\n",
    "import random\n",
    "import json\n",
    "import tqdm\n",
    "\n",
    "def scrape_append(url_list):\n",
    "    bolig_df = pd.DataFrame()\n",
    "    \n",
    "    for url_link in tqdm.tqdm(url_list):\n",
    "        time.sleep(0.5)\n",
    "        response, call_id = connector.get(url_link,'DataScience_Boligsiden')\n",
    "        Y = response.text\n",
    "        Y_json = json.loads(Y)\n",
    "        #data = Y_json['JobPositionPostings']\n",
    "        pagedata = Y_json['result']\n",
    "        data = pagedata['properties']\n",
    "        df = pd.DataFrame(data)\n",
    "        bolig_df = pd.concat([df, bolig_df], ignore_index=True)\n",
    "    \n",
    "    return bolig_df\n",
    "url_input = url_constructor()\n",
    "url_in_test = url_input[0:20]\n",
    "housing_df = scrape_append(url_input)"
   ]
  },
  {
   "cell_type": "code",
   "execution_count": 31,
   "metadata": {},
   "outputs": [
    {
     "data": {
      "text/plain": [
       "(64368, 39)"
      ]
     },
     "execution_count": 31,
     "metadata": {},
     "output_type": "execute_result"
    }
   ],
   "source": [
    "housing_df.shape"
   ]
  },
  {
   "cell_type": "code",
   "execution_count": 32,
   "metadata": {},
   "outputs": [],
   "source": [
    "housing_df.to_csv('housing_data2.csv')"
   ]
  },
  {
   "cell_type": "code",
   "execution_count": 42,
   "metadata": {},
   "outputs": [
    {
     "data": {
      "text/html": [
       "<div>\n",
       "<style scoped>\n",
       "    .dataframe tbody tr th:only-of-type {\n",
       "        vertical-align: middle;\n",
       "    }\n",
       "\n",
       "    .dataframe tbody tr th {\n",
       "        vertical-align: top;\n",
       "    }\n",
       "\n",
       "    .dataframe thead th {\n",
       "        text-align: right;\n",
       "    }\n",
       "</style>\n",
       "<table border=\"1\" class=\"dataframe\">\n",
       "  <thead>\n",
       "    <tr style=\"text-align: right;\">\n",
       "      <th></th>\n",
       "      <th>id</th>\n",
       "      <th>itemTypeName</th>\n",
       "      <th>itemType</th>\n",
       "      <th>propertyLink</th>\n",
       "      <th>isFavorite</th>\n",
       "      <th>rating</th>\n",
       "      <th>priceDevelopment</th>\n",
       "      <th>hasOpenHouse</th>\n",
       "      <th>nextOpenHouse</th>\n",
       "      <th>nextOpenHouseSignup</th>\n",
       "      <th>imageLink300X200</th>\n",
       "      <th>energyMark</th>\n",
       "      <th>energyMarkLink</th>\n",
       "      <th>address</th>\n",
       "      <th>postal</th>\n",
       "      <th>city</th>\n",
       "      <th>paymentCash</th>\n",
       "      <th>downPayment</th>\n",
       "      <th>paymentExpenses</th>\n",
       "      <th>paymentGross</th>\n",
       "      <th>paymentNet</th>\n",
       "      <th>areaResidential</th>\n",
       "      <th>numberOfRooms</th>\n",
       "      <th>areaParcel</th>\n",
       "      <th>salesPeriod</th>\n",
       "      <th>redirectLink</th>\n",
       "      <th>openHouseRedirectLink</th>\n",
       "      <th>agentsLogoLink</th>\n",
       "      <th>financing</th>\n",
       "      <th>areaPaymentCash</th>\n",
       "      <th>areaWeighted</th>\n",
       "      <th>uniqueNumber</th>\n",
       "      <th>agentChainName</th>\n",
       "      <th>isArchive</th>\n",
       "      <th>dateRemoved</th>\n",
       "      <th>placeName</th>\n",
       "      <th>canShowSalesPeriodTotal</th>\n",
       "      <th>salesPeriodTotal</th>\n",
       "      <th>dateAnnounced</th>\n",
       "    </tr>\n",
       "  </thead>\n",
       "  <tbody>\n",
       "    <tr>\n",
       "      <th>0</th>\n",
       "      <td>76a0489c20154d85b5a2b5f372d4be2e</td>\n",
       "      <td>Helårsgrund</td>\n",
       "      <td>700</td>\n",
       "      <td>~/salg/841209039</td>\n",
       "      <td>False</td>\n",
       "      <td>{'ratings': {'conditionRating': None, 'kitchen...</td>\n",
       "      <td>0%</td>\n",
       "      <td>False</td>\n",
       "      <td>01. jan. 00:00</td>\n",
       "      <td>False</td>\n",
       "      <td>https://pic.boligsiden.dk/property/300x200/1/7...</td>\n",
       "      <td></td>\n",
       "      <td>https://sparenergi.dk/forbruger/vaerktoejer/de...</td>\n",
       "      <td>Strandparken 28</td>\n",
       "      <td>8585</td>\n",
       "      <td>Glesborg</td>\n",
       "      <td>198.380</td>\n",
       "      <td>25.000</td>\n",
       "      <td>562</td>\n",
       "      <td>944</td>\n",
       "      <td>772</td>\n",
       "      <td>0</td>\n",
       "      <td>0</td>\n",
       "      <td>763</td>\n",
       "      <td>4.051</td>\n",
       "      <td>https://www.boligsiden.dk/viderestilling/76a04...</td>\n",
       "      <td>None</td>\n",
       "      <td>https://pic.boligsiden.dk/agent/23ed916c7b6840...</td>\n",
       "      <td>{'link': 'https://raadgivning.boligsiden.dk/bo...</td>\n",
       "      <td>260</td>\n",
       "      <td>-</td>\n",
       "      <td>841209039</td>\n",
       "      <td>danbolig</td>\n",
       "      <td>False</td>\n",
       "      <td></td>\n",
       "      <td>Fjellerup</td>\n",
       "      <td>True</td>\n",
       "      <td>-</td>\n",
       "      <td>18-07-2008</td>\n",
       "    </tr>\n",
       "    <tr>\n",
       "      <th>1</th>\n",
       "      <td>0b52dadaab264002807a80236c487c8d</td>\n",
       "      <td>Fritidsgrund</td>\n",
       "      <td>800</td>\n",
       "      <td>~/salg/101775169</td>\n",
       "      <td>False</td>\n",
       "      <td>{'ratings': {'conditionRating': None, 'kitchen...</td>\n",
       "      <td>0%</td>\n",
       "      <td>False</td>\n",
       "      <td>01. jan. 00:00</td>\n",
       "      <td>False</td>\n",
       "      <td>https://pic.boligsiden.dk/property/300x200/1/0...</td>\n",
       "      <td></td>\n",
       "      <td>https://sparenergi.dk/forbruger/vaerktoejer/de...</td>\n",
       "      <td>Matildesvej, Prisgruppe 2</td>\n",
       "      <td>9670</td>\n",
       "      <td>Løgstør</td>\n",
       "      <td>195.000</td>\n",
       "      <td>25.000</td>\n",
       "      <td>125</td>\n",
       "      <td>916</td>\n",
       "      <td>748</td>\n",
       "      <td>0</td>\n",
       "      <td>0</td>\n",
       "      <td>1.200</td>\n",
       "      <td>4.060</td>\n",
       "      <td>https://www.boligsiden.dk/viderestilling/0b52d...</td>\n",
       "      <td>None</td>\n",
       "      <td>https://pic.boligsiden.dk/agent/8fd5118a5ac243...</td>\n",
       "      <td>{'link': 'https://raadgivning.boligsiden.dk/bo...</td>\n",
       "      <td>163</td>\n",
       "      <td>-</td>\n",
       "      <td>101775169</td>\n",
       "      <td>Asger Larsen</td>\n",
       "      <td>False</td>\n",
       "      <td></td>\n",
       "      <td></td>\n",
       "      <td>True</td>\n",
       "      <td>-</td>\n",
       "      <td>09-07-2008</td>\n",
       "    </tr>\n",
       "    <tr>\n",
       "      <th>2</th>\n",
       "      <td>edcd163674064d5686bbe9a098d3dc39</td>\n",
       "      <td>Fritidsgrund</td>\n",
       "      <td>800</td>\n",
       "      <td>~/salg/902405835</td>\n",
       "      <td>False</td>\n",
       "      <td>{'ratings': {'conditionRating': None, 'kitchen...</td>\n",
       "      <td>0%</td>\n",
       "      <td>False</td>\n",
       "      <td>01. jan. 00:00</td>\n",
       "      <td>False</td>\n",
       "      <td>https://pic.boligsiden.dk/property/300x200/1/e...</td>\n",
       "      <td></td>\n",
       "      <td>https://sparenergi.dk/forbruger/vaerktoejer/de...</td>\n",
       "      <td>Matildesvej, Prisgruppe 1</td>\n",
       "      <td>9670</td>\n",
       "      <td>Løgstør</td>\n",
       "      <td>225.000</td>\n",
       "      <td>25.000</td>\n",
       "      <td>42</td>\n",
       "      <td>1.067</td>\n",
       "      <td>871</td>\n",
       "      <td>0</td>\n",
       "      <td>0</td>\n",
       "      <td>1.200</td>\n",
       "      <td>4.060</td>\n",
       "      <td>https://www.boligsiden.dk/viderestilling/edcd1...</td>\n",
       "      <td>None</td>\n",
       "      <td>https://pic.boligsiden.dk/agent/8fd5118a5ac243...</td>\n",
       "      <td>{'link': 'https://raadgivning.boligsiden.dk/bo...</td>\n",
       "      <td>188</td>\n",
       "      <td>-</td>\n",
       "      <td>902405835</td>\n",
       "      <td>Asger Larsen</td>\n",
       "      <td>False</td>\n",
       "      <td></td>\n",
       "      <td></td>\n",
       "      <td>True</td>\n",
       "      <td>-</td>\n",
       "      <td>09-07-2008</td>\n",
       "    </tr>\n",
       "    <tr>\n",
       "      <th>3</th>\n",
       "      <td>f5b1322b94264ee9bab4081a1ba03687</td>\n",
       "      <td>Helårsgrund</td>\n",
       "      <td>700</td>\n",
       "      <td>~/salg/901685141</td>\n",
       "      <td>False</td>\n",
       "      <td>{'ratings': {'conditionRating': None, 'kitchen...</td>\n",
       "      <td>-35%</td>\n",
       "      <td>False</td>\n",
       "      <td>01. jan. 00:00</td>\n",
       "      <td>False</td>\n",
       "      <td>https://pic.boligsiden.dk/property/300x200/1/f...</td>\n",
       "      <td></td>\n",
       "      <td>https://sparenergi.dk/forbruger/vaerktoejer/de...</td>\n",
       "      <td>Rasmus Larsens Vænge 1</td>\n",
       "      <td>8300</td>\n",
       "      <td>Odder</td>\n",
       "      <td>467.775</td>\n",
       "      <td>25.000</td>\n",
       "      <td>1.003</td>\n",
       "      <td>2.345</td>\n",
       "      <td>1.939</td>\n",
       "      <td>0</td>\n",
       "      <td>0</td>\n",
       "      <td>1.124</td>\n",
       "      <td>4.071</td>\n",
       "      <td>https://www.boligsiden.dk/viderestilling/f5b13...</td>\n",
       "      <td>None</td>\n",
       "      <td>https://pic.boligsiden.dk/agent/01f208c5b7b246...</td>\n",
       "      <td>{'link': 'https://raadgivning.boligsiden.dk/bo...</td>\n",
       "      <td>416</td>\n",
       "      <td>-</td>\n",
       "      <td>901685141</td>\n",
       "      <td>Nybolig</td>\n",
       "      <td>False</td>\n",
       "      <td></td>\n",
       "      <td></td>\n",
       "      <td>True</td>\n",
       "      <td>-</td>\n",
       "      <td>28-06-2008</td>\n",
       "    </tr>\n",
       "    <tr>\n",
       "      <th>4</th>\n",
       "      <td>01ab5948969c447284b7dad81f7942cf</td>\n",
       "      <td>Helårsgrund</td>\n",
       "      <td>700</td>\n",
       "      <td>~/salg/602404305</td>\n",
       "      <td>False</td>\n",
       "      <td>{'ratings': {'conditionRating': None, 'kitchen...</td>\n",
       "      <td>-37%</td>\n",
       "      <td>False</td>\n",
       "      <td>01. jan. 00:00</td>\n",
       "      <td>False</td>\n",
       "      <td>https://pic.boligsiden.dk/property/300x200/1/0...</td>\n",
       "      <td></td>\n",
       "      <td>https://sparenergi.dk/forbruger/vaerktoejer/de...</td>\n",
       "      <td>Rasmus Larsens Vænge 2</td>\n",
       "      <td>8300</td>\n",
       "      <td>Odder</td>\n",
       "      <td>423.225</td>\n",
       "      <td>25.000</td>\n",
       "      <td>1.003</td>\n",
       "      <td>2.119</td>\n",
       "      <td>1.753</td>\n",
       "      <td>0</td>\n",
       "      <td>0</td>\n",
       "      <td>1.252</td>\n",
       "      <td>4.071</td>\n",
       "      <td>https://www.boligsiden.dk/viderestilling/01ab5...</td>\n",
       "      <td>None</td>\n",
       "      <td>https://pic.boligsiden.dk/agent/01f208c5b7b246...</td>\n",
       "      <td>{'link': 'https://raadgivning.boligsiden.dk/bo...</td>\n",
       "      <td>338</td>\n",
       "      <td>-</td>\n",
       "      <td>602404305</td>\n",
       "      <td>Nybolig</td>\n",
       "      <td>False</td>\n",
       "      <td></td>\n",
       "      <td></td>\n",
       "      <td>True</td>\n",
       "      <td>-</td>\n",
       "      <td>28-06-2008</td>\n",
       "    </tr>\n",
       "  </tbody>\n",
       "</table>\n",
       "</div>"
      ],
      "text/plain": [
       "                                 id  itemTypeName  itemType      propertyLink  \\\n",
       "0  76a0489c20154d85b5a2b5f372d4be2e   Helårsgrund       700  ~/salg/841209039   \n",
       "1  0b52dadaab264002807a80236c487c8d  Fritidsgrund       800  ~/salg/101775169   \n",
       "2  edcd163674064d5686bbe9a098d3dc39  Fritidsgrund       800  ~/salg/902405835   \n",
       "3  f5b1322b94264ee9bab4081a1ba03687   Helårsgrund       700  ~/salg/901685141   \n",
       "4  01ab5948969c447284b7dad81f7942cf   Helårsgrund       700  ~/salg/602404305   \n",
       "\n",
       "   isFavorite                                             rating  \\\n",
       "0       False  {'ratings': {'conditionRating': None, 'kitchen...   \n",
       "1       False  {'ratings': {'conditionRating': None, 'kitchen...   \n",
       "2       False  {'ratings': {'conditionRating': None, 'kitchen...   \n",
       "3       False  {'ratings': {'conditionRating': None, 'kitchen...   \n",
       "4       False  {'ratings': {'conditionRating': None, 'kitchen...   \n",
       "\n",
       "  priceDevelopment  hasOpenHouse   nextOpenHouse  nextOpenHouseSignup  \\\n",
       "0               0%         False  01. jan. 00:00                False   \n",
       "1               0%         False  01. jan. 00:00                False   \n",
       "2               0%         False  01. jan. 00:00                False   \n",
       "3             -35%         False  01. jan. 00:00                False   \n",
       "4             -37%         False  01. jan. 00:00                False   \n",
       "\n",
       "                                    imageLink300X200 energyMark  \\\n",
       "0  https://pic.boligsiden.dk/property/300x200/1/7...              \n",
       "1  https://pic.boligsiden.dk/property/300x200/1/0...              \n",
       "2  https://pic.boligsiden.dk/property/300x200/1/e...              \n",
       "3  https://pic.boligsiden.dk/property/300x200/1/f...              \n",
       "4  https://pic.boligsiden.dk/property/300x200/1/0...              \n",
       "\n",
       "                                      energyMarkLink  \\\n",
       "0  https://sparenergi.dk/forbruger/vaerktoejer/de...   \n",
       "1  https://sparenergi.dk/forbruger/vaerktoejer/de...   \n",
       "2  https://sparenergi.dk/forbruger/vaerktoejer/de...   \n",
       "3  https://sparenergi.dk/forbruger/vaerktoejer/de...   \n",
       "4  https://sparenergi.dk/forbruger/vaerktoejer/de...   \n",
       "\n",
       "                     address postal      city paymentCash downPayment  \\\n",
       "0            Strandparken 28   8585  Glesborg     198.380      25.000   \n",
       "1  Matildesvej, Prisgruppe 2   9670   Løgstør     195.000      25.000   \n",
       "2  Matildesvej, Prisgruppe 1   9670   Løgstør     225.000      25.000   \n",
       "3     Rasmus Larsens Vænge 1   8300     Odder     467.775      25.000   \n",
       "4     Rasmus Larsens Vænge 2   8300     Odder     423.225      25.000   \n",
       "\n",
       "  paymentExpenses paymentGross paymentNet areaResidential numberOfRooms  \\\n",
       "0             562          944        772               0             0   \n",
       "1             125          916        748               0             0   \n",
       "2              42        1.067        871               0             0   \n",
       "3           1.003        2.345      1.939               0             0   \n",
       "4           1.003        2.119      1.753               0             0   \n",
       "\n",
       "  areaParcel salesPeriod                                       redirectLink  \\\n",
       "0        763       4.051  https://www.boligsiden.dk/viderestilling/76a04...   \n",
       "1      1.200       4.060  https://www.boligsiden.dk/viderestilling/0b52d...   \n",
       "2      1.200       4.060  https://www.boligsiden.dk/viderestilling/edcd1...   \n",
       "3      1.124       4.071  https://www.boligsiden.dk/viderestilling/f5b13...   \n",
       "4      1.252       4.071  https://www.boligsiden.dk/viderestilling/01ab5...   \n",
       "\n",
       "  openHouseRedirectLink                                     agentsLogoLink  \\\n",
       "0                  None  https://pic.boligsiden.dk/agent/23ed916c7b6840...   \n",
       "1                  None  https://pic.boligsiden.dk/agent/8fd5118a5ac243...   \n",
       "2                  None  https://pic.boligsiden.dk/agent/8fd5118a5ac243...   \n",
       "3                  None  https://pic.boligsiden.dk/agent/01f208c5b7b246...   \n",
       "4                  None  https://pic.boligsiden.dk/agent/01f208c5b7b246...   \n",
       "\n",
       "                                           financing areaPaymentCash  \\\n",
       "0  {'link': 'https://raadgivning.boligsiden.dk/bo...             260   \n",
       "1  {'link': 'https://raadgivning.boligsiden.dk/bo...             163   \n",
       "2  {'link': 'https://raadgivning.boligsiden.dk/bo...             188   \n",
       "3  {'link': 'https://raadgivning.boligsiden.dk/bo...             416   \n",
       "4  {'link': 'https://raadgivning.boligsiden.dk/bo...             338   \n",
       "\n",
       "  areaWeighted  uniqueNumber agentChainName  isArchive dateRemoved  placeName  \\\n",
       "0            -     841209039       danbolig      False              Fjellerup   \n",
       "1            -     101775169   Asger Larsen      False                          \n",
       "2            -     902405835   Asger Larsen      False                          \n",
       "3            -     901685141        Nybolig      False                          \n",
       "4            -     602404305        Nybolig      False                          \n",
       "\n",
       "   canShowSalesPeriodTotal salesPeriodTotal dateAnnounced  \n",
       "0                     True                -    18-07-2008  \n",
       "1                     True                -    09-07-2008  \n",
       "2                     True                -    09-07-2008  \n",
       "3                     True                -    28-06-2008  \n",
       "4                     True                -    28-06-2008  "
      ]
     },
     "execution_count": 42,
     "metadata": {},
     "output_type": "execute_result"
    }
   ],
   "source": [
    "housing_df.head()"
   ]
  },
  {
   "cell_type": "code",
   "execution_count": 51,
   "metadata": {},
   "outputs": [
    {
     "data": {
      "text/plain": [
       "(64362, 39)"
      ]
     },
     "execution_count": 51,
     "metadata": {},
     "output_type": "execute_result"
    }
   ],
   "source": [
    "housing_df['rating'] = housing_df['rating'].astype(str)\n",
    "housing_df['financing'] = housing_df['financing'].astype(str)\n",
    "housing_distinct = housing_df.drop_duplicates()\n",
    "housing_distinct.shape"
   ]
  },
  {
   "cell_type": "code",
   "execution_count": 50,
   "metadata": {},
   "outputs": [
    {
     "data": {
      "text/plain": [
       "id                         object\n",
       "itemTypeName               object\n",
       "itemType                    int64\n",
       "propertyLink               object\n",
       "isFavorite                   bool\n",
       "rating                     object\n",
       "priceDevelopment           object\n",
       "hasOpenHouse                 bool\n",
       "nextOpenHouse              object\n",
       "nextOpenHouseSignup          bool\n",
       "imageLink300X200           object\n",
       "energyMark                 object\n",
       "energyMarkLink             object\n",
       "address                    object\n",
       "postal                     object\n",
       "city                       object\n",
       "paymentCash                object\n",
       "downPayment                object\n",
       "paymentExpenses            object\n",
       "paymentGross               object\n",
       "paymentNet                 object\n",
       "areaResidential            object\n",
       "numberOfRooms              object\n",
       "areaParcel                 object\n",
       "salesPeriod                object\n",
       "redirectLink               object\n",
       "openHouseRedirectLink      object\n",
       "agentsLogoLink             object\n",
       "financing                  object\n",
       "areaPaymentCash            object\n",
       "areaWeighted               object\n",
       "uniqueNumber                int64\n",
       "agentChainName             object\n",
       "isArchive                    bool\n",
       "dateRemoved                object\n",
       "placeName                  object\n",
       "canShowSalesPeriodTotal      bool\n",
       "salesPeriodTotal           object\n",
       "dateAnnounced              object\n",
       "dtype: object"
      ]
     },
     "execution_count": 50,
     "metadata": {},
     "output_type": "execute_result"
    }
   ],
   "source": [
    "#housing_distinct = housing_df.drop_duplicates()\n",
    "#housing_distinct.shape\n",
    "housing_df.dtypes"
   ]
  },
  {
   "cell_type": "code",
   "execution_count": 56,
   "metadata": {},
   "outputs": [],
   "source": [
    "housing_distinct.to_csv('housing_data_noduplicates.csv')"
   ]
  },
  {
   "cell_type": "code",
   "execution_count": null,
   "metadata": {},
   "outputs": [],
   "source": []
  }
 ],
 "metadata": {
  "kernelspec": {
   "display_name": "Python 3",
   "language": "python",
   "name": "python3"
  },
  "language_info": {
   "codemirror_mode": {
    "name": "ipython",
    "version": 3
   },
   "file_extension": ".py",
   "mimetype": "text/x-python",
   "name": "python",
   "nbconvert_exporter": "python",
   "pygments_lexer": "ipython3",
   "version": "3.7.2"
  }
 },
 "nbformat": 4,
 "nbformat_minor": 2
}
