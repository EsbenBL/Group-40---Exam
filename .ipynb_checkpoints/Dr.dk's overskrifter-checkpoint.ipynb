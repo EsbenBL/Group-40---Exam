{
 "cells": [
  {
   "cell_type": "code",
   "execution_count": 29,
   "metadata": {},
   "outputs": [
    {
     "name": "stdout",
     "output_type": "stream",
     "text": [
      "86\n"
     ]
    },
    {
     "data": {
      "text/plain": [
       "['Trumps følelsesladede udenrigspolitik kan ændre den strategiske udvikling i den vestlige verden',\n",
       " 'Præsidentens aflysning er stadig tophistorie i USA',\n",
       " 'Massive forberedelser hældt i kloakken',\n",
       " 'Nu skal vi igang med reparationsarbejdet',\n",
       " 'Konsol-krig i fuld gang: Sony kaster milliarder efter Playstation 5',\n",
       " 'Skud mod far og søn er første store sag om dobbelt straf',\n",
       " 'Nu skydes Danmark Rundt i gang: Her er syv ikoniske øjeblikke fra løbets historie',\n",
       " 'PostNord Danmark Rundt er igang i Silkeborg',\n",
       " \"'Det er især interessant, hvor langt det borgerlige Danmark er gået i retning af at sige, at det her er helt uacceptabelt'\",\n",
       " 'Danske politikere raser over Trumps afbud',\n",
       " 'Sagde nej til salg af Grønland - Trump aflyser dansk besøg',\n",
       " \"Trump sender Danmark og USA's forhold ned på frysepunktet\",\n",
       " 'Lars Larsens efterladte: Drop blomsterne og støt Kræftens Bekæmpelse',\n",
       " 'Fotohandlere får millionbøde',\n",
       " 'Limfjordstunnelen kan holde mindst 50 år endnu',\n",
       " 'Skabte revolution for 20 år siden: Nu får ikonisk filmserie en opfølger ',\n",
       " 'Trumps aflysning er absurd',\n",
       " 'Trump-reklame på Rådhuspladsen bliver slukket',\n",
       " \"'Det var en overraskelse'\",\n",
       " \"USA's ambassadør bød Trump velkommen få timer før aflysning\",\n",
       " 'FCK-angriber er ude i flere måneder',\n",
       " 'Mange af os er kun et enkelt skridt fra afgrunden',\n",
       " 'Jeg forstår det simpelthen ikke',\n",
       " 'Rekordbeløb indsamlet til afdød betjents familie',\n",
       " 'Jakob Fuglsang forlænger med Astana',\n",
       " 'Danske kajakroere jagter OL-billetter ved VM',\n",
       " \"'Endnu en gang er min uskyld blevet bevist. Det gør mig stolt'\",\n",
       " 'Eksperterne: Svært at pege på klare favoritter i PostNord Danmark Rundt',\n",
       " 'Dyre redningshelikoptere får mere tid til indsats mod drukneulykker',\n",
       " \"Intern splid koster italiensk regering livet: 'Du tilsværter regeringens navn af egoistiske grunde'\",\n",
       " 'Én fjer blev til 35 milliarder kroner',\n",
       " 'Lars Larsen bliver bisat tæt på sit hjem',\n",
       " 'Se eller gense tv-reklamerne',\n",
       " 'Hvis du ville handle med ham, skulle du stå tidligt op',\n",
       " 'Thorbjørn Olesen risikerer fængsel for vold og krænkelse på fly',\n",
       " 'Der er brug for et formandsvalg',\n",
       " 'Tidligere dansk mester vil lave det store kup i Danmark Rundt',\n",
       " 'Antarktis smelter - og det er vores skyld',\n",
       " 'Telenor-nedbrud er overstået: Genstart telefonen',\n",
       " 'Dansk dressurlandshold er klar til OL i Tokyo',\n",
       " 'Ny James Bond-film har fået sin endelige titel',\n",
       " 'Seks fremtidsscenarier for Løkke og co.',\n",
       " 'Politisk kaos får Italiens premierminister Conte til at trække sig',\n",
       " 'Disse fem ting gjorde Lars Larsen til dynekonge',\n",
       " 'Lars Larsen hyldes',\n",
       " 'Billeder fra Lars Larsens liv som hele Danmarks dynekonge',\n",
       " \"Ex-soldat tog tilbage til arnestedet for sin PTSD: 'En del af mig har fået lagt låg på noget'\",\n",
       " 'Kyniske Jan Ø. sikkert videre til tredje runde ved badminton-VM',\n",
       " 'TV2 tager fejl i historie om hadforbrydelser',\n",
       " 'Mens resten af Europa vender Putin ryggen, inviterer Macron i sommerhus',\n",
       " 'Visma, vind og Vejle bliver afgørende i PostNord Danmark Rundt',\n",
       " \"Berdien på 26: 'Jeg er ret glad for mine bryster. Lige bortset fra, at de kan slå mig ihjel' \",\n",
       " 'Mette dumpede matematik i gymnasiet: Nu er hendes forskning på forsiden af New York Times ',\n",
       " \"Signe på 20 har lagt alkohol på hylden: 'Folk har svært ved at forstå det'\",\n",
       " 'Politiet finder flyttekasser med sjældne sommerfugle efter ransagning af lejligheder',\n",
       " \"Josefine skrev rørende sang til 29-årige Michelle, der har kræft: 'Jeg ryster helt'\",\n",
       " \"'Det er blevet et princip for mig ikke at tage en uddannelse'\",\n",
       " 'Våd og lun sommer giver lilla blomsterhav på hederne ',\n",
       " \"Slut med 'Old Town Road' i top: 17-årig popstjerne skriver historie\",\n",
       " 'Jeg behøver ikke vise id, når jeg skal hente en pakke',\n",
       " 'Hagekors-forlystelse vækker forargelse i Tyskland',\n",
       " \"Naturfolk glæder sig over musikfestival: 'Naturen har det godt med at blive slidt, slået, sparket og brændt'\",\n",
       " 'KL-formand på pengejagt: Flere voksne får stillet en diagnose',\n",
       " 'Bornholms største narkofangst udløser syv års fængsel til 39-årig mand',\n",
       " 'Migranter går i land på Lampedusa efter 19 dage på skib',\n",
       " \"Ringberg efter krav om Løkke og Jensens afgang: 'Krisen i Venstre stikker dybt'\",\n",
       " 'Forskere: Vindkraft fra Europa kan dække hele verdens strømbehov',\n",
       " 'Nu har vi teknologien til at sætte en computer ind i din hjerne',\n",
       " 'Arktis er en af de største sikkerhedspolitiske udfordringer - på linje med terror',\n",
       " \"Far til fire har mistet retten til at pleje sin døende kone: 'Jeg er stødt på min retfærdighedssans'\",\n",
       " 'Ingen bygder får et Trump Tower',\n",
       " 'Slut med at koge vandet i Aalborg',\n",
       " 'Trump er klar til at lukke Rusland ind i varmen',\n",
       " 'Døv tennisspiller skriver historie',\n",
       " 'Firma må vente med at betale Red Barnet',\n",
       " '‘ Jeg er ikke mit modermærke - mit modermærke er en del af mig’',\n",
       " 'Anklager Kina for at sprede misinformation med falske profiler',\n",
       " 'Kaldt i samråd om stabschefs rolle',\n",
       " 'Rigsadvokat: Umuligt at sige, hvornår teledata kan bruges igen',\n",
       " 'Ny udvikling i tele-skandale kan spænde ben for politiets efterforskning',\n",
       " 'Syv tiltalte i narkosag løsladt efter rod med teledata',\n",
       " 'Italiens regering er ved at gå opløsning under den bagende sol',\n",
       " \"Venstre-folk kræver ny ledelse: 'Det er nok nu'\",\n",
       " '21-årig kvinde frikendt for mord efter spontan abort',\n",
       " 'Øget amerikansk tilstedeværelse i Arktis er uundgåeligt',\n",
       " 'Dronningen har mødt Donald Trump før']"
      ]
     },
     "execution_count": 29,
     "metadata": {},
     "output_type": "execute_result"
    }
   ],
   "source": [
    "import requests\n",
    "from bs4 import BeautifulSoup\n",
    "\n",
    "url = 'https://www.dr.dk/'\n",
    "response = requests.get(url).text\n",
    "  \n",
    "response_clean = response.split('<strong>')[1:]\n",
    "\n",
    "headers = [links.split('<')[0] for links in response_clean]\n",
    "print(len(headers))\n",
    "headers"
   ]
  }
 ],
 "metadata": {
  "kernelspec": {
   "display_name": "Python 3",
   "language": "python",
   "name": "python3"
  },
  "language_info": {
   "codemirror_mode": {
    "name": "ipython",
    "version": 3
   },
   "file_extension": ".py",
   "mimetype": "text/x-python",
   "name": "python",
   "nbconvert_exporter": "python",
   "pygments_lexer": "ipython3",
   "version": "3.7.3"
  }
 },
 "nbformat": 4,
 "nbformat_minor": 2
}
