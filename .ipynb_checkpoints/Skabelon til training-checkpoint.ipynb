{
 "cells": [
  {
   "cell_type": "markdown",
   "metadata": {},
   "source": [
    "# Training model"
   ]
  },
  {
   "cell_type": "code",
   "execution_count": null,
   "metadata": {},
   "outputs": [],
   "source": [
    "#Import Packages\n",
    "from sklearn.linear_model import Lasso\n",
    "from sklearn.pipeline import make_pipeline\n",
    "from sklearn.preprocessing import StandardScaler, PolynomialFeatures\n",
    "from sklearn.datasets import fetch_california_housing\n",
    "from sklearn.metrics import mean_squared_error as mse\n",
    "from sklearn.model_selection import train_test_split\n",
    "import tqdm\n",
    "\n",
    "import warnings\n",
    "from sklearn.exceptions import ConvergenceWarning\n",
    "warnings.filterwarnings(action='ignore', category=ConvergenceWarning)\n",
    "\n",
    "\n",
    "import matplotlib.pyplot as plt\n",
    "import numpy as np \n",
    "import pandas as pd \n",
    "import seaborn as sns\n",
    "\n",
    "df = pd.read_csv('Boliga - Final for training.csv')\n",
    "df = df.drop(columns = ['Kommune'])"
   ]
  },
  {
   "cell_type": "code",
   "execution_count": null,
   "metadata": {},
   "outputs": [],
   "source": [
    "#Split into X and Y \n",
    "df_dum = pd.get_dummies(df, drop_first = True, columns = ['isForeclosure', 'Type'])\n",
    "X = df_dum.drop(columns = ['price'])\n",
    "y = df_dum['price']"
   ]
  },
  {
   "cell_type": "markdown",
   "metadata": {},
   "source": [
    "### Split data into Test, Development, Validation and Train"
   ]
  },
  {
   "cell_type": "code",
   "execution_count": null,
   "metadata": {},
   "outputs": [],
   "source": [
    "from sklearn.model_selection import train_test_split\n",
    "\n",
    "X_dev, X_test, y_dev, y_test = train_test_split(X, y, test_size = 0.2, random_state = 1)\n",
    "\n",
    "X_train, X_val, y_train, y_val = train_test_split(X_dev, y_dev, test_size = 0.5, random_state = 1)"
   ]
  },
  {
   "cell_type": "markdown",
   "metadata": {},
   "source": [
    "### Scale, fit and transform data"
   ]
  },
  {
   "cell_type": "code",
   "execution_count": null,
   "metadata": {},
   "outputs": [],
   "source": [
    "from sklearn.preprocessing import StandardScaler\n",
    "\n",
    "stdscale = StandardScaler(with_mean = 1, with_std = True)\n",
    "\n",
    "#Scale explanatory variables\n",
    "X_train_s = stdscale.fit_transform(X_train)\n",
    "X_test_s = stdscale.transform(X_test)\n",
    "\n",
    "\n",
    "#Scale target variable (because of regression model - no need when categorical)\n",
    "y_train_s = stdscale.fit_transform(y_train)\n",
    "y_test_s = stdscale.transform(y_test)\n"
   ]
  },
  {
   "cell_type": "markdown",
   "metadata": {},
   "source": [
    "### Optimize hyperparameter with K-fold CV "
   ]
  },
  {
   "cell_type": "code",
   "execution_count": null,
   "metadata": {},
   "outputs": [],
   "source": [
    "#Find optimized lambda\n",
    "from sklearn.model_selection import KFold\n",
    "\n",
    "lambdas =  np.logspace(-4, 4, 12) # define lambda - devide into 12 lambdas between 10**-4 and 10**4\n",
    "kfolds = KFold(n_splits=5) # define nr. of folds\n",
    "\n",
    "#Creates lists to append values of the loop:\n",
    "mse_val_avr = []\n",
    "mse_test_avr = []\n",
    "lambda_list = []\n",
    "\n",
    "#Outer-loop (Lambdas)\n",
    "for lambda_ in tqdm.tqdm(lambdas):\n",
    "#Inner-loop (Folds)\n",
    "    mse_val_ = []\n",
    "    mse_test_ = []\n",
    "    #Split the dataset into 5 folds, and loop through each fold. \n",
    "    # In the iteration, the fold in question acts as the training-set. \n",
    "    for train_idx,val_idx in kfolds.split(X_dev, y_dev):\n",
    "    # train model and compute MSE on test fold\n",
    "        pipe_Lasso_CV = make_pipeline(PolynomialFeatures(include_bias=False, degree = 3), \n",
    "                        StandardScaler(with_mean = 1, with_std = True ),\n",
    "                        Lasso(alpha = lambda_, random_state=1))\n",
    "        # Assign X_train & y_train by extracting elements if the folds from X_dev and y_dev\n",
    "        X_train, y_train = X_dev.iloc[train_idx], y_dev[train_idx]\n",
    "        # Assign X_val & y_val by extracting elements of the folds from X_dev and y_dev\n",
    "        X_val, y_val = X_dev.iloc[val_idx], y_dev[val_idx] \n",
    "        # Fit Lasso-model to training data\n",
    "        pipe_Lasso_CV.fit(X_train, y_train)   \n",
    "        #Calculate and append the mse into mse_val list:\n",
    "        mse_val_.append(mse(pipe_Lasso_CV.predict(X_val), y_val))\n",
    "        ##Calculate and append the mse into mse_test list:\n",
    "        mse_test_.append(mse(pipe_Lasso_CV.predict(X_test), y_test))\n",
    "        \n",
    "    mse_val_avr.append(sum(mse_val_)/len(mse_val_))\n",
    "    mse_test_avr.append(sum(mse_val_)/len(mse_val_))\n",
    "    mse_val.append(mse_val_)\n",
    "    mse_test.append(mse_test_)\n",
    "\n",
    "df_val = pd.DataFrame(mse_val_avr, index = lambdas)\n",
    "df_test = pd.DataFrame(mse_test_avr, index = lambdas)\n",
    "df_join = pd.concat([df_test, df_val], axis=1)\n",
    "df_with_index = df_join.reset_index()\n",
    "\n",
    "#Convert to list\n",
    "mses = df_with_index.values.tolist()\n"
   ]
  }
 ],
 "metadata": {
  "kernelspec": {
   "display_name": "Python 3",
   "language": "python",
   "name": "python3"
  },
  "language_info": {
   "codemirror_mode": {
    "name": "ipython",
    "version": 3
   },
   "file_extension": ".py",
   "mimetype": "text/x-python",
   "name": "python",
   "nbconvert_exporter": "python",
   "pygments_lexer": "ipython3",
   "version": "3.7.3"
  }
 },
 "nbformat": 4,
 "nbformat_minor": 2
}
