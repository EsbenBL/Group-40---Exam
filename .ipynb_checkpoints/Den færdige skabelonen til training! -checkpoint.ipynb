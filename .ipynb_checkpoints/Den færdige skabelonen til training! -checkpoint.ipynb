{
 "cells": [
  {
   "cell_type": "markdown",
   "metadata": {},
   "source": [
    "# Training of model with just municipalities"
   ]
  },
  {
   "cell_type": "code",
   "execution_count": 76,
   "metadata": {},
   "outputs": [],
   "source": [
    "from sklearn.linear_model import Lasso, LinearRegression\n",
    "from sklearn.pipeline import make_pipeline\n",
    "from sklearn.preprocessing import StandardScaler, PolynomialFeatures\n",
    "from sklearn.datasets import fetch_california_housing\n",
    "from sklearn.metrics import mean_squared_error as mse\n",
    "from sklearn.metrics import mean_absolute_error as mae\n",
    "from sklearn.model_selection import train_test_split\n",
    "import tqdm\n",
    "from math import sqrt\n",
    "\n",
    "import warnings\n",
    "from sklearn.exceptions import ConvergenceWarning\n",
    "warnings.filterwarnings(action='ignore', category=ConvergenceWarning)\n",
    "\n",
    "\n",
    "import matplotlib.pyplot as plt\n",
    "import numpy as np \n",
    "import pandas as pd \n",
    "import seaborn as sns\n",
    "\n",
    "df = pd.read_csv('Boliga - Final for training.csv')\n",
    "df = df.drop(columns = ['Relativ Ledighed', 'Grundskole', 'Gymnasiale uddannelser', \n",
    "                       'Erhvervsfaglige uddannelser', 'KVU', 'MVU', 'Bacheloruddannelser',\n",
    "                        'Kommunal_gennemsnitsinkomst_2017', 'Total_reported', ' LVU',\n",
    "                       'Population_in_urban_development', 'Socioeconomic_index',\n",
    "                       'expenses_per_school_student', 'average_class_size', 'expenses_sport_and_other_cultural_activities'])\n",
    "\n",
    "df_sample = df.sample(1000)"
   ]
  },
  {
   "cell_type": "code",
   "execution_count": 77,
   "metadata": {},
   "outputs": [],
   "source": [
    "pd.options.display.max_columns = None"
   ]
  },
  {
   "cell_type": "markdown",
   "metadata": {},
   "source": [
    "### Create dummies, and split X and Y"
   ]
  },
  {
   "cell_type": "code",
   "execution_count": 79,
   "metadata": {},
   "outputs": [],
   "source": [
    "df_dum = pd.get_dummies(df_sample, drop_first = True, columns = ['isForeclosure', 'Kommune', 'Type'])\n",
    "X = df_dum.drop(columns = ['price'])\n",
    "y = df_dum['price']"
   ]
  },
  {
   "cell_type": "markdown",
   "metadata": {},
   "source": [
    "### Split into test, dev, val and train data"
   ]
  },
  {
   "cell_type": "code",
   "execution_count": 82,
   "metadata": {},
   "outputs": [],
   "source": [
    "from sklearn.model_selection import train_test_split\n",
    "\n",
    "X_dev, X_test, y_dev, y_test = train_test_split(X, y, test_size = 0.2, random_state = 1)\n",
    "\n",
    "X_train, X_val, y_train, y_val = train_test_split(X_dev, y_dev, test_size = 0.5, random_state = 1)"
   ]
  },
  {
   "cell_type": "markdown",
   "metadata": {},
   "source": [
    "### Linear Regression Model\n",
    "\n",
    "First, we train (fit) a linear regression on the development (in this case the **training**) data, as it does not need validation (no hyperparameter needs to be optimized)"
   ]
  },
  {
   "cell_type": "code",
   "execution_count": 87,
   "metadata": {},
   "outputs": [
    {
     "data": {
      "text/plain": [
       "Pipeline(memory=None,\n",
       "         steps=[('polynomialfeatures',\n",
       "                 PolynomialFeatures(degree=2, include_bias=True,\n",
       "                                    interaction_only=False, order='C')),\n",
       "                ('standardscaler',\n",
       "                 StandardScaler(copy=True, with_mean=0, with_std=True)),\n",
       "                ('linearregression',\n",
       "                 LinearRegression(copy_X=True, fit_intercept=True, n_jobs=None,\n",
       "                                  normalize=False))],\n",
       "         verbose=False)"
      ]
     },
     "execution_count": 87,
     "metadata": {},
     "output_type": "execute_result"
    }
   ],
   "source": [
    "#Create pipeline (pipe_lr which will be used later, to compare Lasso and LR)\n",
    "pipe_lr = make_pipeline(PolynomialFeatures(include_bias=True, degree = 2), \n",
    "                        StandardScaler(with_mean = 0, with_std = True),\n",
    "                        LinearRegression())\n",
    "\n",
    "#Fit pipline to dev-data\n",
    "pipe_lr.fit(X_dev, y_dev)"
   ]
  },
  {
   "cell_type": "markdown",
   "metadata": {},
   "source": [
    "### OLS (linear regression) estimations table\n",
    "\n",
    "Find a way to get the OLS estimates out here, in a table"
   ]
  },
  {
   "cell_type": "markdown",
   "metadata": {},
   "source": [
    "## Train Lasso Regression (K-fold CV)\n",
    "\n",
    "Now we want to examine whether the a Lasso regression is more appropriate, and seeks to optimize the hyperparameter.\n",
    "We will train for an optimized hyperparameter on the validation set, to avoid data leakage and use k-fold crossvalidation to make sure that we have not split our dataset in a lucky or unlucky place. "
   ]
  },
  {
   "cell_type": "code",
   "execution_count": 90,
   "metadata": {},
   "outputs": [
    {
     "name": "stderr",
     "output_type": "stream",
     "text": [
      "\n",
      "\n",
      "  0%|          | 0/33 [00:00<?, ?it/s]\u001b[A\u001b[A\n",
      "\n",
      "  3%|▎         | 1/33 [00:01<00:45,  1.41s/it]\u001b[A\u001b[A\n",
      "\n",
      "  6%|▌         | 2/33 [00:02<00:43,  1.41s/it]\u001b[A\u001b[A\n",
      "\n",
      "  9%|▉         | 3/33 [00:04<00:42,  1.41s/it]\u001b[A\u001b[A\n",
      "\n",
      " 12%|█▏        | 4/33 [00:05<00:41,  1.44s/it]\u001b[A\u001b[A\n",
      "\n",
      " 15%|█▌        | 5/33 [00:07<00:42,  1.51s/it]\u001b[A\u001b[A\n",
      "\n",
      " 18%|█▊        | 6/33 [00:08<00:39,  1.48s/it]\u001b[A\u001b[A\n",
      "\n",
      " 21%|██        | 7/33 [00:10<00:37,  1.44s/it]\u001b[A\u001b[A\n",
      "\n",
      " 24%|██▍       | 8/33 [00:11<00:35,  1.41s/it]\u001b[A\u001b[A\n",
      "\n",
      " 27%|██▋       | 9/33 [00:12<00:33,  1.39s/it]\u001b[A\u001b[A\n",
      "\n",
      " 30%|███       | 10/33 [00:14<00:31,  1.37s/it]\u001b[A\u001b[A\n",
      "\n",
      " 33%|███▎      | 11/33 [00:15<00:29,  1.36s/it]\u001b[A\u001b[A\n",
      "\n",
      " 36%|███▋      | 12/33 [00:16<00:28,  1.37s/it]\u001b[A\u001b[A\n",
      "\n",
      " 39%|███▉      | 13/33 [00:18<00:27,  1.36s/it]\u001b[A\u001b[A\n",
      "\n",
      " 42%|████▏     | 14/33 [00:19<00:25,  1.36s/it]\u001b[A\u001b[A\n",
      "\n",
      " 45%|████▌     | 15/33 [00:20<00:24,  1.35s/it]\u001b[A\u001b[A\n",
      "\n",
      " 48%|████▊     | 16/33 [00:22<00:22,  1.34s/it]\u001b[A\u001b[A\n",
      "\n",
      " 52%|█████▏    | 17/33 [00:23<00:21,  1.34s/it]\u001b[A\u001b[A\n",
      "\n",
      " 55%|█████▍    | 18/33 [00:24<00:19,  1.33s/it]\u001b[A\u001b[A\n",
      "\n",
      " 58%|█████▊    | 19/33 [00:26<00:18,  1.33s/it]\u001b[A\u001b[A\n",
      "\n",
      " 61%|██████    | 20/33 [00:27<00:17,  1.32s/it]\u001b[A\u001b[A\n",
      "\n",
      " 64%|██████▎   | 21/33 [00:28<00:15,  1.32s/it]\u001b[A\u001b[A\n",
      "\n",
      " 67%|██████▋   | 22/33 [00:30<00:14,  1.31s/it]\u001b[A\u001b[A\n",
      "\n",
      " 70%|██████▉   | 23/33 [00:31<00:12,  1.30s/it]\u001b[A\u001b[A\n",
      "\n",
      " 73%|███████▎  | 24/33 [00:32<00:11,  1.28s/it]\u001b[A\u001b[A\n",
      "\n",
      " 76%|███████▌  | 25/33 [00:33<00:10,  1.26s/it]\u001b[A\u001b[A\n",
      "\n",
      " 79%|███████▉  | 26/33 [00:35<00:08,  1.24s/it]\u001b[A\u001b[A\n",
      "\n",
      " 82%|████████▏ | 27/33 [00:36<00:07,  1.21s/it]\u001b[A\u001b[A\n",
      "\n",
      " 85%|████████▍ | 28/33 [00:37<00:05,  1.19s/it]\u001b[A\u001b[A\n",
      "\n",
      " 88%|████████▊ | 29/33 [00:38<00:04,  1.17s/it]\u001b[A\u001b[A\n",
      "\n",
      " 91%|█████████ | 30/33 [00:39<00:03,  1.15s/it]\u001b[A\u001b[A\n",
      "\n",
      " 94%|█████████▍| 31/33 [00:40<00:02,  1.14s/it]\u001b[A\u001b[A\n",
      "\n",
      " 97%|█████████▋| 32/33 [00:41<00:01,  1.13s/it]\u001b[A\u001b[A\n",
      "\n",
      "100%|██████████| 33/33 [00:42<00:00,  1.09s/it]\u001b[A\u001b[A"
     ]
    },
    {
     "name": "stdout",
     "output_type": "stream",
     "text": [
      "Optimal lambda: 10000.0\n",
      "Validation MSE: 2556314011187.934\n"
     ]
    }
   ],
   "source": [
    "from sklearn.model_selection import KFold\n",
    "\n",
    "#Split data into 5 folds\n",
    "kfolds = KFold(n_splits=5)\n",
    "folds = list(kfolds.split(X_dev, y_dev))\n",
    "\n",
    "#Create Lambda values\n",
    "lambdas = np.logspace(-4, 4, 12)\n",
    "# outer loop: lambdas\n",
    "mseCV = []\n",
    "rmseCV = []\n",
    "maeCV = []\n",
    "for lambda_ in tqdm.tqdm(lambdas):    \n",
    "    # inner loop: folds\n",
    "    mseCV_ = []\n",
    "    rmseCV_ = []\n",
    "    maeCV_ = []\n",
    "    for train_idx, val_idx in folds:        \n",
    "        # train model and compute MSE on test fold\n",
    "        pipe_lassoCV = make_pipeline(PolynomialFeatures(degree=3, include_bias=True),\n",
    "                                     StandardScaler(),\n",
    "                                     Lasso(alpha=lambda_, random_state=1))            \n",
    "        X_train, y_train = X_dev.iloc[train_idx], y_dev.iloc[train_idx]\n",
    "        X_val, y_val = X_dev.iloc[val_idx], y_dev.iloc[val_idx] \n",
    "        pipe_lassoCV.fit(X_train, y_train)        \n",
    "        mseCV_.append(mse(pipe_lassoCV.predict(X_val), y_val))\n",
    "        rmseCV_.append(sqrt(mse(pipe_lassoCV.predict(X_val), y_val)))\n",
    "        maeCV_.append(mae(pipe_lassoCV.predict(X_val), y_val))\n",
    "        \n",
    "        \n",
    "    # store result    \n",
    "    mseCV.append(mseCV_) \n",
    "    rmseCV.append(rmseCV_)\n",
    "    maeCV.append(maeCV_)\n",
    "    \n",
    "# convert to DataFrame\n",
    "lambda_mseCV = pd.DataFrame(mseCV, index=lambdas)\n",
    "lambda_rmseCV = pd.DataFrame(rmseCV, index=lambdas)\n",
    "lambda_maeCV = pd.DataFrame(maeCV, index=lambdas)"
   ]
  },
  {
   "cell_type": "markdown",
   "metadata": {},
   "source": [
    "### MSE of the K-fold Crossvalidation\n",
    "\n",
    "Lambda as index"
   ]
  },
  {
   "cell_type": "code",
   "execution_count": 99,
   "metadata": {},
   "outputs": [
    {
     "data": {
      "text/html": [
       "<div>\n",
       "<style scoped>\n",
       "    .dataframe tbody tr th:only-of-type {\n",
       "        vertical-align: middle;\n",
       "    }\n",
       "\n",
       "    .dataframe tbody tr th {\n",
       "        vertical-align: top;\n",
       "    }\n",
       "\n",
       "    .dataframe thead th {\n",
       "        text-align: right;\n",
       "    }\n",
       "</style>\n",
       "<table border=\"1\" class=\"dataframe\">\n",
       "  <thead>\n",
       "    <tr style=\"text-align: right;\">\n",
       "      <th></th>\n",
       "      <th>0</th>\n",
       "      <th>1</th>\n",
       "      <th>2</th>\n",
       "      <th>3</th>\n",
       "      <th>4</th>\n",
       "    </tr>\n",
       "  </thead>\n",
       "  <tbody>\n",
       "    <tr>\n",
       "      <th>0.000100</th>\n",
       "      <td>6.305322e+16</td>\n",
       "      <td>3.763836e+14</td>\n",
       "      <td>9.762371e+15</td>\n",
       "      <td>1.128882e+15</td>\n",
       "      <td>4.739192e+16</td>\n",
       "    </tr>\n",
       "    <tr>\n",
       "      <th>0.000534</th>\n",
       "      <td>6.304047e+16</td>\n",
       "      <td>3.762878e+14</td>\n",
       "      <td>9.761759e+15</td>\n",
       "      <td>1.129169e+15</td>\n",
       "      <td>4.737166e+16</td>\n",
       "    </tr>\n",
       "    <tr>\n",
       "      <th>0.002848</th>\n",
       "      <td>6.297241e+16</td>\n",
       "      <td>3.757753e+14</td>\n",
       "      <td>9.758497e+15</td>\n",
       "      <td>1.130701e+15</td>\n",
       "      <td>4.726352e+16</td>\n",
       "    </tr>\n",
       "    <tr>\n",
       "      <th>0.015199</th>\n",
       "      <td>6.261062e+16</td>\n",
       "      <td>3.730613e+14</td>\n",
       "      <td>9.741004e+15</td>\n",
       "      <td>1.138946e+15</td>\n",
       "      <td>4.668688e+16</td>\n",
       "    </tr>\n",
       "    <tr>\n",
       "      <th>0.081113</th>\n",
       "      <td>6.068111e+16</td>\n",
       "      <td>3.589908e+14</td>\n",
       "      <td>9.647336e+15</td>\n",
       "      <td>1.183225e+15</td>\n",
       "      <td>4.363376e+16</td>\n",
       "    </tr>\n",
       "    <tr>\n",
       "      <th>0.432876</th>\n",
       "      <td>5.045438e+16</td>\n",
       "      <td>2.956660e+14</td>\n",
       "      <td>9.154442e+15</td>\n",
       "      <td>1.428895e+15</td>\n",
       "      <td>2.099799e+16</td>\n",
       "    </tr>\n",
       "    <tr>\n",
       "      <th>2.310130</th>\n",
       "      <td>9.312129e+15</td>\n",
       "      <td>1.864243e+14</td>\n",
       "      <td>7.336134e+15</td>\n",
       "      <td>7.741643e+15</td>\n",
       "      <td>3.248055e+14</td>\n",
       "    </tr>\n",
       "    <tr>\n",
       "      <th>12.328467</th>\n",
       "      <td>3.189950e+13</td>\n",
       "      <td>2.456282e+13</td>\n",
       "      <td>2.033306e+14</td>\n",
       "      <td>4.923063e+13</td>\n",
       "      <td>2.599362e+17</td>\n",
       "    </tr>\n",
       "    <tr>\n",
       "      <th>65.793322</th>\n",
       "      <td>3.758923e+13</td>\n",
       "      <td>5.420974e+13</td>\n",
       "      <td>4.982078e+14</td>\n",
       "      <td>4.740376e+12</td>\n",
       "      <td>5.659232e+13</td>\n",
       "    </tr>\n",
       "    <tr>\n",
       "      <th>351.119173</th>\n",
       "      <td>2.897875e+13</td>\n",
       "      <td>4.298317e+13</td>\n",
       "      <td>1.508062e+14</td>\n",
       "      <td>4.251068e+12</td>\n",
       "      <td>2.020214e+13</td>\n",
       "    </tr>\n",
       "    <tr>\n",
       "      <th>1873.817423</th>\n",
       "      <td>4.289427e+13</td>\n",
       "      <td>1.169925e+14</td>\n",
       "      <td>5.321650e+12</td>\n",
       "      <td>3.033533e+12</td>\n",
       "      <td>1.523931e+13</td>\n",
       "    </tr>\n",
       "    <tr>\n",
       "      <th>10000.000000</th>\n",
       "      <td>2.301530e+13</td>\n",
       "      <td>3.835654e+12</td>\n",
       "      <td>9.726548e+14</td>\n",
       "      <td>1.665691e+12</td>\n",
       "      <td>8.731770e+12</td>\n",
       "    </tr>\n",
       "  </tbody>\n",
       "</table>\n",
       "</div>"
      ],
      "text/plain": [
       "                         0             1             2             3  \\\n",
       "0.000100      6.305322e+16  3.763836e+14  9.762371e+15  1.128882e+15   \n",
       "0.000534      6.304047e+16  3.762878e+14  9.761759e+15  1.129169e+15   \n",
       "0.002848      6.297241e+16  3.757753e+14  9.758497e+15  1.130701e+15   \n",
       "0.015199      6.261062e+16  3.730613e+14  9.741004e+15  1.138946e+15   \n",
       "0.081113      6.068111e+16  3.589908e+14  9.647336e+15  1.183225e+15   \n",
       "0.432876      5.045438e+16  2.956660e+14  9.154442e+15  1.428895e+15   \n",
       "2.310130      9.312129e+15  1.864243e+14  7.336134e+15  7.741643e+15   \n",
       "12.328467     3.189950e+13  2.456282e+13  2.033306e+14  4.923063e+13   \n",
       "65.793322     3.758923e+13  5.420974e+13  4.982078e+14  4.740376e+12   \n",
       "351.119173    2.897875e+13  4.298317e+13  1.508062e+14  4.251068e+12   \n",
       "1873.817423   4.289427e+13  1.169925e+14  5.321650e+12  3.033533e+12   \n",
       "10000.000000  2.301530e+13  3.835654e+12  9.726548e+14  1.665691e+12   \n",
       "\n",
       "                         4  \n",
       "0.000100      4.739192e+16  \n",
       "0.000534      4.737166e+16  \n",
       "0.002848      4.726352e+16  \n",
       "0.015199      4.668688e+16  \n",
       "0.081113      4.363376e+16  \n",
       "0.432876      2.099799e+16  \n",
       "2.310130      3.248055e+14  \n",
       "12.328467     2.599362e+17  \n",
       "65.793322     5.659232e+13  \n",
       "351.119173    2.020214e+13  \n",
       "1873.817423   1.523931e+13  \n",
       "10000.000000  8.731770e+12  "
      ]
     },
     "execution_count": 99,
     "metadata": {},
     "output_type": "execute_result"
    }
   ],
   "source": [
    "lambdaCV"
   ]
  },
  {
   "cell_type": "code",
   "execution_count": 103,
   "metadata": {},
   "outputs": [
    {
     "data": {
      "text/plain": [
       "0.000100        2.434256e+16\n",
       "0.000534        2.433587e+16\n",
       "0.002848        2.430018e+16\n",
       "0.015199        2.411010e+16\n",
       "0.081113        2.310088e+16\n",
       "0.432876        1.646628e+16\n",
       "2.310130        4.980227e+15\n",
       "12.328467       5.204905e+16\n",
       "65.793322       1.302679e+14\n",
       "351.119173      4.944426e+13\n",
       "1873.817423     3.669625e+13\n",
       "10000.000000    2.019806e+14\n",
       "dtype: float64"
      ]
     },
     "execution_count": 103,
     "metadata": {},
     "output_type": "execute_result"
    }
   ],
   "source": [
    "# Calculates the mean of the folds\n",
    "mse_mean = lambda_mseCV.mean(axis = 1)\n",
    "rmse_mean = lambda_rmseCV.mean(axis = 1)\n",
    "mae_mean = lambda_maeCV.mean(axis = 1)"
   ]
  },
  {
   "cell_type": "markdown",
   "metadata": {},
   "source": []
  },
  {
   "cell_type": "code",
   "execution_count": 105,
   "metadata": {},
   "outputs": [
    {
     "data": {
      "text/plain": [
       "[Text(0, 0.5, 'MSE'), Text(0.5, 0, 'Lambda')]"
      ]
     },
     "execution_count": 105,
     "metadata": {},
     "output_type": "execute_result"
    },
    {
     "data": {
      "image/png": "[encoded data removed]",
      "text/plain": [
       "<Figure size 432x288 with 1 Axes>"
      ]
     },
     "metadata": {
      "needs_background": "light"
     },
     "output_type": "display_data"
    }
   ],
   "source": [
    "#Plot mean square errors\n",
    "COL = ['Average MSE']\n",
    "lambdaCV_mean.columns = COL\n",
    "\n",
    "#Both axis are logarythmical \n",
    "ax = mse_mean.plot(logx = True, logy = True)\n",
    "ax.set(xlabel = 'Lambda', ylabel = 'MSE')\n"
   ]
  },
  {
   "cell_type": "markdown",
   "metadata": {},
   "source": [
    "### Finding the optimal hyperparameter"
   ]
  },
  {
   "cell_type": "code",
   "execution_count": 107,
   "metadata": {},
   "outputs": [
    {
     "data": {
      "text/plain": [
       "1873.817423    3.669625e+13\n",
       "dtype: float64"
      ]
     },
     "execution_count": 107,
     "metadata": {},
     "output_type": "execute_result"
    }
   ],
   "source": [
    "mse_mean.nsmallest(1)"
   ]
  },
  {
   "cell_type": "markdown",
   "metadata": {},
   "source": [
    "# Comparison of Lasso and Linear Regression\n",
    "\n",
    "Is done after the optimized hyperparameters is found (after training on validation data)\n",
    "This comparison is done on the **test data!** and is thus the final step in training and selecting our model\n"
   ]
  },
  {
   "cell_type": "code",
   "execution_count": 98,
   "metadata": {},
   "outputs": [
    {
     "name": "stdout",
     "output_type": "stream",
     "text": [
      "Lasso CV 3707008864522.99\n",
      "LinReg 2683899699688577.5\n"
     ]
    }
   ],
   "source": [
    "# Optimal lambda is inserted into the Lasso-model\n",
    "optimal_lambda = lambda_mseCV.mean(axis=1).nsmallest(1)\n",
    "\n",
    "# retrain/re-estimate model using optimal hyperparameters\n",
    "pipe_lassoCV = make_pipeline(PolynomialFeatures(include_bias=False), \n",
    "                             StandardScaler(),\n",
    "                             Lasso(alpha=optimal_lambda.index[0], random_state=1))\n",
    "pipe_lassoCV.fit(X_dev,y_dev)\n",
    "\n",
    "# compare performance by mse\n",
    "models = {'Lasso CV': pipe_lassoCV, 'LinReg': pipe_lr}\n",
    "for name, model in models.items():\n",
    "    score_lr_mse = mse(model.predict(X_test),y_test)\n",
    "    score_lr_mae = mae(model.predict(X_test),y_test)\n",
    "    score_lr_rmse = sqrt(mse(model.predict(X_test),y_test))\n",
    "    \n",
    "    print(name, round(score, 2))\n",
    "\n"
   ]
  },
  {
   "cell_type": "markdown",
   "metadata": {},
   "source": [
    "## Subconclusion\n",
    "\n",
    "The model is too complex and very unable to predict out-of-sample data. \n",
    "Though the Lasso is a great imporvement to the simple linear regression, it still produces error in the realm of trillions. \n",
    "Consider making a more simple model instead"
   ]
  },
  {
   "cell_type": "markdown",
   "metadata": {},
   "source": [
    "## Error Table\n",
    "\n",
    "We calculate the Mean Absolute Error, Mean Squared Error and Root Mean Squard Errors of the differnet models: OLS (Linear Regression), Lasso, Ridge."
   ]
  },
  {
   "cell_type": "markdown",
   "metadata": {},
   "source": [
    "## Correlation plot"
   ]
  },
  {
   "cell_type": "code",
   "execution_count": null,
   "metadata": {},
   "outputs": [],
   "source": [
    "corr = df_dum.corr()\n",
    "plt.figure(figsize=(14, 10))\n",
    "ax = sns.heatmap(\n",
    "    corr, \n",
    "    vmin=-1, vmax=1, center=0,\n",
    "    cmap=sns.diverging_palette(20, 220, n=200),\n",
    "    square=True\n",
    ")\n",
    "ax.set_xticklabels(\n",
    "    ax.get_xticklabels(),\n",
    "    rotation=45,\n",
    "    horizontalalignment='right'\n",
    ");"
   ]
  }
 ],
 "metadata": {
  "kernelspec": {
   "display_name": "Python 3",
   "language": "python",
   "name": "python3"
  },
  "language_info": {
   "codemirror_mode": {
    "name": "ipython",
    "version": 3
   },
   "file_extension": ".py",
   "mimetype": "text/x-python",
   "name": "python",
   "nbconvert_exporter": "python",
   "pygments_lexer": "ipython3",
   "version": "3.7.3"
  }
 },
 "nbformat": 4,
 "nbformat_minor": 2
}
