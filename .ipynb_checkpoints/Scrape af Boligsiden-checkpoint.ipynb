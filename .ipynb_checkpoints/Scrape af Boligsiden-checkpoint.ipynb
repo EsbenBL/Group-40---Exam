{
 "cells": [
  {
   "cell_type": "code",
   "execution_count": 1,
   "metadata": {},
   "outputs": [
    {
     "data": {
      "text/plain": [
       "1073"
      ]
     },
     "execution_count": 1,
     "metadata": {},
     "output_type": "execute_result"
    }
   ],
   "source": [
    "import requests \n",
    "import json\n",
    "from bs4 import BeautifulSoup\n",
    "import pprint\n",
    "import pandas as pd\n",
    "\n",
    "#Remember the log + call_id! \n",
    "url = 'https://www.boligsiden.dk/propertyresult/getdata?searchId=033189d2cd3a44c4a28b7dab45a2399d&pageNumber=2&sortKey=12&sortDescending=false&displayTab=1&itemsPerPage=60'\n",
    "\n",
    "response = requests.get(url)\n",
    "response = response.json()\n",
    "\n",
    "#Calculates the nr. of pages to loop thourgh\n",
    "n_houses = response['result']['totalCount']\n",
    "n_house_pp = 60\n",
    "\n",
    "page_nr = int(round(n_houses/n_house_pp , 0))\n",
    "\n",
    "page_nr\n",
    "\n",
    "\n"
   ]
  },
  {
   "cell_type": "code",
   "execution_count": 4,
   "metadata": {},
   "outputs": [
    {
     "name": "stderr",
     "output_type": "stream",
     "text": [
      "100%|██████████| 100/100 [02:01<00:00,  1.24s/it]\n"
     ]
    }
   ],
   "source": [
    "\n",
    "import time\n",
    "import tqdm\n",
    "import scraping_class\n",
    "\n",
    "#Create logfile and connector\n",
    "logfile = 'logfile_boligsiden.csv'\n",
    "connector = scraping_class.Connector(logfile)\n",
    "\n",
    "#Empty df for the first concat. \n",
    "df_old = pd.DataFrame()\n",
    "\n",
    "for page in tqdm.tqdm(range(600, 700)):\n",
    "    time.sleep(0.5)\n",
    "    url = 'https://www.boligsiden.dk/propertyresult/getdata?searchId=033189d2cd3a44c4a28b7dab45a2399d&pageNumber={p}&sortKey=12&sortDescending=false&displayTab=1&itemsPerPage=60'.format(p = page)\n",
    "    response,call_id = connector.get(url,'Boligdata')\n",
    "    response = response.json()\n",
    "    response = response['result']['properties']\n",
    "    df_new = pd.DataFrame(response)\n",
    "    df_old = pd.concat([df_old, df_new], axis = 0)\n"
   ]
  },
  {
   "cell_type": "code",
   "execution_count": 3,
   "metadata": {},
   "outputs": [
    {
     "data": {
      "text/plain": [
       "(6000, 39)"
      ]
     },
     "execution_count": 3,
     "metadata": {},
     "output_type": "execute_result"
    }
   ],
   "source": [
    "df_old.shape"
   ]
  },
  {
   "cell_type": "code",
   "execution_count": 36,
   "metadata": {},
   "outputs": [
    {
     "data": {
      "text/plain": [
       "[]"
      ]
     },
     "execution_count": 36,
     "metadata": {},
     "output_type": "execute_result"
    }
   ],
   "source": [
    "soup.find_all('a',attrs={'class':'h4 tooltip-theme-arrows tooltip-target tooltip-element-attached-bottom tooltip-element-attached-center tooltip-target-attached-top tooltip-target-attached-center'})"
   ]
  },
  {
   "cell_type": "code",
   "execution_count": null,
   "metadata": {},
   "outputs": [],
   "source": [
    "soup = BeautifulSoup(response, 'html.parser')\n",
    "links = soup.find_all('a')\n",
    "linkz = [link['href'] for link in links if link.has_attr('href')]\n",
    "linkz = [link for link in linkz if '/salg/' in link]\n",
    "linkz"
   ]
  }
 ],
 "metadata": {
  "kernelspec": {
   "display_name": "Python 3",
   "language": "python",
   "name": "python3"
  },
  "language_info": {
   "codemirror_mode": {
    "name": "ipython",
    "version": 3
   },
   "file_extension": ".py",
   "mimetype": "text/x-python",
   "name": "python",
   "nbconvert_exporter": "python",
   "pygments_lexer": "ipython3",
   "version": "3.7.3"
  }
 },
 "nbformat": 4,
 "nbformat_minor": 2
}
