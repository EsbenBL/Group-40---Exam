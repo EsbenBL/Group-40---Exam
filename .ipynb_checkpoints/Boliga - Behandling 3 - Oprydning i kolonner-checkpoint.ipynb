{
 "cells": [
  {
   "cell_type": "markdown",
   "metadata": {},
   "source": [
    "# Behandling 3"
   ]
  },
  {
   "cell_type": "code",
   "execution_count": 1,
   "metadata": {},
   "outputs": [
    {
     "name": "stderr",
     "output_type": "stream",
     "text": [
      "/anaconda3/lib/python3.7/site-packages/IPython/core/interactiveshell.py:2728: DtypeWarning: Columns (0) have mixed types. Specify dtype option on import or set low_memory=False.\n",
      "  interactivity=interactivity, compiler=compiler, result=result)\n"
     ]
    }
   ],
   "source": [
    "import pandas as pd\n",
    "\n",
    "df = pd.read_csv('Boliga - Behandling 2, Ledig, Udd, Indbygger, indkomst.csv')"
   ]
  },
  {
   "cell_type": "markdown",
   "metadata": {},
   "source": [
    "### Deleted Columns\n",
    "Most should be selfexplanatory - the following deletions are breifly elaborated:\n",
    "- **isActive**: all are active\n",
    "- **agentDisplayName**: Around 60.000 missing --> insignificant \n",
    "- **isForeclosure**: Only 113 True --> insignificant\n",
    "- **IsPremiumAgent**: Around 60.000 false --> insignificant\n",
    "- **floor**: Describes which floor an apartment is on: Only relevant to appartement --> insignificant\n",
    "\n",
    "*When we are through with all the datastructuring, an we commence on the training of our model, we should also delete* **zipCode, municipality, domainid, id**"
   ]
  },
  {
   "cell_type": "code",
   "execution_count": 2,
   "metadata": {},
   "outputs": [],
   "source": [
    "pd.options.display.max_columns = 100\n",
    "df\n",
    "\n",
    "#Renaming \n",
    "df.rename(columns={'exp':'Ejerudgift'}, inplace=True)\n",
    "\n",
    "#Delete redundant columns \n",
    "df = df.drop(columns = ['guid', 'images', 'inWatchlist', 'agentRegId',\n",
    "              'agentDisplayName','openHouse', 'views', 'isActive', 'isForeclosure',\n",
    "              'openHouse', 'floor', 'groupKey', 'isPremiumAgent', 'propertyType', 'addr_full'])"
   ]
  },
  {
   "cell_type": "markdown",
   "metadata": {},
   "source": [
    "# OBS! see following"
   ]
  },
  {
   "cell_type": "code",
   "execution_count": 62,
   "metadata": {},
   "outputs": [],
   "source": [
    "# If the type is Ejerlejlighed, set lotSize (groundareal on Boliga) to 0. \n",
    "# Sometimes it is 0 to begin with, and sometimes i think they include the \n",
    "# mutually shared backyard-area. \n",
    "df.loc[df['Type'] == 'Ejerlejlighed', 'lotSize'] = 0"
   ]
  }
 ],
 "metadata": {
  "kernelspec": {
   "display_name": "Python 3",
   "language": "python",
   "name": "python3"
  },
  "language_info": {
   "codemirror_mode": {
    "name": "ipython",
    "version": 3
   },
   "file_extension": ".py",
   "mimetype": "text/x-python",
   "name": "python",
   "nbconvert_exporter": "python",
   "pygments_lexer": "ipython3",
   "version": "3.7.3"
  }
 },
 "nbformat": 4,
 "nbformat_minor": 2
}
