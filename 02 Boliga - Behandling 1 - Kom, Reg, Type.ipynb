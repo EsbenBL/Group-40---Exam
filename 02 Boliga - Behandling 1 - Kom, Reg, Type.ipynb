{
 "cells": [
  {
   "cell_type": "markdown",
   "metadata": {},
   "source": [
    "# Behandling 1"
   ]
  },
  {
   "cell_type": "code",
   "execution_count": 1,
   "metadata": {},
   "outputs": [],
   "source": [
    "import requests \n",
    "import json\n",
    "import time \n",
    "import tqdm\n",
    "import pandas as pd\n",
    "\n",
    "df = pd.read_csv('Boliga Scraped - Rådata.csv')\n",
    "pd.options.display.max_columns = 100\n",
    "pd.options.display.max_rows = 500\n",
    "df.sort_values(by = ['municipality'], axis = 0 );"
   ]
  },
  {
   "cell_type": "code",
   "execution_count": 55,
   "metadata": {},
   "outputs": [],
   "source": [
    "#Oprydning\n",
    "df.drop(df.loc[df['municipality']==0].index, inplace = True)\n",
    "df.drop(df.loc[df['price']<=100].index, inplace = True)\n",
    "df.drop(df.loc[df['latitude']==0].index, inplace = True)\n",
    "df.drop(df.loc[df['longitude']==0].index, inplace = True)\n",
    "\n",
    "#Unique municipality df\n",
    "kommune = df['municipality'].unique()\n",
    "df_kom = pd.DataFrame(kommune, columns = ['Kommunenr'])"
   ]
  },
  {
   "cell_type": "code",
   "execution_count": 61,
   "metadata": {},
   "outputs": [],
   "source": [
    "import scraping_class\n",
    "logfile = 'logfile_boliga.csv'\n",
    "connector = scraping_class.Connector(logfile)\n",
    "\n",
    "import time\n",
    "def kommune_func(kommune_kode):\n",
    "    url = lambda q: 'https://dawa.aws.dk/kommuner/{}'.format(q)\n",
    "    resp, call_id = connector.get(url(kommune_kode), 'Kommunedata')\n",
    "    time.sleep(0.5)\n",
    "    \n",
    "    if not resp.status_code == 200:\n",
    "        return ''\n",
    "    resp = resp.json()\n",
    "    kommune = resp['navn']\n",
    "    \n",
    "    return kommune"
   ]
  },
  {
   "cell_type": "code",
   "execution_count": 69,
   "metadata": {},
   "outputs": [],
   "source": [
    "import scraping_class\n",
    "logfile = 'Boligscrape_log.csv'\n",
    "connector = scraping_class.Connector(logfile)\n",
    "\n",
    "import time\n",
    "def region_func(kommune_kode):\n",
    "    url = lambda q: 'https://dawa.aws.dk/kommuner/{}'.format(q)\n",
    "    resp, call_id = connector.get(url(kommune_kode), 'Kommunedata')\n",
    "    time.sleep(0.5)\n",
    "    \n",
    "    if not resp.status_code == 200:\n",
    "        return ''\n",
    "    resp = resp.json()\n",
    "    region = resp['region']['navn']\n",
    "    \n",
    "    return region"
   ]
  },
  {
   "cell_type": "code",
   "execution_count": 63,
   "metadata": {},
   "outputs": [],
   "source": [
    "df_kom['Kommune'] = df_kom.Kommunenr.apply(kommune_func)"
   ]
  },
  {
   "cell_type": "code",
   "execution_count": 70,
   "metadata": {},
   "outputs": [],
   "source": [
    "df_kom['Region'] = df_kom.Kommunenr.apply(region_func)"
   ]
  },
  {
   "cell_type": "code",
   "execution_count": 72,
   "metadata": {},
   "outputs": [],
   "source": [
    "df = df.merge(df_kom, how='left', left_on=['municipality'],\n",
    "                           right_on=['Kommunenr'], validate = 'm:1')\n",
    "\n",
    "df = df.drop(columns = ['Kommunenr'], axis = 1)"
   ]
  },
  {
   "cell_type": "code",
   "execution_count": 139,
   "metadata": {},
   "outputs": [],
   "source": [
    "# Convert Prop_type (number) to descriptive labels\n",
    "prop_type = {'Prop_Type': {'Villa': 1, 'Rækkehus': 2, 'Ejerlejlighed': 3,\n",
    "            'Fritidshus': 4, 'Andelsbolig': 5, 'Landejendom': 6,\n",
    "            'Helårsgrund': 7, 'Fritidsgrund': 8, 'Villalejlighed': 9}}\n",
    "\n",
    "prop_type_df = pd.DataFrame(prop_type).reset_index()\n",
    "\n",
    "df = df.merge(prop_type_df, how='left', left_on=['propertyType'],\n",
    "                           right_on=['Prop_Type'], validate = 'm:1')\n",
    "\n",
    "df = df.drop(columns = ['Prop_Type'], axis = 1)\n",
    "df.rename(columns={'index':'Type'}, inplace=True)\n",
    "#Drop missing in Type\n",
    "df = df[df.Type.isnull() != True]"
   ]
  },
  {
   "cell_type": "code",
   "execution_count": 6,
   "metadata": {},
   "outputs": [],
   "source": [
    "df.to_csv('Boliga - Behandling 1 - Kom, Reg, Type.csv', index = False)"
   ]
  }
 ],
 "metadata": {
  "kernelspec": {
   "display_name": "Python 3",
   "language": "python",
   "name": "python3"
  },
  "language_info": {
   "codemirror_mode": {
    "name": "ipython",
    "version": 3
   },
   "file_extension": ".py",
   "mimetype": "text/x-python",
   "name": "python",
   "nbconvert_exporter": "python",
   "pygments_lexer": "ipython3",
   "version": "3.7.2"
  }
 },
 "nbformat": 4,
 "nbformat_minor": 2
}
